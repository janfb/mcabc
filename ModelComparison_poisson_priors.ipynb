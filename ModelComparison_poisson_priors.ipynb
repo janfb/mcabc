{
 "cells": [
  {
   "cell_type": "code",
   "execution_count": 1,
   "metadata": {
    "collapsed": true
   },
   "outputs": [],
   "source": [
    "import matplotlib.pyplot as plt\n",
    "import numpy as np\n",
    "import torch\n",
    "import torch.nn as nn\n",
    "\n",
    "from torch.autograd import Variable\n",
    "from random import shuffle\n",
    "from scipy.stats import gamma\n",
    "import scipy\n",
    "\n",
    "%matplotlib inline"
   ]
  },
  {
   "cell_type": "markdown",
   "metadata": {},
   "source": [
    "## Generate Poisson data, compare two Poisson models with different priors\n",
    "\n",
    "I will generate observed data from a Poisson distribution with a certain lambda. Then I will train a MDN to approximate the posterior over model indices. As models I use a Poisson with Gamma prior and a negative Binomial with Beta prior. "
   ]
  },
  {
   "cell_type": "code",
   "execution_count": 2,
   "metadata": {},
   "outputs": [
    {
     "data": {
      "image/png": "[encoded data removed]",
      "text/plain": [
       "<matplotlib.figure.Figure at 0x114106da0>"
      ]
     },
     "metadata": {},
     "output_type": "display_data"
    }
   ],
   "source": [
    "N = 100  # size of toy data\n",
    "true_lam = 8.\n",
    "\n",
    "# set prior parameters \n",
    "shapes = [9., 1.]\n",
    "scales = [.5, 2.]\n",
    "\n",
    "\n",
    "X_o = np.random.poisson(lam=true_lam, size=N)\n",
    "\n",
    "X_var = Variable(torch.Tensor(X_o.astype(float)))\n",
    "\n",
    "plt.hist(X_o, bins=5);\n",
    "plt.xlabel('X');"
   ]
  },
  {
   "cell_type": "markdown",
   "metadata": {},
   "source": [
    "## Define functions for generating data from the two different models"
   ]
  },
  {
   "cell_type": "code",
   "execution_count": 3,
   "metadata": {},
   "outputs": [],
   "source": [
    "def generate_poisson(N, shape, scale): \n",
    "    \n",
    "    # sample from prior\n",
    "    theta = np.random.gamma(shape, scale)\n",
    "    # generate samples\n",
    "    x = np.random.poisson(lam=theta, size=N)\n",
    "    \n",
    "    sx = np.mean(x).astype(float)\n",
    "    \n",
    "    return theta, sx\n",
    "    \n",
    "def generate_dataset(n_samples, sample_size): \n",
    "    \n",
    "    X = []\n",
    "    thetas = []\n",
    "    m = []\n",
    "\n",
    "    # for every sample we want a triplet (m_i, theta, sx)\n",
    "    for i in range(n_samples): \n",
    "        \n",
    "        # sample model index \n",
    "        m_i = np.round(np.random.rand()).astype(int)\n",
    "    \n",
    "        # generate data from model \n",
    "        # m_i in {0, 1} just sets the index in the array of prior hyperparams\n",
    "        shape = shapes[m_i]\n",
    "        scale = scales[m_i]\n",
    "        theta, sx = generate_poisson(sample_size, shape, scale)\n",
    "    \n",
    "        X.append([sx])\n",
    "        thetas.append([theta])\n",
    "        m.append([int(m_i)])\n",
    "    \n",
    "    return m, np.array(thetas), np.array(X)"
   ]
  },
  {
   "cell_type": "markdown",
   "metadata": {},
   "source": [
    "## Define separate networks for fitting the prior parameter posterior and the model posterior"
   ]
  },
  {
   "cell_type": "code",
   "execution_count": 4,
   "metadata": {
    "collapsed": true
   },
   "outputs": [],
   "source": [
    "def batch_generator(dataset, batch_size=5):\n",
    "    shuffle(dataset)\n",
    "    N_full_batches = len(dataset) // batch_size\n",
    "    for i in range(N_full_batches):\n",
    "        idx_from = batch_size * i\n",
    "        idx_to = batch_size * (i + 1)\n",
    "        xs, ys = zip(*[(x, y) for x, y in dataset[idx_from:idx_to]])\n",
    "        yield xs, ys\n",
    "\n",
    "class MDN_phi(nn.Module):\n",
    "    def __init__(self, ndim_input=1, ndim_output=1, n_hidden=5, n_components=1):\n",
    "        super(MDN_phi, self).__init__()\n",
    "        self.fc_in = nn.Linear(1, n_hidden)\n",
    "        self.tanh = nn.Tanh()\n",
    "        self.scale_out = torch.nn.Sequential(\n",
    "              nn.Linear(n_hidden, n_components),\n",
    "              nn.Softplus())\n",
    "        self.shape_out = torch.nn.Sequential(\n",
    "              nn.Linear(n_hidden, n_components),\n",
    "              nn.Softplus())\n",
    "\n",
    "    def forward(self, x):\n",
    "        out = self.fc_in(x)\n",
    "        act = self.tanh(out)\n",
    "        out_shape = self.scale_out(act)\n",
    "        out_scale = self.shape_out(act)\n",
    "        return (out_shape, out_scale)\n",
    "    \n",
    "    \n",
    "def train(X, Y, model, optim, n_epochs=500, n_minibatch=50):\n",
    "    dataset_train = [(x, y) for x, y in zip(X, Y)]\n",
    "\n",
    "    for epoch in range(n_epochs): \n",
    "        bgen = batch_generator(dataset_train, n_minibatch)\n",
    "\n",
    "        for j, (x_batch, y_batch) in enumerate(bgen):\n",
    "            x_var = Variable(torch.Tensor(x_batch))\n",
    "            y_var = Variable(torch.Tensor(y_batch))\n",
    "                                                            \n",
    "            (out_shape, out_scale) = model(x_var)\n",
    "            loss = mdn_loss_function(out_shape, out_scale, y_var)\n",
    "            \n",
    "            optim.zero_grad()\n",
    "            loss.backward()\n",
    "            optim.step()\n",
    "\n",
    "        if (epoch + 1) % 50 == 0:\n",
    "            print(\"[epoch %04d] loss: %.4f\" % (epoch + 1, loss.data[0]))\n",
    "    \n",
    "    return model, optim"
   ]
  },
  {
   "cell_type": "markdown",
   "metadata": {},
   "source": [
    "## Define posterior model and corresponding loss function for learning theta"
   ]
  },
  {
   "cell_type": "code",
   "execution_count": 5,
   "metadata": {
    "collapsed": true
   },
   "outputs": [],
   "source": [
    "# magical gammaln fun from pyro \n",
    "def log_gamma(xx):\n",
    "    gamma_coeff = [\n",
    "        76.18009172947146,\n",
    "        -86.50532032941677,\n",
    "        24.01409824083091,\n",
    "        -1.231739572450155,\n",
    "        0.1208650973866179e-2,\n",
    "        -0.5395239384953e-5,\n",
    "    ]\n",
    "    magic1 = 1.000000000190015\n",
    "    magic2 = 2.5066282746310005\n",
    "    x = xx - 1.0\n",
    "    t = x + 5.5\n",
    "    t = t - (x + 0.5) * torch.log(t)\n",
    "    ser = Variable(torch.ones(x.size()) * magic1)\n",
    "    for c in gamma_coeff:\n",
    "        x = x + 1.0\n",
    "        ser = ser + torch.pow(x / c, -1)\n",
    "    return torch.log(ser * magic2) - t\n",
    "\n",
    "\n",
    "def gamma_pdf(x, shape, scale, log=False): \n",
    "    alpha = shape\n",
    "    beta = 1 / scale\n",
    "    \n",
    "    ll_1 = -beta * x\n",
    "    ll_2 = (alpha - 1.0) * torch.log(x)\n",
    "    ll_3 = alpha * torch.log(beta)\n",
    "    ll_4 = -log_gamma(alpha)\n",
    "    result = torch.sum(ll_1 + ll_2 + ll_3 + ll_4, -1)\n",
    "    if log:\n",
    "        return result\n",
    "    else: \n",
    "        return torch.exp(result)\n",
    "\n",
    "# the loss evaluates model (MoG) with the given data (y) and takes the log loss\n",
    "def mdn_loss_function(out_shape, out_scale, y):\n",
    "    result = gamma_pdf(y, out_shape, out_scale, log=True)\n",
    "    result = torch.mean(result)  # mean over batch\n",
    "    return -result"
   ]
  },
  {
   "cell_type": "markdown",
   "metadata": {},
   "source": [
    "## Generate a large data set of triplets (m, theta, sx)\n",
    "\n",
    "Then separate it into sets for model 1 and model 2 and train the phi networks separately. "
   ]
  },
  {
   "cell_type": "code",
   "execution_count": 6,
   "metadata": {
    "collapsed": true
   },
   "outputs": [],
   "source": [
    "# generate data \n",
    "m, theta, X = generate_dataset(2000, 10)"
   ]
  },
  {
   "cell_type": "code",
   "execution_count": 7,
   "metadata": {},
   "outputs": [],
   "source": [
    "# separate it \n",
    "mask = np.array(m).squeeze()\n",
    "theta1, X1, = theta[mask==0], X[mask==0, :]\n",
    "theta2, X2, = theta[mask==1], X[mask==1, :]"
   ]
  },
  {
   "cell_type": "markdown",
   "metadata": {},
   "source": [
    "## Train the phi networks for estimating the theta posteriors"
   ]
  },
  {
   "cell_type": "code",
   "execution_count": 8,
   "metadata": {},
   "outputs": [
    {
     "name": "stdout",
     "output_type": "stream",
     "text": [
      "[epoch 0050] loss: 1.1959\n",
      "[epoch 0100] loss: 1.1147\n",
      "[epoch 0150] loss: 0.9455\n",
      "[epoch 0200] loss: 0.9241\n",
      "[epoch 0250] loss: 0.9976\n",
      "[epoch 0300] loss: 0.9684\n",
      "[epoch 0350] loss: 0.8591\n",
      "[epoch 0400] loss: 0.9662\n",
      "[epoch 0450] loss: 0.9396\n",
      "[epoch 0500] loss: 0.9463\n"
     ]
    }
   ],
   "source": [
    "# now train the networks for the two models \n",
    "model1 = MDN_phi()\n",
    "optim1 = torch.optim.Adam(model1.parameters(), lr=0.01)\n",
    "model1, optim1 = train(X1, theta1, model=model1, optim=optim1)"
   ]
  },
  {
   "cell_type": "code",
   "execution_count": 9,
   "metadata": {},
   "outputs": [
    {
     "name": "stdout",
     "output_type": "stream",
     "text": [
      "[epoch 0050] loss: 0.4019\n",
      "[epoch 0100] loss: 0.4374\n",
      "[epoch 0150] loss: 0.0627\n",
      "[epoch 0200] loss: 0.3553\n",
      "[epoch 0250] loss: 0.2307\n",
      "[epoch 0300] loss: 0.3562\n",
      "[epoch 0350] loss: 0.2463\n",
      "[epoch 0400] loss: 0.3140\n",
      "[epoch 0450] loss: 0.4081\n",
      "[epoch 0500] loss: 0.2259\n"
     ]
    }
   ],
   "source": [
    "model2 = MDN_phi()\n",
    "optim2 = torch.optim.Adam(model2.parameters(), lr=0.01)\n",
    "model2, optim2 = train(X2, theta2, model=model2, optim=optim2)"
   ]
  },
  {
   "cell_type": "code",
   "execution_count": 10,
   "metadata": {
    "collapsed": true
   },
   "outputs": [],
   "source": [
    "def get_posterior(model, X_o, thetas): \n",
    "    stats_o = np.array(np.mean(X_o).astype(float)).reshape(1, 1)\n",
    "\n",
    "    X_var = Variable(torch.Tensor(stats_o))\n",
    "\n",
    "    (out_shape, out_scale) = model(X_var)\n",
    "\n",
    "    # make sure all variabel have dimensions (N, 1)\n",
    "    out_shapes = Variable(torch.Tensor(out_shape.data * torch.ones(thetas.size))).view(N, 1)\n",
    "    out_scales = Variable(torch.Tensor(out_scale.data * torch.ones(thetas.size))).view(N, 1)\n",
    "\n",
    "    post = gamma_pdf(Variable(torch.Tensor(thetas.reshape(N, 1))), out_shapes, out_scales, log=False).data.numpy()\n",
    "    return post"
   ]
  },
  {
   "cell_type": "code",
   "execution_count": 11,
   "metadata": {},
   "outputs": [],
   "source": [
    "thetas = np.linspace(0, 10, 100)\n",
    "post1 = get_posterior(model1, X_o, thetas)\n",
    "post2 = get_posterior(model2, X_o, thetas)"
   ]
  },
  {
   "cell_type": "code",
   "execution_count": 12,
   "metadata": {},
   "outputs": [],
   "source": [
    "prior1 = gamma.pdf(x=thetas, a=shapes[0], loc=0, scale=scales[0])\n",
    "prior2 = gamma.pdf(x=thetas, a=shapes[1], loc=0, scale=scales[1])"
   ]
  },
  {
   "cell_type": "code",
   "execution_count": 13,
   "metadata": {},
   "outputs": [
    {
     "data": {
      "image/png": "[encoded data removed]",
      "text/plain": [
       "<matplotlib.figure.Figure at 0x114a3b0b8>"
      ]
     },
     "metadata": {},
     "output_type": "display_data"
    }
   ],
   "source": [
    "plt.figure(figsize=(15, 5))\n",
    "plt.plot(thetas, post1.squeeze(), label='poisson 1 posterior')\n",
    "plt.plot(thetas, prior1, '--', label='prior 1')\n",
    "\n",
    "plt.plot(thetas, post2.squeeze(), label='poisson 2 posterior')\n",
    "plt.plot(thetas, prior2, '--', label='prior 2')\n",
    "\n",
    "plt.axvline(x=true_lam, label='true theta', linestyle='--', color='k')\n",
    "plt.xlabel('theta')\n",
    "plt.legend();"
   ]
  },
  {
   "cell_type": "markdown",
   "metadata": {
    "collapsed": true
   },
   "source": [
    "## Now train the model posterior"
   ]
  },
  {
   "cell_type": "code",
   "execution_count": 14,
   "metadata": {
    "collapsed": true
   },
   "outputs": [],
   "source": [
    "class MDN_psi(nn.Module):\n",
    "    \n",
    "    def __init__(self, ndim_input=1, ndim_output=2, n_hidden=5, n_components=1):\n",
    "        super(MDN_psi, self).__init__()\n",
    "        self.fc_in = nn.Linear(ndim_input, n_hidden)\n",
    "        self.tanh = nn.Tanh()\n",
    "        self.m_out = nn.Linear(n_hidden, ndim_output)\n",
    "\n",
    "    def forward(self, x):\n",
    "        out = self.fc_in(x)\n",
    "        act = self.tanh(out)\n",
    "        out_m = self.m_out(act)\n",
    "        return out_m\n",
    "\n",
    "lossfun = nn.CrossEntropyLoss()\n",
    "\n",
    "def psi_loss_function(m, out): \n",
    "    M = m.size\n",
    "    J = Variable(torch.Tensor([0]))\n",
    "\n",
    "    for i in range(M):\n",
    "        J += torch.log(out[i, m[i]])\n",
    "        \n",
    "    result = J / M\n",
    "    \n",
    "    return - result\n",
    "\n",
    "def train_psi(X, Y, model, optim, n_epochs=500, n_minibatch=50):\n",
    "    dataset_train = [(x, y) for x, y in zip(X, Y)]\n",
    "\n",
    "    for epoch in range(n_epochs): \n",
    "        bgen = batch_generator(dataset_train, n_minibatch)\n",
    "\n",
    "        for j, (x_batch, y_batch) in enumerate(bgen):\n",
    "            x_var = Variable(torch.Tensor(x_batch))            \n",
    "            y_var = Variable(torch.LongTensor(y_batch)).view(n_minibatch)\n",
    "            \n",
    "            (out_act) = model(x_var)\n",
    "            loss = lossfun(out_act, y_var)\n",
    "            \n",
    "            optim.zero_grad()\n",
    "            loss.backward()\n",
    "            optim.step()\n",
    "\n",
    "        if (epoch + 1) % 50 == 0:\n",
    "            print(\"[epoch %04d] loss: %.4f\" % (epoch + 1, loss.data[0]))\n",
    "    \n",
    "    return model, optim"
   ]
  },
  {
   "cell_type": "code",
   "execution_count": 15,
   "metadata": {},
   "outputs": [
    {
     "name": "stdout",
     "output_type": "stream",
     "text": [
      "[epoch 0050] loss: 0.3849\n",
      "[epoch 0100] loss: 0.4861\n",
      "[epoch 0150] loss: 0.3278\n",
      "[epoch 0200] loss: 0.3573\n",
      "[epoch 0250] loss: 0.4540\n",
      "[epoch 0300] loss: 0.3516\n",
      "[epoch 0350] loss: 0.4205\n",
      "[epoch 0400] loss: 0.4651\n",
      "[epoch 0450] loss: 0.3731\n",
      "[epoch 0500] loss: 0.4308\n"
     ]
    }
   ],
   "source": [
    "model = MDN_psi()\n",
    "optim = torch.optim.Adam(model.parameters(), lr=0.01)\n",
    "\n",
    "model_psi, optim_psi = train_psi(X, m, model, optim)"
   ]
  },
  {
   "cell_type": "code",
   "execution_count": 16,
   "metadata": {
    "collapsed": true
   },
   "outputs": [],
   "source": [
    "stats_o = np.array(np.mean(X_o).astype(float)).reshape(1, 1)\n",
    "\n",
    "X_var = Variable(torch.Tensor(stats_o))\n",
    "\n",
    "(out_act) = model(X_var)"
   ]
  },
  {
   "cell_type": "code",
   "execution_count": 17,
   "metadata": {},
   "outputs": [
    {
     "name": "stdout",
     "output_type": "stream",
     "text": [
      "Variable containing:\n",
      " 0.8374  0.1626\n",
      "[torch.FloatTensor of size 1x2]\n",
      "\n"
     ]
    }
   ],
   "source": [
    "m = nn.Softmax()\n",
    "print(m(out_act))"
   ]
  },
  {
   "cell_type": "code",
   "execution_count": null,
   "metadata": {
    "collapsed": true
   },
   "outputs": [],
   "source": []
  }
 ],
 "metadata": {
  "kernelspec": {
   "display_name": "Python 3",
   "language": "python",
   "name": "python3"
  },
  "language_info": {
   "codemirror_mode": {
    "name": "ipython",
    "version": 3
   },
   "file_extension": ".py",
   "mimetype": "text/x-python",
   "name": "python",
   "nbconvert_exporter": "python",
   "pygments_lexer": "ipython3",
   "version": "3.6.2"
  }
 },
 "nbformat": 4,
 "nbformat_minor": 2
}
