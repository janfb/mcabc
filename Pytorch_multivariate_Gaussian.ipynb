{
 "cells": [
  {
   "cell_type": "markdown",
   "metadata": {},
   "source": [
    "### Implement and test pytorch implementation of Multivariate Gaussian \n",
    "\n",
    "Generate some Gaussian 2D data and evaluate Gaussian in pytorch and scipy to test it. "
   ]
  },
  {
   "cell_type": "code",
   "execution_count": null,
   "metadata": {},
   "outputs": [],
   "source": [
    "import numpy as np \n",
    "import torch \n",
    "from torch.autograd import Variable\n",
    "import scipy.stats"
   ]
  },
  {
   "cell_type": "code",
   "execution_count": null,
   "metadata": {},
   "outputs": [],
   "source": [
    "# generate some 2D Gaussian samples \n",
    "d = 2\n",
    "n = 10\n",
    "mean = [1.] * d\n",
    "cov = np.eye(d)\n",
    "U = cov \n",
    "\n",
    "m = scipy.stats.multivariate_normal(mean=mean, cov=cov)"
   ]
  },
  {
   "cell_type": "code",
   "execution_count": null,
   "metadata": {},
   "outputs": [],
   "source": [
    "# get some samples \n",
    "data = m.rvs(10)"
   ]
  },
  {
   "cell_type": "code",
   "execution_count": null,
   "metadata": {},
   "outputs": [],
   "source": [
    "# now implement the pytorch version and compare the results \n",
    "\n",
    "# construct the pytorch Variables as batches \n",
    "X = Variable(torch.Tensor(data.tolist()))\n",
    "mus = Variable(torch.ones(n, d))\n",
    "Us = Variable(torch.zeros(n, d, d))\n",
    "for idx in range(n): \n",
    "    Us[idx, ] = torch.eye(d)"
   ]
  },
  {
   "cell_type": "code",
   "execution_count": null,
   "metadata": {},
   "outputs": [],
   "source": [
    "def multivariate_normal_pdf(X, mus, Us, log=False):\n",
    "    # dimension of the Gaussian \n",
    "    D = mus.size()[1]\n",
    "    N = mus.size()[0]\n",
    "    \n",
    "    # get the precision matrices over batches using matrix multiplication: S^-1 = U'U\n",
    "    Sin = torch.bmm(torch.transpose(Us, 1, 2), Us)\n",
    "    \n",
    "    norm_const = Variable(torch.zeros(N, 1))\n",
    "    log_probs = Variable(torch.zeros(N, 1))\n",
    "    \n",
    "    for idx in range(N): \n",
    "        norm_const[idx] = (torch.log(torch.diag(Us[idx, ])).sum(-1) + (D / 2) * np.log(2 * np.pi)).unsqueeze(-1)\n",
    "        diff = (X[idx, ] - mus[idx, ]).unsqueeze(-1)\n",
    "        log_probs[idx] = 0.5 * torch.mm(torch.transpose(diff, 0, 1), torch.mm(Sin[idx, ], diff))\n",
    "        \n",
    "    ps = -(norm_const + log_probs)\n",
    "    log_probs = ps \n",
    "    \n",
    "    if log:\n",
    "        return log_probs\n",
    "    else: \n",
    "        return torch.exp(log_probs)\n",
    "\n",
    "pdata_torch = multivariate_normal_pdf(X, mus, Us, log=True)"
   ]
  },
  {
   "cell_type": "code",
   "execution_count": null,
   "metadata": {
    "collapsed": true
   },
   "outputs": [],
   "source": [
    "# evaluate the scipy pdf as ground truth \n",
    "pdata_scipy = np.log(m.pdf(data))"
   ]
  },
  {
   "cell_type": "code",
   "execution_count": null,
   "metadata": {},
   "outputs": [],
   "source": [
    "pdata_torch"
   ]
  },
  {
   "cell_type": "code",
   "execution_count": null,
   "metadata": {},
   "outputs": [],
   "source": [
    "pdata_scipy"
   ]
  },
  {
   "cell_type": "code",
   "execution_count": null,
   "metadata": {
    "collapsed": true
   },
   "outputs": [],
   "source": []
  }
 ],
 "metadata": {
  "kernelspec": {
   "display_name": "Python [conda env:pytorch]",
   "language": "python",
   "name": "conda-env-pytorch-py"
  },
  "language_info": {
   "codemirror_mode": {
    "name": "ipython",
    "version": 3
   },
   "file_extension": ".py",
   "mimetype": "text/x-python",
   "name": "python",
   "nbconvert_exporter": "python",
   "pygments_lexer": "ipython3",
   "version": "3.6.2"
  }
 },
 "nbformat": 4,
 "nbformat_minor": 2
}
