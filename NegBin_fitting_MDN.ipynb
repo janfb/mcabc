{
 "cells": [
  {
   "cell_type": "code",
   "execution_count": 1,
   "metadata": {
    "collapsed": true
   },
   "outputs": [],
   "source": [
    "import matplotlib.pyplot as plt\n",
    "import numpy as np\n",
    "import torch\n",
    "import torch.nn as nn\n",
    "\n",
    "from torch.autograd import Variable\n",
    "from random import shuffle\n",
    "from scipy.stats import beta\n",
    "import scipy.special\n",
    "\n",
    "%matplotlib inline"
   ]
  },
  {
   "cell_type": "markdown",
   "metadata": {
    "collapsed": true
   },
   "source": [
    "## Generate NegBin data"
   ]
  },
  {
   "cell_type": "code",
   "execution_count": 2,
   "metadata": {},
   "outputs": [
    {
     "data": {
      "image/png": "[encoded data removed]",
      "text/plain": [
       "<matplotlib.figure.Figure at 0x10f34bf28>"
      ]
     },
     "metadata": {},
     "output_type": "display_data"
    }
   ],
   "source": [
    "N = 500 # size of toy data\n",
    "alp = 2. \n",
    "bet = 2.\n",
    "true_mu = .5\n",
    "\n",
    "# the NB is defined for a fixed number of failures, r. \n",
    "# It describes the distribution of successes until r failures have occured, or the other way around. \n",
    "# thus, the number of trials is implicit \n",
    "n_failures = 4\n",
    "\n",
    "X_o = np.random.negative_binomial(n=n_failures, p=true_mu, size=N)\n",
    "\n",
    "X_var = Variable(torch.Tensor(X_o.astype(float)))\n",
    "\n",
    "plt.hist(X_o, bins='auto');\n",
    "plt.xlabel('k, successes before {} failures happen'.format(n_failures));"
   ]
  },
  {
   "cell_type": "markdown",
   "metadata": {},
   "source": [
    "## Derive posterior over $\\mu$ with a Beta prior\n",
    "\n",
    "The likelihood for observing $x_i$ successes with a success probability of $\\mu$ before $M$ failures occurred when drawing $N$ times is given by the negbin pdf \n",
    "\n",
    "$$\n",
    "p(x| \\mu) = \\prod_{i=1}^N {{x_i + M - 1}\\choose{x_i}} (1 - \\mu)^{M}\\mu^{x_i}. \n",
    "$$\n",
    "\n",
    "The conjugtae prior for $\\mu$ is the Beta distribution \n",
    "\n",
    "$$\n",
    "p(\\mu) = Beta(\\alpha, \\beta) = \\frac{\\mu^{\\alpha - 1} (1 - \\mu)^{\\beta - 1}}{B(\\alpha, \\beta)}\n",
    "$$\n",
    "\n",
    "The marginal likelihood is given by \n",
    "\n",
    "$$\n",
    "E = \\int p(x | \\mu) p(\\mu) d\\mu = \\frac{B(\\alpha + \\sum x_i, \\beta + NM)}{B(\\alpha, \\beta)}\\prod_{i=1}^N {{x_i + M - 1}\\choose{x_i}}\n",
    "$$\n",
    "\n",
    "Thus, the posterior is given by \n",
    "\n",
    "$$\n",
    "p(\\mu | x) = \\frac{p(x| \\mu)p(\\mu) }{\\int p(x | \\mu) p(\\mu) d\\mu} = \\frac{\\prod_{i=1}^N {{x_i + M - 1}\\choose{x_i}} (1 - \\mu)^{M}\\mu^{x_i}\\frac{\\mu^{\\alpha - 1} (1 - \\mu)^{\\beta - 1}}{B(\\alpha, \\beta)}}{\\frac{B(\\alpha + \\sum x_i, \\beta + NM)}{B(\\alpha, \\beta)}\\prod_{i=1}^N {{x_i + M - 1}\\choose{x_i}}} = \\frac{(1-\\mu)^{NM + \\beta -1}\\mu^{\\sum x_i + \\alpha - 1}}{B(\\alpha + \\sum x_i, \\beta + NM)} = Beta(\\alpha + \\sum x_i, \\beta + NM)\n",
    "$$"
   ]
  },
  {
   "cell_type": "code",
   "execution_count": 3,
   "metadata": {
    "collapsed": true
   },
   "outputs": [],
   "source": [
    "# hard coded function for calculating the posterior and evidence separately. \n",
    "# The result is somehow not normalized so there might be a bug or varying definitions of the negbin in \n",
    "# numpy.random or scipy.stats \n",
    "\n",
    "def posterior(mu, ks, alpha, beta, log=True): \n",
    "    N = ks.size\n",
    "    M = n_failures\n",
    "    s1 = np.sum(scipy.special.binom(ks + M - 1, ks))\n",
    "    s2 = (N*M + beta - 1) * np.log(1 - mu)\n",
    "    s3 = (np.sum(ks) + alpha - 1)*np.log(mu)\n",
    "    s4 = - scipy.special.betaln(alpha, beta)\n",
    "    result = s1 + s2 + s3 + s4\n",
    "    return result if log else np.exp(result)\n",
    "\n",
    "def log_nbin_evidence(x, alpha, beta): \n",
    "    N = x.size\n",
    "    M = n_failures\n",
    "    s1 = scipy.special.betaln(alpha + x.sum(), beta + N * M)\n",
    "    s2 = -scipy.special.betaln(alpha, beta)\n",
    "    s3 = np.sum(np.log(scipy.special.binom(x + M - 1, x)))\n",
    "    return s1 + s2 + s3"
   ]
  },
  {
   "cell_type": "markdown",
   "metadata": {},
   "source": [
    "## Learn MDN to predict the posterior over $\\mu$ \n",
    "\n",
    "The MDN has to approximate a Beta distribution. Thus, the output should be the shape and scale parameters of the Beta distribution. The sufficient statistics for the negative binomial is just $x$ and for many samples just the sum $\\sum x_i$. "
   ]
  },
  {
   "cell_type": "code",
   "execution_count": 4,
   "metadata": {
    "collapsed": true
   },
   "outputs": [],
   "source": [
    "# The cost function of the MDN needs to evaluate the beta distribution written in pytorch terms: \n",
    "\n",
    "def log_gamma(xx):\n",
    "    gamma_coeff = [\n",
    "        76.18009172947146,\n",
    "        -86.50532032941677,\n",
    "        24.01409824083091,\n",
    "        -1.231739572450155,\n",
    "        0.1208650973866179e-2,\n",
    "        -0.5395239384953e-5,\n",
    "    ]\n",
    "    magic1 = 1.000000000190015\n",
    "    magic2 = 2.5066282746310005\n",
    "    x = xx - 1.0\n",
    "    t = x + 5.5\n",
    "    t = t - (x + 0.5) * torch.log(t)\n",
    "    ser = Variable(torch.ones(x.size()) * magic1)\n",
    "    for c in gamma_coeff:\n",
    "        x = x + 1.0\n",
    "        ser = ser + torch.pow(x / c, -1)\n",
    "    return torch.log(ser * magic2) - t\n",
    "\n",
    "def log_betafun(a, b): \n",
    "    return log_gamma(a) + log_gamma(b) - log_gamma(a + b)\n",
    "\n",
    "def beta_pdf(y, out_shape, out_scale, log=True): \n",
    "    # beta function is defined in terms of gamma as: B(a, b) = gamma(a)gamma(b)/gamma(a + b)\n",
    "    one = Variable(torch.ones(x.size()).type_as(alpha.data))\n",
    "    result = (a - 1) * torch.log(mu) + (b - 1) * torch.log(1 - mu) - log_betafun(a, b)\n",
    "    return result if log else np.exp(result)"
   ]
  },
  {
   "cell_type": "code",
   "execution_count": 5,
   "metadata": {
    "collapsed": true
   },
   "outputs": [],
   "source": [
    "class MDN_phi(nn.Module):\n",
    "    def __init__(self, ndim_input=1, ndim_output=1, n_hidden=5, n_components=1):\n",
    "        super(MDN_phi, self).__init__()\n",
    "        self.fc_in = nn.Linear(ndim_input, n_hidden)\n",
    "        self.tanh = nn.Tanh()\n",
    "        self.scale_out = torch.nn.Sequential(\n",
    "              nn.Linear(n_hidden, n_components),\n",
    "              nn.Softplus())\n",
    "        self.shape_out = torch.nn.Sequential(\n",
    "              nn.Linear(n_hidden, n_components),\n",
    "              nn.Softplus())\n",
    "\n",
    "    def forward(self, x):\n",
    "        out = self.fc_in(x)\n",
    "        act = self.tanh(out)\n",
    "        out_shape = self.scale_out(act)\n",
    "        out_scale = self.shape_out(act)\n",
    "        return (out_shape, out_scale)\n",
    "\n",
    "# the loss evaluates model (MoG) with the given data (y) and takes the log loss\n",
    "def mdn_loss_function(out_shape, out_scale, y):\n",
    "    result = gamma_pdf(y, out_shape, out_scale, log=True)\n",
    "    result = torch.mean(result)  # mean over batch\n",
    "    return -result\n",
    "\n",
    "def batch_generator(dataset, batch_size=5):\n",
    "    shuffle(dataset)\n",
    "    N_full_batches = len(dataset) // batch_size\n",
    "    for i in range(N_full_batches):\n",
    "        idx_from = batch_size * i\n",
    "        idx_to = batch_size * (i + 1)\n",
    "        xs, ys = zip(*[(x, y) for x, y in dataset[idx_from:idx_to]])\n",
    "        yield xs, ys\n",
    "        \n",
    "def train(X, Y, n_epochs=500, n_minibatch=50):\n",
    "    dataset_train = [(x, y) for x, y in zip(X, Y)]\n",
    "\n",
    "    for epoch in range(n_epochs): \n",
    "        bgen = batch_generator(dataset_train, n_minibatch)\n",
    "\n",
    "        for j, (x_batch, y_batch) in enumerate(bgen):\n",
    "            x_var = Variable(torch.Tensor(x_batch))\n",
    "            y_var = Variable(torch.Tensor(y_batch))\n",
    "                                                            \n",
    "            (out_shape, out_scale) = model(x_var)\n",
    "            loss = mdn_loss_function(out_shape, out_scale, y_var)\n",
    "            \n",
    "            optim.zero_grad()\n",
    "            loss.backward()\n",
    "            optim.step()\n",
    "\n",
    "        if (epoch + 1) % 50 == 0:\n",
    "            print(\"[epoch %04d] loss: %.4f\" % (epoch + 1, loss.data[0]))"
   ]
  },
  {
   "cell_type": "markdown",
   "metadata": {},
   "source": [
    "## Plot the predictive and the analystical posterior over the whole range of mus "
   ]
  },
  {
   "cell_type": "code",
   "execution_count": 6,
   "metadata": {},
   "outputs": [
    {
     "data": {
      "image/png": "[encoded data removed]",
      "text/plain": [
       "<matplotlib.figure.Figure at 0x10f34bbe0>"
      ]
     },
     "metadata": {},
     "output_type": "display_data"
    }
   ],
   "source": [
    "N = X_o.size \n",
    "M = n_failures\n",
    "\n",
    "# analytical posterior \n",
    "mus = np.linspace(0.01, 0.99, 100)\n",
    "\n",
    "prior = beta.pdf(mus, alp, bet)\n",
    "\n",
    "a = alp + X_o.sum()\n",
    "b = bet + N * M\n",
    "post_ana = beta.pdf(mus, a, b)\n",
    "\n",
    "# plotting \n",
    "plt.figure(figsize=(15, 5))\n",
    "plt.plot(mus, prior, label='prior')\n",
    "plt.plot(mus, post_ana, label='true posterior')\n",
    "plt.ylabel(r'$\\mu$')\n",
    "plt.legend(); "
   ]
  },
  {
   "cell_type": "code",
   "execution_count": null,
   "metadata": {
    "collapsed": true
   },
   "outputs": [],
   "source": []
  }
 ],
 "metadata": {
  "kernelspec": {
   "display_name": "Python 3",
   "language": "python",
   "name": "python3"
  },
  "language_info": {
   "codemirror_mode": {
    "name": "ipython",
    "version": 3
   },
   "file_extension": ".py",
   "mimetype": "text/x-python",
   "name": "python",
   "nbconvert_exporter": "python",
   "pygments_lexer": "ipython3",
   "version": "3.6.2"
  }
 },
 "nbformat": 4,
 "nbformat_minor": 2
}
