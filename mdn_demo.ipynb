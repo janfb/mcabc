{
 "cells": [
  {
   "cell_type": "code",
   "execution_count": 1,
   "metadata": {
    "collapsed": true
   },
   "outputs": [],
   "source": [
    "import matplotlib.pyplot as plt\n",
    "import numpy as np\n",
    "import torch\n",
    "import torch.nn as nn\n",
    "\n",
    "from torch.autograd import Variable\n",
    "from random import shuffle\n",
    "\n",
    "%matplotlib inline"
   ]
  },
  {
   "cell_type": "code",
   "execution_count": 2,
   "metadata": {},
   "outputs": [
    {
     "data": {
      "image/png": "[encoded data removed]",
      "text/plain": [
       "<matplotlib.figure.Figure at 0x10d5db898>"
      ]
     },
     "metadata": {},
     "output_type": "display_data"
    }
   ],
   "source": [
    "N = 200  # size of toy data\n",
    "\n",
    "def build_linear_dataset(N, noise_std=0.5):\n",
    "    X = np.linspace(-2, 2, num=N)\n",
    "    Y = 3 * X + 1 + np.random.normal(0, noise_std, size=N)\n",
    "    X, Y = X.reshape((N, 1)), Y.reshape((N, 1))\n",
    "    return X, Y\n",
    "\n",
    "def batch_generator(dataset, batch_size=5):\n",
    "    shuffle(dataset)\n",
    "    N_full_batches = len(dataset) // batch_size\n",
    "    for i in range(N_full_batches):\n",
    "        idx_from = batch_size * i\n",
    "        idx_to = batch_size * (i + 1)\n",
    "        xs, ys = zip(*[(x, y) for x, y in dataset[idx_from:idx_to]])\n",
    "        yield xs, ys\n",
    "\n",
    "X, Y = build_linear_dataset(N)\n",
    "\n",
    "X_var = Variable(torch.Tensor(X))\n",
    "Y_var = Variable(torch.Tensor(Y))\n",
    "\n",
    "plt.plot(X, Y, '.');\n",
    "plt.xlabel('X');\n",
    "plt.ylabel('Y');"
   ]
  },
  {
   "cell_type": "code",
   "execution_count": 3,
   "metadata": {
    "collapsed": true
   },
   "outputs": [],
   "source": [
    "class MDN(nn.Module):\n",
    "    def __init__(self, ndim_input=1, ndim_output=1, n_hidden=5, n_components=1):\n",
    "        super(MDN, self).__init__()\n",
    "        self.fc_in = nn.Linear(1, n_hidden)\n",
    "        self.tanh = nn.Tanh()\n",
    "        self.alpha_out = torch.nn.Sequential(\n",
    "              nn.Linear(n_hidden, n_components),\n",
    "              nn.Softmax()\n",
    "            )\n",
    "        self.logsigma_out = nn.Linear(n_hidden, n_components)\n",
    "        self.mu_out = nn.Linear(n_hidden, n_components)  \n",
    "\n",
    "    def forward(self, x):\n",
    "        out = self.fc_in(x)\n",
    "        act = self.tanh(out)\n",
    "        out_alpha = self.alpha_out(act)\n",
    "        out_sigma = torch.exp(self.logsigma_out(act))\n",
    "        out_mu = self.mu_out(act)\n",
    "        return (out_alpha, out_sigma, out_mu)"
   ]
  },
  {
   "cell_type": "code",
   "execution_count": 4,
   "metadata": {
    "collapsed": true
   },
   "outputs": [],
   "source": [
    "def gauss_pdf(y, mu, sigma, log=False):\n",
    "    result = -0.5*torch.log(2*np.pi*sigma**2) - 1/(2*sigma**2) * (y.expand_as(mu) - mu)**2\n",
    "    if log:\n",
    "        return result\n",
    "    else: \n",
    "        return torch.exp(result)\n",
    "\n",
    "def mdn_loss_function(out_alpha, out_sigma, out_mu, y):\n",
    "    result = (gauss_pdf(y, out_mu, Variable(torch.ones((1)))) * out_alpha).squeeze()\n",
    "    result = torch.log(result)\n",
    "    result = torch.mean(result)  # mean over batch\n",
    "    return -result"
   ]
  },
  {
   "cell_type": "code",
   "execution_count": 31,
   "metadata": {
    "scrolled": false
   },
   "outputs": [
    {
     "name": "stdout",
     "output_type": "stream",
     "text": [
      "[epoch 0050] loss: 1.2939\n",
      "[epoch 0100] loss: 1.0572\n",
      "[epoch 0150] loss: 1.0565\n",
      "[epoch 0200] loss: 1.0090\n",
      "[epoch 0250] loss: 1.0403\n",
      "[epoch 0300] loss: 1.0441\n",
      "[epoch 0350] loss: 1.0886\n",
      "[epoch 0400] loss: 1.0491\n",
      "[epoch 0450] loss: 1.0631\n",
      "[epoch 0500] loss: 1.0976\n"
     ]
    }
   ],
   "source": [
    "model = MDN()\n",
    "optim = torch.optim.Adam(model.parameters(), lr=0.01)\n",
    "\n",
    "def train(X, Y, n_epochs=500, n_minibatch=50):\n",
    "    dataset_train = [(x, y) for x, y in zip(X, Y)]\n",
    "\n",
    "    for epoch in range(n_epochs): \n",
    "        bgen = batch_generator(dataset_train, n_minibatch)\n",
    "\n",
    "        for j, (x_batch, y_batch) in enumerate(bgen):\n",
    "            x_var = Variable(torch.Tensor(x_batch))\n",
    "            y_var = Variable(torch.Tensor(y_batch))\n",
    "            \n",
    "            (out_alpha, out_sigma, out_mu) = model(x_var)\n",
    "            loss = mdn_loss_function(out_alpha, out_sigma, out_mu, y_var)\n",
    "            \n",
    "            optim.zero_grad()\n",
    "            loss.backward()\n",
    "            optim.step()\n",
    "\n",
    "        if (epoch + 1) % 50 == 0:\n",
    "            print(\"[epoch %04d] loss: %.4f\" % (epoch + 1, loss.data[0]))\n",
    "        \n",
    "train(X, Y)"
   ]
  },
  {
   "cell_type": "code",
   "execution_count": 29,
   "metadata": {},
   "outputs": [
    {
     "data": {
      "text/plain": [
       "(200, 1)"
      ]
     },
     "execution_count": 29,
     "metadata": {},
     "output_type": "execute_result"
    }
   ],
   "source": [
    "X.shape"
   ]
  },
  {
   "cell_type": "code",
   "execution_count": 6,
   "metadata": {},
   "outputs": [
    {
     "data": {
      "image/png": "[encoded data removed]",
      "text/plain": [
       "<matplotlib.figure.Figure at 0x114d321d0>"
      ]
     },
     "metadata": {},
     "output_type": "display_data"
    }
   ],
   "source": [
    "X_var = Variable(torch.Tensor(X))\n",
    "Y_var = Variable(torch.Tensor(Y))\n",
    "\n",
    "(out_alpha, out_sigma, out_mu) = model(X_var)\n",
    "\n",
    "plt.plot(X, Y, '.')\n",
    "plt.plot(X, out_mu.data.numpy(), '-r');\n",
    "plt.plot(X, out_mu.data.numpy() + out_sigma.data.numpy(), '-k');\n",
    "plt.plot(X, out_mu.data.numpy() - out_sigma.data.numpy(), '-k');"
   ]
  },
  {
   "cell_type": "code",
   "execution_count": 24,
   "metadata": {},
   "outputs": [
    {
     "data": {
      "text/plain": [
       "Variable containing:\n",
       " 1.0483\n",
       "[torch.FloatTensor of size 1]"
      ]
     },
     "execution_count": 24,
     "metadata": {},
     "output_type": "execute_result"
    }
   ],
   "source": [
    "(out_alpha, out_sigma, out_mu) = model(X_var)\n",
    "mdn_loss_function(out_alpha, out_sigma, out_mu, Y_var)"
   ]
  },
  {
   "cell_type": "code",
   "execution_count": 25,
   "metadata": {},
   "outputs": [
    {
     "ename": "NameError",
     "evalue": "name 'y_var' is not defined",
     "output_type": "error",
     "traceback": [
      "\u001b[0;31m---------------------------------------------------------------------------\u001b[0m",
      "\u001b[0;31mNameError\u001b[0m                                 Traceback (most recent call last)",
      "\u001b[0;32m<ipython-input-25-b2fc06fd3cb9>\u001b[0m in \u001b[0;36m<module>\u001b[0;34m()\u001b[0m\n\u001b[0;32m----> 1\u001b[0;31m \u001b[0my_var\u001b[0m\u001b[0;34m\u001b[0m\u001b[0m\n\u001b[0m",
      "\u001b[0;31mNameError\u001b[0m: name 'y_var' is not defined"
     ]
    }
   ],
   "source": [
    "y_var"
   ]
  },
  {
   "cell_type": "code",
   "execution_count": null,
   "metadata": {
    "collapsed": true
   },
   "outputs": [],
   "source": []
  }
 ],
 "metadata": {
  "kernelspec": {
   "display_name": "Python 3",
   "language": "python",
   "name": "python3"
  },
  "language_info": {
   "codemirror_mode": {
    "name": "ipython",
    "version": 3
   },
   "file_extension": ".py",
   "mimetype": "text/x-python",
   "name": "python",
   "nbconvert_exporter": "python",
   "pygments_lexer": "ipython3",
   "version": "3.6.2"
  }
 },
 "nbformat": 4,
 "nbformat_minor": 2
}
