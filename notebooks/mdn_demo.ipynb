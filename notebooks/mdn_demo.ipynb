{
 "cells": [
  {
   "cell_type": "code",
   "execution_count": null,
   "metadata": {
    "collapsed": true
   },
   "outputs": [],
   "source": [
    "import matplotlib.pyplot as plt\n",
    "import numpy as np\n",
    "import torch\n",
    "import torch.nn as nn\n",
    "\n",
    "from torch.autograd import Variable\n",
    "from random import shuffle\n",
    "\n",
    "%matplotlib inline"
   ]
  },
  {
   "cell_type": "code",
   "execution_count": null,
   "metadata": {},
   "outputs": [],
   "source": [
    "N = 200  # size of toy data\n",
    "\n",
    "def build_linear_dataset(N, noise_std=0.5):\n",
    "    X = np.linspace(-2, 2, num=N)\n",
    "    Y = 3 * X + 1 + np.random.normal(0, noise_std, size=N)\n",
    "    X, Y = X.reshape((N, 1)), Y.reshape((N, 1))\n",
    "    return X, Y\n",
    "\n",
    "def batch_generator(dataset, batch_size=5):\n",
    "    shuffle(dataset)\n",
    "    N_full_batches = len(dataset) // batch_size\n",
    "    for i in range(N_full_batches):\n",
    "        idx_from = batch_size * i\n",
    "        idx_to = batch_size * (i + 1)\n",
    "        xs, ys = zip(*[(x, y) for x, y in dataset[idx_from:idx_to]])\n",
    "        yield xs, ys\n",
    "\n",
    "X, Y = build_linear_dataset(N)\n",
    "\n",
    "X_var = Variable(torch.Tensor(X))\n",
    "Y_var = Variable(torch.Tensor(Y))\n",
    "\n",
    "plt.plot(X, Y, '.');\n",
    "plt.xlabel('X');\n",
    "plt.ylabel('Y');"
   ]
  },
  {
   "cell_type": "code",
   "execution_count": null,
   "metadata": {
    "collapsed": true
   },
   "outputs": [],
   "source": [
    "class MDN(nn.Module):\n",
    "    def __init__(self, ndim_input=1, ndim_output=1, n_hidden=5, n_components=1):\n",
    "        super(MDN, self).__init__()\n",
    "        self.fc_in = nn.Linear(1, n_hidden)\n",
    "        self.tanh = nn.Tanh()\n",
    "        self.alpha_out = torch.nn.Sequential(\n",
    "              nn.Linear(n_hidden, n_components),\n",
    "              nn.Softmax()\n",
    "            )\n",
    "        self.logsigma_out = nn.Linear(n_hidden, n_components)\n",
    "        self.mu_out = nn.Linear(n_hidden, n_components)  \n",
    "\n",
    "    def forward(self, x):\n",
    "        out = self.fc_in(x)\n",
    "        act = self.tanh(out)\n",
    "        out_alpha = self.alpha_out(act)\n",
    "        out_sigma = torch.exp(self.logsigma_out(act))\n",
    "        out_mu = self.mu_out(act)\n",
    "        return (out_alpha, out_sigma, out_mu)"
   ]
  },
  {
   "cell_type": "code",
   "execution_count": null,
   "metadata": {
    "collapsed": true
   },
   "outputs": [],
   "source": [
    "def gauss_pdf(y, mu, sigma, log=False):\n",
    "    result = -0.5*torch.log(2*np.pi*sigma**2) - 1/(2*sigma**2) * (y.expand_as(mu) - mu)**2\n",
    "    if log:\n",
    "        return result\n",
    "    else: \n",
    "        return torch.exp(result)\n",
    "    \n",
    "def mog_pdf(y, mus, sigmas, alphas, log=False): \n",
    "    \n",
    "    result = Variable(torch.zeros(y.size()))\n",
    "    \n",
    "    for idx, a in enumerate(torch.transpose(alphas, 0, 1)):  \n",
    "        \n",
    "        sigma = sigmas[:, idx].unsqueeze(1)\n",
    "        \n",
    "        mu = mus[:, idx].unsqueeze(1)\n",
    "        \n",
    "        single_pdf = gauss_pdf(y, mu, sigma, log=False)\n",
    "        \n",
    "        result = torch.add(result, a * single_pdf)\n",
    "    \n",
    "    if log: \n",
    "        return torch.log(result)\n",
    "    else: \n",
    "        return result\n",
    "        \n",
    "        \n",
    "def mdn_loss_function(out_alpha, out_sigma, out_mu, y):\n",
    "    #result = (gauss_pdf(y, out_mu, Variable(torch.ones((1)))) * out_alpha).squeeze()\n",
    "    result = mog_pdf(y, mus=out_mu, sigmas=out_sigma, alphas=out_alpha, log=False)\n",
    "    result = torch.log(result)\n",
    "    result = torch.mean(result)  # mean over batch\n",
    "    return -result"
   ]
  },
  {
   "cell_type": "code",
   "execution_count": null,
   "metadata": {
    "scrolled": false
   },
   "outputs": [],
   "source": [
    "model = MDN(n_components=1)\n",
    "optim = torch.optim.Adam(model.parameters(), lr=0.01)\n",
    "\n",
    "def train(X, Y, n_epochs=500, n_minibatch=50):\n",
    "    dataset_train = [(x, y) for x, y in zip(X, Y)]\n",
    "\n",
    "    for epoch in range(n_epochs): \n",
    "        bgen = batch_generator(dataset_train, n_minibatch)\n",
    "\n",
    "        for j, (x_batch, y_batch) in enumerate(bgen):\n",
    "            x_var = Variable(torch.Tensor(x_batch))\n",
    "            y_var = Variable(torch.Tensor(y_batch))\n",
    "            \n",
    "            (out_alpha, out_sigma, out_mu) = model(x_var)\n",
    "            loss = mdn_loss_function(out_alpha, out_sigma, out_mu, y_var)\n",
    "            \n",
    "            optim.zero_grad()\n",
    "            loss.backward()\n",
    "            optim.step()\n",
    "\n",
    "        if (epoch + 1) % 50 == 0:\n",
    "            print(\"[epoch %04d] loss: %.4f\" % (epoch + 1, loss.data[0]))\n",
    "        \n",
    "train(X, Y)"
   ]
  },
  {
   "cell_type": "code",
   "execution_count": null,
   "metadata": {},
   "outputs": [],
   "source": [
    "X.shape"
   ]
  },
  {
   "cell_type": "code",
   "execution_count": null,
   "metadata": {},
   "outputs": [],
   "source": [
    "X_var = Variable(torch.Tensor(X))\n",
    "Y_var = Variable(torch.Tensor(Y))\n",
    "\n",
    "(out_alpha, out_sigma, out_mu) = model(X_var)\n",
    "\n",
    "mus = torch.sum(out_alpha * out_mu, 1)\n",
    "sigmas = torch.sum(out_alpha * out_sigma, 1)\n",
    "\n",
    "plt.plot(X, Y, '.')\n",
    "plt.plot(X, mus.data.numpy(), '-r');\n",
    "plt.plot(X, mus.data.numpy() + sigmas.data.numpy(), '-k');\n",
    "plt.plot(X, mus.data.numpy() - sigmas.data.numpy(), '-k');"
   ]
  },
  {
   "cell_type": "code",
   "execution_count": null,
   "metadata": {},
   "outputs": [],
   "source": []
  },
  {
   "cell_type": "code",
   "execution_count": null,
   "metadata": {
    "collapsed": true
   },
   "outputs": [],
   "source": []
  }
 ],
 "metadata": {
  "kernelspec": {
   "display_name": "Python [conda env:pytorch]",
   "language": "python",
   "name": "conda-env-pytorch-py"
  },
  "language_info": {
   "codemirror_mode": {
    "name": "ipython",
    "version": 3
   },
   "file_extension": ".py",
   "mimetype": "text/x-python",
   "name": "python",
   "nbconvert_exporter": "python",
   "pygments_lexer": "ipython3",
   "version": "3.6.2"
  }
 },
 "nbformat": 4,
 "nbformat_minor": 2
}
