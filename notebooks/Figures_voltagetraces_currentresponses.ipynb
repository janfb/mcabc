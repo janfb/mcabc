{
 "cells": [
  {
   "cell_type": "code",
   "execution_count": null,
   "metadata": {
    "collapsed": true
   },
   "outputs": [],
   "source": [
    "import matplotlib.pyplot as plt\n",
    "import matplotlib as mpl\n",
    "import numpy as np\n",
    "import os \n",
    "import pickle\n",
    "import sys \n",
    "import time\n",
    "import tqdm\n",
    "import pandas as pd\n",
    "\n",
    "from lfimodels.channelomics.ChannelSingle import ChannelSingle\n",
    "from lfimodels.channelomics.ChannelStats import ChannelStats\n",
    "%matplotlib inline"
   ]
  },
  {
   "cell_type": "code",
   "execution_count": null,
   "metadata": {
    "collapsed": true
   },
   "outputs": [],
   "source": [
    "mpl_params = {'legend.fontsize': 18,\n",
    "              'legend.frameon': False,\n",
    "                      'axes.titlesize': 18,\n",
    "                      'axes.labelsize': 16,\n",
    "                      'xtick.labelsize': 14,\n",
    "                      'ytick.labelsize': 14,\n",
    "             'figure.figsize' : (18, 5)}\n",
    "\n",
    "mpl.rcParams.update(mpl_params)"
   ]
  },
  {
   "cell_type": "markdown",
   "metadata": {},
   "source": [
    "## Voltage-clamp protocol"
   ]
  },
  {
   "cell_type": "code",
   "execution_count": null,
   "metadata": {},
   "outputs": [],
   "source": [
    "prot = ['v_act','v_inact','v_deact','v_ap','v_ramp']\n",
    "p = 0\n",
    "protocols = \\\n",
    "pd.read_csv('~/Dropbox/Master/mackelab/code/lfi-models/lfimodels/channelomics/protocols/k_channels/'+prot[p]+'.dat',sep='\\t')\n",
    "\n",
    "protocols = protocols.drop(protocols.columns[-1],axis=1)\n",
    "\n",
    "# extract voltages and time\n",
    "protocols1 = protocols.values\n",
    "\n",
    "V = protocols1[:,1:].T\n",
    "t = protocols1[:,0]   # attention: time step varies, but we will assume that it is constant\n",
    "tstep = np.mean(np.diff(t)) # ms\n",
    "\n",
    "time_stamp = time.strftime('%Y%m%d%H%M_')"
   ]
  },
  {
   "cell_type": "code",
   "execution_count": null,
   "metadata": {},
   "outputs": [],
   "source": [
    "Vs = {}\n",
    "ts = {}\n",
    "\n",
    "for i, p in enumerate(prot): \n",
    "    protocols = pd.read_csv('~/Dropbox/Master/mackelab/code/lfi-models/lfimodels/channelomics/protocols/k_channels/'+prot[i]+'.dat',sep='\\t')\n",
    "    protocols = protocols.drop(protocols.columns[-1],axis=1)\n",
    "\n",
    "    # extract voltages and time\n",
    "    protocols1 = protocols.values\n",
    "\n",
    "    Vs[p] = protocols1[:,1:].T\n",
    "    ts[p] = protocols1[:,0]   # attention: time step varies, but we will assume that it is constant\n",
    "    "
   ]
  },
  {
   "cell_type": "code",
   "execution_count": null,
   "metadata": {},
   "outputs": [],
   "source": [
    "channel_type = 'kslow'"
   ]
  },
  {
   "cell_type": "code",
   "execution_count": null,
   "metadata": {},
   "outputs": [],
   "source": [
    "GT = {'kd': np.array([4, -63, 0.032, 15, 5, 0.5, 10, 40]),\n",
    "      'kslow': np.array([1, 35, 10, 3.3, 20])}\n",
    "LP = {'kd': [r'$M$', r'$V_T$', r'$R_{\\alpha}$', r'$th_{\\alpha}$', r'$q_{\\alpha}$', r'$R_{\\beta}$', r'$th_{\\beta}$', r'$q_{\\beta}$'],\n",
    "      'kslow': [r'$M$', r'$th_{p}$', r'$q_{p}$', r'$R_{\\tau}$', r'$q_{\\tau}$']}\n",
    "\n",
    "E_channel = {'kd': -90.0, 'kslow': -90.0}\n",
    "fact_inward = {'kd': 1, 'kslow': 1}\n",
    "\n",
    "cython = True\n",
    "\n",
    "gt = GT[channel_type]\n",
    "n_params = len(gt)\n",
    "labels_params = LP[channel_type]\n",
    "prior_lims = np.sort(np.concatenate((0.3 * gt.reshape(-1, 1), 1.3 * gt.reshape(-1, 1)), axis=1))"
   ]
  },
  {
   "cell_type": "code",
   "execution_count": null,
   "metadata": {
    "collapsed": true
   },
   "outputs": [],
   "source": [
    "# generate observed data\n",
    "n_params_obs = len(gt)\n",
    "m_obs = ChannelSingle(channel_type=channel_type, n_params=n_params_obs, cython=cython)\n",
    "s = ChannelStats(channel_type=channel_type)\n",
    "\n",
    "xo = m_obs.gen(gt.reshape(1,-1))\n",
    "xo_stats = s.calc(xo[0])"
   ]
  },
  {
   "cell_type": "code",
   "execution_count": null,
   "metadata": {},
   "outputs": [],
   "source": [
    "fig, ax = plt.subplots(3, 5, figsize=(18, 9), sharey='row', sharex='col', gridspec_kw = {'height_ratios':[1, 2, 2]})\n",
    "prot = ['v_act','v_inact','v_deact','v_ap','v_ramp']\n",
    "prot_labels = ['acitvation', 'inactivation', 'deactivation', 'action potentials', 'ramping']\n",
    "channel_types = ['kd', 'kslow']\n",
    "\n",
    "for ii, (k, v) in enumerate(Vs.items()): \n",
    "    \n",
    "    # set colors \n",
    "    num_levels = v.shape[0]\n",
    "    cm1 = mpl.cm.viridis\n",
    "    col1 = [cm1(1. * k / num_levels) for k in range(num_levels)]\n",
    "    \n",
    "    ax[0, ii].set_title(prot_labels[ii])\n",
    "    ax[2, ii].set_xlabel('time [ms]')\n",
    "    \n",
    "    plt.sca(ax[0, ii])\n",
    "    for jj, subv in enumerate(v):\n",
    "        plt.plot(ts[k], subv, color='r')\n",
    "    \n",
    "    \n",
    "    for ci, ch in enumerate(channel_types): \n",
    "        n_params_obs = len(gt)\n",
    "        m_obs = ChannelSingle(channel_type=ch, n_params=n_params_obs, cython=cython)\n",
    "        s = ChannelStats(channel_type=ch)\n",
    "        gt = GT[ch]\n",
    "        \n",
    "        xo = m_obs.gen(gt.reshape(1,-1))\n",
    "        xo_stats = s.calc(xo[0])\n",
    "        I = xo[0][0][prot[ii]]['data']\n",
    "        t = xo[0][0][prot[ii]]['time']    \n",
    "\n",
    "        plt.sca(ax[ci + 1, ii])\n",
    "        for j in range(num_levels):\n",
    "            plt.plot(t, xo[0][0][prot[ii]]['data'][j,], color = col1[j], lw=2)\n",
    "    \n",
    "ax[0, 0].set_ylabel('voltage [mV]')\n",
    "ax[1, 0].set_ylabel('norm. current')\n",
    "ax[2, 0].set_ylabel('norm. current')\n",
    "plt.tight_layout()"
   ]
  },
  {
   "cell_type": "code",
   "execution_count": null,
   "metadata": {
    "collapsed": true
   },
   "outputs": [],
   "source": [
    "fn = time_stamp + 'voltageprots_currentraces_bothchannels.png'.format(channel_type)\n",
    "fig.savefig(os.path.join('../figures', fn), dpi=300)"
   ]
  },
  {
   "cell_type": "code",
   "execution_count": null,
   "metadata": {
    "collapsed": true
   },
   "outputs": [],
   "source": []
  }
 ],
 "metadata": {
  "kernelspec": {
   "display_name": "Python [conda env:mackelab]",
   "language": "python",
   "name": "conda-env-mackelab-py"
  },
  "language_info": {
   "codemirror_mode": {
    "name": "ipython",
    "version": 3
   },
   "file_extension": ".py",
   "mimetype": "text/x-python",
   "name": "python",
   "nbconvert_exporter": "python",
   "pygments_lexer": "ipython3",
   "version": "3.6.2"
  }
 },
 "nbformat": 4,
 "nbformat_minor": 2
}
