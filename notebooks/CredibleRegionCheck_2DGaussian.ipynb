{
 "cells": [
  {
   "cell_type": "code",
   "execution_count": null,
   "metadata": {
    "collapsed": true
   },
   "outputs": [],
   "source": [
    "import matplotlib.pyplot as plt\n",
    "import numpy as np\n",
    "import scipy\n",
    "import sys\n",
    "\n",
    "sys.path.append('../../')\n",
    "from model_comparison.utils import *\n",
    "from model_comparison.mdns import Trainer, MultivariateMogMDN, PytorchMultivariateMoG\n",
    "\n",
    "import matplotlib as mpl\n",
    "mpl.rcParams['axes.titlesize'] = 20\n",
    "mpl.rcParams['axes.labelsize'] = 15\n",
    "mpl.rcParams['ytick.labelsize'] = 12\n",
    "mpl.rcParams['xtick.labelsize'] = 12\n",
    "mpl.rcParams['legend.fontsize'] = 12\n",
    "mpl.rcParams['figure.figsize'] = (15, 5)\n",
    "\n",
    "%matplotlib inline"
   ]
  },
  {
   "cell_type": "code",
   "execution_count": null,
   "metadata": {},
   "outputs": [],
   "source": [
    "# generate 2D Gaussian test data \n",
    "ntest = 10\n",
    "sample_size = 1000\n",
    "prior = scipy.stats.multivariate_normal(mean=[0, 0], cov=1)\n",
    "thetas = prior.rvs(ntest)"
   ]
  },
  {
   "cell_type": "code",
   "execution_count": null,
   "metadata": {},
   "outputs": [],
   "source": [
    "qis = []\n",
    "\n",
    "for th in thetas: \n",
    "    # get x \n",
    "    model = scipy.stats.multivariate_normal(mean=th, cov=1)\n",
    "    x = model.rvs(size=sample_size)\n",
    "    # get posterior \n",
    "    sigma_0 = prior.cov\n",
    "    mu_0 = prior.mean\n",
    "    sigma = model.cov\n",
    "    sigma_N = np.linalg.inv(np.linalg.inv(sigma_0) + sample_size * np.linalg.inv(sigma))\n",
    "    mu_N = sigma_N.dot(sample_size * np.linalg.inv(sigma).dot(x.mean(axis=0)) + np.linalg.inv(sigma_0).dot(mu_0))\n",
    "    post = scipy.stats.multivariate_normal(mean=mu_N, cov=sigma_N)\n",
    "    p1 = scipy.stats.norm(loc=mu_N[0], scale=sigma_N[0, 0])\n",
    "    p2 = scipy.stats.norm(loc=mu_N[1], scale=sigma_N[1, 1])\n",
    "    qis.append(post.cdf(th))"
   ]
  },
  {
   "cell_type": "code",
   "execution_count": null,
   "metadata": {},
   "outputs": [],
   "source": [
    "plt.hist(qis, bins='auto');"
   ]
  },
  {
   "cell_type": "markdown",
   "metadata": {},
   "source": [
    "## Quantile distribution under the same distribution in 1D and in 2D"
   ]
  },
  {
   "cell_type": "code",
   "execution_count": null,
   "metadata": {},
   "outputs": [],
   "source": [
    "# 1D \n",
    "fig, ax = plt.subplots(1, 2, sharex=True, figsize=(10, 3))\n",
    "var1 = scipy.stats.norm(loc=0, scale=1)\n",
    "samples = var1.rvs(100000)\n",
    "quantiles = var1.cdf(samples)\n",
    "ax[0].set_title('1D Quantile distribution')\n",
    "ax[0].hist(quantiles, bins='auto');\n",
    "# 2D \n",
    "var2 = scipy.stats.multivariate_normal(mean=[0, 0], cov=1)\n",
    "samples = var2.rvs(100000)\n",
    "quantiles = var2.cdf(samples)\n",
    "ax[1].set_title('2D Quantile distribution')\n",
    "ax[1].hist(quantiles, bins='auto');"
   ]
  },
  {
   "cell_type": "code",
   "execution_count": null,
   "metadata": {},
   "outputs": [],
   "source": [
    "fig, ax = plt.subplots(2, 2, sharex='col', sharey=False, figsize=(10, 6))\n",
    "\n",
    "pos1 = np.linspace(-5, 5, 100)\n",
    "pos2 = np.vstack((x1.flatten(), x2.flatten())).T\n",
    "\n",
    "\n",
    "ax[0, 0].plot(pos1, var1.pdf(x=pos1))\n",
    "ax[0, 0].set_title('1D pdf')\n",
    "ax[0, 1].plot(pos1, var1.cdf(x=pos1))\n",
    "ax[0, 1].set_title('1D cdf')\n",
    "\n",
    "x1, x2 = np.meshgrid(pos1, pos1)\n",
    "ax[1, 0].imshow(var2.pdf(pos2).reshape(100, 100), origin='lower', interpolation='none', \n",
    "               extent=[pos1.min(), pos1.max(), pos1.min(), pos1.max()])\n",
    "ax[1, 0].set_title('2D pdf')\n",
    "ax[1, 1].imshow(var2.cdf(pos2).reshape(100, 100), origin='lower', interpolation='none', \n",
    "               extent=[pos1.min(), pos1.max(), pos1.min(), pos1.max()]);\n",
    "ax[1, 1].set_title('2D cdf');"
   ]
  },
  {
   "cell_type": "code",
   "execution_count": null,
   "metadata": {},
   "outputs": [],
   "source": [
    "# 1D \n",
    "fig, ax = plt.subplots(1, 2, sharex=True, figsize=(10, 3))\n",
    "var1 = scipy.stats.binom(5, 0.1)\n",
    "samples = var1.rvs(10000)\n",
    "pdf = var1.pmf(samples)\n",
    "quantiles = np.cumsum(pdf) / np.max(np.cumsum(pdf))\n",
    "ax[0].set_title('1D Quantile distribution')\n",
    "ax[0].hist(quantiles, bins='auto');\n",
    "# 2D \n",
    "var2 = scipy.stats.multinomial(n=5, p=[0.2, 0.8])\n",
    "samples = var2.rvs(10000)\n",
    "pdf = var2.pmf(samples)\n",
    "quantiles = np.cumsum(pdf) / np.max(np.cumsum(pdf))\n",
    "ax[1].set_title('2D Quantile distribution')\n",
    "ax[1].hist(quantiles, bins='auto');"
   ]
  },
  {
   "cell_type": "code",
   "execution_count": null,
   "metadata": {
    "collapsed": true
   },
   "outputs": [],
   "source": []
  }
 ],
 "metadata": {
  "kernelspec": {
   "display_name": "Python [conda env:mackelab]",
   "language": "python",
   "name": "conda-env-mackelab-py"
  },
  "language_info": {
   "codemirror_mode": {
    "name": "ipython",
    "version": 3
   },
   "file_extension": ".py",
   "mimetype": "text/x-python",
   "name": "python",
   "nbconvert_exporter": "python",
   "pygments_lexer": "ipython3",
   "version": "3.6.2"
  }
 },
 "nbformat": 4,
 "nbformat_minor": 2
}
