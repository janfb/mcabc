{
 "cells": [
  {
   "cell_type": "code",
   "execution_count": null,
   "metadata": {
    "collapsed": true
   },
   "outputs": [],
   "source": [
    "import matplotlib.pyplot as plt\n",
    "import matplotlib as mpl\n",
    "import numpy as np\n",
    "import os \n",
    "import pickle\n",
    "import sys \n",
    "import time\n",
    "\n",
    "sys.path.append('../../')\n",
    "from model_comparison.utils import *\n",
    "from model_comparison.mdns import ClassificationSingleLayerMDN, Trainer, UnivariateMogMDN\n",
    "from model_comparison.models import PoissonModel, NegativeBinomialModel\n",
    "%matplotlib inline"
   ]
  },
  {
   "cell_type": "code",
   "execution_count": null,
   "metadata": {
    "collapsed": true
   },
   "outputs": [],
   "source": [
    "mpl_params = {'legend.fontsize': 18,\n",
    "              'legend.frameon': False,\n",
    "                      'axes.titlesize': 21,\n",
    "                      'axes.labelsize': 19,\n",
    "                      'xtick.labelsize': 15,\n",
    "                      'ytick.labelsize': 15,\n",
    "             'figure.figsize' : (18, 5)}\n",
    "\n",
    "mpl.rcParams.update(mpl_params)"
   ]
  },
  {
   "cell_type": "markdown",
   "metadata": {},
   "source": [
    "## Visualizyng the difficulty scaling"
   ]
  },
  {
   "cell_type": "code",
   "execution_count": null,
   "metadata": {
    "collapsed": true
   },
   "outputs": [],
   "source": [
    "seed = 4\n",
    "rng = np.random.RandomState(seed=seed)"
   ]
  },
  {
   "cell_type": "code",
   "execution_count": null,
   "metadata": {
    "collapsed": true
   },
   "outputs": [],
   "source": [
    "sample_size = 100\n",
    "ntrain = 1000\n",
    "\n",
    "# fix params for lambda and theta\n",
    "theta1 = 1.0\n",
    "\n",
    "k3 = 2.\n",
    "theta3 = 2.0\n",
    "\n",
    "theta2 = 1.\n",
    "\n",
    "model_poisson = PoissonModel(sample_size=sample_size, seed=seed, n_workers=1)\n",
    "model_nb = NegativeBinomialModel(sample_size=sample_size, seed=seed, n_workers=1)"
   ]
  },
  {
   "cell_type": "markdown",
   "metadata": {},
   "source": [
    "## Match the means and increase $k_2$ to increase the variance in NB"
   ]
  },
  {
   "cell_type": "code",
   "execution_count": null,
   "metadata": {
    "collapsed": true
   },
   "outputs": [],
   "source": [
    "k2s = np.linspace(1, 5, 5)\n",
    "nb_means = np.zeros(k2s.size)\n",
    "k1s = np.zeros_like(k2s)\n",
    "poi_means = np.zeros(k2s.size)\n",
    "nb_vars = np.zeros(k2s.size)\n",
    "poi_vars = np.zeros(k2s.size)"
   ]
  },
  {
   "cell_type": "code",
   "execution_count": null,
   "metadata": {},
   "outputs": [],
   "source": [
    "plt.figure(figsize=(18, 10))\n",
    "\n",
    "for ii, k2 in enumerate(k2s): \n",
    "    k1 = (k2 * theta2 * k3 * theta3) / theta1\n",
    "    k1s[ii] = k1\n",
    "    \n",
    "    # from Gamma prior for Poisson \n",
    "    params_poi = rng.gamma(shape=k1, scale=theta1, size=int(ntrain / 2))\n",
    "\n",
    "    # from two Gamma priors for indirect Poisson-Gamma Sampling.\n",
    "    params_nb = np.vstack((rng.gamma(shape=k2, scale=theta2, size=int(ntrain / 2)), \n",
    "                           rng.gamma(shape=k3, scale=theta3, size=int(ntrain / 2)))).T\n",
    "        \n",
    "    data_poi = model_poisson.gen(params_poi)\n",
    "    data_nb = model_nb.gen(params_nb)\n",
    "    \n",
    "    plt.subplot(2, 5, ii + 1)\n",
    "    n_bins = 20\n",
    "    n, bins, patches = plt.hist(data_nb.mean(axis=1), color='C0', label='NB', bins=n_bins)\n",
    "    plt.hist(data_poi.mean(axis=1), color='C1', label='Poisson', bins=bins)\n",
    "    plt.axvline(x=data_nb.mean(axis=1).mean(), color='k', label='means')\n",
    "    plt.axvline(x=data_poi.mean(axis=1).mean(), color='k')\n",
    "    if ii==0: \n",
    "        plt.title(r'Sample means, $k_2={}$'.format(k2))\n",
    "        plt.ylabel('counts')\n",
    "        plt.legend()\n",
    "    else: \n",
    "        plt.title(r'$k_2={}$'.format(k2))    \n",
    "    \n",
    "    plt.subplot(2, 5, ii + 6)        \n",
    "    n, bins, patches = plt.hist(data_nb.var(axis=1), color='C0', label='NB', bins=n_bins)\n",
    "    plt.hist(data_poi.var(axis=1), color='C1', label='Poisson', bins=bins)\n",
    "    plt.axvline(x=data_nb.var(axis=1).mean(), color='k', label='means')\n",
    "    plt.axvline(x=data_poi.var(axis=1).mean(), color='k')\n",
    "        \n",
    "        \n",
    "    if ii == 0: \n",
    "        plt.title(r'Sample variances, $k_2={}$'.format(k2))\n",
    "        plt.ylabel('counts')\n",
    "        plt.legend()\n",
    "    else: \n",
    "        plt.title(r'$k_2={}$'.format(k2))\n",
    "        \n",
    "    # expected means and variances \n",
    "    nb_means[ii] = data_nb.mean(axis=1).mean()\n",
    "    nb_vars[ii] = data_nb.var(axis=1).mean()\n",
    "    poi_means[ii] = data_poi.mean(axis=1).mean()\n",
    "    poi_vars[ii] = data_poi.var(axis=1).mean()"
   ]
  },
  {
   "cell_type": "markdown",
   "metadata": {},
   "source": [
    "## Make sure to set the hyperparameters accordingly\n",
    "\n",
    "This produces figure 4.3 in the thesis"
   ]
  },
  {
   "cell_type": "code",
   "execution_count": null,
   "metadata": {},
   "outputs": [],
   "source": [
    "expvar = k2s * k3 * theta2 * theta3 * (1 + k3 * theta3 + theta3)\n",
    "\n",
    "plt.subplot(121)\n",
    "plt.plot(k2s, nb_means - poi_means, '-o', label='average sample mean')\n",
    "plt.plot(k2s, nb_vars - poi_vars, '-o', label='average sample variance')\n",
    "\n",
    "plt.xlabel(r'$k_2$')\n",
    "plt.ylabel('difference NB - Poisson')\n",
    "plt.legend()\n",
    "plt.title(r'Effect of $k_2$ on overdispersion')\n",
    "\n",
    "\n",
    "plt.subplot(122)\n",
    "plt.title('Increased $\\mathbf{E}[\\sigma_{NB}^2]$ comes with increased Poisson rate')\n",
    "plt.title('Dependence of NB variance on Poisson rate')\n",
    "plt.plot(nb_vars, k1s * theta1, '-o', label=r'mean of Gamma prior: $k_1 \\theta_1$')\n",
    "plt.ylabel(r'expected rate $\\mathbf{E}[\\mu_{Poi}]$')\n",
    "plt.xlabel(r'expected variance $\\mathbf{E}[\\sigma_{NB}^2]$')\n",
    "\n",
    "plt.tight_layout();\n",
    "plt.savefig('../figures/effect_of_k2_on_stats.png', dpi=300)"
   ]
  },
  {
   "cell_type": "code",
   "execution_count": null,
   "metadata": {},
   "outputs": [],
   "source": [
    "expvar = k2s * k3 * theta2 * theta3 * (1 + k3 * theta3 + theta3)\n",
    "plt.plot(nb_vars, k1s * theta1, '-o', label=r'mean of Gamma prior on Poisson rate: $k_1 \\theta_1$')\n",
    "plt.plot(nb_vars, k2s, '-o', label=r'$k2$')\n",
    "plt.legend()\n",
    "plt.title('Increasing $k2$ is compensated by increased Poisson rate to match the means')\n",
    "plt.xlabel(r'expected variance $\\mathbb{E}[\\sigma_{NB}^2] \\sim k2$');"
   ]
  },
  {
   "cell_type": "markdown",
   "metadata": {},
   "source": [
    "## Network performance visualization "
   ]
  },
  {
   "cell_type": "code",
   "execution_count": null,
   "metadata": {
    "collapsed": true
   },
   "outputs": [],
   "source": [
    "def plot_nn_visulatization(d, ax, xmax, ymax, cbar=False):\n",
    "    model = d['model_models']\n",
    "    norm = d['training_norm']\n",
    "    x, y = np.meshgrid(np.linspace(0, xmax, 100), np.linspace(0, ymax, 100))\n",
    "\n",
    "    ppoi_mat = np.zeros((x.shape[0], y.shape[0]))\n",
    "\n",
    "    for i in range(x.shape[0]): \n",
    "        for j in range(x.shape[0]): \n",
    "            stats_o, norm = normalize(np.array([x[i, j], y[i, j]]), norm)\n",
    "            posterior_probs = model(Variable(torch.Tensor(stats_o.reshape(1, -1)))).data.numpy().squeeze()\n",
    "            # in this vector, index 0 is Poi, index 1 is NB\n",
    "            ppoi_mat[i, j] = posterior_probs[0]\n",
    "    \n",
    "    testSX = d['sx_test']\n",
    "    ppoi_ana = d['ppoi_exact']\n",
    "    n_samples = d['n_samples']\n",
    "    \n",
    "    cnorm = mpl.colors.Normalize(vmin=0, vmax=1)\n",
    "    cmap = plt.cm.viridis\n",
    "\n",
    "    ax.scatter(x=testSX[:, 0], y=testSX[:, 1], c=ppoi_ana, cmap=cmap, norm=cnorm, edgecolors='r', linewidths=0.5)\n",
    "\n",
    "    cax = ax.imshow(ppoi_mat, origin='lower', aspect='auto', \n",
    "                    norm=cnorm, cmap=cmap, extent=[x.min(), x.max(), y.min(), y.max()])\n",
    "    ax.set_xlabel('Sample mean')\n",
    "    ax.set_ylabel('Sample variance')\n",
    "    if cbar: \n",
    "        plt.colorbar(cax, ax=ax, label=r'$P(M_{Poisson} | x)$', pad=0.02)\n",
    "    ax.legend(['Exact posterior probabilities'], frameon=True)"
   ]
  },
  {
   "cell_type": "markdown",
   "metadata": {},
   "source": [
    "### Load results"
   ]
  },
  {
   "cell_type": "code",
   "execution_count": null,
   "metadata": {
    "collapsed": true
   },
   "outputs": [],
   "source": [
    "folder = '../data/'\n",
    "fn_difficult = '201803220946_toy_example_results_N100000M10_k21.0.p'\n",
    "fn_easy = '201803211432_toy_example_results_N100000M10_k220.0.p'\n",
    "\n",
    "with open(os.path.join(folder, fn_difficult), 'rb') as f: \n",
    "    d_didd = pickle.load(f)\n",
    "    \n",
    "with open(os.path.join(folder, fn_easy), 'rb') as f: \n",
    "    d_easy = pickle.load(f)\n"
   ]
  },
  {
   "cell_type": "code",
   "execution_count": null,
   "metadata": {},
   "outputs": [],
   "source": [
    "d_didd.keys()"
   ]
  },
  {
   "cell_type": "code",
   "execution_count": null,
   "metadata": {},
   "outputs": [],
   "source": [
    "fig, (ax1, ax2) = plt.subplots(1, 2, figsize=(18, 5), sharey=False)\n",
    "plot_nn_visulatization(d_didd['model_post'], ax1, xmax=20, ymax=100, cbar=True)\n",
    "ax1.set_title('Small overdispersion, $k_2=1$')\n",
    "\n",
    "plot_nn_visulatization(d_easy['model_post'], ax2, xmax=200, ymax=500, cbar=True)\n",
    "ax2.set_title('Large overdispersion, $k_2=20$')\n",
    "fig.tight_layout()"
   ]
  },
  {
   "cell_type": "code",
   "execution_count": null,
   "metadata": {
    "collapsed": true
   },
   "outputs": [],
   "source": [
    "n_samples = d_didd['model_post']['n_samples']\n",
    "time_stamp = time.strftime('%Y%m%d%H%M_')\n",
    "fn = time_stamp + '_network_visualization_M{}N{}'.format(sample_size, n_samples) + '.png'\n",
    "folder = '../figures/'\n",
    "fig.savefig(os.path.join(folder, fn), dpi=300)"
   ]
  },
  {
   "cell_type": "code",
   "execution_count": null,
   "metadata": {},
   "outputs": [],
   "source": [
    "k2"
   ]
  },
  {
   "cell_type": "code",
   "execution_count": null,
   "metadata": {},
   "outputs": [],
   "source": [
    "k1 = 10\n",
    "k2 = 7\n",
    "rng.gamma(shape=k1, scale=theta1)"
   ]
  },
  {
   "cell_type": "code",
   "execution_count": null,
   "metadata": {
    "collapsed": true
   },
   "outputs": [],
   "source": [
    "model_poisson = PoissonModel(sample_size=1000, seed=seed)\n",
    "model_nb = NegativeBinomialModel(sample_size=1000, seed=seed)"
   ]
  },
  {
   "cell_type": "code",
   "execution_count": null,
   "metadata": {},
   "outputs": [],
   "source": [
    "d1 = model_poisson.gen([rng.gamma(shape=k1, scale=theta1)])[0]\n",
    "d2 = model_nb.gen([[rng.gamma(shape=k2, scale=theta2), rng.gamma(shape=k2, scale=theta2)]])[0]\n",
    "d1.mean(), d2.mean()"
   ]
  },
  {
   "cell_type": "code",
   "execution_count": null,
   "metadata": {},
   "outputs": [],
   "source": [
    "fig, ax = plt.subplots(1, 2, figsize=(18, 5), sharey=True, sharex=True)\n",
    "\n",
    "alp = 0.7\n",
    "n, bins, p = ax[1].hist(d2, bins='auto', color='C2', alpha=alp)\n",
    "ax[1].set_title('Data from the NB model')\n",
    "ax[1].axvline(x=d2.mean(), color='C3', label='sample mean')\n",
    "ax[1].legend();\n",
    "\n",
    "ax[0].hist(d1, bins=bins, color='C0', alpha=alp)\n",
    "ax[0].set_title('Data from the Poisson model')\n",
    "ax[0].set_ylabel('histogram counts')\n",
    "ax[0].set_xlabel('event counts')\n",
    "ax[1].set_xlabel('event counts')\n",
    "ax[0].axvline(x=d1.mean(), color='C1', label='sample mean')\n",
    "ax[0].legend()\n",
    "fig.tight_layout();"
   ]
  },
  {
   "cell_type": "code",
   "execution_count": null,
   "metadata": {
    "collapsed": true
   },
   "outputs": [],
   "source": [
    "fig.savefig('../figures/poisson_nb_sample_example.png', dpi=300)"
   ]
  },
  {
   "cell_type": "markdown",
   "metadata": {},
   "source": [
    "## Figure 4.2 in the thesis\n",
    "Note: here the data from above is used, so make sure to set k1 and k2 accordingly. \n",
    "\n",
    "E.g., such that the Poisson distributions match. "
   ]
  },
  {
   "cell_type": "code",
   "execution_count": null,
   "metadata": {},
   "outputs": [],
   "source": [
    "fig2, ax = plt.subplots(1, 2, figsize=(18, 5), sharey=True, sharex=False)\n",
    "\n",
    "alp = 0.7\n",
    "n, bins, p = ax[0].hist(data_poi.mean(axis=1), bins='auto', label='sample means', alpha=alp)\n",
    "ax[0].hist(data_poi.var(axis=1), bins=bins, label='sample variances', alpha=alp)\n",
    "ax[0].set_title('Poisson sample means and variances')\n",
    "ax[0].set_ylabel('histrogram counts')\n",
    "ax[0].axvline(x=data_poi.mean(), linestyle='--', color='C0', label='average sample mean')\n",
    "ax[0].axvline(x=data_poi.var(axis=1).mean(), linestyle='--', color='C1', label='average sample variance')\n",
    "ax[0].legend()\n",
    "\n",
    "n, bins, p = ax[1].hist(data_nb.mean(axis=1), bins='auto', color='C2', label='sample means', alpha=alp)\n",
    "n1, bins, p = ax[1].hist(data_nb.var(axis=1), bins=bins, color='C3', label='sample variances', alpha=alp)\n",
    "ax[1].set_title('NB sample means and variances')\n",
    "ax[1].axvline(data_nb.mean(), linestyle='--', color='C2', label='average sample mean')\n",
    "vs = data_nb.var(axis=1)\n",
    "vs.sort()\n",
    "ax[1].axvline(vs[:int(n1.sum())].mean(), linestyle='--', color='C3', label='average sample variance')\n",
    "ax[1].legend()\n",
    "ax[1].set_xlabel('event counts')\n",
    "ax[0].set_xlabel('event counts')\n",
    "\n",
    "\n",
    "fig2.tight_layout();"
   ]
  },
  {
   "cell_type": "code",
   "execution_count": null,
   "metadata": {
    "collapsed": true
   },
   "outputs": [],
   "source": [
    "fig2.savefig('../figures/poisson_nb_stats_example.png', dpi=300)"
   ]
  },
  {
   "cell_type": "code",
   "execution_count": null,
   "metadata": {
    "collapsed": true
   },
   "outputs": [],
   "source": []
  }
 ],
 "metadata": {
  "kernelspec": {
   "display_name": "Python [default]",
   "language": "python",
   "name": "python3"
  },
  "language_info": {
   "codemirror_mode": {
    "name": "ipython",
    "version": 3
   },
   "file_extension": ".py",
   "mimetype": "text/x-python",
   "name": "python",
   "nbconvert_exporter": "python",
   "pygments_lexer": "ipython3",
   "version": "3.6.2"
  }
 },
 "nbformat": 4,
 "nbformat_minor": 2
}
