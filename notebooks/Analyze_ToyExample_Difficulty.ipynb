{
 "cells": [
  {
   "cell_type": "code",
   "execution_count": null,
   "metadata": {},
   "outputs": [],
   "source": [
    "import matplotlib.pyplot as plt\n",
    "import matplotlib as mpl\n",
    "import numpy as np\n",
    "import sys \n",
    "\n",
    "sys.path.append('../../')\n",
    "from model_comparison.utils import *\n",
    "from model_comparison.mdns import ClassificationSingleLayerMDN, Trainer, UnivariateMogMDN\n",
    "from model_comparison.models import PoissonModel, NegativeBinomialModel\n",
    "%matplotlib inline"
   ]
  },
  {
   "cell_type": "code",
   "execution_count": null,
   "metadata": {},
   "outputs": [],
   "source": [
    "mpl_params = {'legend.fontsize': 15,\n",
    "                      'axes.titlesize': 20,\n",
    "                      'axes.labelsize': 17,\n",
    "                      'xtick.labelsize': 12,\n",
    "                      'ytick.labelsize': 12,\n",
    "             'figure.figsize' : (18, 5)}\n",
    "\n",
    "mpl.rcParams.update(mpl_params)"
   ]
  },
  {
   "cell_type": "code",
   "execution_count": null,
   "metadata": {},
   "outputs": [],
   "source": [
    "seed = 1\n",
    "rng = np.random.RandomState(seed=seed)"
   ]
  },
  {
   "cell_type": "code",
   "execution_count": null,
   "metadata": {},
   "outputs": [],
   "source": [
    "sample_size = 100\n",
    "ntrain = 1000\n",
    "\n",
    "# fix params for lambda and theta\n",
    "theta1 = 9.0\n",
    "\n",
    "k3 = 2.\n",
    "theta3 = 2.0\n",
    "\n",
    "theta2 = 1\n",
    "\n",
    "model_poisson = PoissonModel(sample_size=sample_size, seed=seed, n_workers=1)\n",
    "model_nb = NegativeBinomialModel(sample_size=sample_size, seed=seed, n_workers=1)"
   ]
  },
  {
   "cell_type": "markdown",
   "metadata": {},
   "source": [
    "## Match the means and increase $k2$ to increase the variance in NB"
   ]
  },
  {
   "cell_type": "code",
   "execution_count": null,
   "metadata": {},
   "outputs": [],
   "source": [
    "k2s = np.linspace(1, 20, 5)\n",
    "nb_means = np.zeros(k2s.size)\n",
    "k1s = np.zeros_like(k2s)\n",
    "poi_means = np.zeros(k2s.size)\n",
    "nb_vars = np.zeros(k2s.size)\n",
    "poi_vars = np.zeros(k2s.size)\n",
    "\n",
    "plt.figure(figsize=(18, 10))\n",
    "\n",
    "for ii, k2 in enumerate(k2s): \n",
    "    k1 = (k2 * theta2 * k3 * theta3) / theta1\n",
    "    k1s[ii] = k1\n",
    "    \n",
    "    # from Gamma prior for Poisson \n",
    "    params_poi = rng.gamma(shape=k1, scale=theta1, size=int(ntrain / 2))\n",
    "\n",
    "    # from two Gamma priors for indirect Poisson-Gamma Sampling.\n",
    "    params_nb = np.vstack((rng.gamma(shape=k2, scale=theta2, size=int(ntrain / 2)), \n",
    "                           rng.gamma(shape=k3, scale=theta3, size=int(ntrain / 2)))).T\n",
    "        \n",
    "    data_poi = model_poisson.gen(params_poi)\n",
    "    data_nb = model_nb.gen(params_nb)\n",
    "    \n",
    "    plt.subplot(2, 5, ii + 1)\n",
    "    plt.hist(data_nb.mean(axis=1), color='C0', label='nb', bins=50)\n",
    "    plt.hist(data_poi.mean(axis=1), color='C1', label='poi', bins=50)\n",
    "    plt.axvline(x=data_nb.mean(axis=1).mean(), color='r')\n",
    "    plt.axvline(x=data_poi.mean(axis=1).mean(), color='r')\n",
    "    if ii==0: \n",
    "        plt.title('Sample means, k2={}'.format(k2))\n",
    "        plt.ylabel('counts')\n",
    "    else: \n",
    "        plt.title('k2={}'.format(k2))    \n",
    "    plt.legend()\n",
    "    \n",
    "    plt.subplot(2, 5, ii + 6)\n",
    "    if ii == 0: \n",
    "        plt.title('Sample variances, k2={}'.format(k2))\n",
    "        plt.ylabel('counts')\n",
    "    else: \n",
    "        plt.title('k2={}'.format(k2))    \n",
    "        \n",
    "    plt.hist(data_nb.var(axis=1), color='C0', label='nb', bins=50)\n",
    "    plt.hist(data_poi.var(axis=1), color='C1', label='poi', bins=50)\n",
    "    plt.axvline(x=data_nb.var(axis=1).mean(), color='r')\n",
    "    plt.axvline(x=data_poi.var(axis=1).mean(), color='r')\n",
    "    plt.legend()\n",
    "        \n",
    "    # expected means and variances \n",
    "    nb_means[ii] = data_nb.mean(axis=1).mean()\n",
    "    nb_vars[ii] = data_nb.var(axis=1).mean()\n",
    "    poi_means[ii] = data_poi.mean(axis=1).mean()\n",
    "    poi_vars[ii] = data_poi.var(axis=1).mean()"
   ]
  },
  {
   "cell_type": "code",
   "execution_count": null,
   "metadata": {},
   "outputs": [],
   "source": [
    "expvar = k2s * k3 * theta2 * theta3 * (1 + k3 * theta3 + theta3)\n",
    "\n",
    "plt.plot(expvar, nb_means, '-o', label='mean sample mean NB')\n",
    "plt.plot(expvar, poi_means, '-o', label='mean sample mean Poisson')\n",
    "\n",
    "plt.plot(expvar, poi_vars, '-o', label='mean sample variance Poi')\n",
    "plt.plot(expvar, nb_vars, '-o', label='mean sample variance NB')\n",
    "\n",
    "plt.xlabel(r'expected variance $\\mathbf{E}[\\sigma_{NB}ˆ2] \\sim k2$')\n",
    "plt.legend()\n",
    "plt.title(r'Expected variance scales with $k2$');"
   ]
  },
  {
   "cell_type": "code",
   "execution_count": null,
   "metadata": {},
   "outputs": [],
   "source": [
    "expvar = k2s * k3 * theta2 * theta3 * (1 + k3 * theta3 + theta3)\n",
    "plt.plot(nb_vars, k1s * theta1, '-o', label=r'mean of Gamma prior on Poisson rate: $k_1 \\theta_1$')\n",
    "plt.plot(nb_vars, k2s, '-o', label=r'$k2$')\n",
    "plt.legend()\n",
    "plt.title('Increasing $k2$ is compensated by increased Poisson rate to match the means')\n",
    "plt.xlabel(r'expected variance $\\mathbf{E}[\\sigma_{NB}ˆ2] \\sim k2$');"
   ]
  },
  {
   "cell_type": "code",
   "execution_count": null,
   "metadata": {},
   "outputs": [],
   "source": []
  }
 ],
 "metadata": {
  "kernelspec": {
   "display_name": "Python 3",
   "language": "python",
   "name": "python3"
  },
  "language_info": {
   "codemirror_mode": {
    "name": "ipython",
    "version": 3
   },
   "file_extension": ".py",
   "mimetype": "text/x-python",
   "name": "python",
   "nbconvert_exporter": "python",
   "pygments_lexer": "ipython3",
   "version": "3.6.4"
  }
 },
 "nbformat": 4,
 "nbformat_minor": 2
}
