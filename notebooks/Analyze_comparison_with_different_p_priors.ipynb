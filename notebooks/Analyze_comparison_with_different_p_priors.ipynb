{
 "cells": [
  {
   "cell_type": "code",
   "execution_count": null,
   "metadata": {},
   "outputs": [],
   "source": [
    "import matplotlib.pyplot as plt\n",
    "import matplotlib as mpl\n",
    "import numpy as np\n",
    "import pickle\n",
    "\n",
    "import sys \n",
    "sys.path.append('../../')\n",
    "from model_comparison.utils import *\n",
    "\n",
    "%matplotlib inline\n",
    "import matplotlib as mpl\n",
    "mpl_params = {'legend.fontsize': 15,\n",
    "                      'axes.titlesize': 20,\n",
    "                      'axes.labelsize': 17,\n",
    "                      'xtick.labelsize': 12,\n",
    "                      'ytick.labelsize': 12,\n",
    "             'figure.figsize' : (18, 5)}\n",
    "\n",
    "mpl.rcParams.update(mpl_params)"
   ]
  },
  {
   "cell_type": "markdown",
   "metadata": {},
   "source": [
    "### Analyze single data file "
   ]
  },
  {
   "cell_type": "code",
   "execution_count": null,
   "metadata": {},
   "outputs": [],
   "source": [
    "filename = '201802241353_k1_2.0_th1_25.0_k2_2.0_th2_5.0_k3_1.0_th3_5_N100000M10'\n",
    "\n",
    "save_figure = True\n",
    "path_to_save_folder = '../figures/' + filename\n",
    "\n",
    "time_str = filename[:filename.find('_')]\n",
    "filename.find('_')\n",
    "fullname = os.path.join('../data/', filename + '.p')\n",
    "fullname"
   ]
  },
  {
   "cell_type": "code",
   "execution_count": null,
   "metadata": {},
   "outputs": [],
   "source": [
    "assert os.path.exists(fullname), 'path not found: {}. '.format(fullname)\n",
    "with open(fullname, 'rb') as handle:\n",
    "    result_dict = pickle.load(handle)\n",
    "result_dict.keys()"
   ]
  },
  {
   "cell_type": "code",
   "execution_count": null,
   "metadata": {},
   "outputs": [],
   "source": [
    "SX = result_dict['data']['SX']\n",
    "m = result_dict['data']['m']\n",
    "\n",
    "plt.scatter(SX[np.array(m) == 1, 0], SX[np.array(m)==1, 1], alpha=.5, label='NB')\n",
    "plt.scatter(SX[np.array(m) == 0, 0], SX[np.array(m)==0, 1], label='Poisson')\n",
    "plt.legend()\n",
    "plt.xlabel('Sample mean')\n",
    "plt.ylabel('Sample variance')\n",
    "plt.title('Training data distributions');"
   ]
  },
  {
   "cell_type": "code",
   "execution_count": null,
   "metadata": {},
   "outputs": [],
   "source": [
    "ppoi_predicted = result_dict['results']['ppoi_predicted']\n",
    "ppoi_ana = result_dict['results']['ppoi_ana']\n",
    "print(calculate_mse(ppoi_predicted, ppoi_ana))"
   ]
  },
  {
   "cell_type": "code",
   "execution_count": null,
   "metadata": {},
   "outputs": [],
   "source": [
    "plt.plot(ppoi_ana, 'o-', label='analytical')\n",
    "plt.plot(ppoi_predicted, '-o', label='predeicted')\n",
    "plt.legend();"
   ]
  },
  {
   "cell_type": "markdown",
   "metadata": {},
   "source": [
    "## Analyze set of data files"
   ]
  },
  {
   "cell_type": "code",
   "execution_count": null,
   "metadata": {},
   "outputs": [],
   "source": [
    "def get_params(filename): \n",
    "    \n",
    "    params = dict()\n",
    "\n",
    "    for p in ['k1', 'k2', 'k3', 'th1', 'th2', 'th3']: \n",
    "\n",
    "        i = filename.find(p + '_') + len(p) + 1\n",
    "        j = filename[i:].find('_') + i\n",
    "        params[p] = float(filename[i:j])\n",
    "\n",
    "    return params\n",
    "\n",
    "def get_dict(filename):\n",
    "    fullname = os.path.join('../data/', filename)\n",
    "    with open(fullname, 'rb') as handle:\n",
    "        result_dict = pickle.load(handle)\n",
    "    \n",
    "    return result_dict"
   ]
  },
  {
   "cell_type": "code",
   "execution_count": null,
   "metadata": {},
   "outputs": [],
   "source": [
    "file_selecter = 'M10.p'\n",
    "\n",
    "filelist = [f for f in os.listdir('../data/') if file_selecter in f]\n",
    "\n",
    "p_prior_scales = []\n",
    "mses = []\n",
    "p_priors = []\n",
    "mms_p = []\n",
    "mvs_p = []\n",
    "mms_nb = []\n",
    "mvs_nb = []\n",
    "\n",
    "for filename in filelist: \n",
    "    \n",
    "    params = get_params(filename)\n",
    "    result_dict = get_dict(filename)\n",
    "    \n",
    "    ppoi_predicted = result_dict['results']['ppoi_predicted']\n",
    "    ppoi_ana = result_dict['results']['ppoi_ana']\n",
    "    mses.append(calculate_mse(ppoi_predicted, ppoi_ana))\n",
    "    p_prior_scales.append(params['th3'])\n",
    "    p_priors.append(result_dict['priors']['prior_theta'])\n",
    "    \n",
    "    poi_mask = np.array(result_dict['data']['m']) == 0\n",
    "    \n",
    "    mms_p.append(result_dict['data']['SX'][poi_mask, 0].mean())\n",
    "    mvs_p.append(result_dict['data']['SX'][poi_mask, 1].mean())\n",
    "    mms_nb.append(result_dict['data']['SX'][np.logical_not(poi_mask), 0].mean())\n",
    "    mvs_nb.append(result_dict['data']['SX'][np.logical_not(poi_mask), 1].mean())\n",
    "    "
   ]
  },
  {
   "cell_type": "code",
   "execution_count": null,
   "metadata": {},
   "outputs": [],
   "source": [
    "cmap = mpl.colors.LogNorm(vmin=np.min(mses), vmax=np.max(mses))\n",
    "scalarMap = mpl.cm.ScalarMappable(norm=cmap, cmap='viridis')\n",
    "scalarMap.set_array([])\n",
    "\n",
    "values = np.linspace(1e-8, 1-1e-8, 1000)\n",
    "for prior_theta, mse in zip(p_priors, mses): \n",
    "    \n",
    "    def prior_p(p): return np.power(1-p, -2) * prior_theta.pdf(p / (1 - p))\n",
    "\n",
    "    plt.plot(values, prior_p(values), color=scalarMap.to_rgba(mse))\n",
    "plt.colorbar(scalarMap, label='MSE')\n",
    "plt.title('Priors on NB p and posterior prediction')\n",
    "plt.xlabel('p')\n",
    "plt.ylabel('density');"
   ]
  },
  {
   "cell_type": "code",
   "execution_count": null,
   "metadata": {},
   "outputs": [],
   "source": []
  }
 ],
 "metadata": {
  "kernelspec": {
   "display_name": "Python [conda env:pytorch]",
   "language": "python",
   "name": "conda-env-pytorch-py"
  },
  "language_info": {
   "codemirror_mode": {
    "name": "ipython",
    "version": 3
   },
   "file_extension": ".py",
   "mimetype": "text/x-python",
   "name": "python",
   "nbconvert_exporter": "python",
   "pygments_lexer": "ipython3",
   "version": "3.6.4"
  }
 },
 "nbformat": 4,
 "nbformat_minor": 2
}
