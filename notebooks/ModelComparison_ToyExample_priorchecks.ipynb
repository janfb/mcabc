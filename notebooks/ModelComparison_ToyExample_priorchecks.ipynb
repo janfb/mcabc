{
 "cells": [
  {
   "cell_type": "markdown",
   "metadata": {},
   "source": [
    "## Model index posterior prior checks \n",
    "\n",
    "Generate several test data sets with different model priors. Predict for each sample in the data set the model index and check whether the relative frequencies of predicted models matches the prior probability. Because this is the ground truth case we can also check the ground truth. \n",
    "\n",
    "This check is not suited so well for our task. This is because it checks whether the relative frequencies of the predictions (model 0, model 1) match. However, the objective of the method is to predict the posterior probability and not the actually correct model. Thus, this test should be based on the assumption that there is enough data available so that the true posterior probabilities will be very close 0 or 1 for the respective model. "
   ]
  },
  {
   "cell_type": "code",
   "execution_count": null,
   "metadata": {
    "collapsed": true
   },
   "outputs": [],
   "source": [
    "import matplotlib.pyplot as plt\n",
    "import matplotlib as mpl\n",
    "import numpy as np\n",
    "import os \n",
    "import pickle\n",
    "import sys \n",
    "import time\n",
    "import tqdm\n",
    "\n",
    "sys.path.append('../../')\n",
    "from model_comparison.utils import *\n",
    "from model_comparison.mdns import *\n",
    "from model_comparison.models import PoissonModel, NegativeBinomialModel\n",
    "%matplotlib inline"
   ]
  },
  {
   "cell_type": "code",
   "execution_count": null,
   "metadata": {
    "collapsed": true
   },
   "outputs": [],
   "source": [
    "mpl_params = {'legend.fontsize': 15,\n",
    "              'legend.frameon': False,\n",
    "                      'axes.titlesize': 20,\n",
    "                      'axes.labelsize': 17,\n",
    "                      'xtick.labelsize': 12,\n",
    "                      'ytick.labelsize': 12,\n",
    "             'figure.figsize' : (18, 5)}\n",
    "\n",
    "mpl.rcParams.update(mpl_params)"
   ]
  },
  {
   "cell_type": "code",
   "execution_count": null,
   "metadata": {
    "collapsed": true
   },
   "outputs": [],
   "source": [
    "folder = '../data/'\n",
    "fn = '201804052103__poisson_posterior_trained_N100000M100_k2.p'\n",
    "time_stamp = fn[:fn.find('_')]\n",
    "\n",
    "with open(os.path.join(folder, fn), 'rb') as f: \n",
    "    d = pickle.load(f)\n",
    "    \n",
    "# set the seed for generating new test data \n",
    "seed = 5\n",
    "np.random.seed(seed)"
   ]
  },
  {
   "cell_type": "code",
   "execution_count": null,
   "metadata": {},
   "outputs": [],
   "source": [
    "d_model = d['d_model_post']\n",
    "d_model.keys()"
   ]
  },
  {
   "cell_type": "code",
   "execution_count": null,
   "metadata": {
    "collapsed": true
   },
   "outputs": [],
   "source": [
    "model = d_model['model_models']\n",
    "x = d_model['x']\n",
    "sx = d_model['sx']\n",
    "xtest = d_model['xtest']\n",
    "mtest = d_model['mtest']\n",
    "ppoi_exact = d_model['ppoi_exact']\n",
    "sx_test = d_model['sx_test']\n",
    "sample_size = d_model['sample_size']\n",
    "\n",
    "training_norm = d_model['training_norm']\n",
    "k1, k2, k3 = d_model['k1'], d_model['k2'], d_model['k3']\n",
    "theta1, theta2, theta3 = d_model['theta1'], d_model['theta2'], d_model['theta3']\n",
    "\n",
    "# priors \n",
    "prior_lambda = scipy.stats.gamma(a=k1, scale=theta1)\n",
    "prior_k = scipy.stats.gamma(a=k2, scale=theta2)\n",
    "prior_theta = scipy.stats.gamma(a=k3, scale=theta3)\n",
    "\n",
    "model_poisson = PoissonModel(sample_size=sample_size, seed=seed)\n",
    "model_nb = NegativeBinomialModel(sample_size=sample_size, seed=seed)"
   ]
  },
  {
   "cell_type": "code",
   "execution_count": null,
   "metadata": {
    "collapsed": true
   },
   "outputs": [],
   "source": [
    "ntest = 1000\n",
    "model_priors_poisson = np.arange(0.1, 1., 0.1)\n",
    "model_freq_poisson = np.zeros_like(model_priors_poisson)\n",
    "\n",
    "for ii, model_prior_poisson in enumerate(model_priors_poisson): \n",
    "\n",
    "    # generate sampled indices from the prior \n",
    "    mi_test = (np.random.rand(ntest) > model_prior_poisson) * np.ones(ntest)\n",
    "    n_nb = int(mi_test.sum())\n",
    "    n_poi = ntest - n_nb\n",
    "\n",
    "    # generate data \n",
    "    params_poi = prior_lambda.rvs(size=n_poi)\n",
    "    params_nb = np.vstack((prior_k.rvs(size=n_nb), \n",
    "                           prior_theta.rvs(size=n_nb))).T\n",
    "\n",
    "    data_poi = model_poisson.gen(params_poi)\n",
    "    data_nb = model_nb.gen(params_nb)\n",
    "\n",
    "    x_test = np.vstack((data_poi, data_nb))\n",
    "    sx_test = calculate_stats_toy_examples(x_test)\n",
    "    sx_test_zt, _ = normalize(sx_test, training_norm)\n",
    "\n",
    "    # predict \n",
    "    posteriors = model.predict(sx_test_zt)\n",
    "    # get prob of poisson \n",
    "    model_freq_poisson[ii] = posteriors[:, 0].sum() / ntest\n",
    "    \n",
    "    # get true posterior probs \n",
    "    \n",
    "    model_freq_poisson_true[ii] = "
   ]
  },
  {
   "cell_type": "code",
   "execution_count": null,
   "metadata": {},
   "outputs": [],
   "source": [
    "fig, ax = plt.subplots(1, 1, figsize=(6, 4))\n",
    "ax.plot(model_priors_poisson, model_freq_poisson, '-o', label='predictions')\n",
    "ax.plot(model_priors_poisson, model_priors_poisson, label='identity')\n",
    "ax.set_ylabel(r'mean $p(M_{Poisson} | x_o)$')\n",
    "ax.set_xlabel(r'prior $p(M_{Poisson})$')\n",
    "ax.grid()\n",
    "ax.legend()\n",
    "plt.tight_layout();"
   ]
  },
  {
   "cell_type": "code",
   "execution_count": null,
   "metadata": {
    "collapsed": true
   },
   "outputs": [],
   "source": [
    "fn = time_stamp + 'prior_checks_k2_{}.png'.format(int(k2))\n",
    "fig.savefig(os.path.join('../figures', fn), dpi=300)"
   ]
  },
  {
   "cell_type": "code",
   "execution_count": null,
   "metadata": {
    "collapsed": true
   },
   "outputs": [],
   "source": []
  }
 ],
 "metadata": {
  "kernelspec": {
   "display_name": "Python [conda env:mackelab]",
   "language": "python",
   "name": "conda-env-mackelab-py"
  },
  "language_info": {
   "codemirror_mode": {
    "name": "ipython",
    "version": 3
   },
   "file_extension": ".py",
   "mimetype": "text/x-python",
   "name": "python",
   "nbconvert_exporter": "python",
   "pygments_lexer": "ipython3",
   "version": "3.6.2"
  }
 },
 "nbformat": 4,
 "nbformat_minor": 2
}
