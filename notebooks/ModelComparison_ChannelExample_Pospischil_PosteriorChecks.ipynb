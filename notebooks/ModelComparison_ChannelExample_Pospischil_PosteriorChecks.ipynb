{
 "cells": [
  {
   "cell_type": "code",
   "execution_count": null,
   "metadata": {
    "collapsed": true
   },
   "outputs": [],
   "source": [
    "import matplotlib.pyplot as plt\n",
    "import matplotlib as mpl\n",
    "import numpy as np\n",
    "import os \n",
    "import pickle\n",
    "import sys \n",
    "import time\n",
    "import tqdm\n",
    "\n",
    "from delfi.utils.viz import plot_pdf\n",
    "from delfi.generator import Default\n",
    "\n",
    "from lfimodels.channelomics.ChannelSingle import ChannelSingle\n",
    "from lfimodels.channelomics.ChannelStats import ChannelStats\n",
    "\n",
    "sys.path.append('../../')\n",
    "from model_comparison.utils import *\n",
    "from model_comparison.mdns import *\n",
    "from model_comparison.models import PoissonModel, NegativeBinomialModel\n",
    "%matplotlib inline"
   ]
  },
  {
   "cell_type": "code",
   "execution_count": null,
   "metadata": {
    "collapsed": true
   },
   "outputs": [],
   "source": [
    "mpl_params = {'legend.fontsize': 14,\n",
    "              'legend.frameon': False,\n",
    "                      'axes.titlesize': 20,\n",
    "                      'axes.labelsize': 17,\n",
    "                      'xtick.labelsize': 12,\n",
    "                      'ytick.labelsize': 12,\n",
    "             'figure.figsize' : (18, 5)}\n",
    "\n",
    "mpl.rcParams.update(mpl_params)"
   ]
  },
  {
   "cell_type": "markdown",
   "metadata": {},
   "source": [
    "### Load trained posterior"
   ]
  },
  {
   "cell_type": "code",
   "execution_count": null,
   "metadata": {
    "collapsed": true
   },
   "outputs": [],
   "source": [
    "folder = '../data/'\n",
    "fn = '201804231757__learned_posteriors_pospischil_ntrain198000_kslow_nc2.p'\n",
    "time_stamp = fn[:fn.find('_')]\n",
    "\n",
    "with open(os.path.join(folder, fn), 'rb') as f: \n",
    "    d = pickle.load(f)\n",
    "    \n",
    "# set the seed for generating new test data \n",
    "seed = 3\n",
    "np.random.seed(seed)"
   ]
  },
  {
   "cell_type": "code",
   "execution_count": null,
   "metadata": {
    "collapsed": true
   },
   "outputs": [],
   "source": [
    "mi_post_dict = d['model_idx_posterior']\n",
    "p_post_dict = d['parameter_posterior']"
   ]
  },
  {
   "cell_type": "markdown",
   "metadata": {},
   "source": [
    "## Check model index posterior \n",
    "\n",
    "### prior check\n",
    "generate test data different priors on the models: $p(model) = 0.1, ..., 0.9$. Then predict the test set and check whether the average posterior prob of the model corresponds to the prior prob."
   ]
  },
  {
   "cell_type": "code",
   "execution_count": null,
   "metadata": {
    "collapsed": true
   },
   "outputs": [],
   "source": [
    "sx_train, sx_test, mtrain, mtest, data_norm, sx_obs, model_idx_mdn, prior_lims_kd, prior_lims_ks = mi_post_dict.values()"
   ]
  },
  {
   "cell_type": "code",
   "execution_count": null,
   "metadata": {},
   "outputs": [],
   "source": [
    "sx_test.shape"
   ]
  },
  {
   "cell_type": "markdown",
   "metadata": {},
   "source": [
    "There are 1000 test samples for each model. Take 100 from $m1$ and 900 from $m2$, then $(200, 800)$, and so on. "
   ]
  },
  {
   "cell_type": "code",
   "execution_count": null,
   "metadata": {
    "collapsed": true
   },
   "outputs": [],
   "source": [
    "prior_probs = np.arange(0.1, 1., 0.1)\n",
    "post_probs_mean = np.zeros_like(prior_probs)\n",
    "sx_test_m1 = sx_test[:1000, ]\n",
    "sx_test_m2 = sx_test[1000:, ]\n",
    "\n",
    "for ii, pp in enumerate(prior_probs): \n",
    "    idx = int(pp * 1000)\n",
    "    # up to idx for m1\n",
    "    d1 = sx_test_m1[:idx, ]\n",
    "    # from idx to end for m2\n",
    "    d2 = sx_test_m2[idx:, ]\n",
    "    test_data = np.vstack((d1, d2))\n",
    "    test_m = np.hstack((np.zeros(idx), np.ones(1000 - idx))).astype(int).tolist()\n",
    "    \n",
    "    # predict \n",
    "    test_data_zt, _ = normalize(test_data, data_norm)\n",
    "    p = model_idx_mdn.predict(test_data_zt)[:, 0]\n",
    "    post_probs_mean[ii] = p.mean()"
   ]
  },
  {
   "cell_type": "code",
   "execution_count": null,
   "metadata": {},
   "outputs": [],
   "source": [
    "fig, ax = plt.subplots(1, 1, figsize=(6, 4))\n",
    "ax.plot(prior_probs, post_probs_mean, '-o', label='predictions')\n",
    "ax.plot(prior_probs, prior_probs, label='identity')\n",
    "ax.set_ylabel(r'mean $p(M_{K_{d}} | s(x_o))$')\n",
    "ax.set_xlabel(r'prior $p(M_{K_{d}})$')\n",
    "ax.grid()\n",
    "ax.legend()\n",
    "plt.tight_layout();"
   ]
  },
  {
   "cell_type": "code",
   "execution_count": null,
   "metadata": {
    "collapsed": true
   },
   "outputs": [],
   "source": [
    "fn = time_stamp + '_channelexample_priorchecks_ntrain{}.png'.format(int(sx_train.shape[0]))\n",
    "fig.savefig(os.path.join('../figures', fn), dpi=300)"
   ]
  },
  {
   "cell_type": "markdown",
   "metadata": {},
   "source": [
    "## Check model parameter posterior \n",
    "\n",
    "Because we do not have the ground truth posteiror we can only check the quantiles and credible intervals of the marginals have a look at the covariances of the joint posterior. "
   ]
  },
  {
   "cell_type": "code",
   "execution_count": null,
   "metadata": {},
   "outputs": [],
   "source": [
    "p_post_dict.keys()"
   ]
  },
  {
   "cell_type": "code",
   "execution_count": null,
   "metadata": {
    "collapsed": true
   },
   "outputs": [],
   "source": [
    "xo, sxo, parameter_mdn, GT, labels, sx_train, sx_test, data_norm, prior_norm, params_pred, params_pred_test, predicted_channel_type, loss_trace = p_post_dict.values()"
   ]
  },
  {
   "cell_type": "code",
   "execution_count": null,
   "metadata": {
    "collapsed": true
   },
   "outputs": [],
   "source": [
    "params_test = params_pred_test\n",
    "sx_test_zt, _ = normalize(sx_test, data_norm)\n",
    "params_test_zt, _ = normalize(params_test, prior_norm)\n",
    "\n",
    "ntest = sx_test.shape[0]\n",
    "ntrain = sx_train.shape[0]\n",
    "n_params = params_pred_test.shape[1]\n",
    "n_components = parameter_mdn.n_components\n",
    "\n",
    "if predicted_channel_type == 'ks': \n",
    "    predicted_channel_type = 'kslow'\n",
    "gt = GT[predicted_channel_type]\n",
    "channel_type = predicted_channel_type"
   ]
  },
  {
   "cell_type": "code",
   "execution_count": null,
   "metadata": {},
   "outputs": [],
   "source": [
    "# quantiles, credible intervals for every dimension (5)\n",
    "qis = np.zeros((n_params + 1, ntest))\n",
    "\n",
    "credible_intervals = np.arange(0.05, 1., 0.05)\n",
    "marginal_ci_counts = np.zeros((n_params + 1, ntest, credible_intervals.size))\n",
    "\n",
    "covariances = []\n",
    "\n",
    "ms_hat = []\n",
    "ps_hat = []\n",
    "\n",
    "# for every test sample \n",
    "fails = []\n",
    "\n",
    "with tqdm.tqdm(total=ntest) as pbar: \n",
    "    for ii, (thetao_i, sxo_i) in enumerate(zip(params_test, sx_test_zt)): \n",
    "\n",
    "        # predict the posterior\n",
    "        post_hat_zt = parameter_mdn.predict(sxo_i.reshape(1, -1))\n",
    "        dd = post_hat_zt.get_dd_object()\n",
    "        # transform back to original parameter range\n",
    "        post_hat = post_hat_zt.ztrans_inv(prior_norm[0], prior_norm[1])\n",
    "        marginals_hat = post_hat.get_marginals()\n",
    "        \n",
    "        ps_hat.append(post_hat)\n",
    "        ms_hat.append(marginals_hat)\n",
    "       \n",
    "        pbar.update()\n",
    "        # perform check for marginals         \n",
    "        for vi, (mhat, th) in enumerate(zip(marginals_hat, thetao_i)):             \n",
    "            # quantiles \n",
    "            qis[vi, ii] = mhat.get_quantile(th)[0]\n",
    "\n",
    "            # credible intervals\n",
    "            marginal_ci_counts[vi, ii, :] = mhat.get_credible_interval_counts(th, credible_intervals)\n",
    "\n",
    "        # perform checks for joint \n",
    "        vi = n_params\n",
    "\n",
    "        # quantiles \n",
    "        qis[vi, ii] = post_hat_zt.get_quantile(thetao_i.reshape(1, -1))\n",
    "\n",
    "        # covariances\n",
    "#         covariances.append(post_hat.get_covariance_matrix())"
   ]
  },
  {
   "cell_type": "markdown",
   "metadata": {},
   "source": [
    "## Overview plots"
   ]
  },
  {
   "cell_type": "code",
   "execution_count": null,
   "metadata": {},
   "outputs": [],
   "source": [
    "fig, ax = plt.subplots(1, 2, figsize=(18, 5))\n",
    "\n",
    "mlabels = labels['kslow']\n",
    "for mi in range(len(mlabels)):\n",
    "    n, bins = np.histogram(qis[mi, ], bins='auto')\n",
    "    sample_quantiles = np.cumsum(n / np.sum(n))\n",
    "    theo_quantiles = np.linspace(0, 1, len(n))\n",
    "    ax[0].set_title('Q-Q plot')\n",
    "    ax[0].plot(theo_quantiles, sample_quantiles, 'x-', label=mlabels[mi])    \n",
    "    ax[0].legend()\n",
    "    \n",
    "    ax[1].set_title('Credible intervals')\n",
    "    ax[1].plot(credible_intervals, marginal_ci_counts[mi,].mean(axis=0), 'x-', label=mlabels[mi])\n",
    "    ax[1].legend()\n",
    "    \n",
    "ax[1].grid()\n",
    "ax[0].grid()\n",
    "ax[0].plot(theo_quantiles, theo_quantiles, 'k')\n",
    "ax[1].plot(credible_intervals, credible_intervals, 'k')\n",
    "\n",
    "ax[0].set_ylabel('empirical quantile')\n",
    "ax[0].set_xlabel(r'$\\mathit{U}(0, 1)$ quantile')\n",
    "ax[1].set_ylabel('relative frequency')\n",
    "ax[1].set_xlabel('credible interval')\n",
    "plt.tight_layout();"
   ]
  },
  {
   "cell_type": "code",
   "execution_count": null,
   "metadata": {
    "collapsed": true
   },
   "outputs": [],
   "source": [
    "fn = time_stamp + '_channelexample_posteriorchecks_{}_ntrain{}_nc{}.png'.format(channel_type, int(ntrain), n_components)\n",
    "fig.savefig(os.path.join('../figures', fn), dpi=300)"
   ]
  },
  {
   "cell_type": "markdown",
   "metadata": {},
   "source": [
    "### Inspect individual marginals"
   ]
  },
  {
   "cell_type": "code",
   "execution_count": null,
   "metadata": {},
   "outputs": [],
   "source": [
    "mi = 1\n",
    "prior_lims = prior_lims_kd if predicted_channel_type == 'kd' else prior_lims_ks\n",
    "pp = np.linspace(prior_lims[mi][0], prior_lims[mi][1], 200)\n",
    "\n",
    "for i, m in enumerate(ms_hat): \n",
    "    mhat = m[mi]\n",
    "    q = mhat.get_quantile(params_test[i][mi])[0]\n",
    "    pd = mhat.eval_numpy(pp)\n",
    "    plt.plot(pp, pd, label='q {:.3}'.format(qis[mi, i], q))\n",
    "    plt.axvline(x=params_test[i][mi], color='C{}'.format(i))\n",
    "        \n",
    "    if i == 7: break\n",
    "plt.legend()"
   ]
  },
  {
   "cell_type": "markdown",
   "metadata": {},
   "source": [
    "# Posterior figures"
   ]
  },
  {
   "cell_type": "code",
   "execution_count": null,
   "metadata": {
    "collapsed": true
   },
   "outputs": [],
   "source": [
    "# get posterior for gt params \n",
    "# normalize the observed data with training norm \n",
    "sx_obs, data_norm = normalize(sxo.squeeze(), data_norm)\n",
    "# predict MoG parameters given observed data \n",
    "mog_posterior_pytorch = parameter_mdn.predict(sx_obs.reshape(1, -1))\n",
    "# define as delfi distribution\n",
    "mog_posterior_delfi_zt = mog_posterior_pytorch.get_dd_object()\n",
    "# transform back to prior ranges \n",
    "mog_posterior_delfi = mog_posterior_delfi_zt.ztrans_inv(mean=prior_norm[0], std=prior_norm[1])"
   ]
  },
  {
   "cell_type": "code",
   "execution_count": null,
   "metadata": {},
   "outputs": [],
   "source": [
    "fig, ax = plot_pdf(mog_posterior_delfi, lims=prior_lims, figsize=(18, 10), ticks=True, \n",
    "                   labels_params=labels[predicted_channel_type], gt=gt)"
   ]
  },
  {
   "cell_type": "code",
   "execution_count": null,
   "metadata": {
    "collapsed": true
   },
   "outputs": [],
   "source": [
    "fn = time_stamp + '_channelexample_posterior_{}_ntrain{}_nc{}.png'.format(channel_type, int(ntrain), n_components)\n",
    "fig.savefig(os.path.join('../figures', fn), dpi=300)"
   ]
  },
  {
   "cell_type": "code",
   "execution_count": null,
   "metadata": {},
   "outputs": [],
   "source": [
    "posterior = mog_posterior_delfi\n",
    "n_params = len(gt)\n",
    "lims = prior_lims\n",
    "cython = True\n",
    "\n",
    "mean, S = posterior.calc_mean_and_cov()\n",
    "# m = posterior.xs[0].m\n",
    "# S = posterior.xs[0].S\n",
    "\n",
    "prot = ['v_act','v_inact','v_deact','v_ap','v_ramp']\n",
    "num_protocols = len(prot)\n",
    "\n",
    "num_samp = 1\n",
    "\n",
    "# sampling at contour of 1 covariance away from mean (if samples from outside the prior box, contour is at prior box)\n",
    "x_samp = np.random.randn(n_params, num_samp)\n",
    "x_samp = np.divide(x_samp, np.linalg.norm(x_samp, axis=0))\n",
    "x_samp = (np.dot(S, x_samp)).T + mean\n",
    "\n",
    "# # sample from posterior\n",
    "# x_samp = posterior.gen(n_samples=num_samp)\n",
    "\n",
    "# correct for samples outside the prior box\n",
    "x_samp = np.maximum(x_samp, lims[:,0])\n",
    "x_samp = np.minimum(x_samp, lims[:,1])\n",
    "\n",
    "params = np.concatenate((np.array([mean]), x_samp))\n",
    "\n",
    "fig = plt.figure(figsize = (20, 8 + num_samp * 4))\n",
    "\n",
    "# set up a simulator \n",
    "m = ChannelSingle(channel_type=channel_type, n_params=n_params, cython=cython)\n",
    "s = ChannelStats(channel_type=predicted_channel_type)\n",
    "\n",
    "for i in range(1+num_samp):\n",
    "    x = m.gen_single(params[i, :])\n",
    "    for p in range(num_protocols):\n",
    "        I = x[prot[p]]['data']\n",
    "        t = x[prot[p]]['time']\n",
    "        num_levels = len(I[:,0])\n",
    "        cm1 = mpl.cm.viridis\n",
    "        col1 = [cm1(1.*k/num_levels) for k in range(num_levels)]\n",
    "        \n",
    "        for j in range(num_levels):\n",
    "            if i==0:\n",
    "                plt.subplot(2+num_samp, num_protocols, p+1)\n",
    "                plt.plot(t, xo[0][0][prot[p]]['data'][j,], color = col1[j], lw=2)\n",
    "                plt.xlabel('time (ms)')\n",
    "                plt.ylabel('norm. current')\n",
    "                plt.title('observation')\n",
    "                \n",
    "                plt.subplot(2+num_samp,num_protocols,num_protocols+p+1)\n",
    "                plt.plot(t, I[j,], color = col1[j], lw=2)\n",
    "                plt.xlabel('time (ms)')\n",
    "                plt.ylabel('norm. current')\n",
    "                plt.title('mode')\n",
    "            else:\n",
    "                plt.subplot(2+num_samp,num_protocols,(i+1)*num_protocols+p+1)\n",
    "                plt.plot(t, I[j,], color = col1[j], lw=2)\n",
    "                plt.xlabel('time (ms)')\n",
    "                plt.ylabel('norm. current')\n",
    "                plt.title('sample '+str(num_samp-i+1))\n",
    "plt.tight_layout()"
   ]
  },
  {
   "cell_type": "code",
   "execution_count": null,
   "metadata": {
    "collapsed": true
   },
   "outputs": [],
   "source": [
    "fn = time_stamp + '_channelexample_posteriorsamples_{}_ntrain{}_nc{}.png'.format(channel_type, int(ntrain), n_components)\n",
    "fig.savefig(os.path.join('../figures', fn), dpi=300)"
   ]
  },
  {
   "cell_type": "code",
   "execution_count": null,
   "metadata": {},
   "outputs": [],
   "source": [
    "# save posterior checks results \n",
    "result_dict = dict(qis=qis, qis_hat=qis_hat, dkl_ratios=dkl_ratios,\n",
    "                  marginal_ci_counts=marginal_ci_counts, \n",
    "                  marginal_ci_counts_hat=marginal_ci_counts_hat, \n",
    "                  fails=fails, \n",
    "                  ntest=ntest, \n",
    "                  mus_exact=mus_exact, mus_hat=mus_hat, \n",
    "                  stds_exact=stds_exact, stds_hat=stds_hat, \n",
    "                  credible_intervals=credible_intervals, \n",
    "                  covariances=covariances, \n",
    "                  covariances_hat=covariances_hat, \n",
    "                  params_test=params_test, \n",
    "                  sx_test_zt=sx_test_zt, \n",
    "                  x_test=x_test, \n",
    "                  ps=ps, \n",
    "                  p_hats=ps_hat)\n",
    "\n",
    "fn = time_stamp + 'posterior_checks_results_NB_ntrain{}_ns{}_ntest{}'.format(ntrain, sample_size, ntest) + '.p'\n",
    "with open(os.path.join('../data', fn), 'wb') as outfile: \n",
    "    pickle.dump(result_dict, outfile, pickle.HIGHEST_PROTOCOL)"
   ]
  },
  {
   "cell_type": "code",
   "execution_count": null,
   "metadata": {
    "collapsed": true
   },
   "outputs": [],
   "source": []
  }
 ],
 "metadata": {
  "kernelspec": {
   "display_name": "Python [conda env:mackelab]",
   "language": "python",
   "name": "conda-env-mackelab-py"
  },
  "language_info": {
   "codemirror_mode": {
    "name": "ipython",
    "version": 3
   },
   "file_extension": ".py",
   "mimetype": "text/x-python",
   "name": "python",
   "nbconvert_exporter": "python",
   "pygments_lexer": "ipython3",
   "version": "3.6.2"
  }
 },
 "nbformat": 4,
 "nbformat_minor": 2
}
