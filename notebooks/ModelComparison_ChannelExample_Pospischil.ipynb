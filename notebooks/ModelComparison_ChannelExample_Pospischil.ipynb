{
 "cells": [
  {
   "cell_type": "markdown",
   "metadata": {},
   "source": [
    "## Pipeline 1: \n",
    "- ### learn the model comparison between a delayed rectifier K channel and a slow non-inactivating K channel. \n",
    "- ### predict a model idx given observed data \n",
    "- ### learn the posterior over model parameters of the predicted model"
   ]
  },
  {
   "cell_type": "code",
   "execution_count": null,
   "metadata": {
    "collapsed": true
   },
   "outputs": [],
   "source": [
    "import delfi.distribution as dd\n",
    "import matplotlib as mpl\n",
    "import numpy as np\n",
    "import os\n",
    "import pandas as pd\n",
    "import pickle\n",
    "import time\n",
    "\n",
    "from delfi.generator import Default\n",
    "from delfi.utils.viz import plot_pdf\n",
    "from delfi.distribution.mixture import MoG\n",
    "\n",
    "from lfimodels.channelomics.ChannelSingle import ChannelSingle\n",
    "from lfimodels.channelomics.ChannelSuper import ChannelSuper\n",
    "from lfimodels.channelomics.ChannelStats import ChannelStats\n",
    "from matplotlib import pyplot as plt\n",
    "\n",
    "import sys\n",
    "sys.path.append('../../')\n",
    "from model_comparison.utils import *\n",
    "from model_comparison.mdns import *\n",
    "\n",
    "%matplotlib inline"
   ]
  },
  {
   "cell_type": "markdown",
   "metadata": {},
   "source": [
    "## Set \"kd\" or \"kslow\" as underlying ground truth model, generate observed data "
   ]
  },
  {
   "cell_type": "code",
   "execution_count": null,
   "metadata": {
    "collapsed": true
   },
   "outputs": [],
   "source": [
    "channel_type = 'kslow'\n",
    "result_dict = dict()"
   ]
  },
  {
   "cell_type": "code",
   "execution_count": null,
   "metadata": {
    "collapsed": true
   },
   "outputs": [],
   "source": [
    "GT = {'kd': np.array([4, -63, 0.032, 15, 5, 0.5, 10, 40]),\n",
    "      'kslow': np.array([1, 35, 10, 3.3, 20])}\n",
    "LP = {'kd': [r'$M$', r'$V_T$', r'$R_{\\alpha}$', r'$th_{\\alpha}$', r'$q_{\\alpha}$', r'$R_{\\beta}$', r'$th_{\\beta}$', r'$q_{\\beta}$'],\n",
    "      'kslow': [r'$M$', r'$th_{p}$', r'$q_{p}$', r'$R_{\\tau}$', r'$q_{\\tau}$']}\n",
    "\n",
    "E_channel = {'kd': -90.0, 'kslow': -90.0}\n",
    "fact_inward = {'kd': 1, 'kslow': 1}\n",
    "\n",
    "cython = True\n",
    "\n",
    "gt = GT[channel_type]\n",
    "n_params = len(gt)\n",
    "labels_params = LP[channel_type]\n",
    "prior_lims = np.sort(np.concatenate((0.9 * gt.reshape(-1, 1), 1.2 * gt.reshape(-1, 1)), axis=1))"
   ]
  },
  {
   "cell_type": "code",
   "execution_count": null,
   "metadata": {
    "collapsed": true
   },
   "outputs": [],
   "source": [
    "# generate observed data\n",
    "n_params_obs = len(gt)\n",
    "m_obs = ChannelSingle(channel_type=channel_type, n_params=n_params_obs, cython=cython)\n",
    "s = ChannelStats(channel_type=channel_type)\n",
    "\n",
    "xo = m_obs.gen(gt.reshape(1,-1))\n",
    "xo_stats = s.calc(xo[0])"
   ]
  },
  {
   "cell_type": "markdown",
   "metadata": {},
   "source": [
    "## Load training data and split test data"
   ]
  },
  {
   "cell_type": "code",
   "execution_count": null,
   "metadata": {
    "collapsed": true
   },
   "outputs": [],
   "source": [
    "filename = '201805020401__training_data_kd_ks_N200000seed1_prior0912.p'\n",
    "folder = '../data/'\n",
    "fullpath = os.path.join(folder, filename)\n",
    "time_stamp = time.strftime('%Y%m%d%H%M_')\n",
    "\n",
    "with open(fullpath, 'rb') as f: \n",
    "    result_dict = pickle.load(f)"
   ]
  },
  {
   "cell_type": "code",
   "execution_count": null,
   "metadata": {
    "collapsed": true
   },
   "outputs": [],
   "source": [
    "params_kd, sx_kd, gt_kd, prior_lims_kd, params_ks, sx_ks, gt_ks, prior_lims_ks, seed, n_samples, cython = result_dict.values()"
   ]
  },
  {
   "cell_type": "code",
   "execution_count": null,
   "metadata": {
    "collapsed": true
   },
   "outputs": [],
   "source": [
    "ntest = 1000\n",
    "n = np.min((sx_kd.shape[0], sx_ks.shape[0]))\n",
    "n_stats = sx_kd.shape[1]\n",
    "ntrain = n - ntest\n",
    "\n",
    "# shuffle and set up model index target vector \n",
    "sx = np.vstack((sx_kd[:ntrain, :], sx_ks[:-ntest, :]))\n",
    "sx_test = np.vstack((sx_kd[ntrain:n, :], sx_ks[sx_ks[:-ntest, :].shape[0]:, :]))\n",
    "\n",
    "# define model indices\n",
    "m = np.hstack((np.zeros(ntrain), np.ones(sx_ks[:-ntest, :].shape[0]))).squeeze().astype(int).tolist()\n",
    "m_test = np.hstack((np.zeros(ntest), np.ones(ntest))).squeeze().astype(int).tolist()"
   ]
  },
  {
   "cell_type": "code",
   "execution_count": null,
   "metadata": {
    "collapsed": true
   },
   "outputs": [],
   "source": [
    "# normalize data \n",
    "sx_zt, data_norm = normalize(sx)"
   ]
  },
  {
   "cell_type": "markdown",
   "metadata": {
    "collapsed": true
   },
   "source": [
    "## Set up the NN and train it "
   ]
  },
  {
   "cell_type": "code",
   "execution_count": null,
   "metadata": {},
   "outputs": [],
   "source": [
    "model_models = ClassificationMDN(n_input=n_stats, n_hidden_units=10, n_hidden_layers=1)\n",
    "optimizer = torch.optim.Adam(model_models.parameters(), lr=0.01)\n",
    "trainer = Trainer(model_models, optimizer, verbose=True, classification=True)\n",
    "\n",
    "n_epochs = 10\n",
    "n_minibatch = int(ntrain / 100)\n",
    "\n",
    "# train with training data\n",
    "loss_trace = trainer.train(sx_zt, m, n_epochs=n_epochs, n_minibatch=n_minibatch)"
   ]
  },
  {
   "cell_type": "code",
   "execution_count": null,
   "metadata": {},
   "outputs": [],
   "source": [
    "plt.figure(figsize=(18, 3))\n",
    "plt.plot(loss_trace)\n",
    "plt.ylabel('loss')\n",
    "plt.xlabel('iterations');"
   ]
  },
  {
   "cell_type": "markdown",
   "metadata": {},
   "source": [
    "## Predict underlying model given observed data"
   ]
  },
  {
   "cell_type": "code",
   "execution_count": null,
   "metadata": {},
   "outputs": [],
   "source": [
    "# predict \n",
    "# normalize using training data normalization \n",
    "sx_obs_zt, _ = normalize(xo_stats, data_norm)\n",
    "\n",
    "p_vec = model_models.predict(sx_obs_zt)\n",
    "print('True model: {}'.format(channel_type))\n",
    "print('P(Kd | sx) = {:.2f}'.format(p_vec[0]))\n",
    "print('P(Ks | sx) = {:.2f}'.format(p_vec[1]))"
   ]
  },
  {
   "cell_type": "markdown",
   "metadata": {},
   "source": [
    "## Predict test data and calculate test cross entropy loss"
   ]
  },
  {
   "cell_type": "code",
   "execution_count": null,
   "metadata": {
    "collapsed": true
   },
   "outputs": [],
   "source": [
    "sx_test_zt, data_norm = normalize(sx_test, data_norm)\n",
    "p = model_models.predict(sx_test_zt)[:, 1]\n",
    "y = np.array(m_test)"
   ]
  },
  {
   "cell_type": "code",
   "execution_count": null,
   "metadata": {},
   "outputs": [],
   "source": [
    "cel = -(y * np.log(p) + (1 - y) * np.log(1 - p))\n",
    "print('Cross entropy test loss: {:.6f}'.format(cel.mean()))"
   ]
  },
  {
   "cell_type": "code",
   "execution_count": null,
   "metadata": {
    "collapsed": true
   },
   "outputs": [],
   "source": [
    "model_idx_posterior_dict = dict(sx_train=sx, sx_test=sx_test, mtrain=m, mtest=m_test, data_norm=data_norm, \n",
    "                           sx_obs=xo_stats, model_idx_mdn=model_models, prior_lims_kd=prior_lims_kd, \n",
    "                           prior_lims_ks=prior_lims_ks)"
   ]
  },
  {
   "cell_type": "markdown",
   "metadata": {},
   "source": [
    "## Given the predicted underlying model we can learn the posterior of its parameters"
   ]
  },
  {
   "cell_type": "code",
   "execution_count": null,
   "metadata": {},
   "outputs": [],
   "source": [
    "result_dict.keys()"
   ]
  },
  {
   "cell_type": "code",
   "execution_count": null,
   "metadata": {
    "collapsed": true
   },
   "outputs": [],
   "source": [
    "predicted_model_idx = np.argmax(p_vec)\n",
    "predicted_channel_type = ['kd', 'ks'][predicted_model_idx]\n",
    "gt = GT[channel_type]\n",
    "n_params_pred = len(gt)\n",
    "\n",
    "# get corresponding data \n",
    "sx_pred = result_dict['sx_' + predicted_channel_type]\n",
    "params_pred = result_dict['params_' + predicted_channel_type]\n",
    "\n",
    "# remove nans \n",
    "sx_new = []\n",
    "params_new = []\n",
    "for p, stats in zip(params_pred, sx_pred): \n",
    "    if np.isfinite(stats).all(): \n",
    "        sx_new.append(stats.tolist())\n",
    "        params_new.append(p)\n",
    "sx_pred_all = np.array(sx_new)\n",
    "params_pred_all = np.array(params_new)"
   ]
  },
  {
   "cell_type": "code",
   "execution_count": null,
   "metadata": {},
   "outputs": [],
   "source": [
    "sx_pred_all.shape"
   ]
  },
  {
   "cell_type": "code",
   "execution_count": null,
   "metadata": {
    "collapsed": true
   },
   "outputs": [],
   "source": [
    "ntest = 10000\n",
    "ntrain = sx_pred_all.shape[0] - ntest\n",
    "sx_pred = sx_pred_all[:ntrain, ]\n",
    "sx_pred_test = sx_pred_all[ntrain:]\n",
    "\n",
    "params_pred = params_pred_all[:ntrain, ]\n",
    "params_pred_test = params_pred_all[ntrain:, ]"
   ]
  },
  {
   "cell_type": "code",
   "execution_count": null,
   "metadata": {},
   "outputs": [],
   "source": [
    "predicted_channel_type"
   ]
  },
  {
   "cell_type": "code",
   "execution_count": null,
   "metadata": {
    "collapsed": true
   },
   "outputs": [],
   "source": [
    "# define a network to approximate the posterior with a MoG \n",
    "n_components = 3\n",
    "model_params_mdn = MultivariateMogMDN(ndim_input=n_stats, ndim_output=n_params_pred, n_hidden_layers=2, \n",
    "                                      n_hidden_units=50, n_components=n_components)\n",
    "optimizer = torch.optim.Adam(model_params_mdn.parameters(), lr=0.01)\n",
    "trainer = Trainer(model_params_mdn, optimizer, verbose=True)"
   ]
  },
  {
   "cell_type": "code",
   "execution_count": null,
   "metadata": {
    "collapsed": true
   },
   "outputs": [],
   "source": [
    "# normalize training data: k data only \n",
    "sx_normed, data_norm = normalize(sx_pred)\n",
    "\n",
    "# normalize the parameters as well \n",
    "params_ztrans, prior_norm = normalize(params_pred)"
   ]
  },
  {
   "cell_type": "code",
   "execution_count": null,
   "metadata": {},
   "outputs": [],
   "source": [
    "loss_trace = trainer.train(sx_normed, params_ztrans, n_epochs=10, n_minibatch=int(sx_pred.shape[0] / 200))"
   ]
  },
  {
   "cell_type": "code",
   "execution_count": null,
   "metadata": {},
   "outputs": [],
   "source": [
    "plt.figure(figsize=(18, 3))\n",
    "plt.plot(loss_trace[-1000:])\n",
    "plt.ylabel('loss')\n",
    "plt.xlabel('iterations');\n",
    "plt.grid()"
   ]
  },
  {
   "cell_type": "code",
   "execution_count": null,
   "metadata": {
    "collapsed": true
   },
   "outputs": [],
   "source": [
    "# normalize the observed data with training norm \n",
    "sx_obs, data_norm = normalize(xo_stats.squeeze(), data_norm)"
   ]
  },
  {
   "cell_type": "code",
   "execution_count": null,
   "metadata": {
    "collapsed": true
   },
   "outputs": [],
   "source": [
    "# predict MoG parameters given observed data \n",
    "mog_posterior_pytorch = model_params_mdn.predict(sx_obs.reshape(1, -1))"
   ]
  },
  {
   "cell_type": "markdown",
   "metadata": {},
   "source": [
    "## Plot the learned MoG posterior using delfi distribution class"
   ]
  },
  {
   "cell_type": "code",
   "execution_count": null,
   "metadata": {
    "collapsed": true
   },
   "outputs": [],
   "source": [
    "# define as delfi distribution\n",
    "mog_posterior_delfi_zt = mog_posterior_pytorch.get_dd_object()"
   ]
  },
  {
   "cell_type": "code",
   "execution_count": null,
   "metadata": {},
   "outputs": [],
   "source": [
    "# transform back to prior ranges \n",
    "mog_posterior_delfi = mog_posterior_delfi_zt.ztrans_inv(mean=prior_norm[0], std=prior_norm[1])"
   ]
  },
  {
   "cell_type": "code",
   "execution_count": null,
   "metadata": {},
   "outputs": [],
   "source": [
    "fig, ax = plot_pdf(mog_posterior_delfi, lims=prior_lims, figsize=(18, 10), ticks=True, \n",
    "                   labels_params=LP[channel_type], gt=gt)"
   ]
  },
  {
   "cell_type": "code",
   "execution_count": null,
   "metadata": {
    "collapsed": true
   },
   "outputs": [],
   "source": [
    "fn = time_stamp + 'channel_posterior_{}_ntrain{}_nb{}.png'.format(channel_type, int(ntrain), n_components)\n",
    "fig.savefig(os.path.join('../figures', fn), dpi=300)"
   ]
  },
  {
   "cell_type": "code",
   "execution_count": null,
   "metadata": {},
   "outputs": [],
   "source": [
    "posterior = mog_posterior_delfi\n",
    "n_params = len(gt)\n",
    "lims = prior_lims\n",
    "\n",
    "mean, S = posterior.calc_mean_and_cov()\n",
    "# m = posterior.xs[0].m\n",
    "# S = posterior.xs[0].S\n",
    "\n",
    "prot = ['v_act','v_inact','v_deact','v_ap','v_ramp']\n",
    "num_protocols = len(prot)\n",
    "\n",
    "num_samp = 1\n",
    "\n",
    "# sampling at contour of 1 covariance away from mean (if samples from outside the prior box, contour is at prior box)\n",
    "x_samp = np.random.randn(n_params, num_samp)\n",
    "x_samp = np.divide(x_samp, np.linalg.norm(x_samp, axis=0))\n",
    "x_samp = (np.dot(S, x_samp)).T + mean\n",
    "\n",
    "# # sample from posterior\n",
    "# x_samp = posterior.gen(n_samples=num_samp)\n",
    "\n",
    "# correct for samples outside the prior box\n",
    "x_samp = np.maximum(x_samp, lims[:,0])\n",
    "x_samp = np.minimum(x_samp, lims[:,1])\n",
    "\n",
    "params = np.concatenate((np.array([mean]), x_samp))\n",
    "\n",
    "fig = plt.figure(figsize = (20, 10 + num_samp * 5))\n",
    "\n",
    "# set up a simulator \n",
    "m = ChannelSingle(channel_type=channel_type, n_params=n_params, cython=cython)\n",
    "s = ChannelStats(channel_type=predicted_channel_type)\n",
    "\n",
    "for i in range(1+num_samp):\n",
    "    x = m.gen_single(params[i, :])\n",
    "    for p in range(num_protocols):\n",
    "        I = x[prot[p]]['data']\n",
    "        t = x[prot[p]]['time']\n",
    "        num_levels = len(I[:,0])\n",
    "        cm1 = mpl.cm.viridis\n",
    "        col1 = [cm1(1.*k/num_levels) for k in range(num_levels)]\n",
    "        \n",
    "        for j in range(num_levels):\n",
    "            if i==0:\n",
    "                plt.subplot(2+num_samp,num_protocols,p+1)\n",
    "                plt.plot(t, xo[0][0][prot[p]]['data'][j,], color = col1[j], lw=2)\n",
    "                plt.xlabel('time (ms)')\n",
    "                plt.ylabel('norm. current')\n",
    "                plt.title('observation')\n",
    "                \n",
    "                plt.subplot(2+num_samp,num_protocols,num_protocols+p+1)\n",
    "                plt.plot(t, I[j,], color = col1[j], lw=2)\n",
    "                plt.xlabel('time (ms)')\n",
    "                plt.ylabel('norm. current')\n",
    "                plt.title('mode')\n",
    "            else:\n",
    "                plt.subplot(2+num_samp,num_protocols,(i+1)*num_protocols+p+1)\n",
    "                plt.plot(t, I[j,], color = col1[j], lw=2)\n",
    "                plt.xlabel('time (ms)')\n",
    "                plt.ylabel('norm. current')\n",
    "                plt.title('sample '+str(num_samp-i+1))"
   ]
  },
  {
   "cell_type": "code",
   "execution_count": null,
   "metadata": {
    "collapsed": true
   },
   "outputs": [],
   "source": []
  },
  {
   "cell_type": "markdown",
   "metadata": {},
   "source": [
    "how to quantify the performance: \n",
    "\n",
    "sensitvity analysis? \n",
    "\n",
    "predictive checking? \n",
    "\n",
    "painfree estimate Macke, Wichmann \n",
    "coverage analysis \n",
    "Prangle paper, coverage property \n",
    "\n",
    "compare again SCM ABC, DIYABC, just sample a lot of data\n",
    "\n",
    "it works on toy, why to do it? some real world examples\n",
    "\n"
   ]
  },
  {
   "cell_type": "markdown",
   "metadata": {},
   "source": [
    "## Save results to file"
   ]
  },
  {
   "cell_type": "code",
   "execution_count": null,
   "metadata": {
    "collapsed": true
   },
   "outputs": [],
   "source": [
    "parameter_posterior_dict = dict(xo=xo, sxo=xo_stats, parameter_mdn=model_params_mdn, gt=GT, labels=LP, \n",
    "                           sx_train=sx_pred, sx_test=sx_pred_test, data_norm=data_norm, prior_norm=prior_norm,\n",
    "                           params_pred=params_pred, params_pred_test=params_pred_test, \n",
    "                           predicted_channel_type=predicted_channel_type, loss_trace=loss_trace)"
   ]
  },
  {
   "cell_type": "code",
   "execution_count": null,
   "metadata": {
    "collapsed": true
   },
   "outputs": [],
   "source": [
    "result_dict = dict(model_idx_posterior=model_idx_posterior_dict, \n",
    "                   parameter_posterior=parameter_posterior_dict)"
   ]
  },
  {
   "cell_type": "code",
   "execution_count": null,
   "metadata": {
    "collapsed": true
   },
   "outputs": [],
   "source": [
    "filename = time_stamp + '_learned_posteriors_pospischil_ntrain{}_{}_nc{}_prior0912.p'.format(sx.shape[0], channel_type, n_components)\n",
    "folder = '../data/'\n",
    "with open(os.path.join(folder, filename), 'wb') as outfile: \n",
    "    pickle.dump(result_dict, outfile, protocol=pickle.HIGHEST_PROTOCOL)"
   ]
  },
  {
   "cell_type": "code",
   "execution_count": null,
   "metadata": {
    "collapsed": true
   },
   "outputs": [],
   "source": []
  }
 ],
 "metadata": {
  "kernelspec": {
   "display_name": "Python [default]",
   "language": "python",
   "name": "python3"
  },
  "language_info": {
   "codemirror_mode": {
    "name": "ipython",
    "version": 3
   },
   "file_extension": ".py",
   "mimetype": "text/x-python",
   "name": "python",
   "nbconvert_exporter": "python",
   "pygments_lexer": "ipython3",
   "version": "3.6.2"
  }
 },
 "nbformat": 4,
 "nbformat_minor": 2
}
