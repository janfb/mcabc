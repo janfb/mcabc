{
 "cells": [
  {
   "cell_type": "markdown",
   "metadata": {},
   "source": [
    "## SVM benchmark: \n",
    "- ### train a SVM to tell apart K and NA channel models"
   ]
  },
  {
   "cell_type": "code",
   "execution_count": 1,
   "metadata": {},
   "outputs": [],
   "source": [
    "import delfi.distribution as dd\n",
    "import matplotlib as mpl\n",
    "import numpy as np\n",
    "import os\n",
    "import pandas as pd\n",
    "import pickle\n",
    "import sys\n",
    "import time\n",
    "\n",
    "from lfimodels.channelomics.ChannelSingle import ChannelSingle\n",
    "from lfimodels.channelomics.ChannelSuper import ChannelSuper\n",
    "from lfimodels.channelomics.ChannelStats import ChannelStats\n",
    "from matplotlib import pyplot as plt\n",
    "from sklearn.svm import SVC\n",
    "\n",
    "sys.path.append('../../')\n",
    "from model_comparison.utils import *\n",
    "\n",
    "%matplotlib inline"
   ]
  },
  {
   "cell_type": "markdown",
   "metadata": {},
   "source": [
    "## generate observed data from ground truth model"
   ]
  },
  {
   "cell_type": "code",
   "execution_count": 2,
   "metadata": {},
   "outputs": [
    {
     "name": "stderr",
     "output_type": "stream",
     "text": [
      "/Users/janboelts/Documents/code/lfi-models/lfimodels/channelomics/ChannelStats.py:61: FutureWarning: `rcond` parameter will change to the default of machine precision times ``max(M, N)`` where M and N are the input matrix dimensions.\n",
      "To use the future default and silence this warning we advise to pass `rcond=None`, to keep using the old, explicitly pass `rcond=-1`.\n",
      "  x, _, _, _ = np.linalg.lstsq(a, b)\n"
     ]
    }
   ],
   "source": [
    "channel_type = 'na'\n",
    "\n",
    "GT = {'k': np.array([9, 25, 0.02, 0.002]),\n",
    "      'na': np.array([-35, 9, 0.182, 0.124, -50, -75, 5, -65, 6.2, 0.0091, 0.024])}\n",
    "\n",
    "LP = {'k': ['qa','tha','Ra','Rb'],\n",
    "      'na': ['tha','qa','Ra','Rb','thi1','thi2','qi','thinf','qinf','Rg','Rd']}\n",
    "\n",
    "E_channel = {'k': -86.7, 'na': 50}\n",
    "fact_inward = {'k': 1, 'na': -1}\n",
    "\n",
    "gt = GT[channel_type]\n",
    "cython = True\n",
    "third_exp_model = True\n",
    "\n",
    "n_params = len(gt)\n",
    "labels_params = LP[channel_type]\n",
    "prior_lims = np.sort(np.concatenate((0.5 * gt.reshape(-1,1), 1.5 * gt.reshape(-1,1)), axis=1))\n",
    "\n",
    "m = ChannelSuper(channel_type=channel_type, third_exp_model=third_exp_model, cython=cython)\n",
    "p = dd.Uniform(lower=prior_lims[:,0], upper=prior_lims[:,1])\n",
    "s = ChannelStats(channel_type=channel_type)\n",
    "\n",
    "# generate observed data\n",
    "n_params_obs = len(gt)\n",
    "m_obs = ChannelSingle(channel_type=channel_type, n_params=n_params_obs, cython=cython)\n",
    "\n",
    "xo = m_obs.gen(gt.reshape(1,-1))\n",
    "xo_stats = s.calc(xo[0])"
   ]
  },
  {
   "cell_type": "markdown",
   "metadata": {},
   "source": [
    "## Load training data and split test data"
   ]
  },
  {
   "cell_type": "code",
   "execution_count": 3,
   "metadata": {},
   "outputs": [],
   "source": [
    "filename = 'training_data_k_na_N10000seed3.p'\n",
    "folder = '../data/'\n",
    "fullpath = os.path.join(folder, filename)\n",
    "ntest = 100\n",
    "\n",
    "with open(fullpath, 'rb') as f: \n",
    "    result_dict = pickle.load(f)\n",
    "\n",
    "params_k, sx_k, gt_k, prior_lims_k, params_na, sx_na, gt_na, prior_lims_na, seed, n_samples, cython = result_dict.values()\n",
    "\n",
    "n, n_stats = sx_na.shape\n",
    "ntrain = n - ntest\n",
    "\n",
    "# shuffle and set up model index target vector \n",
    "sx = np.vstack((sx_k[:ntrain, ], sx_na[:ntrain, ]))\n",
    "sx_test = np.vstack((sx_k[ntrain:, ], sx_na[ntrain:, ]))\n",
    "\n",
    "# define model indices\n",
    "m = np.hstack((-1 * np.ones(ntrain), np.ones(ntrain))).squeeze().astype(int).tolist()\n",
    "m_test = np.hstack((np.zeros(ntest), np.ones(ntest))).squeeze().astype(int).tolist()\n",
    "\n",
    "# normalize data \n",
    "sx, data_norm = normalize(sx)"
   ]
  },
  {
   "cell_type": "markdown",
   "metadata": {},
   "source": [
    "## Set up and train the vanilla SVM \n"
   ]
  },
  {
   "cell_type": "code",
   "execution_count": 4,
   "metadata": {},
   "outputs": [
    {
     "data": {
      "text/plain": [
       "SVC(C=1.0, cache_size=200, class_weight=None, coef0=0.0,\n",
       "  decision_function_shape='ovr', degree=3, gamma='auto', kernel='rbf',\n",
       "  max_iter=-1, probability=True, random_state=None, shrinking=True,\n",
       "  tol=0.001, verbose=False)"
      ]
     },
     "execution_count": 4,
     "metadata": {},
     "output_type": "execute_result"
    }
   ],
   "source": [
    "clf = SVC(probability=True)\n",
    "clf.fit(sx, m)"
   ]
  },
  {
   "cell_type": "markdown",
   "metadata": {},
   "source": [
    "## Predict model index given observed summary stats"
   ]
  },
  {
   "cell_type": "code",
   "execution_count": 6,
   "metadata": {},
   "outputs": [],
   "source": [
    "sx_test_zt, data_norm = normalize(sx_test, data_norm)\n",
    "predicted_model_prob = clf.predict_proba(sx_test_zt.reshape(-1, sx_test_zt.shape[1]))\n",
    "p = predicted_model_prob[:, 0]\n",
    "y = np.array(m_test)"
   ]
  },
  {
   "cell_type": "markdown",
   "metadata": {},
   "source": [
    "## Calculate cross entropy loss used for training the MDN"
   ]
  },
  {
   "cell_type": "code",
   "execution_count": 7,
   "metadata": {},
   "outputs": [
    {
     "data": {
      "text/plain": [
       "0.00967295126265148"
      ]
     },
     "execution_count": 7,
     "metadata": {},
     "output_type": "execute_result"
    }
   ],
   "source": [
    "cel = -(y * np.log(1 - p) + (1 - y) * np.log(p))\n",
    "cel.sum()"
   ]
  },
  {
   "cell_type": "code",
   "execution_count": null,
   "metadata": {},
   "outputs": [],
   "source": []
  }
 ],
 "metadata": {
  "kernelspec": {
   "display_name": "Python 3",
   "language": "python",
   "name": "python3"
  },
  "language_info": {
   "codemirror_mode": {
    "name": "ipython",
    "version": 3
   },
   "file_extension": ".py",
   "mimetype": "text/x-python",
   "name": "python",
   "nbconvert_exporter": "python",
   "pygments_lexer": "ipython3",
   "version": "3.6.4"
  }
 },
 "nbformat": 4,
 "nbformat_minor": 2
}
