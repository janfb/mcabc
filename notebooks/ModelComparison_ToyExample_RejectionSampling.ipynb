{
 "cells": [
  {
   "cell_type": "code",
   "execution_count": 1,
   "metadata": {
    "collapsed": true
   },
   "outputs": [],
   "source": [
    "import matplotlib.pyplot as plt\n",
    "import matplotlib as mpl\n",
    "import numpy as np\n",
    "import os\n",
    "import pickle\n",
    "import scipy\n",
    "import time\n",
    "import tempfile\n",
    "from tqdm import tqdm\n",
    "\n",
    "from pyabc import (ABCSMC, RV,\n",
    "                   PercentileDistanceFunction, DistanceFunction, sampler)\n",
    "from pyabc import Distribution as abcDis\n",
    "\n",
    "import sys \n",
    "sys.path.append('../../')\n",
    "from model_comparison.utils import *\n",
    "from model_comparison.mdns import *\n",
    "from model_comparison.models import PoissonModel, NegativeBinomialModel\n",
    "\n",
    "from delfi.distribution.mixture import MoG\n",
    "%matplotlib inline"
   ]
  },
  {
   "cell_type": "code",
   "execution_count": 2,
   "metadata": {
    "collapsed": true
   },
   "outputs": [],
   "source": [
    "mpl_params = {'legend.fontsize': 14,\n",
    "              'legend.frameon': False,\n",
    "                      'axes.titlesize': 20,\n",
    "                      'axes.labelsize': 17,\n",
    "                      'xtick.labelsize': 12,\n",
    "                      'ytick.labelsize': 12,\n",
    "             'figure.figsize' : (18, 5)}\n",
    "\n",
    "mpl.rcParams.update(mpl_params)"
   ]
  },
  {
   "cell_type": "markdown",
   "metadata": {},
   "source": [
    "## Set up models"
   ]
  },
  {
   "cell_type": "code",
   "execution_count": 3,
   "metadata": {
    "collapsed": true
   },
   "outputs": [],
   "source": [
    "seed = 3\n",
    "rng = np.random.RandomState(seed=seed)\n",
    "time_stamp = time.strftime('%Y%m%d%H%M_')\n",
    "figure_folder = '../figures/'"
   ]
  },
  {
   "cell_type": "code",
   "execution_count": 10,
   "metadata": {},
   "outputs": [
    {
     "name": "stdout",
     "output_type": "stream",
     "text": [
      "4.0\n"
     ]
    }
   ],
   "source": [
    "sample_size = 10\n",
    "ntest = 100\n",
    "\n",
    "k2 = 2.\n",
    "theta2 = 1.0\n",
    "\n",
    "k3 = 2.\n",
    "theta3 = 2. \n",
    "\n",
    "# then the scale of the Gamma prior for the Poisson is given by\n",
    "theta1 = 2.0\n",
    "k1 = (k2 * theta2 * k3 * theta3) / theta1\n",
    "print(k1)\n",
    "\n",
    "\n",
    "model_poisson = PoissonModel(sample_size=sample_size, seed=seed, n_workers=1)\n",
    "model_nb = NegativeBinomialModel(sample_size=sample_size, seed=seed, n_workers=1)"
   ]
  },
  {
   "cell_type": "code",
   "execution_count": 11,
   "metadata": {
    "collapsed": true
   },
   "outputs": [],
   "source": [
    "# from Gamma prior for Poisson \n",
    "prior_lam = scipy.stats.gamma(a=k1, scale=theta1)\n",
    "prior_k = scipy.stats.gamma(a=k2, scale=theta2)\n",
    "prior_theta = scipy.stats.gamma(a=k3, scale=theta3)"
   ]
  },
  {
   "cell_type": "markdown",
   "metadata": {},
   "source": [
    "## Test data set "
   ]
  },
  {
   "cell_type": "code",
   "execution_count": 12,
   "metadata": {
    "collapsed": true
   },
   "outputs": [],
   "source": [
    "n = ntest\n",
    "params_poi_test = prior_lam.rvs(size=int(n / 2))\n",
    "params_nb_test = np.vstack((prior_k.rvs(size=int(n / 2)), \n",
    "                       prior_theta.rvs(size=int(n / 2)))).T"
   ]
  },
  {
   "cell_type": "code",
   "execution_count": 13,
   "metadata": {
    "collapsed": true
   },
   "outputs": [],
   "source": [
    "data_poi_test = model_poisson.gen(params_poi_test)\n",
    "data_nb_test = model_nb.gen(params_nb_test)"
   ]
  },
  {
   "cell_type": "code",
   "execution_count": 14,
   "metadata": {
    "collapsed": true
   },
   "outputs": [],
   "source": [
    "stats_poi_test = np.array([data_poi_test.mean(axis=1), data_poi_test.var(axis=1)]).T\n",
    "stats_nb_test = np.array([data_nb_test.mean(axis=1), data_nb_test.var(axis=1)]).T"
   ]
  },
  {
   "cell_type": "markdown",
   "metadata": {},
   "source": [
    "## PyABC SMC"
   ]
  },
  {
   "cell_type": "code",
   "execution_count": 15,
   "metadata": {
    "collapsed": true
   },
   "outputs": [],
   "source": [
    "# Define models oin pyabc style \n",
    "def model_1(parameters): \n",
    "    x = model_poisson.gen([parameters.lam])\n",
    "    return {'y': np.array([x.mean(), x.var()])}\n",
    "\n",
    "def model_2(parameters): \n",
    "    x = model_nb.gen([[parameters.k, parameters.theta]])\n",
    "    return {'y': np.array([x.mean(), x.var()])}\n",
    "\n",
    "# priors\n",
    "prior1 = abcDis.from_dictionary_of_dictionaries(dict(lam={'type': 'gamma', 'kwargs': {'a':k1, 'scale': theta1}}))\n",
    "\n",
    "prior2 = abcDis.from_dictionary_of_dictionaries(dict(k={'type': 'gamma', 'kwargs': {'a':k2, 'scale': theta2}}, \n",
    "                                                     theta={'type': 'gamma', 'kwargs': {'a':k3, 'scale': theta3}}))\n",
    "\n",
    "models = [model_1, model_2]\n",
    "parameter_priors = [prior1, prior2]\n",
    "\n",
    "class MyDist(DistanceFunction): \n",
    "    \n",
    "    def __call__(self, x, y): \n",
    "        return np.power(x['y'] - y['y'], 2).mean()      \n",
    "    \n",
    "    \n",
    "class MyModelPrior(RV): \n",
    "    \n",
    "    def rvs(self, *args, **kwargs):\n",
    "        model_idx_vector = self.distribution.rvs(*args, **kwargs)[0]\n",
    "        return np.where(model_idx_vector)[0][0]\n",
    "    \n",
    "    def pmf(self, x, *args, **kwargs):\n",
    "        xv = [0, 0]\n",
    "        xv[x] = 1\n",
    "        return self.distribution.pmf(xv, *args, **kwargs)\n",
    "        "
   ]
  },
  {
   "cell_type": "markdown",
   "metadata": {},
   "source": [
    "## SMC with single round = rejection sampling"
   ]
  },
  {
   "cell_type": "code",
   "execution_count": 18,
   "metadata": {},
   "outputs": [
    {
     "name": "stderr",
     "output_type": "stream",
     "text": [
      "\n",
      "  0%|          | 0/100 [00:00<?, ?it/s]\u001b[AINFO:Epsilon:initial epsilon is 45.276525\n",
      "INFO:History:Start <ABCSMC(id=124, start_time=2018-05-23 13:48:56.059765, end_time=None)>\n",
      "INFO:ABC:t:0 eps:45.276525\n",
      "INFO:History:Done <ABCSMC(id=124, start_time=2018-05-23 13:48:56.059765, end_time=2018-05-23 13:48:56.289987)>\n",
      "\n",
      "  1%|          | 1/100 [00:00<00:30,  3.23it/s]\u001b[AINFO:Epsilon:initial epsilon is 24.135925000000004\n",
      "INFO:History:Start <ABCSMC(id=125, start_time=2018-05-23 13:48:56.363823, end_time=None)>\n",
      "INFO:ABC:t:0 eps:24.135925000000004\n"
     ]
    },
    {
     "name": "stdout",
     "output_type": "stream",
     "text": [
      "197\n"
     ]
    },
    {
     "name": "stderr",
     "output_type": "stream",
     "text": [
      "INFO:History:Done <ABCSMC(id=125, start_time=2018-05-23 13:48:56.363823, end_time=2018-05-23 13:48:56.593977)>\n",
      "\n",
      "  2%|▏         | 2/100 [00:00<00:30,  3.26it/s]\u001b[AINFO:Epsilon:initial epsilon is 22.641249999999985\n",
      "INFO:History:Start <ABCSMC(id=126, start_time=2018-05-23 13:48:56.664046, end_time=None)>\n",
      "INFO:ABC:t:0 eps:22.641249999999985\n"
     ]
    },
    {
     "name": "stdout",
     "output_type": "stream",
     "text": [
      "204\n"
     ]
    },
    {
     "name": "stderr",
     "output_type": "stream",
     "text": [
      "INFO:History:Done <ABCSMC(id=126, start_time=2018-05-23 13:48:56.664046, end_time=2018-05-23 13:48:56.925914)>\n",
      "\n",
      "  3%|▎         | 3/100 [00:00<00:30,  3.18it/s]\u001b[AINFO:Epsilon:initial epsilon is 23.49952499999999\n",
      "INFO:History:Start <ABCSMC(id=127, start_time=2018-05-23 13:48:57.010883, end_time=None)>\n",
      "INFO:ABC:t:0 eps:23.49952499999999\n"
     ]
    },
    {
     "name": "stdout",
     "output_type": "stream",
     "text": [
      "206\n"
     ]
    },
    {
     "name": "stderr",
     "output_type": "stream",
     "text": [
      "INFO:History:Done <ABCSMC(id=127, start_time=2018-05-23 13:48:57.010883, end_time=2018-05-23 13:48:57.260407)>\n",
      "\n",
      "  4%|▍         | 4/100 [00:01<00:30,  3.12it/s]\u001b[AINFO:Epsilon:initial epsilon is 19.899999999999988\n",
      "INFO:History:Start <ABCSMC(id=128, start_time=2018-05-23 13:48:57.334271, end_time=None)>\n",
      "INFO:ABC:t:0 eps:19.899999999999988\n"
     ]
    },
    {
     "name": "stdout",
     "output_type": "stream",
     "text": [
      "210\n"
     ]
    },
    {
     "name": "stderr",
     "output_type": "stream",
     "text": [
      "INFO:History:Done <ABCSMC(id=128, start_time=2018-05-23 13:48:57.334271, end_time=2018-05-23 13:48:57.585716)>\n",
      "\n",
      "  5%|▌         | 5/100 [00:01<00:30,  3.11it/s]\u001b[AINFO:Epsilon:initial epsilon is 31.652649999999998\n",
      "INFO:History:Start <ABCSMC(id=129, start_time=2018-05-23 13:48:57.656008, end_time=None)>\n",
      "INFO:ABC:t:0 eps:31.652649999999998\n"
     ]
    },
    {
     "name": "stdout",
     "output_type": "stream",
     "text": [
      "196\n"
     ]
    },
    {
     "name": "stderr",
     "output_type": "stream",
     "text": [
      "INFO:History:Done <ABCSMC(id=129, start_time=2018-05-23 13:48:57.656008, end_time=2018-05-23 13:48:57.923680)>\n",
      "\n",
      "  6%|▌         | 6/100 [00:01<00:30,  3.06it/s]\u001b[AINFO:Epsilon:initial epsilon is 41.76792499999999\n",
      "INFO:History:Start <ABCSMC(id=130, start_time=2018-05-23 13:48:57.995581, end_time=None)>\n",
      "INFO:ABC:t:0 eps:41.76792499999999\n"
     ]
    },
    {
     "name": "stdout",
     "output_type": "stream",
     "text": [
      "250\n"
     ]
    },
    {
     "name": "stderr",
     "output_type": "stream",
     "text": [
      "INFO:History:Done <ABCSMC(id=130, start_time=2018-05-23 13:48:57.995581, end_time=2018-05-23 13:48:58.225117)>\n",
      "\n",
      "  7%|▋         | 7/100 [00:02<00:29,  3.13it/s]\u001b[AINFO:Epsilon:initial epsilon is 30.613324999999982\n",
      "INFO:History:Start <ABCSMC(id=131, start_time=2018-05-23 13:48:58.299094, end_time=None)>\n",
      "INFO:ABC:t:0 eps:30.613324999999982\n"
     ]
    },
    {
     "name": "stdout",
     "output_type": "stream",
     "text": [
      "200\n"
     ]
    },
    {
     "name": "stderr",
     "output_type": "stream",
     "text": [
      "\n",
      "INFO:History:Done <ABCSMC(id=131, start_time=2018-05-23 13:48:58.299094, end_time=2018-05-23 13:48:58.557999)>\n",
      "  8%|▊         | 8/100 [00:02<00:29,  3.07it/s]INFO:Epsilon:initial epsilon is 34.625124999999954\n",
      "INFO:History:Start <ABCSMC(id=132, start_time=2018-05-23 13:48:58.646511, end_time=None)>\n",
      "INFO:ABC:t:0 eps:34.625124999999954\n"
     ]
    },
    {
     "name": "stdout",
     "output_type": "stream",
     "text": [
      "190\n"
     ]
    },
    {
     "name": "stderr",
     "output_type": "stream",
     "text": [
      "INFO:History:Done <ABCSMC(id=132, start_time=2018-05-23 13:48:58.646511, end_time=2018-05-23 13:48:58.917227)>\n",
      "  9%|▉         | 9/100 [00:02<00:30,  3.00it/s]INFO:Epsilon:initial epsilon is 30.581524999999978\n",
      "INFO:History:Start <ABCSMC(id=133, start_time=2018-05-23 13:48:59.000404, end_time=None)>\n",
      "INFO:ABC:t:0 eps:30.581524999999978\n"
     ]
    },
    {
     "name": "stdout",
     "output_type": "stream",
     "text": [
      "216\n"
     ]
    },
    {
     "name": "stderr",
     "output_type": "stream",
     "text": [
      "INFO:History:Done <ABCSMC(id=133, start_time=2018-05-23 13:48:59.000404, end_time=2018-05-23 13:48:59.229100)>\n",
      " 10%|█         | 10/100 [00:03<00:29,  3.06it/s]INFO:Epsilon:initial epsilon is 28.83864999999997\n"
     ]
    },
    {
     "name": "stdout",
     "output_type": "stream",
     "text": [
      "173\n"
     ]
    },
    {
     "name": "stderr",
     "output_type": "stream",
     "text": [
      "INFO:History:Start <ABCSMC(id=134, start_time=2018-05-23 13:48:59.436336, end_time=None)>\n",
      "INFO:ABC:t:0 eps:28.83864999999997\n",
      "INFO:History:Done <ABCSMC(id=134, start_time=2018-05-23 13:48:59.436336, end_time=2018-05-23 13:48:59.702464)>\n",
      " 11%|█         | 11/100 [00:03<00:33,  2.69it/s]INFO:Epsilon:initial epsilon is 22.895124999999982\n",
      "INFO:History:Start <ABCSMC(id=135, start_time=2018-05-23 13:48:59.778771, end_time=None)>\n",
      "INFO:ABC:t:0 eps:22.895124999999982\n"
     ]
    },
    {
     "name": "stdout",
     "output_type": "stream",
     "text": [
      "171\n"
     ]
    },
    {
     "name": "stderr",
     "output_type": "stream",
     "text": [
      "INFO:History:Done <ABCSMC(id=135, start_time=2018-05-23 13:48:59.778771, end_time=2018-05-23 13:49:00.044782)>\n",
      " 12%|█▏        | 12/100 [00:04<00:32,  2.75it/s]INFO:Epsilon:initial epsilon is 40.88812500000001\n",
      "INFO:History:Start <ABCSMC(id=136, start_time=2018-05-23 13:49:00.128443, end_time=None)>\n",
      "INFO:ABC:t:0 eps:40.88812500000001\n"
     ]
    },
    {
     "name": "stdout",
     "output_type": "stream",
     "text": [
      "232\n"
     ]
    },
    {
     "name": "stderr",
     "output_type": "stream",
     "text": [
      "INFO:History:Done <ABCSMC(id=136, start_time=2018-05-23 13:49:00.128443, end_time=2018-05-23 13:49:00.368813)>\n",
      " 13%|█▎        | 13/100 [00:04<00:30,  2.85it/s]INFO:Epsilon:initial epsilon is 26.41732499999999\n",
      "INFO:History:Start <ABCSMC(id=137, start_time=2018-05-23 13:49:00.443766, end_time=None)>\n",
      "INFO:ABC:t:0 eps:26.41732499999999\n"
     ]
    },
    {
     "name": "stdout",
     "output_type": "stream",
     "text": [
      "190\n"
     ]
    },
    {
     "name": "stderr",
     "output_type": "stream",
     "text": [
      "INFO:History:Done <ABCSMC(id=137, start_time=2018-05-23 13:49:00.443766, end_time=2018-05-23 13:49:00.682513)>\n",
      " 14%|█▍        | 14/100 [00:04<00:29,  2.95it/s]INFO:Epsilon:initial epsilon is 17.466399999999954\n",
      "INFO:History:Start <ABCSMC(id=138, start_time=2018-05-23 13:49:00.757625, end_time=None)>\n",
      "INFO:ABC:t:0 eps:17.466399999999954\n"
     ]
    },
    {
     "name": "stdout",
     "output_type": "stream",
     "text": [
      "200\n"
     ]
    },
    {
     "name": "stderr",
     "output_type": "stream",
     "text": [
      "INFO:History:Done <ABCSMC(id=138, start_time=2018-05-23 13:49:00.757625, end_time=2018-05-23 13:49:01.022965)>\n",
      " 15%|█▌        | 15/100 [00:05<00:28,  2.94it/s]INFO:Epsilon:initial epsilon is 25.062724999999936\n",
      "INFO:History:Start <ABCSMC(id=139, start_time=2018-05-23 13:49:01.105486, end_time=None)>\n",
      "INFO:ABC:t:0 eps:25.062724999999936\n"
     ]
    },
    {
     "name": "stdout",
     "output_type": "stream",
     "text": [
      "223\n"
     ]
    },
    {
     "name": "stderr",
     "output_type": "stream",
     "text": [
      "INFO:History:Done <ABCSMC(id=139, start_time=2018-05-23 13:49:01.105486, end_time=2018-05-23 13:49:01.383617)>\n",
      " 16%|█▌        | 16/100 [00:05<00:29,  2.87it/s]INFO:Epsilon:initial epsilon is 26.401599999999995\n",
      "INFO:History:Start <ABCSMC(id=140, start_time=2018-05-23 13:49:01.483116, end_time=None)>\n",
      "INFO:ABC:t:0 eps:26.401599999999995\n"
     ]
    },
    {
     "name": "stdout",
     "output_type": "stream",
     "text": [
      "191\n"
     ]
    },
    {
     "name": "stderr",
     "output_type": "stream",
     "text": [
      "INFO:History:Done <ABCSMC(id=140, start_time=2018-05-23 13:49:01.483116, end_time=2018-05-23 13:49:01.705344)>\n",
      " 17%|█▋        | 17/100 [00:05<00:28,  2.96it/s]INFO:Epsilon:initial epsilon is 27.871599999999983\n",
      "INFO:History:Start <ABCSMC(id=141, start_time=2018-05-23 13:49:01.775866, end_time=None)>\n",
      "INFO:ABC:t:0 eps:27.871599999999983\n"
     ]
    },
    {
     "name": "stdout",
     "output_type": "stream",
     "text": [
      "194\n"
     ]
    },
    {
     "name": "stderr",
     "output_type": "stream",
     "text": [
      "INFO:History:Done <ABCSMC(id=141, start_time=2018-05-23 13:49:01.775866, end_time=2018-05-23 13:49:02.013098)>\n",
      " 18%|█▊        | 18/100 [00:06<00:26,  3.04it/s]INFO:Epsilon:initial epsilon is 28.129324999999938\n",
      "INFO:History:Start <ABCSMC(id=142, start_time=2018-05-23 13:49:02.082026, end_time=None)>\n",
      "INFO:ABC:t:0 eps:28.129324999999938\n"
     ]
    },
    {
     "name": "stdout",
     "output_type": "stream",
     "text": [
      "216\n"
     ]
    },
    {
     "name": "stderr",
     "output_type": "stream",
     "text": [
      "INFO:History:Done <ABCSMC(id=142, start_time=2018-05-23 13:49:02.082026, end_time=2018-05-23 13:49:02.323389)>\n",
      " 19%|█▉        | 19/100 [00:06<00:26,  3.09it/s]INFO:Epsilon:initial epsilon is 19.628124999999997\n",
      "INFO:History:Start <ABCSMC(id=143, start_time=2018-05-23 13:49:02.396525, end_time=None)>\n",
      "INFO:ABC:t:0 eps:19.628124999999997\n"
     ]
    },
    {
     "name": "stdout",
     "output_type": "stream",
     "text": [
      "232\n"
     ]
    },
    {
     "name": "stderr",
     "output_type": "stream",
     "text": [
      "INFO:History:Done <ABCSMC(id=143, start_time=2018-05-23 13:49:02.396525, end_time=2018-05-23 13:49:02.743193)>\n",
      " 20%|██        | 20/100 [00:06<00:28,  2.84it/s]INFO:Epsilon:initial epsilon is 22.213599999999992\n",
      "INFO:History:Start <ABCSMC(id=144, start_time=2018-05-23 13:49:02.815377, end_time=None)>\n",
      "INFO:ABC:t:0 eps:22.213599999999992\n"
     ]
    },
    {
     "name": "stdout",
     "output_type": "stream",
     "text": [
      "214\n"
     ]
    },
    {
     "name": "stderr",
     "output_type": "stream",
     "text": [
      "INFO:History:Done <ABCSMC(id=144, start_time=2018-05-23 13:49:02.815377, end_time=2018-05-23 13:49:03.052912)>\n",
      " 21%|██        | 21/100 [00:07<00:26,  2.95it/s]INFO:Epsilon:initial epsilon is 25.588324999999987\n",
      "INFO:History:Start <ABCSMC(id=145, start_time=2018-05-23 13:49:03.121801, end_time=None)>\n",
      "INFO:ABC:t:0 eps:25.588324999999987\n"
     ]
    },
    {
     "name": "stdout",
     "output_type": "stream",
     "text": [
      "218\n"
     ]
    },
    {
     "name": "stderr",
     "output_type": "stream",
     "text": [
      "INFO:History:Done <ABCSMC(id=145, start_time=2018-05-23 13:49:03.121801, end_time=2018-05-23 13:49:03.353920)>\n",
      " 22%|██▏       | 22/100 [00:07<00:25,  3.05it/s]INFO:Epsilon:initial epsilon is 22.97532499999995\n",
      "INFO:History:Start <ABCSMC(id=146, start_time=2018-05-23 13:49:03.428274, end_time=None)>\n",
      "INFO:ABC:t:0 eps:22.97532499999995\n"
     ]
    },
    {
     "name": "stdout",
     "output_type": "stream",
     "text": [
      "227\n"
     ]
    },
    {
     "name": "stderr",
     "output_type": "stream",
     "text": [
      "INFO:History:Done <ABCSMC(id=146, start_time=2018-05-23 13:49:03.428274, end_time=2018-05-23 13:49:03.669400)>\n",
      " 23%|██▎       | 23/100 [00:07<00:24,  3.09it/s]INFO:Epsilon:initial epsilon is 43.45192499999998\n",
      "INFO:History:Start <ABCSMC(id=147, start_time=2018-05-23 13:49:03.743346, end_time=None)>\n",
      "INFO:ABC:t:0 eps:43.45192499999998\n"
     ]
    },
    {
     "name": "stdout",
     "output_type": "stream",
     "text": [
      "227\n"
     ]
    },
    {
     "name": "stderr",
     "output_type": "stream",
     "text": [
      "INFO:History:Done <ABCSMC(id=147, start_time=2018-05-23 13:49:03.743346, end_time=2018-05-23 13:49:03.975517)>\n",
      " 24%|██▍       | 24/100 [00:07<00:24,  3.14it/s]INFO:Epsilon:initial epsilon is 56.4404\n",
      "INFO:History:Start <ABCSMC(id=148, start_time=2018-05-23 13:49:04.048917, end_time=None)>\n",
      "INFO:ABC:t:0 eps:56.4404\n"
     ]
    },
    {
     "name": "stdout",
     "output_type": "stream",
     "text": [
      "211\n"
     ]
    },
    {
     "name": "stderr",
     "output_type": "stream",
     "text": [
      "INFO:History:Done <ABCSMC(id=148, start_time=2018-05-23 13:49:04.048917, end_time=2018-05-23 13:49:04.291143)>\n",
      " 25%|██▌       | 25/100 [00:08<00:23,  3.14it/s]INFO:Epsilon:initial epsilon is 24.917049999999993\n",
      "INFO:History:Start <ABCSMC(id=149, start_time=2018-05-23 13:49:04.370853, end_time=None)>\n",
      "INFO:ABC:t:0 eps:24.917049999999993\n"
     ]
    },
    {
     "name": "stdout",
     "output_type": "stream",
     "text": [
      "231\n"
     ]
    },
    {
     "name": "stderr",
     "output_type": "stream",
     "text": [
      "INFO:History:Done <ABCSMC(id=149, start_time=2018-05-23 13:49:04.370853, end_time=2018-05-23 13:49:04.610285)>\n",
      " 26%|██▌       | 26/100 [00:08<00:23,  3.15it/s]INFO:Epsilon:initial epsilon is 47.95312499999998\n",
      "INFO:History:Start <ABCSMC(id=150, start_time=2018-05-23 13:49:04.683700, end_time=None)>\n",
      "INFO:ABC:t:0 eps:47.95312499999998\n"
     ]
    },
    {
     "name": "stdout",
     "output_type": "stream",
     "text": [
      "211\n"
     ]
    },
    {
     "name": "stderr",
     "output_type": "stream",
     "text": [
      "INFO:History:Done <ABCSMC(id=150, start_time=2018-05-23 13:49:04.683700, end_time=2018-05-23 13:49:04.910509)>\n",
      " 27%|██▋       | 27/100 [00:08<00:22,  3.20it/s]INFO:Epsilon:initial epsilon is 21.59759999999998\n",
      "INFO:History:Start <ABCSMC(id=151, start_time=2018-05-23 13:49:04.987574, end_time=None)>\n",
      "INFO:ABC:t:0 eps:21.59759999999998\n"
     ]
    },
    {
     "name": "stdout",
     "output_type": "stream",
     "text": [
      "186\n"
     ]
    },
    {
     "name": "stderr",
     "output_type": "stream",
     "text": [
      "INFO:History:Done <ABCSMC(id=151, start_time=2018-05-23 13:49:04.987574, end_time=2018-05-23 13:49:05.276125)>\n",
      " 28%|██▊       | 28/100 [00:09<00:23,  3.04it/s]INFO:Epsilon:initial epsilon is 16.55872499999999\n",
      "INFO:History:Start <ABCSMC(id=152, start_time=2018-05-23 13:49:05.347845, end_time=None)>\n",
      "INFO:ABC:t:0 eps:16.55872499999999\n"
     ]
    },
    {
     "name": "stdout",
     "output_type": "stream",
     "text": [
      "171\n"
     ]
    },
    {
     "name": "stderr",
     "output_type": "stream",
     "text": [
      "INFO:History:Done <ABCSMC(id=152, start_time=2018-05-23 13:49:05.347845, end_time=2018-05-23 13:49:05.587050)>\n",
      " 29%|██▉       | 29/100 [00:09<00:22,  3.10it/s]INFO:Epsilon:initial epsilon is 58.432399999999916\n",
      "INFO:History:Start <ABCSMC(id=153, start_time=2018-05-23 13:49:05.658345, end_time=None)>\n",
      "INFO:ABC:t:0 eps:58.432399999999916\n"
     ]
    },
    {
     "name": "stdout",
     "output_type": "stream",
     "text": [
      "236\n"
     ]
    },
    {
     "name": "stderr",
     "output_type": "stream",
     "text": [
      "INFO:History:Done <ABCSMC(id=153, start_time=2018-05-23 13:49:05.658345, end_time=2018-05-23 13:49:05.879218)>\n",
      " 30%|███       | 30/100 [00:09<00:21,  3.18it/s]INFO:Epsilon:initial epsilon is 21.391849999999984\n",
      "INFO:History:Start <ABCSMC(id=154, start_time=2018-05-23 13:49:06.046371, end_time=None)>\n",
      "INFO:ABC:t:0 eps:21.391849999999984\n"
     ]
    },
    {
     "name": "stdout",
     "output_type": "stream",
     "text": [
      "176\n"
     ]
    },
    {
     "name": "stderr",
     "output_type": "stream",
     "text": [
      "INFO:History:Done <ABCSMC(id=154, start_time=2018-05-23 13:49:06.046371, end_time=2018-05-23 13:49:06.277848)>\n",
      " 31%|███       | 31/100 [00:10<00:23,  2.95it/s]INFO:Epsilon:initial epsilon is 18.139999999999993\n",
      "INFO:History:Start <ABCSMC(id=155, start_time=2018-05-23 13:49:06.349250, end_time=None)>\n",
      "INFO:ABC:t:0 eps:18.139999999999993\n"
     ]
    },
    {
     "name": "stdout",
     "output_type": "stream",
     "text": [
      "201\n"
     ]
    },
    {
     "name": "stderr",
     "output_type": "stream",
     "text": [
      "INFO:History:Done <ABCSMC(id=155, start_time=2018-05-23 13:49:06.349250, end_time=2018-05-23 13:49:06.563696)>\n",
      " 32%|███▏      | 32/100 [00:10<00:22,  3.09it/s]INFO:Epsilon:initial epsilon is 20.634724999999978\n",
      "INFO:History:Start <ABCSMC(id=156, start_time=2018-05-23 13:49:06.634348, end_time=None)>\n",
      "INFO:ABC:t:0 eps:20.634724999999978\n"
     ]
    },
    {
     "name": "stdout",
     "output_type": "stream",
     "text": [
      "187\n"
     ]
    },
    {
     "name": "stderr",
     "output_type": "stream",
     "text": [
      "INFO:History:Done <ABCSMC(id=156, start_time=2018-05-23 13:49:06.634348, end_time=2018-05-23 13:49:06.870288)>\n",
      " 33%|███▎      | 33/100 [00:10<00:21,  3.15it/s]INFO:Epsilon:initial epsilon is 23.155524999999994\n",
      "INFO:History:Start <ABCSMC(id=157, start_time=2018-05-23 13:49:06.941166, end_time=None)>\n",
      "INFO:ABC:t:0 eps:23.155524999999994\n"
     ]
    },
    {
     "name": "stdout",
     "output_type": "stream",
     "text": [
      "200\n"
     ]
    },
    {
     "name": "stderr",
     "output_type": "stream",
     "text": [
      "INFO:History:Done <ABCSMC(id=157, start_time=2018-05-23 13:49:06.941166, end_time=2018-05-23 13:49:07.164205)>\n",
      " 34%|███▍      | 34/100 [00:11<00:20,  3.21it/s]INFO:Epsilon:initial epsilon is 14.69632499999994\n",
      "INFO:History:Start <ABCSMC(id=158, start_time=2018-05-23 13:49:07.235890, end_time=None)>\n",
      "INFO:ABC:t:0 eps:14.69632499999994\n"
     ]
    },
    {
     "name": "stdout",
     "output_type": "stream",
     "text": [
      "179\n"
     ]
    },
    {
     "name": "stderr",
     "output_type": "stream",
     "text": [
      "INFO:History:Done <ABCSMC(id=158, start_time=2018-05-23 13:49:07.235890, end_time=2018-05-23 13:49:07.462963)>\n",
      " 35%|███▌      | 35/100 [00:11<00:19,  3.25it/s]INFO:Epsilon:initial epsilon is 80.11072499999999\n",
      "INFO:History:Start <ABCSMC(id=159, start_time=2018-05-23 13:49:07.536919, end_time=None)>\n",
      "INFO:ABC:t:0 eps:80.11072499999999\n"
     ]
    },
    {
     "name": "stdout",
     "output_type": "stream",
     "text": [
      "214\n"
     ]
    },
    {
     "name": "stderr",
     "output_type": "stream",
     "text": [
      "INFO:History:Done <ABCSMC(id=159, start_time=2018-05-23 13:49:07.536919, end_time=2018-05-23 13:49:07.770093)>\n",
      " 36%|███▌      | 36/100 [00:11<00:19,  3.26it/s]INFO:Epsilon:initial epsilon is 19.002399999999998\n",
      "INFO:History:Start <ABCSMC(id=160, start_time=2018-05-23 13:49:07.843545, end_time=None)>\n",
      "INFO:ABC:t:0 eps:19.002399999999998\n"
     ]
    },
    {
     "name": "stdout",
     "output_type": "stream",
     "text": [
      "185\n"
     ]
    },
    {
     "name": "stderr",
     "output_type": "stream",
     "text": [
      "INFO:History:Done <ABCSMC(id=160, start_time=2018-05-23 13:49:07.843545, end_time=2018-05-23 13:49:08.084350)>\n",
      " 37%|███▋      | 37/100 [00:12<00:19,  3.23it/s]INFO:Epsilon:initial epsilon is 24.342124999999996\n",
      "INFO:History:Start <ABCSMC(id=161, start_time=2018-05-23 13:49:08.164288, end_time=None)>\n",
      "INFO:ABC:t:0 eps:24.342124999999996\n"
     ]
    },
    {
     "name": "stdout",
     "output_type": "stream",
     "text": [
      "204\n"
     ]
    },
    {
     "name": "stderr",
     "output_type": "stream",
     "text": [
      "INFO:History:Done <ABCSMC(id=161, start_time=2018-05-23 13:49:08.164288, end_time=2018-05-23 13:49:08.461900)>\n",
      " 38%|███▊      | 38/100 [00:12<00:20,  3.03it/s]INFO:Epsilon:initial epsilon is 546.1399999999998\n",
      "INFO:History:Start <ABCSMC(id=162, start_time=2018-05-23 13:49:08.534714, end_time=None)>\n",
      "INFO:ABC:t:0 eps:546.1399999999998\n"
     ]
    },
    {
     "name": "stdout",
     "output_type": "stream",
     "text": [
      "178\n"
     ]
    },
    {
     "name": "stderr",
     "output_type": "stream",
     "text": [
      "INFO:History:Done <ABCSMC(id=162, start_time=2018-05-23 13:49:08.534714, end_time=2018-05-23 13:49:08.784289)>\n",
      " 39%|███▉      | 39/100 [00:12<00:19,  3.05it/s]INFO:Epsilon:initial epsilon is 24.11372499999999\n",
      "INFO:History:Start <ABCSMC(id=163, start_time=2018-05-23 13:49:08.857029, end_time=None)>\n",
      "INFO:ABC:t:0 eps:24.11372499999999\n"
     ]
    },
    {
     "name": "stdout",
     "output_type": "stream",
     "text": [
      "222\n"
     ]
    },
    {
     "name": "stderr",
     "output_type": "stream",
     "text": [
      "INFO:History:Done <ABCSMC(id=163, start_time=2018-05-23 13:49:08.857029, end_time=2018-05-23 13:49:09.087489)>\n",
      " 40%|████      | 40/100 [00:13<00:19,  3.13it/s]INFO:Epsilon:initial epsilon is 43.432799999999965\n",
      "INFO:History:Start <ABCSMC(id=164, start_time=2018-05-23 13:49:09.157491, end_time=None)>\n",
      "INFO:ABC:t:0 eps:43.432799999999965\n"
     ]
    },
    {
     "name": "stdout",
     "output_type": "stream",
     "text": [
      "195\n"
     ]
    },
    {
     "name": "stderr",
     "output_type": "stream",
     "text": [
      "INFO:History:Done <ABCSMC(id=164, start_time=2018-05-23 13:49:09.157491, end_time=2018-05-23 13:49:09.392472)>\n",
      " 41%|████      | 41/100 [00:13<00:18,  3.16it/s]INFO:Epsilon:initial epsilon is 29.47192499999991\n",
      "INFO:History:Start <ABCSMC(id=165, start_time=2018-05-23 13:49:09.466935, end_time=None)>\n",
      "INFO:ABC:t:0 eps:29.47192499999991\n"
     ]
    },
    {
     "name": "stdout",
     "output_type": "stream",
     "text": [
      "199\n"
     ]
    },
    {
     "name": "stderr",
     "output_type": "stream",
     "text": [
      "INFO:History:Done <ABCSMC(id=165, start_time=2018-05-23 13:49:09.466935, end_time=2018-05-23 13:49:09.720916)>\n",
      " 42%|████▏     | 42/100 [00:13<00:18,  3.13it/s]INFO:Epsilon:initial epsilon is 20.001724999999997\n",
      "INFO:History:Start <ABCSMC(id=166, start_time=2018-05-23 13:49:09.793511, end_time=None)>\n",
      "INFO:ABC:t:0 eps:20.001724999999997\n"
     ]
    },
    {
     "name": "stdout",
     "output_type": "stream",
     "text": [
      "250\n"
     ]
    },
    {
     "name": "stderr",
     "output_type": "stream",
     "text": [
      "INFO:History:Done <ABCSMC(id=166, start_time=2018-05-23 13:49:09.793511, end_time=2018-05-23 13:49:10.034874)>\n",
      " 43%|████▎     | 43/100 [00:14<00:18,  3.14it/s]INFO:Epsilon:initial epsilon is 27.71772499999999\n",
      "INFO:History:Start <ABCSMC(id=167, start_time=2018-05-23 13:49:10.110521, end_time=None)>\n",
      "INFO:ABC:t:0 eps:27.71772499999999\n"
     ]
    },
    {
     "name": "stdout",
     "output_type": "stream",
     "text": [
      "215\n"
     ]
    },
    {
     "name": "stderr",
     "output_type": "stream",
     "text": [
      "INFO:History:Done <ABCSMC(id=167, start_time=2018-05-23 13:49:10.110521, end_time=2018-05-23 13:49:10.329497)>\n",
      " 44%|████▍     | 44/100 [00:14<00:17,  3.22it/s]INFO:Epsilon:initial epsilon is 27.081124999999954\n",
      "INFO:History:Start <ABCSMC(id=168, start_time=2018-05-23 13:49:10.402647, end_time=None)>\n",
      "INFO:ABC:t:0 eps:27.081124999999954\n"
     ]
    },
    {
     "name": "stdout",
     "output_type": "stream",
     "text": [
      "161\n"
     ]
    },
    {
     "name": "stderr",
     "output_type": "stream",
     "text": [
      "INFO:History:Done <ABCSMC(id=168, start_time=2018-05-23 13:49:10.402647, end_time=2018-05-23 13:49:10.647400)>\n",
      " 45%|████▌     | 45/100 [00:14<00:17,  3.19it/s]INFO:Epsilon:initial epsilon is 17.076324999999997\n",
      "INFO:History:Start <ABCSMC(id=169, start_time=2018-05-23 13:49:10.725317, end_time=None)>\n",
      "INFO:ABC:t:0 eps:17.076324999999997\n"
     ]
    },
    {
     "name": "stdout",
     "output_type": "stream",
     "text": [
      "202\n"
     ]
    },
    {
     "name": "stderr",
     "output_type": "stream",
     "text": [
      "INFO:History:Done <ABCSMC(id=169, start_time=2018-05-23 13:49:10.725317, end_time=2018-05-23 13:49:10.990857)>\n",
      " 46%|████▌     | 46/100 [00:15<00:17,  3.10it/s]INFO:Epsilon:initial epsilon is 22.515599999999996\n",
      "INFO:History:Start <ABCSMC(id=170, start_time=2018-05-23 13:49:11.069739, end_time=None)>\n",
      "INFO:ABC:t:0 eps:22.515599999999996\n"
     ]
    },
    {
     "name": "stdout",
     "output_type": "stream",
     "text": [
      "213\n"
     ]
    },
    {
     "name": "stderr",
     "output_type": "stream",
     "text": [
      "INFO:History:Done <ABCSMC(id=170, start_time=2018-05-23 13:49:11.069739, end_time=2018-05-23 13:49:11.326473)>\n",
      " 47%|████▋     | 47/100 [00:15<00:19,  2.75it/s]INFO:Epsilon:initial epsilon is 35.91079999999997\n",
      "INFO:History:Start <ABCSMC(id=171, start_time=2018-05-23 13:49:11.528478, end_time=None)>\n"
     ]
    },
    {
     "name": "stdout",
     "output_type": "stream",
     "text": [
      "202\n"
     ]
    },
    {
     "name": "stderr",
     "output_type": "stream",
     "text": [
      "INFO:ABC:t:0 eps:35.91079999999997\n",
      "INFO:History:Done <ABCSMC(id=171, start_time=2018-05-23 13:49:11.528478, end_time=2018-05-23 13:49:11.772182)>\n",
      " 48%|████▊     | 48/100 [00:15<00:18,  2.85it/s]INFO:Epsilon:initial epsilon is 35.73524999999998\n",
      "INFO:History:Start <ABCSMC(id=172, start_time=2018-05-23 13:49:11.846064, end_time=None)>\n",
      "INFO:ABC:t:0 eps:35.73524999999998\n"
     ]
    },
    {
     "name": "stdout",
     "output_type": "stream",
     "text": [
      "182\n"
     ]
    },
    {
     "name": "stderr",
     "output_type": "stream",
     "text": [
      "INFO:History:Done <ABCSMC(id=172, start_time=2018-05-23 13:49:11.846064, end_time=2018-05-23 13:49:12.072741)>\n",
      " 49%|████▉     | 49/100 [00:16<00:17,  2.98it/s]INFO:Epsilon:initial epsilon is 31.896799999999935\n",
      "INFO:History:Start <ABCSMC(id=173, start_time=2018-05-23 13:49:12.145637, end_time=None)>\n",
      "INFO:ABC:t:0 eps:31.896799999999935\n"
     ]
    },
    {
     "name": "stdout",
     "output_type": "stream",
     "text": [
      "166\n"
     ]
    },
    {
     "name": "stderr",
     "output_type": "stream",
     "text": [
      "INFO:History:Done <ABCSMC(id=173, start_time=2018-05-23 13:49:12.145637, end_time=2018-05-23 13:49:12.387431)>\n",
      " 50%|█████     | 50/100 [00:16<00:16,  3.02it/s]INFO:Epsilon:initial epsilon is 27.56072499999999\n",
      "INFO:History:Start <ABCSMC(id=174, start_time=2018-05-23 13:49:12.468346, end_time=None)>\n",
      "INFO:ABC:t:0 eps:27.56072499999999\n"
     ]
    },
    {
     "name": "stdout",
     "output_type": "stream",
     "text": [
      "203\n"
     ]
    },
    {
     "name": "stderr",
     "output_type": "stream",
     "text": [
      "INFO:History:Done <ABCSMC(id=174, start_time=2018-05-23 13:49:12.468346, end_time=2018-05-23 13:49:12.729719)>\n",
      " 51%|█████     | 51/100 [00:16<00:16,  3.00it/s]INFO:Epsilon:initial epsilon is 563.5643999999996\n",
      "INFO:History:Start <ABCSMC(id=175, start_time=2018-05-23 13:49:12.818698, end_time=None)>\n",
      "INFO:ABC:t:0 eps:563.5643999999996\n"
     ]
    },
    {
     "name": "stdout",
     "output_type": "stream",
     "text": [
      "182\n"
     ]
    },
    {
     "name": "stderr",
     "output_type": "stream",
     "text": [
      "INFO:History:Done <ABCSMC(id=175, start_time=2018-05-23 13:49:12.818698, end_time=2018-05-23 13:49:13.071520)>\n",
      " 52%|█████▏    | 52/100 [00:17<00:16,  2.98it/s]INFO:Epsilon:initial epsilon is 36.38804999999996\n",
      "INFO:History:Start <ABCSMC(id=176, start_time=2018-05-23 13:49:13.149473, end_time=None)>\n",
      "INFO:ABC:t:0 eps:36.38804999999996\n"
     ]
    },
    {
     "name": "stdout",
     "output_type": "stream",
     "text": [
      "206\n"
     ]
    },
    {
     "name": "stderr",
     "output_type": "stream",
     "text": [
      "INFO:History:Done <ABCSMC(id=176, start_time=2018-05-23 13:49:13.149473, end_time=2018-05-23 13:49:13.378040)>\n",
      " 53%|█████▎    | 53/100 [00:17<00:15,  3.06it/s]INFO:Epsilon:initial epsilon is 3292.3735250000004\n",
      "INFO:History:Start <ABCSMC(id=177, start_time=2018-05-23 13:49:13.453895, end_time=None)>\n",
      "INFO:ABC:t:0 eps:3292.3735250000004\n"
     ]
    },
    {
     "name": "stdout",
     "output_type": "stream",
     "text": [
      "157\n"
     ]
    },
    {
     "name": "stderr",
     "output_type": "stream",
     "text": [
      "INFO:History:Done <ABCSMC(id=177, start_time=2018-05-23 13:49:13.453895, end_time=2018-05-23 13:49:13.715477)>\n",
      " 54%|█████▍    | 54/100 [00:17<00:15,  3.03it/s]INFO:Epsilon:initial epsilon is 47.90812499999998\n",
      "INFO:History:Start <ABCSMC(id=178, start_time=2018-05-23 13:49:13.791580, end_time=None)>\n",
      "INFO:ABC:t:0 eps:47.90812499999998\n"
     ]
    },
    {
     "name": "stdout",
     "output_type": "stream",
     "text": [
      "234\n"
     ]
    },
    {
     "name": "stderr",
     "output_type": "stream",
     "text": [
      "INFO:History:Done <ABCSMC(id=178, start_time=2018-05-23 13:49:13.791580, end_time=2018-05-23 13:49:14.050768)>\n",
      " 55%|█████▌    | 55/100 [00:18<00:14,  3.01it/s]INFO:Epsilon:initial epsilon is 142.49124999999995\n",
      "INFO:History:Start <ABCSMC(id=179, start_time=2018-05-23 13:49:14.128587, end_time=None)>\n",
      "INFO:ABC:t:0 eps:142.49124999999995\n"
     ]
    },
    {
     "name": "stdout",
     "output_type": "stream",
     "text": [
      "226\n"
     ]
    },
    {
     "name": "stderr",
     "output_type": "stream",
     "text": [
      "INFO:History:Done <ABCSMC(id=179, start_time=2018-05-23 13:49:14.128587, end_time=2018-05-23 13:49:14.478964)>\n",
      " 56%|█████▌    | 56/100 [00:18<00:15,  2.78it/s]INFO:Epsilon:initial epsilon is 39481.220799999996\n",
      "INFO:History:Start <ABCSMC(id=180, start_time=2018-05-23 13:49:14.555404, end_time=None)>\n",
      "INFO:ABC:t:0 eps:39481.220799999996\n"
     ]
    },
    {
     "name": "stdout",
     "output_type": "stream",
     "text": [
      "212\n"
     ]
    },
    {
     "name": "stderr",
     "output_type": "stream",
     "text": [
      "INFO:History:Done <ABCSMC(id=180, start_time=2018-05-23 13:49:14.555404, end_time=2018-05-23 13:49:14.792400)>\n",
      " 57%|█████▋    | 57/100 [00:18<00:14,  2.89it/s]INFO:Epsilon:initial epsilon is 28.721524999999982\n",
      "INFO:History:Start <ABCSMC(id=181, start_time=2018-05-23 13:49:14.864803, end_time=None)>\n",
      "INFO:ABC:t:0 eps:28.721524999999982\n"
     ]
    },
    {
     "name": "stdout",
     "output_type": "stream",
     "text": [
      "208\n"
     ]
    },
    {
     "name": "stderr",
     "output_type": "stream",
     "text": [
      "INFO:History:Done <ABCSMC(id=181, start_time=2018-05-23 13:49:14.864803, end_time=2018-05-23 13:49:15.082401)>\n",
      " 58%|█████▊    | 58/100 [00:19<00:13,  3.04it/s]INFO:Epsilon:initial epsilon is 1124.6864\n",
      "INFO:History:Start <ABCSMC(id=182, start_time=2018-05-23 13:49:15.151890, end_time=None)>\n",
      "INFO:ABC:t:0 eps:1124.6864\n"
     ]
    },
    {
     "name": "stdout",
     "output_type": "stream",
     "text": [
      "177\n"
     ]
    },
    {
     "name": "stderr",
     "output_type": "stream",
     "text": [
      "INFO:History:Done <ABCSMC(id=182, start_time=2018-05-23 13:49:15.151890, end_time=2018-05-23 13:49:15.373496)>\n",
      " 59%|█████▉    | 59/100 [00:19<00:13,  3.15it/s]INFO:Epsilon:initial epsilon is 149.52545000000006\n",
      "INFO:History:Start <ABCSMC(id=183, start_time=2018-05-23 13:49:15.443353, end_time=None)>\n",
      "INFO:ABC:t:0 eps:149.52545000000006\n"
     ]
    },
    {
     "name": "stdout",
     "output_type": "stream",
     "text": [
      "178\n"
     ]
    },
    {
     "name": "stderr",
     "output_type": "stream",
     "text": [
      "INFO:History:Done <ABCSMC(id=183, start_time=2018-05-23 13:49:15.443353, end_time=2018-05-23 13:49:15.672340)>\n",
      " 60%|██████    | 60/100 [00:19<00:12,  3.20it/s]INFO:Epsilon:initial epsilon is 95.124925\n",
      "INFO:History:Start <ABCSMC(id=184, start_time=2018-05-23 13:49:15.745612, end_time=None)>\n",
      "INFO:ABC:t:0 eps:95.124925\n"
     ]
    },
    {
     "name": "stdout",
     "output_type": "stream",
     "text": [
      "206\n"
     ]
    },
    {
     "name": "stderr",
     "output_type": "stream",
     "text": [
      "INFO:History:Done <ABCSMC(id=184, start_time=2018-05-23 13:49:15.745612, end_time=2018-05-23 13:49:15.977881)>\n",
      " 61%|██████    | 61/100 [00:19<00:12,  3.22it/s]INFO:Epsilon:initial epsilon is 39.350725\n",
      "INFO:History:Start <ABCSMC(id=185, start_time=2018-05-23 13:49:16.051181, end_time=None)>\n",
      "INFO:ABC:t:0 eps:39.350725\n"
     ]
    },
    {
     "name": "stdout",
     "output_type": "stream",
     "text": [
      "172\n"
     ]
    },
    {
     "name": "stderr",
     "output_type": "stream",
     "text": [
      "INFO:History:Done <ABCSMC(id=185, start_time=2018-05-23 13:49:16.051181, end_time=2018-05-23 13:49:16.339791)>\n",
      " 62%|██████▏   | 62/100 [00:20<00:12,  3.07it/s]INFO:Epsilon:initial epsilon is 1045.7908499999999\n",
      "INFO:History:Start <ABCSMC(id=186, start_time=2018-05-23 13:49:16.413065, end_time=None)>\n",
      "INFO:ABC:t:0 eps:1045.7908499999999\n"
     ]
    },
    {
     "name": "stdout",
     "output_type": "stream",
     "text": [
      "248\n"
     ]
    },
    {
     "name": "stderr",
     "output_type": "stream",
     "text": [
      "INFO:History:Done <ABCSMC(id=186, start_time=2018-05-23 13:49:16.413065, end_time=2018-05-23 13:49:16.649999)>\n",
      " 63%|██████▎   | 63/100 [00:20<00:11,  3.11it/s]INFO:Epsilon:initial epsilon is 284.46385\n",
      "INFO:History:Start <ABCSMC(id=187, start_time=2018-05-23 13:49:16.723641, end_time=None)>\n",
      "INFO:ABC:t:0 eps:284.46385\n"
     ]
    },
    {
     "name": "stdout",
     "output_type": "stream",
     "text": [
      "205\n"
     ]
    },
    {
     "name": "stderr",
     "output_type": "stream",
     "text": [
      "INFO:History:Done <ABCSMC(id=187, start_time=2018-05-23 13:49:16.723641, end_time=2018-05-23 13:49:16.942548)>\n",
      " 64%|██████▍   | 64/100 [00:20<00:11,  3.20it/s]INFO:Epsilon:initial epsilon is 499.37244999999984\n",
      "INFO:History:Start <ABCSMC(id=188, start_time=2018-05-23 13:49:17.014646, end_time=None)>\n",
      "INFO:ABC:t:0 eps:499.37244999999984\n"
     ]
    },
    {
     "name": "stdout",
     "output_type": "stream",
     "text": [
      "169\n"
     ]
    },
    {
     "name": "stderr",
     "output_type": "stream",
     "text": [
      "INFO:History:Done <ABCSMC(id=188, start_time=2018-05-23 13:49:17.014646, end_time=2018-05-23 13:49:17.352357)>\n",
      " 65%|██████▌   | 65/100 [00:21<00:11,  2.92it/s]INFO:Epsilon:initial epsilon is 112.65812500000006\n",
      "INFO:History:Start <ABCSMC(id=189, start_time=2018-05-23 13:49:17.427822, end_time=None)>\n",
      "INFO:ABC:t:0 eps:112.65812500000006\n"
     ]
    },
    {
     "name": "stdout",
     "output_type": "stream",
     "text": [
      "186\n"
     ]
    },
    {
     "name": "stderr",
     "output_type": "stream",
     "text": [
      "INFO:History:Done <ABCSMC(id=189, start_time=2018-05-23 13:49:17.427822, end_time=2018-05-23 13:49:17.677627)>\n",
      " 66%|██████▌   | 66/100 [00:21<00:11,  2.98it/s]INFO:Epsilon:initial epsilon is 1668.2007249999988\n",
      "INFO:History:Start <ABCSMC(id=190, start_time=2018-05-23 13:49:17.746548, end_time=None)>\n",
      "INFO:ABC:t:0 eps:1668.2007249999988\n"
     ]
    },
    {
     "name": "stdout",
     "output_type": "stream",
     "text": [
      "266\n"
     ]
    },
    {
     "name": "stderr",
     "output_type": "stream",
     "text": [
      "INFO:History:Done <ABCSMC(id=190, start_time=2018-05-23 13:49:17.746548, end_time=2018-05-23 13:49:17.983787)>\n",
      " 67%|██████▋   | 67/100 [00:22<00:10,  3.05it/s]INFO:Epsilon:initial epsilon is 3128.8581249999993\n",
      "INFO:History:Start <ABCSMC(id=191, start_time=2018-05-23 13:49:18.057719, end_time=None)>\n",
      "INFO:ABC:t:0 eps:3128.8581249999993\n"
     ]
    },
    {
     "name": "stdout",
     "output_type": "stream",
     "text": [
      "160\n"
     ]
    },
    {
     "name": "stderr",
     "output_type": "stream",
     "text": [
      "INFO:History:Done <ABCSMC(id=191, start_time=2018-05-23 13:49:18.057719, end_time=2018-05-23 13:49:18.291481)>\n",
      " 68%|██████▊   | 68/100 [00:22<00:10,  3.11it/s]INFO:Epsilon:initial epsilon is 23.946124999999967\n",
      "INFO:History:Start <ABCSMC(id=192, start_time=2018-05-23 13:49:18.362776, end_time=None)>\n",
      "INFO:ABC:t:0 eps:23.946124999999967\n"
     ]
    },
    {
     "name": "stdout",
     "output_type": "stream",
     "text": [
      "199\n"
     ]
    },
    {
     "name": "stderr",
     "output_type": "stream",
     "text": [
      "INFO:History:Done <ABCSMC(id=192, start_time=2018-05-23 13:49:18.362776, end_time=2018-05-23 13:49:18.596718)>\n",
      " 69%|██████▉   | 69/100 [00:22<00:09,  3.16it/s]INFO:Epsilon:initial epsilon is 72.94904999999999\n",
      "INFO:History:Start <ABCSMC(id=193, start_time=2018-05-23 13:49:18.668949, end_time=None)>\n",
      "INFO:ABC:t:0 eps:72.94904999999999\n"
     ]
    },
    {
     "name": "stdout",
     "output_type": "stream",
     "text": [
      "217\n"
     ]
    },
    {
     "name": "stderr",
     "output_type": "stream",
     "text": [
      "INFO:History:Done <ABCSMC(id=193, start_time=2018-05-23 13:49:18.668949, end_time=2018-05-23 13:49:18.888836)>\n",
      " 70%|███████   | 70/100 [00:22<00:09,  3.23it/s]INFO:Epsilon:initial epsilon is 41.94852499999998\n",
      "INFO:History:Start <ABCSMC(id=194, start_time=2018-05-23 13:49:18.962266, end_time=None)>\n",
      "INFO:ABC:t:0 eps:41.94852499999998\n"
     ]
    },
    {
     "name": "stdout",
     "output_type": "stream",
     "text": [
      "173\n"
     ]
    },
    {
     "name": "stderr",
     "output_type": "stream",
     "text": [
      "INFO:History:Done <ABCSMC(id=194, start_time=2018-05-23 13:49:18.962266, end_time=2018-05-23 13:49:19.197334)>\n",
      " 71%|███████   | 71/100 [00:23<00:08,  3.23it/s]INFO:Epsilon:initial epsilon is 1665.1719999999991\n",
      "INFO:History:Start <ABCSMC(id=195, start_time=2018-05-23 13:49:19.272423, end_time=None)>\n",
      "INFO:ABC:t:0 eps:1665.1719999999991\n"
     ]
    },
    {
     "name": "stdout",
     "output_type": "stream",
     "text": [
      "181\n"
     ]
    },
    {
     "name": "stderr",
     "output_type": "stream",
     "text": [
      "INFO:History:Done <ABCSMC(id=195, start_time=2018-05-23 13:49:19.272423, end_time=2018-05-23 13:49:19.518585)>\n",
      " 72%|███████▏  | 72/100 [00:23<00:08,  3.20it/s]INFO:Epsilon:initial epsilon is 59.26812499999998\n",
      "INFO:History:Start <ABCSMC(id=196, start_time=2018-05-23 13:49:19.593009, end_time=None)>\n",
      "INFO:ABC:t:0 eps:59.26812499999998\n"
     ]
    },
    {
     "name": "stdout",
     "output_type": "stream",
     "text": [
      "222\n"
     ]
    },
    {
     "name": "stderr",
     "output_type": "stream",
     "text": [
      "INFO:History:Done <ABCSMC(id=196, start_time=2018-05-23 13:49:19.593009, end_time=2018-05-23 13:49:19.830543)>\n",
      " 73%|███████▎  | 73/100 [00:23<00:08,  3.20it/s]INFO:Epsilon:initial epsilon is 2538.9976\n",
      "INFO:History:Start <ABCSMC(id=197, start_time=2018-05-23 13:49:19.904477, end_time=None)>\n",
      "INFO:ABC:t:0 eps:2538.9976\n"
     ]
    },
    {
     "name": "stdout",
     "output_type": "stream",
     "text": [
      "227\n"
     ]
    },
    {
     "name": "stderr",
     "output_type": "stream",
     "text": [
      "INFO:History:Done <ABCSMC(id=197, start_time=2018-05-23 13:49:19.904477, end_time=2018-05-23 13:49:20.235863)>\n",
      " 74%|███████▍  | 74/100 [00:24<00:08,  2.94it/s]INFO:Epsilon:initial epsilon is 2261.3351249999996\n",
      "INFO:History:Start <ABCSMC(id=198, start_time=2018-05-23 13:49:20.310272, end_time=None)>\n",
      "INFO:ABC:t:0 eps:2261.3351249999996\n"
     ]
    },
    {
     "name": "stdout",
     "output_type": "stream",
     "text": [
      "174\n"
     ]
    },
    {
     "name": "stderr",
     "output_type": "stream",
     "text": [
      "INFO:History:Done <ABCSMC(id=198, start_time=2018-05-23 13:49:20.310272, end_time=2018-05-23 13:49:20.554114)>\n",
      " 75%|███████▌  | 75/100 [00:24<00:08,  3.00it/s]INFO:Epsilon:initial epsilon is 35.639999999999986\n",
      "INFO:History:Start <ABCSMC(id=199, start_time=2018-05-23 13:49:20.626520, end_time=None)>\n",
      "INFO:ABC:t:0 eps:35.639999999999986\n"
     ]
    },
    {
     "name": "stdout",
     "output_type": "stream",
     "text": [
      "195\n"
     ]
    },
    {
     "name": "stderr",
     "output_type": "stream",
     "text": [
      "INFO:History:Done <ABCSMC(id=199, start_time=2018-05-23 13:49:20.626520, end_time=2018-05-23 13:49:20.855318)>\n",
      " 76%|███████▌  | 76/100 [00:24<00:07,  3.08it/s]INFO:Epsilon:initial epsilon is 59.818000000000005\n",
      "INFO:History:Start <ABCSMC(id=200, start_time=2018-05-23 13:49:20.927976, end_time=None)>\n",
      "INFO:ABC:t:0 eps:59.818000000000005\n"
     ]
    },
    {
     "name": "stdout",
     "output_type": "stream",
     "text": [
      "211\n"
     ]
    },
    {
     "name": "stderr",
     "output_type": "stream",
     "text": [
      "INFO:History:Done <ABCSMC(id=200, start_time=2018-05-23 13:49:20.927976, end_time=2018-05-23 13:49:21.155383)>\n",
      " 77%|███████▋  | 77/100 [00:25<00:07,  3.16it/s]INFO:Epsilon:initial epsilon is 5429.686250000002\n",
      "INFO:History:Start <ABCSMC(id=201, start_time=2018-05-23 13:49:21.228905, end_time=None)>\n",
      "INFO:ABC:t:0 eps:5429.686250000002\n"
     ]
    },
    {
     "name": "stdout",
     "output_type": "stream",
     "text": [
      "199\n"
     ]
    },
    {
     "name": "stderr",
     "output_type": "stream",
     "text": [
      "INFO:History:Done <ABCSMC(id=201, start_time=2018-05-23 13:49:21.228905, end_time=2018-05-23 13:49:21.470724)>\n",
      " 78%|███████▊  | 78/100 [00:25<00:06,  3.16it/s]INFO:Epsilon:initial epsilon is 14.117649999999989\n",
      "INFO:History:Start <ABCSMC(id=202, start_time=2018-05-23 13:49:21.540168, end_time=None)>\n",
      "INFO:ABC:t:0 eps:14.117649999999989\n"
     ]
    },
    {
     "name": "stdout",
     "output_type": "stream",
     "text": [
      "238\n"
     ]
    },
    {
     "name": "stderr",
     "output_type": "stream",
     "text": [
      "INFO:History:Done <ABCSMC(id=202, start_time=2018-05-23 13:49:21.540168, end_time=2018-05-23 13:49:21.772501)>\n",
      " 79%|███████▉  | 79/100 [00:25<00:06,  3.21it/s]INFO:Epsilon:initial epsilon is 44.98625\n",
      "INFO:History:Start <ABCSMC(id=203, start_time=2018-05-23 13:49:21.843110, end_time=None)>\n",
      "INFO:ABC:t:0 eps:44.98625\n"
     ]
    },
    {
     "name": "stdout",
     "output_type": "stream",
     "text": [
      "236\n"
     ]
    },
    {
     "name": "stderr",
     "output_type": "stream",
     "text": [
      "INFO:History:Done <ABCSMC(id=203, start_time=2018-05-23 13:49:21.843110, end_time=2018-05-23 13:49:22.062452)>\n",
      " 80%|████████  | 80/100 [00:26<00:06,  3.28it/s]INFO:Epsilon:initial epsilon is 16.350449999999988\n",
      "INFO:History:Start <ABCSMC(id=204, start_time=2018-05-23 13:49:22.132396, end_time=None)>\n",
      "INFO:ABC:t:0 eps:16.350449999999988\n"
     ]
    },
    {
     "name": "stdout",
     "output_type": "stream",
     "text": [
      "182\n"
     ]
    },
    {
     "name": "stderr",
     "output_type": "stream",
     "text": [
      "INFO:History:Done <ABCSMC(id=204, start_time=2018-05-23 13:49:22.132396, end_time=2018-05-23 13:49:22.356666)>\n",
      " 81%|████████  | 81/100 [00:26<00:05,  3.31it/s]INFO:Epsilon:initial epsilon is 1411.091999999999\n",
      "INFO:History:Start <ABCSMC(id=205, start_time=2018-05-23 13:49:22.426957, end_time=None)>\n",
      "INFO:ABC:t:0 eps:1411.091999999999\n"
     ]
    },
    {
     "name": "stdout",
     "output_type": "stream",
     "text": [
      "206\n"
     ]
    },
    {
     "name": "stderr",
     "output_type": "stream",
     "text": [
      "INFO:History:Done <ABCSMC(id=205, start_time=2018-05-23 13:49:22.426957, end_time=2018-05-23 13:49:22.655147)>\n",
      " 82%|████████▏ | 82/100 [00:26<00:05,  3.32it/s]INFO:Epsilon:initial epsilon is 43.89\n",
      "INFO:History:Start <ABCSMC(id=206, start_time=2018-05-23 13:49:22.724514, end_time=None)>\n",
      "INFO:ABC:t:0 eps:43.89\n"
     ]
    },
    {
     "name": "stdout",
     "output_type": "stream",
     "text": [
      "205\n"
     ]
    },
    {
     "name": "stderr",
     "output_type": "stream",
     "text": [
      "INFO:History:Done <ABCSMC(id=206, start_time=2018-05-23 13:49:22.724514, end_time=2018-05-23 13:49:22.967718)>\n",
      " 83%|████████▎ | 83/100 [00:27<00:05,  2.95it/s]INFO:Epsilon:initial epsilon is 58.51104999999993\n",
      "INFO:History:Start <ABCSMC(id=207, start_time=2018-05-23 13:49:23.155551, end_time=None)>\n",
      "INFO:ABC:t:0 eps:58.51104999999993\n"
     ]
    },
    {
     "name": "stdout",
     "output_type": "stream",
     "text": [
      "186\n"
     ]
    },
    {
     "name": "stderr",
     "output_type": "stream",
     "text": [
      "INFO:History:Done <ABCSMC(id=207, start_time=2018-05-23 13:49:23.155551, end_time=2018-05-23 13:49:23.368946)>\n",
      " 84%|████████▍ | 84/100 [00:27<00:05,  3.09it/s]INFO:Epsilon:initial epsilon is 31.24172499999998\n",
      "INFO:History:Start <ABCSMC(id=208, start_time=2018-05-23 13:49:23.441150, end_time=None)>\n",
      "INFO:ABC:t:0 eps:31.24172499999998\n"
     ]
    },
    {
     "name": "stdout",
     "output_type": "stream",
     "text": [
      "172\n"
     ]
    },
    {
     "name": "stderr",
     "output_type": "stream",
     "text": [
      "INFO:History:Done <ABCSMC(id=208, start_time=2018-05-23 13:49:23.441150, end_time=2018-05-23 13:49:23.669736)>\n",
      " 85%|████████▌ | 85/100 [00:27<00:04,  3.16it/s]INFO:Epsilon:initial epsilon is 2840.6281249999993\n",
      "INFO:History:Start <ABCSMC(id=209, start_time=2018-05-23 13:49:23.742204, end_time=None)>\n",
      "INFO:ABC:t:0 eps:2840.6281249999993\n"
     ]
    },
    {
     "name": "stdout",
     "output_type": "stream",
     "text": [
      "191\n"
     ]
    },
    {
     "name": "stderr",
     "output_type": "stream",
     "text": [
      "INFO:History:Done <ABCSMC(id=209, start_time=2018-05-23 13:49:23.742204, end_time=2018-05-23 13:49:23.992026)>\n",
      " 86%|████████▌ | 86/100 [00:28<00:04,  3.14it/s]INFO:Epsilon:initial epsilon is 30.647049999999965\n",
      "INFO:History:Start <ABCSMC(id=210, start_time=2018-05-23 13:49:24.066058, end_time=None)>\n",
      "INFO:ABC:t:0 eps:30.647049999999965\n"
     ]
    },
    {
     "name": "stdout",
     "output_type": "stream",
     "text": [
      "237\n"
     ]
    },
    {
     "name": "stderr",
     "output_type": "stream",
     "text": [
      "INFO:History:Done <ABCSMC(id=210, start_time=2018-05-23 13:49:24.066058, end_time=2018-05-23 13:49:24.289984)>\n",
      " 87%|████████▋ | 87/100 [00:28<00:04,  3.21it/s]INFO:Epsilon:initial epsilon is 601.8949249999998\n",
      "INFO:History:Start <ABCSMC(id=211, start_time=2018-05-23 13:49:24.360109, end_time=None)>\n",
      "INFO:ABC:t:0 eps:601.8949249999998\n"
     ]
    },
    {
     "name": "stdout",
     "output_type": "stream",
     "text": [
      "182\n"
     ]
    },
    {
     "name": "stderr",
     "output_type": "stream",
     "text": [
      "INFO:History:Done <ABCSMC(id=211, start_time=2018-05-23 13:49:24.360109, end_time=2018-05-23 13:49:24.597700)>\n",
      " 88%|████████▊ | 88/100 [00:28<00:03,  3.22it/s]INFO:Epsilon:initial epsilon is 17.26272499999997\n",
      "INFO:History:Start <ABCSMC(id=212, start_time=2018-05-23 13:49:24.672648, end_time=None)>\n",
      "INFO:ABC:t:0 eps:17.26272499999997\n"
     ]
    },
    {
     "name": "stdout",
     "output_type": "stream",
     "text": [
      "223\n"
     ]
    },
    {
     "name": "stderr",
     "output_type": "stream",
     "text": [
      "INFO:History:Done <ABCSMC(id=212, start_time=2018-05-23 13:49:24.672648, end_time=2018-05-23 13:49:24.912158)>\n",
      " 89%|████████▉ | 89/100 [00:28<00:03,  3.20it/s]INFO:Epsilon:initial epsilon is 18.009999999999998\n",
      "INFO:History:Start <ABCSMC(id=213, start_time=2018-05-23 13:49:24.985643, end_time=None)>\n",
      "INFO:ABC:t:0 eps:18.009999999999998\n"
     ]
    },
    {
     "name": "stdout",
     "output_type": "stream",
     "text": [
      "198\n"
     ]
    },
    {
     "name": "stderr",
     "output_type": "stream",
     "text": [
      "INFO:History:Done <ABCSMC(id=213, start_time=2018-05-23 13:49:24.985643, end_time=2018-05-23 13:49:25.219314)>\n",
      " 90%|█████████ | 90/100 [00:29<00:03,  3.22it/s]INFO:Epsilon:initial epsilon is 116.05392499999998\n",
      "INFO:History:Start <ABCSMC(id=214, start_time=2018-05-23 13:49:25.290280, end_time=None)>\n",
      "INFO:ABC:t:0 eps:116.05392499999998\n"
     ]
    },
    {
     "name": "stdout",
     "output_type": "stream",
     "text": [
      "216\n"
     ]
    },
    {
     "name": "stderr",
     "output_type": "stream",
     "text": [
      "INFO:History:Done <ABCSMC(id=214, start_time=2018-05-23 13:49:25.290280, end_time=2018-05-23 13:49:25.519911)>\n",
      " 91%|█████████ | 91/100 [00:29<00:02,  3.25it/s]INFO:Epsilon:initial epsilon is 16820.297999999995\n",
      "INFO:History:Start <ABCSMC(id=215, start_time=2018-05-23 13:49:25.594526, end_time=None)>\n",
      "INFO:ABC:t:0 eps:16820.297999999995\n"
     ]
    },
    {
     "name": "stdout",
     "output_type": "stream",
     "text": [
      "204\n"
     ]
    },
    {
     "name": "stderr",
     "output_type": "stream",
     "text": [
      "INFO:History:Done <ABCSMC(id=215, start_time=2018-05-23 13:49:25.594526, end_time=2018-05-23 13:49:25.928464)>\n",
      " 92%|█████████▏| 92/100 [00:29<00:02,  2.96it/s]INFO:Epsilon:initial epsilon is 52.750524999999975\n",
      "INFO:History:Start <ABCSMC(id=216, start_time=2018-05-23 13:49:26.003043, end_time=None)>\n",
      "INFO:ABC:t:0 eps:52.750524999999975\n"
     ]
    },
    {
     "name": "stdout",
     "output_type": "stream",
     "text": [
      "207\n"
     ]
    },
    {
     "name": "stderr",
     "output_type": "stream",
     "text": [
      "INFO:History:Done <ABCSMC(id=216, start_time=2018-05-23 13:49:26.003043, end_time=2018-05-23 13:49:26.238071)>\n",
      " 93%|█████████▎| 93/100 [00:30<00:02,  3.04it/s]INFO:Epsilon:initial epsilon is 53833.17599999998\n",
      "INFO:History:Start <ABCSMC(id=217, start_time=2018-05-23 13:49:26.311394, end_time=None)>\n",
      "INFO:ABC:t:0 eps:53833.17599999998\n"
     ]
    },
    {
     "name": "stdout",
     "output_type": "stream",
     "text": [
      "206\n"
     ]
    },
    {
     "name": "stderr",
     "output_type": "stream",
     "text": [
      "INFO:History:Done <ABCSMC(id=217, start_time=2018-05-23 13:49:26.311394, end_time=2018-05-23 13:49:26.562851)>\n",
      " 94%|█████████▍| 94/100 [00:30<00:01,  3.05it/s]INFO:Epsilon:initial epsilon is 50.78812499999999\n",
      "INFO:History:Start <ABCSMC(id=218, start_time=2018-05-23 13:49:26.644314, end_time=None)>\n",
      "INFO:ABC:t:0 eps:50.78812499999999\n"
     ]
    },
    {
     "name": "stdout",
     "output_type": "stream",
     "text": [
      "213\n"
     ]
    },
    {
     "name": "stderr",
     "output_type": "stream",
     "text": [
      "INFO:History:Done <ABCSMC(id=218, start_time=2018-05-23 13:49:26.644314, end_time=2018-05-23 13:49:26.869595)>\n",
      " 95%|█████████▌| 95/100 [00:30<00:01,  3.09it/s]INFO:Epsilon:initial epsilon is 20.462924999999995\n",
      "INFO:History:Start <ABCSMC(id=219, start_time=2018-05-23 13:49:26.947411, end_time=None)>\n",
      "INFO:ABC:t:0 eps:20.462924999999995\n"
     ]
    },
    {
     "name": "stdout",
     "output_type": "stream",
     "text": [
      "153\n"
     ]
    },
    {
     "name": "stderr",
     "output_type": "stream",
     "text": [
      "INFO:History:Done <ABCSMC(id=219, start_time=2018-05-23 13:49:26.947411, end_time=2018-05-23 13:49:27.194063)>\n",
      " 96%|█████████▌| 96/100 [00:31<00:01,  3.11it/s]INFO:Epsilon:initial epsilon is 65.54124999999998\n",
      "INFO:History:Start <ABCSMC(id=220, start_time=2018-05-23 13:49:27.262480, end_time=None)>\n",
      "INFO:ABC:t:0 eps:65.54124999999998\n"
     ]
    },
    {
     "name": "stdout",
     "output_type": "stream",
     "text": [
      "228\n"
     ]
    },
    {
     "name": "stderr",
     "output_type": "stream",
     "text": [
      "INFO:History:Done <ABCSMC(id=220, start_time=2018-05-23 13:49:27.262480, end_time=2018-05-23 13:49:27.484855)>\n",
      " 97%|█████████▋| 97/100 [00:31<00:00,  3.20it/s]INFO:Epsilon:initial epsilon is 1133.79465\n",
      "INFO:History:Start <ABCSMC(id=221, start_time=2018-05-23 13:49:27.556475, end_time=None)>\n",
      "INFO:ABC:t:0 eps:1133.79465\n"
     ]
    },
    {
     "name": "stdout",
     "output_type": "stream",
     "text": [
      "193\n"
     ]
    },
    {
     "name": "stderr",
     "output_type": "stream",
     "text": [
      "INFO:History:Done <ABCSMC(id=221, start_time=2018-05-23 13:49:27.556475, end_time=2018-05-23 13:49:27.788730)>\n",
      " 98%|█████████▊| 98/100 [00:31<00:00,  3.22it/s]INFO:Epsilon:initial epsilon is 664.16445\n",
      "INFO:History:Start <ABCSMC(id=222, start_time=2018-05-23 13:49:27.862292, end_time=None)>\n",
      "INFO:ABC:t:0 eps:664.16445\n"
     ]
    },
    {
     "name": "stdout",
     "output_type": "stream",
     "text": [
      "206\n"
     ]
    },
    {
     "name": "stderr",
     "output_type": "stream",
     "text": [
      "INFO:History:Done <ABCSMC(id=222, start_time=2018-05-23 13:49:27.862292, end_time=2018-05-23 13:49:28.104789)>\n",
      " 99%|█████████▉| 99/100 [00:32<00:00,  3.18it/s]INFO:Epsilon:initial epsilon is 38.02024999999998\n",
      "INFO:History:Start <ABCSMC(id=223, start_time=2018-05-23 13:49:28.185686, end_time=None)>\n",
      "INFO:ABC:t:0 eps:38.02024999999998\n"
     ]
    },
    {
     "name": "stdout",
     "output_type": "stream",
     "text": [
      "198\n"
     ]
    },
    {
     "name": "stderr",
     "output_type": "stream",
     "text": [
      "INFO:History:Done <ABCSMC(id=223, start_time=2018-05-23 13:49:28.185686, end_time=2018-05-23 13:49:28.455442)>\n",
      "100%|██████████| 100/100 [00:32<00:00,  3.09it/s]"
     ]
    },
    {
     "name": "stdout",
     "output_type": "stream",
     "text": [
      "214\n",
      "20241\n"
     ]
    },
    {
     "name": "stderr",
     "output_type": "stream",
     "text": [
      "\n"
     ]
    }
   ],
   "source": [
    "test_set = np.vstack((stats_poi_test, stats_nb_test))\n",
    "phat_rej = np.zeros((ntest, 2))\n",
    "model_prior = MyModelPrior.from_dictionary({'type': 'multinomial', 'kwargs': {'n': 1, 'p': [0.5, 0.5]}})\n",
    "ns_rej = 0\n",
    "\n",
    "for ii in tqdm.tqdm(range(ntest)): \n",
    "    sxo = test_set[ii, ]\n",
    "\n",
    "    # We plug all the ABC options together\n",
    "    abc = ABCSMC(\n",
    "        models, parameter_priors, MyDist(), model_prior=model_prior,\n",
    "         sampler=sampler.SingleCoreSampler())\n",
    "\n",
    "    # and we define where to store the results\n",
    "    db_path = (\"sqlite:///\" +\n",
    "               os.path.join(tempfile.gettempdir(), \"test.db\"))\n",
    "    abc_id = abc.new(db_path, {\"y\": sxo})\n",
    "    history = abc.run(minimum_epsilon=0.05, max_nr_populations=1)\n",
    "    model_probabilities = history.get_model_probabilities()\n",
    "    print(history.total_nr_simulations)\n",
    "    ns_rej += history.total_nr_simulations\n",
    "    ppoi = model_probabilities[0][0]\n",
    "    phat_rej[ii, 0] = ppoi\n",
    "    phat_rej[ii, 1] = 1 - ppoi\n",
    "    \n",
    "print(ns_rej)"
   ]
  },
  {
   "cell_type": "markdown",
   "metadata": {},
   "source": [
    "## SMC with multiple rounds"
   ]
  },
  {
   "cell_type": "code",
   "execution_count": 43,
   "metadata": {},
   "outputs": [
    {
     "name": "stderr",
     "output_type": "stream",
     "text": [
      "\n",
      "  0%|          | 0/100 [00:00<?, ?it/s]\u001b[A\n",
      "\n",
      "\n",
      "\n",
      "\n",
      "\n",
      "\n",
      "\n",
      "INFO:Epsilon:initial epsilon is 46.78560000000001\n",
      "INFO:History:Start <ABCSMC(id=332, start_time=2018-05-23 13:59:22.666280, end_time=None)>\n",
      "INFO:ABC:t:0 eps:46.78560000000001\n",
      "\n",
      "\n",
      "\n",
      "\n",
      "\n",
      "\n",
      "\n",
      "\n",
      "INFO:ABC:t:1 eps:23.178400000000018\n",
      "\n",
      "\n",
      "\n",
      "\n",
      "\n",
      "\n",
      "\n",
      "\n",
      "INFO:ABC:t:2 eps:11.11780083277352\n",
      "\n",
      "\n",
      "\n",
      "\n",
      "\n",
      "\n",
      "\n",
      "\n",
      "INFO:ABC:t:3 eps:5.906769095116121\n",
      "\n",
      "\n",
      "\n",
      "\n",
      "\n",
      "\n",
      "\n",
      "\n",
      "INFO:ABC:t:4 eps:2.999989677777965\n",
      "\n",
      "\n",
      "\n",
      "\n",
      "\n",
      "\n",
      "\n",
      "\n",
      "INFO:History:Done <ABCSMC(id=332, start_time=2018-05-23 13:59:22.666280, end_time=2018-05-23 13:59:24.642941)>\n",
      "\n",
      "  1%|          | 1/100 [00:02<03:33,  2.16s/it]"
     ]
    },
    {
     "name": "stdout",
     "output_type": "stream",
     "text": [
      "m         0         1\n",
      "t                    \n",
      "0  0.750000  0.250000\n",
      "1  0.946267  0.053733\n",
      "2  1.000000  0.000000\n",
      "3  1.000000  0.000000\n",
      "4  1.000000  0.000000\n"
     ]
    },
    {
     "name": "stderr",
     "output_type": "stream",
     "text": [
      "\u001b[A\n",
      "\n",
      "\n",
      "\n",
      "\n",
      "\n",
      "\n",
      "\n",
      "INFO:Epsilon:initial epsilon is 25.117925000000003\n",
      "INFO:History:Start <ABCSMC(id=333, start_time=2018-05-23 13:59:24.843510, end_time=None)>\n",
      "INFO:ABC:t:0 eps:25.117925000000003\n",
      "\n",
      "\n",
      "\n",
      "\n",
      "\n",
      "\n",
      "\n",
      "\n",
      "INFO:ABC:t:1 eps:18.862049999999996\n",
      "\n",
      "\n",
      "\n",
      "\n",
      "\n",
      "\n",
      "\n",
      "\n",
      "INFO:ABC:t:2 eps:9.040479951240755\n",
      "\n",
      "\n",
      "\n",
      "\n",
      "\n",
      "\n",
      "\n",
      "\n",
      "INFO:ABC:t:3 eps:5.21437098902127\n",
      "\n",
      "\n",
      "\n",
      "\n",
      "\n",
      "\n",
      "\n",
      "\n",
      "INFO:ABC:t:4 eps:2.897980287004325\n",
      "\n",
      "\n",
      "\n",
      "\n",
      "\n",
      "\n",
      "\n",
      "INFO:History:Done <ABCSMC(id=333, start_time=2018-05-23 13:59:24.843510, end_time=2018-05-23 13:59:26.836756)>\n",
      "  2%|▏         | 2/100 [00:04<03:32,  2.16s/it]"
     ]
    },
    {
     "name": "stdout",
     "output_type": "stream",
     "text": [
      "m         0         1\n",
      "t                    \n",
      "0  0.600000  0.400000\n",
      "1  0.936520  0.063480\n",
      "2  0.995773  0.004227\n",
      "3  1.000000  0.000000\n",
      "4  1.000000  0.000000\n"
     ]
    },
    {
     "name": "stderr",
     "output_type": "stream",
     "text": [
      "INFO:Epsilon:initial epsilon is 15.980000000000011\n",
      "INFO:History:Start <ABCSMC(id=334, start_time=2018-05-23 13:59:26.973507, end_time=None)>\n",
      "INFO:ABC:t:0 eps:15.980000000000011\n",
      "INFO:ABC:t:1 eps:4.585650000000001\n",
      "INFO:ABC:t:2 eps:0.9872\n",
      "INFO:ABC:t:3 eps:0.5264891994612806\n",
      "INFO:ABC:t:4 eps:0.22493567247025253\n",
      "INFO:History:Done <ABCSMC(id=334, start_time=2018-05-23 13:59:26.973507, end_time=2018-05-23 13:59:28.845020)>\n",
      "  3%|▎         | 3/100 [00:06<03:25,  2.12s/it]"
     ]
    },
    {
     "name": "stdout",
     "output_type": "stream",
     "text": [
      "m         0         1\n",
      "t                    \n",
      "0  0.500000  0.500000\n",
      "1  0.889632  0.110368\n",
      "2  0.953387  0.046613\n",
      "3  1.000000  0.000000\n",
      "4  1.000000  0.000000\n"
     ]
    },
    {
     "name": "stderr",
     "output_type": "stream",
     "text": [
      "INFO:Epsilon:initial epsilon is 33.181250000000006\n",
      "INFO:History:Start <ABCSMC(id=335, start_time=2018-05-23 13:59:28.981855, end_time=None)>\n",
      "INFO:ABC:t:0 eps:33.181250000000006\n",
      "INFO:ABC:t:1 eps:7.839725\n",
      "INFO:ABC:t:2 eps:4.06740891923343\n",
      "INFO:ABC:t:3 eps:2.1514874315966077\n",
      "INFO:ABC:t:4 eps:1.1985117537342032\n",
      "INFO:History:Done <ABCSMC(id=335, start_time=2018-05-23 13:59:28.981855, end_time=2018-05-23 13:59:30.599775)>\n",
      "  4%|▍         | 4/100 [00:08<03:17,  2.06s/it]"
     ]
    },
    {
     "name": "stdout",
     "output_type": "stream",
     "text": [
      "m         0         1\n",
      "t                    \n",
      "0  0.800000  0.200000\n",
      "1  0.989378  0.010622\n",
      "2  1.000000  0.000000\n",
      "3  1.000000  0.000000\n",
      "4  1.000000  0.000000\n"
     ]
    },
    {
     "name": "stderr",
     "output_type": "stream",
     "text": [
      "INFO:Epsilon:initial epsilon is 11.595600000000003\n",
      "INFO:History:Start <ABCSMC(id=336, start_time=2018-05-23 13:59:30.906935, end_time=None)>\n",
      "INFO:ABC:t:0 eps:11.595600000000003\n",
      "INFO:ABC:t:1 eps:3.5635250000000003\n",
      "INFO:ABC:t:2 eps:1.800321175270503\n",
      "INFO:ABC:t:3 eps:0.8627093843061912\n",
      "INFO:ABC:t:4 eps:0.4477048928325249\n",
      "INFO:History:Done <ABCSMC(id=336, start_time=2018-05-23 13:59:30.906935, end_time=2018-05-23 13:59:32.690095)>\n",
      "  5%|▌         | 5/100 [00:10<03:11,  2.02s/it]"
     ]
    },
    {
     "name": "stdout",
     "output_type": "stream",
     "text": [
      "m        0        1\n",
      "t                  \n",
      "0  0.85000  0.15000\n",
      "1  0.97343  0.02657\n",
      "2  1.00000  0.00000\n",
      "3  1.00000  0.00000\n",
      "4  1.00000  0.00000\n"
     ]
    },
    {
     "name": "stderr",
     "output_type": "stream",
     "text": [
      "INFO:Epsilon:initial epsilon is 32.94000000000001\n",
      "INFO:History:Start <ABCSMC(id=337, start_time=2018-05-23 13:59:32.838627, end_time=None)>\n",
      "INFO:ABC:t:0 eps:32.94000000000001\n",
      "INFO:ABC:t:1 eps:8.569849999999999\n",
      "INFO:ABC:t:2 eps:4.469554015628597\n",
      "INFO:ABC:t:3 eps:2.425122025299336\n",
      "INFO:ABC:t:4 eps:1.0020363615403827\n",
      "INFO:History:Done <ABCSMC(id=337, start_time=2018-05-23 13:59:32.838627, end_time=2018-05-23 13:59:34.990925)>\n",
      "  6%|▌         | 6/100 [00:12<03:17,  2.10s/it]"
     ]
    },
    {
     "name": "stdout",
     "output_type": "stream",
     "text": [
      "m         0         1\n",
      "t                    \n",
      "0  0.950000  0.050000\n",
      "1  0.894843  0.105157\n",
      "2  0.965960  0.034040\n",
      "3  1.000000  0.000000\n",
      "4  1.000000  0.000000\n"
     ]
    },
    {
     "name": "stderr",
     "output_type": "stream",
     "text": [
      "INFO:Epsilon:initial epsilon is 45.16305000000003\n",
      "INFO:History:Start <ABCSMC(id=338, start_time=2018-05-23 13:59:35.126106, end_time=None)>\n",
      "INFO:ABC:t:0 eps:45.16305000000003\n",
      "INFO:ABC:t:1 eps:17.179925000000004\n",
      "INFO:ABC:t:2 eps:8.636102906204268\n",
      "INFO:ABC:t:3 eps:5.157709300631396\n",
      "INFO:ABC:t:4 eps:2.336903693917693\n",
      "INFO:History:Done <ABCSMC(id=338, start_time=2018-05-23 13:59:35.126106, end_time=2018-05-23 13:59:36.645049)>\n",
      "  7%|▋         | 7/100 [00:14<03:03,  1.97s/it]"
     ]
    },
    {
     "name": "stdout",
     "output_type": "stream",
     "text": [
      "m     0     1\n",
      "t            \n",
      "0  0.75  0.25\n",
      "1  1.00  0.00\n",
      "2  1.00  0.00\n",
      "3  1.00  0.00\n",
      "4  1.00  0.00\n"
     ]
    },
    {
     "name": "stderr",
     "output_type": "stream",
     "text": [
      "INFO:Epsilon:initial epsilon is 17.863600000000005\n",
      "INFO:History:Start <ABCSMC(id=339, start_time=2018-05-23 13:59:36.784072, end_time=None)>\n",
      "INFO:ABC:t:0 eps:17.863600000000005\n",
      "INFO:ABC:t:1 eps:6.03\n",
      "INFO:ABC:t:2 eps:3.4419384902887273\n",
      "INFO:ABC:t:3 eps:1.7464293193500897\n",
      "INFO:ABC:t:4 eps:0.9114002996802752\n",
      "INFO:History:Done <ABCSMC(id=339, start_time=2018-05-23 13:59:36.784072, end_time=2018-05-23 13:59:38.315696)>\n",
      "  8%|▊         | 8/100 [00:15<02:52,  1.88s/it]"
     ]
    },
    {
     "name": "stdout",
     "output_type": "stream",
     "text": [
      "m    0    1\n",
      "t          \n",
      "0  0.9  0.1\n",
      "1  1.0  0.0\n",
      "2  1.0  0.0\n",
      "3  1.0  0.0\n",
      "4  1.0  0.0\n"
     ]
    },
    {
     "name": "stderr",
     "output_type": "stream",
     "text": [
      "INFO:Epsilon:initial epsilon is 36.57\n",
      "INFO:History:Start <ABCSMC(id=340, start_time=2018-05-23 13:59:38.460557, end_time=None)>\n",
      "INFO:ABC:t:0 eps:36.57\n",
      "INFO:ABC:t:1 eps:14.5092\n",
      "INFO:ABC:t:2 eps:11.7602542469645\n",
      "INFO:ABC:t:3 eps:6.343395982047923\n",
      "INFO:ABC:t:4 eps:4.162655362604678\n",
      "INFO:History:Done <ABCSMC(id=340, start_time=2018-05-23 13:59:38.460557, end_time=2018-05-23 13:59:40.120333)>\n",
      "  9%|▉         | 9/100 [00:17<02:48,  1.86s/it]"
     ]
    },
    {
     "name": "stdout",
     "output_type": "stream",
     "text": [
      "m         0         1\n",
      "t                    \n",
      "0  0.800000  0.200000\n",
      "1  0.371598  0.628402\n",
      "2  0.991939  0.008061\n",
      "3  1.000000  0.000000\n",
      "4  1.000000  0.000000\n"
     ]
    },
    {
     "name": "stderr",
     "output_type": "stream",
     "text": [
      "INFO:Epsilon:initial epsilon is 15.507600000000002\n",
      "INFO:History:Start <ABCSMC(id=341, start_time=2018-05-23 13:59:40.247827, end_time=None)>\n",
      "INFO:ABC:t:0 eps:15.507600000000002\n",
      "INFO:ABC:t:1 eps:7.786725000000001\n",
      "INFO:ABC:t:2 eps:4.924353255951424\n",
      "INFO:ABC:t:3 eps:2.110450812701558\n",
      "INFO:ABC:t:4 eps:0.8909680783639171\n",
      "INFO:History:Done <ABCSMC(id=341, start_time=2018-05-23 13:59:40.247827, end_time=2018-05-23 13:59:41.738728)>\n",
      " 10%|█         | 10/100 [00:19<02:40,  1.79s/it]"
     ]
    },
    {
     "name": "stdout",
     "output_type": "stream",
     "text": [
      "m    0    1\n",
      "t          \n",
      "0  0.9  0.1\n",
      "1  1.0  0.0\n",
      "2  1.0  0.0\n",
      "3  1.0  0.0\n",
      "4  1.0  0.0\n"
     ]
    },
    {
     "name": "stderr",
     "output_type": "stream",
     "text": [
      "INFO:Epsilon:initial epsilon is 22.023125000000004\n",
      "INFO:History:Start <ABCSMC(id=342, start_time=2018-05-23 13:59:41.869899, end_time=None)>\n",
      "INFO:ABC:t:0 eps:22.023125000000004\n",
      "INFO:ABC:t:1 eps:5.877600000000001\n",
      "INFO:ABC:t:2 eps:2.4397239087248055\n",
      "INFO:ABC:t:3 eps:1.5596345840413206\n",
      "INFO:ABC:t:4 eps:0.8858361867175772\n",
      "INFO:History:Done <ABCSMC(id=342, start_time=2018-05-23 13:59:41.869899, end_time=2018-05-23 13:59:43.908250)>\n",
      " 11%|█         | 11/100 [00:21<02:49,  1.90s/it]"
     ]
    },
    {
     "name": "stdout",
     "output_type": "stream",
     "text": [
      "m         0         1\n",
      "t                    \n",
      "0  0.800000  0.200000\n",
      "1  0.939195  0.060805\n",
      "2  0.793362  0.206638\n",
      "3  1.000000  0.000000\n",
      "4  1.000000  0.000000\n"
     ]
    },
    {
     "name": "stderr",
     "output_type": "stream",
     "text": [
      "INFO:Epsilon:initial epsilon is 23.25645\n",
      "INFO:History:Start <ABCSMC(id=343, start_time=2018-05-23 13:59:44.038078, end_time=None)>\n",
      "INFO:ABC:t:0 eps:23.25645\n",
      "INFO:ABC:t:1 eps:10.998125000000009\n",
      "INFO:ABC:t:2 eps:5.640110033571088\n",
      "INFO:ABC:t:3 eps:4.276957933822674\n",
      "INFO:ABC:t:4 eps:2.3211603111064103\n",
      "INFO:History:Done <ABCSMC(id=343, start_time=2018-05-23 13:59:44.038078, end_time=2018-05-23 13:59:45.548365)>\n",
      " 12%|█▏        | 12/100 [00:23<02:40,  1.82s/it]"
     ]
    },
    {
     "name": "stdout",
     "output_type": "stream",
     "text": [
      "m     0     1\n",
      "t            \n",
      "0  0.65  0.35\n",
      "1  1.00  0.00\n",
      "2  1.00  0.00\n",
      "3  1.00  0.00\n",
      "4  1.00  0.00\n"
     ]
    },
    {
     "name": "stderr",
     "output_type": "stream",
     "text": [
      "INFO:Epsilon:initial epsilon is 50.93872500000002\n",
      "INFO:History:Start <ABCSMC(id=344, start_time=2018-05-23 13:59:45.679986, end_time=None)>\n",
      "INFO:ABC:t:0 eps:50.93872500000002\n",
      "INFO:ABC:t:1 eps:14.804850000000009\n",
      "INFO:ABC:t:2 eps:5.587111191951256\n",
      "INFO:ABC:t:3 eps:3.125654930103209\n",
      "INFO:ABC:t:4 eps:1.2687316372132964\n",
      "INFO:History:Done <ABCSMC(id=344, start_time=2018-05-23 13:59:45.679986, end_time=2018-05-23 13:59:47.251180)>\n",
      " 13%|█▎        | 13/100 [00:24<02:35,  1.79s/it]"
     ]
    },
    {
     "name": "stdout",
     "output_type": "stream",
     "text": [
      "m         0         1\n",
      "t                    \n",
      "0  0.750000  0.250000\n",
      "1  0.980466  0.019534\n",
      "2  1.000000  0.000000\n",
      "3  1.000000  0.000000\n",
      "4  1.000000  0.000000\n"
     ]
    },
    {
     "name": "stderr",
     "output_type": "stream",
     "text": [
      "INFO:Epsilon:initial epsilon is 23.523125000000014\n",
      "INFO:History:Start <ABCSMC(id=345, start_time=2018-05-23 13:59:47.390515, end_time=None)>\n",
      "INFO:ABC:t:0 eps:23.523125000000014\n",
      "INFO:ABC:t:1 eps:9.981525000000003\n",
      "INFO:ABC:t:2 eps:3.6529086572724565\n",
      "INFO:ABC:t:3 eps:1.4614305322881322\n",
      "INFO:ABC:t:4 eps:0.5938156407176374\n",
      "INFO:History:Done <ABCSMC(id=345, start_time=2018-05-23 13:59:47.390515, end_time=2018-05-23 13:59:48.932093)>\n",
      " 14%|█▍        | 14/100 [00:26<02:30,  1.76s/it]"
     ]
    },
    {
     "name": "stdout",
     "output_type": "stream",
     "text": [
      "m         0         1\n",
      "t                    \n",
      "0  0.800000  0.200000\n",
      "1  0.893349  0.106651\n",
      "2  1.000000  0.000000\n",
      "3  1.000000  0.000000\n",
      "4  1.000000  0.000000\n"
     ]
    },
    {
     "name": "stderr",
     "output_type": "stream",
     "text": [
      "INFO:Epsilon:initial epsilon is 20.044925000000013\n",
      "INFO:History:Start <ABCSMC(id=346, start_time=2018-05-23 13:59:49.065364, end_time=None)>\n",
      "INFO:ABC:t:0 eps:20.044925000000013\n",
      "INFO:ABC:t:1 eps:7.505200000000001\n",
      "INFO:ABC:t:2 eps:4.3663607186229445\n",
      "INFO:ABC:t:3 eps:1.5587612418206855\n",
      "INFO:ABC:t:4 eps:1.0271012415947862\n",
      "INFO:History:Done <ABCSMC(id=346, start_time=2018-05-23 13:59:49.065364, end_time=2018-05-23 13:59:50.544138)>\n",
      " 15%|█▌        | 15/100 [00:28<02:25,  1.71s/it]"
     ]
    },
    {
     "name": "stdout",
     "output_type": "stream",
     "text": [
      "m         0         1\n",
      "t                    \n",
      "0  0.750000  0.250000\n",
      "1  0.958533  0.041467\n",
      "2  1.000000  0.000000\n",
      "3  1.000000  0.000000\n",
      "4  1.000000  0.000000\n"
     ]
    },
    {
     "name": "stderr",
     "output_type": "stream",
     "text": [
      "INFO:Epsilon:initial epsilon is 9.691125000000001\n",
      "INFO:History:Start <ABCSMC(id=347, start_time=2018-05-23 13:59:50.670723, end_time=None)>\n",
      "INFO:ABC:t:0 eps:9.691125000000001\n",
      "INFO:ABC:t:1 eps:4.558125000000003\n",
      "INFO:ABC:t:2 eps:2.426959988713671\n",
      "INFO:ABC:t:3 eps:1.142209679961505\n",
      "INFO:ABC:t:4 eps:0.6626342396705911\n",
      "INFO:History:Done <ABCSMC(id=347, start_time=2018-05-23 13:59:50.670723, end_time=2018-05-23 13:59:52.021991)>\n",
      " 16%|█▌        | 16/100 [00:29<02:17,  1.64s/it]"
     ]
    },
    {
     "name": "stdout",
     "output_type": "stream",
     "text": [
      "m    0\n",
      "t     \n",
      "0  1.0\n",
      "1  1.0\n",
      "2  1.0\n",
      "3  1.0\n",
      "4  1.0\n"
     ]
    },
    {
     "name": "stderr",
     "output_type": "stream",
     "text": [
      "INFO:Epsilon:initial epsilon is 20.737325000000013\n",
      "INFO:History:Start <ABCSMC(id=348, start_time=2018-05-23 13:59:52.156061, end_time=None)>\n",
      "INFO:ABC:t:0 eps:20.737325000000013\n",
      "INFO:ABC:t:1 eps:6.129850000000001\n",
      "INFO:ABC:t:2 eps:4.5972858188947745\n",
      "INFO:ABC:t:3 eps:3.126914909671213\n",
      "INFO:ABC:t:4 eps:2.13439655257905\n",
      "INFO:History:Done <ABCSMC(id=348, start_time=2018-05-23 13:59:52.156061, end_time=2018-05-23 13:59:53.745575)>\n",
      " 17%|█▋        | 17/100 [00:31<02:18,  1.67s/it]"
     ]
    },
    {
     "name": "stdout",
     "output_type": "stream",
     "text": [
      "m         0         1\n",
      "t                    \n",
      "0  0.750000  0.250000\n",
      "1  0.906187  0.093813\n",
      "2  0.961266  0.038734\n",
      "3  1.000000  0.000000\n",
      "4  1.000000  0.000000\n"
     ]
    },
    {
     "name": "stderr",
     "output_type": "stream",
     "text": [
      "INFO:Epsilon:initial epsilon is 25.562125000000005\n",
      "INFO:History:Start <ABCSMC(id=349, start_time=2018-05-23 13:59:53.874157, end_time=None)>\n",
      "INFO:ABC:t:0 eps:25.562125000000005\n",
      "INFO:ABC:t:1 eps:10.894850000000005\n",
      "INFO:ABC:t:2 eps:6.510426227906073\n",
      "INFO:ABC:t:3 eps:4.235283197494321\n",
      "INFO:ABC:t:4 eps:2.372446002392257\n",
      "INFO:History:Done <ABCSMC(id=349, start_time=2018-05-23 13:59:53.874157, end_time=2018-05-23 13:59:55.463053)>\n",
      " 18%|█▊        | 18/100 [00:32<02:17,  1.68s/it]"
     ]
    },
    {
     "name": "stdout",
     "output_type": "stream",
     "text": [
      "m         0         1\n",
      "t                    \n",
      "0  0.550000  0.450000\n",
      "1  0.764694  0.235306\n",
      "2  0.997338  0.002662\n",
      "3  1.000000  0.000000\n",
      "4  1.000000  0.000000\n"
     ]
    },
    {
     "name": "stderr",
     "output_type": "stream",
     "text": [
      "INFO:Epsilon:initial epsilon is 27.377250000000007\n",
      "INFO:History:Start <ABCSMC(id=350, start_time=2018-05-23 13:59:55.592145, end_time=None)>\n",
      "INFO:ABC:t:0 eps:27.377250000000007\n",
      "INFO:ABC:t:1 eps:8.289200000000006\n",
      "INFO:ABC:t:2 eps:4.165979403014226\n",
      "INFO:ABC:t:3 eps:2.1554800517650445\n",
      "INFO:ABC:t:4 eps:1.0665763092797431\n",
      "INFO:History:Done <ABCSMC(id=350, start_time=2018-05-23 13:59:55.592145, end_time=2018-05-23 13:59:57.171673)>\n",
      " 19%|█▉        | 19/100 [00:34<02:16,  1.69s/it]"
     ]
    },
    {
     "name": "stdout",
     "output_type": "stream",
     "text": [
      "m     0     1\n",
      "t            \n",
      "0  0.85  0.15\n",
      "1  1.00  0.00\n",
      "2  1.00  0.00\n",
      "3  1.00  0.00\n",
      "4  1.00  0.00\n"
     ]
    },
    {
     "name": "stderr",
     "output_type": "stream",
     "text": [
      "INFO:Epsilon:initial epsilon is 59.53552500000005\n",
      "INFO:History:Start <ABCSMC(id=351, start_time=2018-05-23 13:59:57.308336, end_time=None)>\n",
      "INFO:ABC:t:0 eps:59.53552500000005\n",
      "INFO:ABC:t:1 eps:3.945850000000005\n",
      "INFO:ABC:t:2 eps:2.3199999999999994\n",
      "INFO:ABC:t:3 eps:0.7668187881734415\n",
      "INFO:ABC:t:4 eps:0.28216025194671934\n",
      "INFO:History:Done <ABCSMC(id=351, start_time=2018-05-23 13:59:57.308336, end_time=2018-05-23 13:59:59.056339)>\n",
      " 20%|██        | 20/100 [00:36<02:19,  1.75s/it]"
     ]
    },
    {
     "name": "stdout",
     "output_type": "stream",
     "text": [
      "m         0         1\n",
      "t                    \n",
      "0  0.550000  0.450000\n",
      "1  0.487763  0.512237\n",
      "2  0.697464  0.302536\n",
      "3  0.837032  0.162968\n",
      "4  0.895324  0.104676\n"
     ]
    },
    {
     "name": "stderr",
     "output_type": "stream",
     "text": [
      "INFO:Epsilon:initial epsilon is 37.01985000000001\n",
      "INFO:History:Start <ABCSMC(id=352, start_time=2018-05-23 13:59:59.189712, end_time=None)>\n",
      "INFO:ABC:t:0 eps:37.01985000000001\n",
      "INFO:ABC:t:1 eps:6.702525\n",
      "INFO:ABC:t:2 eps:2.539277697857373\n",
      "INFO:ABC:t:3 eps:1.1546905929164024\n",
      "INFO:ABC:t:4 eps:0.4830102400724148\n",
      "INFO:History:Done <ABCSMC(id=352, start_time=2018-05-23 13:59:59.189712, end_time=2018-05-23 14:00:00.692610)>\n",
      " 21%|██        | 21/100 [00:38<02:15,  1.72s/it]"
     ]
    },
    {
     "name": "stdout",
     "output_type": "stream",
     "text": [
      "m    0    1\n",
      "t          \n",
      "0  0.7  0.3\n",
      "1  1.0  0.0\n",
      "2  1.0  0.0\n",
      "3  1.0  0.0\n",
      "4  1.0  0.0\n"
     ]
    },
    {
     "name": "stderr",
     "output_type": "stream",
     "text": [
      "INFO:Epsilon:initial epsilon is 13.05160000000001\n",
      "INFO:History:Start <ABCSMC(id=353, start_time=2018-05-23 14:00:00.822261, end_time=None)>\n",
      "INFO:ABC:t:0 eps:13.05160000000001\n",
      "INFO:ABC:t:1 eps:4.621725000000004\n",
      "INFO:ABC:t:2 eps:1.9314207250584052\n",
      "INFO:ABC:t:3 eps:1.3361365627767856\n",
      "INFO:ABC:t:4 eps:0.5880526561254188\n",
      "INFO:History:Done <ABCSMC(id=353, start_time=2018-05-23 14:00:00.822261, end_time=2018-05-23 14:00:02.362825)>\n",
      " 22%|██▏       | 22/100 [00:39<02:12,  1.70s/it]"
     ]
    },
    {
     "name": "stdout",
     "output_type": "stream",
     "text": [
      "m     0     1\n",
      "t            \n",
      "0  0.95  0.05\n",
      "1  1.00  0.00\n",
      "2  1.00  0.00\n",
      "3  1.00  0.00\n",
      "4  1.00  0.00\n"
     ]
    },
    {
     "name": "stderr",
     "output_type": "stream",
     "text": [
      "INFO:Epsilon:initial epsilon is 28.13625\n",
      "INFO:History:Start <ABCSMC(id=354, start_time=2018-05-23 14:00:02.493609, end_time=None)>\n",
      "INFO:ABC:t:0 eps:28.13625\n",
      "INFO:ABC:t:1 eps:2.483325000000001\n",
      "INFO:ABC:t:2 eps:1.0896001587364297\n",
      "INFO:ABC:t:3 eps:0.39772615528224625\n",
      "INFO:ABC:t:4 eps:0.2038306107871065\n",
      "INFO:History:Done <ABCSMC(id=354, start_time=2018-05-23 14:00:02.493609, end_time=2018-05-23 14:00:04.203614)>\n",
      " 23%|██▎       | 23/100 [00:41<02:14,  1.74s/it]"
     ]
    },
    {
     "name": "stdout",
     "output_type": "stream",
     "text": [
      "m         0         1\n",
      "t                    \n",
      "0  0.600000  0.400000\n",
      "1  0.391296  0.608704\n",
      "2  0.685971  0.314029\n",
      "3  0.740406  0.259594\n",
      "4  0.688663  0.311337\n"
     ]
    },
    {
     "name": "stderr",
     "output_type": "stream",
     "text": [
      "INFO:Epsilon:initial epsilon is 31.827925000000004\n",
      "INFO:History:Start <ABCSMC(id=355, start_time=2018-05-23 14:00:04.334878, end_time=None)>\n",
      "INFO:ABC:t:0 eps:31.827925000000004\n",
      "INFO:ABC:t:1 eps:15.03080000000001\n",
      "INFO:ABC:t:2 eps:7.210860527109135\n",
      "INFO:ABC:t:3 eps:3.836478875072221\n",
      "INFO:ABC:t:4 eps:1.5922700790869229\n",
      "INFO:History:Done <ABCSMC(id=355, start_time=2018-05-23 14:00:04.334878, end_time=2018-05-23 14:00:05.772459)>\n",
      " 24%|██▍       | 24/100 [00:43<02:08,  1.69s/it]"
     ]
    },
    {
     "name": "stdout",
     "output_type": "stream",
     "text": [
      "m     0     1\n",
      "t            \n",
      "0  0.95  0.05\n",
      "1  1.00  0.00\n",
      "2  1.00  0.00\n",
      "3  1.00  0.00\n",
      "4  1.00  0.00\n"
     ]
    },
    {
     "name": "stderr",
     "output_type": "stream",
     "text": [
      "INFO:Epsilon:initial epsilon is 89.1296\n",
      "INFO:History:Start <ABCSMC(id=356, start_time=2018-05-23 14:00:05.904417, end_time=None)>\n",
      "INFO:ABC:t:0 eps:89.1296\n",
      "INFO:ABC:t:1 eps:50.31645000000001\n",
      "INFO:ABC:t:2 eps:27.286909954394122\n",
      "INFO:ABC:t:3 eps:14.717687771239785\n",
      "INFO:ABC:t:4 eps:10.034874074469933\n",
      "INFO:History:Done <ABCSMC(id=356, start_time=2018-05-23 14:00:05.904417, end_time=2018-05-23 14:00:07.444171)>\n",
      " 25%|██▌       | 25/100 [00:44<02:06,  1.69s/it]"
     ]
    },
    {
     "name": "stdout",
     "output_type": "stream",
     "text": [
      "m         0         1\n",
      "t                    \n",
      "0  0.600000  0.400000\n",
      "1  0.583389  0.416611\n",
      "2  0.991301  0.008699\n",
      "3  1.000000  0.000000\n",
      "4  1.000000  0.000000\n"
     ]
    },
    {
     "name": "stderr",
     "output_type": "stream",
     "text": [
      "INFO:Epsilon:initial epsilon is 18.562050000000003\n",
      "INFO:History:Start <ABCSMC(id=357, start_time=2018-05-23 14:00:07.576331, end_time=None)>\n",
      "INFO:ABC:t:0 eps:18.562050000000003\n",
      "INFO:ABC:t:1 eps:7.1324000000000005\n",
      "INFO:ABC:t:2 eps:4.091261123766015\n",
      "INFO:ABC:t:3 eps:1.8995434453120092\n",
      "INFO:ABC:t:4 eps:0.8338934499155858\n",
      "INFO:History:Done <ABCSMC(id=357, start_time=2018-05-23 14:00:07.576331, end_time=2018-05-23 14:00:09.070878)>\n",
      " 26%|██▌       | 26/100 [00:46<02:03,  1.67s/it]"
     ]
    },
    {
     "name": "stdout",
     "output_type": "stream",
     "text": [
      "m     0     1\n",
      "t            \n",
      "0  0.85  0.15\n",
      "1  1.00  0.00\n",
      "2  1.00  0.00\n",
      "3  1.00  0.00\n",
      "4  1.00  0.00\n"
     ]
    },
    {
     "name": "stderr",
     "output_type": "stream",
     "text": [
      "INFO:Epsilon:initial epsilon is 33.27960000000001\n",
      "INFO:History:Start <ABCSMC(id=358, start_time=2018-05-23 14:00:09.203260, end_time=None)>\n",
      "INFO:ABC:t:0 eps:33.27960000000001\n",
      "INFO:ABC:t:1 eps:15.61745000000001\n",
      "INFO:ABC:t:2 eps:9.409053447010821\n",
      "INFO:ABC:t:3 eps:5.787217581093032\n",
      "INFO:ABC:t:4 eps:1.457814902287109\n",
      "INFO:History:Done <ABCSMC(id=358, start_time=2018-05-23 14:00:09.203260, end_time=2018-05-23 14:00:10.922106)>\n",
      " 27%|██▋       | 27/100 [00:48<02:05,  1.72s/it]"
     ]
    },
    {
     "name": "stdout",
     "output_type": "stream",
     "text": [
      "m        0        1\n",
      "t                  \n",
      "0  0.90000  0.10000\n",
      "1  0.98038  0.01962\n",
      "2  1.00000  0.00000\n",
      "3  1.00000  0.00000\n",
      "4  1.00000  0.00000\n"
     ]
    },
    {
     "name": "stderr",
     "output_type": "stream",
     "text": [
      "INFO:Epsilon:initial epsilon is 63.841725000000025\n",
      "INFO:History:Start <ABCSMC(id=359, start_time=2018-05-23 14:00:11.050921, end_time=None)>\n",
      "INFO:ABC:t:0 eps:63.841725000000025\n",
      "INFO:ABC:t:1 eps:2.899650000000001\n",
      "INFO:ABC:t:2 eps:1.6621781447245294\n",
      "INFO:ABC:t:3 eps:0.6054566328699462\n",
      "INFO:ABC:t:4 eps:0.24410924588129754\n",
      "INFO:History:Done <ABCSMC(id=359, start_time=2018-05-23 14:00:11.050921, end_time=2018-05-23 14:00:12.595893)>\n",
      " 28%|██▊       | 28/100 [00:50<02:03,  1.71s/it]"
     ]
    },
    {
     "name": "stdout",
     "output_type": "stream",
     "text": [
      "m     0     1\n",
      "t            \n",
      "0  0.75  0.25\n",
      "1  1.00  0.00\n",
      "2  1.00  0.00\n",
      "3  1.00  0.00\n",
      "4  1.00  0.00\n"
     ]
    },
    {
     "name": "stderr",
     "output_type": "stream",
     "text": [
      "INFO:Epsilon:initial epsilon is 23.561125000000008\n",
      "INFO:History:Start <ABCSMC(id=360, start_time=2018-05-23 14:00:12.724260, end_time=None)>\n",
      "INFO:ABC:t:0 eps:23.561125000000008\n",
      "INFO:ABC:t:1 eps:3.157125000000006\n",
      "INFO:ABC:t:2 eps:0.8128116580334042\n",
      "INFO:ABC:t:3 eps:0.3785013938735984\n",
      "INFO:ABC:t:4 eps:0.2212366337136034\n",
      "INFO:History:Done <ABCSMC(id=360, start_time=2018-05-23 14:00:12.724260, end_time=2018-05-23 14:00:14.544651)>\n",
      " 29%|██▉       | 29/100 [00:52<02:06,  1.78s/it]"
     ]
    },
    {
     "name": "stdout",
     "output_type": "stream",
     "text": [
      "m     0     1\n",
      "t            \n",
      "0  0.65  0.35\n",
      "1  1.00  0.00\n",
      "2  1.00  0.00\n",
      "3  1.00  0.00\n",
      "4  1.00  0.00\n"
     ]
    },
    {
     "name": "stderr",
     "output_type": "stream",
     "text": [
      "INFO:Epsilon:initial epsilon is 51.96752500000003\n",
      "INFO:History:Start <ABCSMC(id=361, start_time=2018-05-23 14:00:14.685391, end_time=None)>\n",
      "INFO:ABC:t:0 eps:51.96752500000003\n",
      "INFO:ABC:t:1 eps:19.530525000000004\n",
      "INFO:ABC:t:2 eps:8.781453732853437\n",
      "INFO:ABC:t:3 eps:3.6297615634645806\n",
      "INFO:ABC:t:4 eps:1.7040374723694254\n",
      "INFO:History:Done <ABCSMC(id=361, start_time=2018-05-23 14:00:14.685391, end_time=2018-05-23 14:00:17.081347)>\n",
      " 30%|███       | 30/100 [00:54<02:20,  2.01s/it]"
     ]
    },
    {
     "name": "stdout",
     "output_type": "stream",
     "text": [
      "m         0         1\n",
      "t                    \n",
      "0  0.800000  0.200000\n",
      "1  0.876661  0.123339\n",
      "2  0.988577  0.011423\n",
      "3  0.765555  0.234445\n",
      "4  1.000000  0.000000\n"
     ]
    },
    {
     "name": "stderr",
     "output_type": "stream",
     "text": [
      "INFO:Epsilon:initial epsilon is 48.22812500000001\n",
      "INFO:History:Start <ABCSMC(id=362, start_time=2018-05-23 14:00:17.218156, end_time=None)>\n",
      "INFO:ABC:t:0 eps:48.22812500000001\n",
      "INFO:ABC:t:1 eps:7.541250000000002\n",
      "INFO:ABC:t:2 eps:2.573743426295732\n",
      "INFO:ABC:t:3 eps:0.6400000000000001\n",
      "INFO:ABC:t:4 eps:0.33667463430144806\n",
      "INFO:History:Done <ABCSMC(id=362, start_time=2018-05-23 14:00:17.218156, end_time=2018-05-23 14:00:18.992396)>\n",
      " 31%|███       | 31/100 [00:56<02:16,  1.98s/it]"
     ]
    },
    {
     "name": "stdout",
     "output_type": "stream",
     "text": [
      "m         0         1\n",
      "t                    \n",
      "0  0.800000  0.200000\n",
      "1  0.508849  0.491151\n",
      "2  0.814567  0.185433\n",
      "3  0.928219  0.071781\n",
      "4  0.976707  0.023293\n"
     ]
    },
    {
     "name": "stderr",
     "output_type": "stream",
     "text": [
      "INFO:Epsilon:initial epsilon is 7.973725\n",
      "INFO:History:Start <ABCSMC(id=363, start_time=2018-05-23 14:00:19.131130, end_time=None)>\n",
      "INFO:ABC:t:0 eps:7.973725\n",
      "INFO:ABC:t:1 eps:2.709725000000002\n",
      "INFO:ABC:t:2 eps:1.033241292021253\n",
      "INFO:ABC:t:3 eps:0.5730500000000005\n",
      "INFO:ABC:t:4 eps:0.3164977859008531\n",
      "INFO:History:Done <ABCSMC(id=363, start_time=2018-05-23 14:00:19.131130, end_time=2018-05-23 14:00:21.051612)>\n",
      " 32%|███▏      | 32/100 [00:58<02:16,  2.00s/it]"
     ]
    },
    {
     "name": "stdout",
     "output_type": "stream",
     "text": [
      "m         0         1\n",
      "t                    \n",
      "0  0.800000  0.200000\n",
      "1  0.893244  0.106756\n",
      "2  0.987655  0.012345\n",
      "3  0.970698  0.029302\n",
      "4  0.990807  0.009193\n"
     ]
    },
    {
     "name": "stderr",
     "output_type": "stream",
     "text": [
      "INFO:Epsilon:initial epsilon is 13.633725000000005\n",
      "INFO:History:Start <ABCSMC(id=364, start_time=2018-05-23 14:00:21.191335, end_time=None)>\n",
      "INFO:ABC:t:0 eps:13.633725000000005\n",
      "INFO:ABC:t:1 eps:2.4911250000000025\n",
      "INFO:ABC:t:2 eps:0.57093856782953\n",
      "INFO:ABC:t:3 eps:0.15962213271121423\n",
      "INFO:ABC:t:4 eps:0.10000000000000024\n",
      "INFO:History:Done <ABCSMC(id=364, start_time=2018-05-23 14:00:21.191335, end_time=2018-05-23 14:00:23.361429)>\n",
      " 33%|███▎      | 33/100 [01:00<02:20,  2.10s/it]"
     ]
    },
    {
     "name": "stdout",
     "output_type": "stream",
     "text": [
      "m         0         1\n",
      "t                    \n",
      "0  0.600000  0.400000\n",
      "1  0.930147  0.069853\n",
      "2  0.979387  0.020613\n",
      "3  1.000000  0.000000\n",
      "4  1.000000  0.000000\n"
     ]
    },
    {
     "name": "stderr",
     "output_type": "stream",
     "text": [
      "INFO:Epsilon:initial epsilon is 31.180925000000013\n",
      "INFO:History:Start <ABCSMC(id=365, start_time=2018-05-23 14:00:23.513408, end_time=None)>\n",
      "INFO:ABC:t:0 eps:31.180925000000013\n",
      "INFO:ABC:t:1 eps:8.66405\n",
      "INFO:ABC:t:2 eps:4.022358946748596\n",
      "INFO:ABC:t:3 eps:1.0052861491503313\n",
      "INFO:ABC:t:4 eps:0.6759758584263503\n",
      "INFO:History:Done <ABCSMC(id=365, start_time=2018-05-23 14:00:23.513408, end_time=2018-05-23 14:00:25.280811)>\n",
      " 34%|███▍      | 34/100 [01:02<02:14,  2.04s/it]"
     ]
    },
    {
     "name": "stdout",
     "output_type": "stream",
     "text": [
      "m         0         1\n",
      "t                    \n",
      "0  0.650000  0.350000\n",
      "1  0.689725  0.310275\n",
      "2  0.968674  0.031326\n",
      "3  1.000000  0.000000\n",
      "4  1.000000  0.000000\n"
     ]
    },
    {
     "name": "stderr",
     "output_type": "stream",
     "text": [
      "INFO:Epsilon:initial epsilon is 22.991725000000045\n",
      "INFO:History:Start <ABCSMC(id=366, start_time=2018-05-23 14:00:25.562619, end_time=None)>\n",
      "INFO:ABC:t:0 eps:22.991725000000045\n",
      "INFO:ABC:t:1 eps:8.147525000000007\n",
      "INFO:ABC:t:2 eps:2.5153631738715116\n",
      "INFO:ABC:t:3 eps:1.6845993784991702\n",
      "INFO:ABC:t:4 eps:0.9836725691615344\n",
      "INFO:History:Done <ABCSMC(id=366, start_time=2018-05-23 14:00:25.562619, end_time=2018-05-23 14:00:27.591073)>\n",
      " 35%|███▌      | 35/100 [01:05<02:17,  2.12s/it]"
     ]
    },
    {
     "name": "stdout",
     "output_type": "stream",
     "text": [
      "m         0         1\n",
      "t                    \n",
      "0  0.600000  0.400000\n",
      "1  0.560161  0.439839\n",
      "2  0.758381  0.241619\n",
      "3  0.984662  0.015338\n",
      "4  0.979712  0.020288\n"
     ]
    },
    {
     "name": "stderr",
     "output_type": "stream",
     "text": [
      "INFO:Epsilon:initial epsilon is 71.31765000000003\n",
      "INFO:History:Start <ABCSMC(id=367, start_time=2018-05-23 14:00:27.741744, end_time=None)>\n",
      "INFO:ABC:t:0 eps:71.31765000000003\n",
      "INFO:ABC:t:1 eps:37.970000000000006\n",
      "INFO:ABC:t:2 eps:17.562810444027\n",
      "INFO:ABC:t:3 eps:11.552259557267142\n",
      "INFO:ABC:t:4 eps:4.729115301631247\n",
      "INFO:History:Done <ABCSMC(id=367, start_time=2018-05-23 14:00:27.741744, end_time=2018-05-23 14:00:29.411502)>\n",
      " 36%|███▌      | 36/100 [01:06<02:10,  2.03s/it]"
     ]
    },
    {
     "name": "stdout",
     "output_type": "stream",
     "text": [
      "m         0         1\n",
      "t                    \n",
      "0  0.800000  0.200000\n",
      "1  0.993282  0.006718\n",
      "2  1.000000  0.000000\n",
      "3  1.000000  0.000000\n",
      "4  1.000000  0.000000\n"
     ]
    },
    {
     "name": "stderr",
     "output_type": "stream",
     "text": [
      "INFO:Epsilon:initial epsilon is 9.174525000000001\n",
      "INFO:History:Start <ABCSMC(id=368, start_time=2018-05-23 14:00:29.555740, end_time=None)>\n",
      "INFO:ABC:t:0 eps:9.174525000000001\n",
      "INFO:ABC:t:1 eps:3.229725000000001\n",
      "INFO:ABC:t:2 eps:2.3579465546756557\n",
      "INFO:ABC:t:3 eps:1.3867042620099397\n",
      "INFO:ABC:t:4 eps:0.5575688191792171\n",
      "INFO:History:Done <ABCSMC(id=368, start_time=2018-05-23 14:00:29.555740, end_time=2018-05-23 14:00:31.544620)>\n",
      " 37%|███▋      | 37/100 [01:09<02:09,  2.06s/it]"
     ]
    },
    {
     "name": "stdout",
     "output_type": "stream",
     "text": [
      "m         0         1\n",
      "t                    \n",
      "0  0.550000  0.450000\n",
      "1  0.774611  0.225389\n",
      "2  0.985300  0.014700\n",
      "3  0.991093  0.008907\n",
      "4  1.000000  0.000000\n"
     ]
    },
    {
     "name": "stderr",
     "output_type": "stream",
     "text": [
      "INFO:Epsilon:initial epsilon is 34.419725\n",
      "INFO:History:Start <ABCSMC(id=369, start_time=2018-05-23 14:00:31.691469, end_time=None)>\n",
      "INFO:ABC:t:0 eps:34.419725\n",
      "INFO:ABC:t:1 eps:10.052325000000003\n",
      "INFO:ABC:t:2 eps:2.674139984671922\n",
      "INFO:ABC:t:3 eps:1.2487895197442196\n",
      "INFO:ABC:t:4 eps:0.42202505406703433\n",
      "INFO:History:Done <ABCSMC(id=369, start_time=2018-05-23 14:00:31.691469, end_time=2018-05-23 14:00:33.679708)>\n",
      " 38%|███▊      | 38/100 [01:11<02:09,  2.08s/it]"
     ]
    },
    {
     "name": "stdout",
     "output_type": "stream",
     "text": [
      "m         0         1\n",
      "t                    \n",
      "0  0.650000  0.350000\n",
      "1  0.980696  0.019304\n",
      "2  1.000000  0.000000\n",
      "3  1.000000  0.000000\n",
      "4  1.000000  0.000000\n"
     ]
    },
    {
     "name": "stderr",
     "output_type": "stream",
     "text": [
      "INFO:Epsilon:initial epsilon is 429.17352500000004\n",
      "INFO:History:Start <ABCSMC(id=370, start_time=2018-05-23 14:00:33.835573, end_time=None)>\n",
      "INFO:ABC:t:0 eps:429.17352500000004\n",
      "INFO:ABC:t:1 eps:260.4508500000001\n",
      "INFO:ABC:t:2 eps:68.37626242528188\n",
      "INFO:ABC:t:3 eps:35.64070935380544\n",
      "INFO:ABC:t:4 eps:22.934204427115095\n",
      "INFO:History:Done <ABCSMC(id=370, start_time=2018-05-23 14:00:33.835573, end_time=2018-05-23 14:00:36.137724)>\n",
      " 39%|███▉      | 39/100 [01:13<02:13,  2.20s/it]"
     ]
    },
    {
     "name": "stdout",
     "output_type": "stream",
     "text": [
      "m         0         1\n",
      "t                    \n",
      "0  0.450000  0.550000\n",
      "1  0.178170  0.821830\n",
      "2  0.010328  0.989672\n",
      "3  0.015244  0.984756\n",
      "4  0.000000  1.000000\n"
     ]
    },
    {
     "name": "stderr",
     "output_type": "stream",
     "text": [
      "INFO:Epsilon:initial epsilon is 14.476725000000009\n",
      "INFO:History:Start <ABCSMC(id=371, start_time=2018-05-23 14:00:36.282464, end_time=None)>\n",
      "INFO:ABC:t:0 eps:14.476725000000009\n",
      "INFO:ABC:t:1 eps:7.468125000000002\n",
      "INFO:ABC:t:2 eps:3.0542382934825887\n",
      "INFO:ABC:t:3 eps:2.242147228070395\n",
      "INFO:ABC:t:4 eps:0.9055197664120831\n",
      "INFO:History:Done <ABCSMC(id=371, start_time=2018-05-23 14:00:36.282464, end_time=2018-05-23 14:00:37.826690)>\n",
      " 40%|████      | 40/100 [01:15<02:02,  2.04s/it]"
     ]
    },
    {
     "name": "stdout",
     "output_type": "stream",
     "text": [
      "m    0    1\n",
      "t          \n",
      "0  0.7  0.3\n",
      "1  1.0  0.0\n",
      "2  1.0  0.0\n",
      "3  1.0  0.0\n",
      "4  1.0  0.0\n"
     ]
    },
    {
     "name": "stderr",
     "output_type": "stream",
     "text": [
      "INFO:Epsilon:initial epsilon is 72.03192500000006\n",
      "INFO:History:Start <ABCSMC(id=372, start_time=2018-05-23 14:00:37.970945, end_time=None)>\n",
      "INFO:ABC:t:0 eps:72.03192500000006\n",
      "INFO:ABC:t:1 eps:35.60192500000001\n",
      "INFO:ABC:t:2 eps:13.2882209377825\n",
      "INFO:ABC:t:3 eps:5.316067668001226\n",
      "INFO:ABC:t:4 eps:3.3187357526040455\n",
      "INFO:History:Done <ABCSMC(id=372, start_time=2018-05-23 14:00:37.970945, end_time=2018-05-23 14:00:39.601467)>\n",
      " 41%|████      | 41/100 [01:17<01:55,  1.96s/it]"
     ]
    },
    {
     "name": "stdout",
     "output_type": "stream",
     "text": [
      "m         0         1\n",
      "t                    \n",
      "0  0.600000  0.400000\n",
      "1  0.827512  0.172488\n",
      "2  1.000000  0.000000\n",
      "3  1.000000  0.000000\n",
      "4  1.000000  0.000000\n"
     ]
    },
    {
     "name": "stderr",
     "output_type": "stream",
     "text": [
      "INFO:Epsilon:initial epsilon is 44.046650000000014\n",
      "INFO:History:Start <ABCSMC(id=373, start_time=2018-05-23 14:00:39.745392, end_time=None)>\n",
      "INFO:ABC:t:0 eps:44.046650000000014\n",
      "INFO:ABC:t:1 eps:4.924725000000003\n",
      "INFO:ABC:t:2 eps:2.293749951994403\n",
      "INFO:ABC:t:3 eps:1.2200000000000002\n",
      "INFO:ABC:t:4 eps:0.6319593686798324\n",
      "INFO:History:Done <ABCSMC(id=373, start_time=2018-05-23 14:00:39.745392, end_time=2018-05-23 14:00:41.576551)>\n",
      " 42%|████▏     | 42/100 [01:19<01:54,  1.97s/it]"
     ]
    },
    {
     "name": "stdout",
     "output_type": "stream",
     "text": [
      "m         0         1\n",
      "t                    \n",
      "0  0.600000  0.400000\n",
      "1  0.625643  0.374357\n",
      "2  0.528782  0.471218\n",
      "3  0.615263  0.384737\n",
      "4  0.638932  0.361068\n"
     ]
    },
    {
     "name": "stderr",
     "output_type": "stream",
     "text": [
      "INFO:Epsilon:initial epsilon is 28.329725000000003\n",
      "INFO:History:Start <ABCSMC(id=374, start_time=2018-05-23 14:00:41.709973, end_time=None)>\n",
      "INFO:ABC:t:0 eps:28.329725000000003\n",
      "INFO:ABC:t:1 eps:8.441250000000002\n",
      "INFO:ABC:t:2 eps:4.294853674238678\n",
      "INFO:ABC:t:3 eps:2.030501360906836\n",
      "INFO:ABC:t:4 eps:1.1682251521671414\n",
      "INFO:History:Done <ABCSMC(id=374, start_time=2018-05-23 14:00:41.709973, end_time=2018-05-23 14:00:43.930106)>\n",
      " 43%|████▎     | 43/100 [01:21<01:58,  2.08s/it]"
     ]
    },
    {
     "name": "stdout",
     "output_type": "stream",
     "text": [
      "m         0         1\n",
      "t                    \n",
      "0  0.600000  0.400000\n",
      "1  0.850990  0.149010\n",
      "2  0.732274  0.267726\n",
      "3  0.707265  0.292735\n",
      "4  0.887255  0.112745\n"
     ]
    },
    {
     "name": "stderr",
     "output_type": "stream",
     "text": [
      "INFO:Epsilon:initial epsilon is 30.494524999999996\n",
      "INFO:History:Start <ABCSMC(id=375, start_time=2018-05-23 14:00:44.066019, end_time=None)>\n",
      "INFO:ABC:t:0 eps:30.494524999999996\n",
      "INFO:ABC:t:1 eps:8.739600000000014\n",
      "INFO:ABC:t:2 eps:3.712645714096213\n",
      "INFO:ABC:t:3 eps:2.278895663342637\n",
      "INFO:ABC:t:4 eps:1.0798632232446932\n",
      "INFO:History:Done <ABCSMC(id=375, start_time=2018-05-23 14:00:44.066019, end_time=2018-05-23 14:00:45.661800)>\n",
      " 44%|████▍     | 44/100 [01:23<01:50,  1.98s/it]"
     ]
    },
    {
     "name": "stdout",
     "output_type": "stream",
     "text": [
      "m     0     1\n",
      "t            \n",
      "0  0.65  0.35\n",
      "1  1.00  0.00\n",
      "2  1.00  0.00\n",
      "3  1.00  0.00\n",
      "4  1.00  0.00\n"
     ]
    },
    {
     "name": "stderr",
     "output_type": "stream",
     "text": [
      "INFO:Epsilon:initial epsilon is 17.059725000000004\n",
      "INFO:History:Start <ABCSMC(id=376, start_time=2018-05-23 14:00:45.806362, end_time=None)>\n",
      "INFO:ABC:t:0 eps:17.059725000000004\n",
      "INFO:ABC:t:1 eps:7.653125000000005\n",
      "INFO:ABC:t:2 eps:2.219749202301665\n",
      "INFO:ABC:t:3 eps:0.8647669038483319\n",
      "INFO:ABC:t:4 eps:0.5082451010325544\n",
      "INFO:History:Done <ABCSMC(id=376, start_time=2018-05-23 14:00:45.806362, end_time=2018-05-23 14:00:47.486605)>\n",
      " 45%|████▌     | 45/100 [01:24<01:46,  1.93s/it]"
     ]
    },
    {
     "name": "stdout",
     "output_type": "stream",
     "text": [
      "m     0     1\n",
      "t            \n",
      "0  0.75  0.25\n",
      "1  1.00  0.00\n",
      "2  1.00  0.00\n",
      "3  1.00  0.00\n",
      "4  1.00  0.00\n"
     ]
    },
    {
     "name": "stderr",
     "output_type": "stream",
     "text": [
      "INFO:Epsilon:initial epsilon is 10.044650000000006\n",
      "INFO:History:Start <ABCSMC(id=377, start_time=2018-05-23 14:00:47.619564, end_time=None)>\n",
      "INFO:ABC:t:0 eps:10.044650000000006\n",
      "INFO:ABC:t:1 eps:2.9769250000000023\n",
      "INFO:ABC:t:2 eps:0.961487156464589\n",
      "INFO:ABC:t:3 eps:0.5566052217986662\n",
      "INFO:ABC:t:4 eps:0.32327636914983504\n",
      "INFO:History:Done <ABCSMC(id=377, start_time=2018-05-23 14:00:47.619564, end_time=2018-05-23 14:00:49.264319)>\n",
      " 46%|████▌     | 46/100 [01:26<01:41,  1.89s/it]"
     ]
    },
    {
     "name": "stdout",
     "output_type": "stream",
     "text": [
      "m    0    1\n",
      "t          \n",
      "0  0.8  0.2\n",
      "1  1.0  0.0\n",
      "2  1.0  0.0\n",
      "3  1.0  0.0\n",
      "4  1.0  0.0\n"
     ]
    },
    {
     "name": "stderr",
     "output_type": "stream",
     "text": [
      "INFO:Epsilon:initial epsilon is 39.43085000000002\n",
      "INFO:History:Start <ABCSMC(id=378, start_time=2018-05-23 14:00:49.406563, end_time=None)>\n",
      "INFO:ABC:t:0 eps:39.43085000000002\n",
      "INFO:ABC:t:1 eps:9.979999999999999\n",
      "INFO:ABC:t:2 eps:3.8961538287250708\n",
      "INFO:ABC:t:3 eps:1.8495092730914773\n",
      "INFO:ABC:t:4 eps:0.6671508633481511\n",
      "INFO:History:Done <ABCSMC(id=378, start_time=2018-05-23 14:00:49.406563, end_time=2018-05-23 14:00:51.152758)>\n",
      " 47%|████▋     | 47/100 [01:28<01:39,  1.89s/it]"
     ]
    },
    {
     "name": "stdout",
     "output_type": "stream",
     "text": [
      "m         0         1\n",
      "t                    \n",
      "0  0.750000  0.250000\n",
      "1  0.798798  0.201202\n",
      "2  1.000000  0.000000\n",
      "3  1.000000  0.000000\n",
      "4  1.000000  0.000000\n"
     ]
    },
    {
     "name": "stderr",
     "output_type": "stream",
     "text": [
      "INFO:Epsilon:initial epsilon is 11.827925000000004\n",
      "INFO:History:Start <ABCSMC(id=379, start_time=2018-05-23 14:00:51.289059, end_time=None)>\n",
      "INFO:ABC:t:0 eps:11.827925000000004\n",
      "INFO:ABC:t:1 eps:2.9285250000000023\n",
      "INFO:ABC:t:2 eps:1.0957891445551091\n",
      "INFO:ABC:t:3 eps:0.6187533957879858\n",
      "INFO:ABC:t:4 eps:0.41905000000000003\n",
      "INFO:History:Done <ABCSMC(id=379, start_time=2018-05-23 14:00:51.289059, end_time=2018-05-23 14:00:53.093271)>\n",
      " 48%|████▊     | 48/100 [01:30<01:38,  1.90s/it]"
     ]
    },
    {
     "name": "stdout",
     "output_type": "stream",
     "text": [
      "m         0         1\n",
      "t                    \n",
      "0  0.500000  0.500000\n",
      "1  0.361903  0.638097\n",
      "2  0.327562  0.672438\n",
      "3  0.423414  0.576586\n",
      "4  0.438945  0.561055\n"
     ]
    },
    {
     "name": "stderr",
     "output_type": "stream",
     "text": [
      "INFO:Epsilon:initial epsilon is 22.307600000000015\n",
      "INFO:History:Start <ABCSMC(id=380, start_time=2018-05-23 14:00:53.224609, end_time=None)>\n",
      "INFO:ABC:t:0 eps:22.307600000000015\n",
      "INFO:ABC:t:1 eps:5.958125000000006\n",
      "INFO:ABC:t:2 eps:1.6878817676646563\n",
      "INFO:ABC:t:3 eps:1.204758702137902\n",
      "INFO:ABC:t:4 eps:0.6032\n",
      "INFO:History:Done <ABCSMC(id=380, start_time=2018-05-23 14:00:53.224609, end_time=2018-05-23 14:00:54.949615)>\n",
      " 49%|████▉     | 49/100 [01:32<01:36,  1.89s/it]"
     ]
    },
    {
     "name": "stdout",
     "output_type": "stream",
     "text": [
      "m         0         1\n",
      "t                    \n",
      "0  0.600000  0.400000\n",
      "1  0.768209  0.231791\n",
      "2  0.584923  0.415077\n",
      "3  0.563536  0.436464\n",
      "4  0.713729  0.286271\n"
     ]
    },
    {
     "name": "stderr",
     "output_type": "stream",
     "text": [
      "INFO:Epsilon:initial epsilon is 15.910049999999998\n",
      "INFO:History:Start <ABCSMC(id=381, start_time=2018-05-23 14:00:55.081811, end_time=None)>\n",
      "INFO:ABC:t:0 eps:15.910049999999998\n",
      "INFO:ABC:t:1 eps:10.07165\n",
      "INFO:ABC:t:2 eps:5.5924394360604115\n",
      "INFO:ABC:t:3 eps:4.475574309243731\n",
      "INFO:ABC:t:4 eps:3.139619079060186\n",
      "INFO:History:Done <ABCSMC(id=381, start_time=2018-05-23 14:00:55.081811, end_time=2018-05-23 14:00:56.563058)>\n",
      " 50%|█████     | 50/100 [01:34<01:30,  1.81s/it]"
     ]
    },
    {
     "name": "stdout",
     "output_type": "stream",
     "text": [
      "m         0         1\n",
      "t                    \n",
      "0  0.500000  0.500000\n",
      "1  0.845568  0.154432\n",
      "2  1.000000  0.000000\n",
      "3  1.000000  0.000000\n",
      "4  1.000000  0.000000\n"
     ]
    },
    {
     "name": "stderr",
     "output_type": "stream",
     "text": [
      "INFO:Epsilon:initial epsilon is 17.876124999999995\n",
      "INFO:History:Start <ABCSMC(id=382, start_time=2018-05-23 14:00:56.693782, end_time=None)>\n",
      "INFO:ABC:t:0 eps:17.876124999999995\n",
      "INFO:ABC:t:1 eps:9.396000000000006\n",
      "INFO:ABC:t:2 eps:7.678766968806958\n",
      "INFO:ABC:t:3 eps:5.073445490419627\n",
      "INFO:ABC:t:4 eps:1.6167346483229932\n",
      "INFO:History:Done <ABCSMC(id=382, start_time=2018-05-23 14:00:56.693782, end_time=2018-05-23 14:00:58.779240)>\n",
      " 51%|█████     | 51/100 [01:36<01:34,  1.93s/it]"
     ]
    },
    {
     "name": "stdout",
     "output_type": "stream",
     "text": [
      "m         0         1\n",
      "t                    \n",
      "0  0.600000  0.400000\n",
      "1  0.375361  0.624639\n",
      "2  0.431178  0.568822\n",
      "3  0.072148  0.927852\n",
      "4  0.000000  1.000000\n"
     ]
    },
    {
     "name": "stderr",
     "output_type": "stream",
     "text": [
      "INFO:Epsilon:initial epsilon is 547.2895250000001\n",
      "INFO:History:Start <ABCSMC(id=383, start_time=2018-05-23 14:00:58.916180, end_time=None)>\n",
      "INFO:ABC:t:0 eps:547.2895250000001\n",
      "INFO:ABC:t:1 eps:265.251325\n",
      "INFO:ABC:t:2 eps:65.87680521739568\n",
      "INFO:ABC:t:3 eps:11.486397653155283\n",
      "INFO:ABC:t:4 eps:3.2817444439722117\n",
      "INFO:History:Done <ABCSMC(id=383, start_time=2018-05-23 14:00:58.916180, end_time=2018-05-23 14:01:00.941919)>\n",
      " 52%|█████▏    | 52/100 [01:38<01:36,  2.00s/it]"
     ]
    },
    {
     "name": "stdout",
     "output_type": "stream",
     "text": [
      "m    0    1\n",
      "t          \n",
      "0  0.2  0.8\n",
      "1  0.0  1.0\n",
      "2  0.0  1.0\n",
      "3  0.0  1.0\n",
      "4  0.0  1.0\n"
     ]
    },
    {
     "name": "stderr",
     "output_type": "stream",
     "text": [
      "INFO:Epsilon:initial epsilon is 21.799925000000005\n",
      "INFO:History:Start <ABCSMC(id=384, start_time=2018-05-23 14:01:01.081746, end_time=None)>\n",
      "INFO:ABC:t:0 eps:21.799925000000005\n",
      "INFO:ABC:t:1 eps:8.680800000000012\n",
      "INFO:ABC:t:2 eps:5.713104643540487\n",
      "INFO:ABC:t:3 eps:3.873586950741913\n",
      "INFO:ABC:t:4 eps:2.3190744337056914\n",
      "INFO:History:Done <ABCSMC(id=384, start_time=2018-05-23 14:01:01.081746, end_time=2018-05-23 14:01:02.993049)>\n",
      " 53%|█████▎    | 53/100 [01:40<01:34,  2.02s/it]"
     ]
    },
    {
     "name": "stdout",
     "output_type": "stream",
     "text": [
      "m         0         1\n",
      "t                    \n",
      "0  0.650000  0.350000\n",
      "1  0.431257  0.568743\n",
      "2  0.508141  0.491859\n",
      "3  0.163349  0.836651\n",
      "4  0.230881  0.769119\n"
     ]
    },
    {
     "name": "stderr",
     "output_type": "stream",
     "text": [
      "INFO:Epsilon:initial epsilon is 3374.7069250000004\n",
      "INFO:History:Start <ABCSMC(id=385, start_time=2018-05-23 14:01:03.126498, end_time=None)>\n",
      "INFO:ABC:t:0 eps:3374.7069250000004\n",
      "INFO:ABC:t:1 eps:3026.334525\n",
      "INFO:ABC:t:2 eps:2293.1642899341923\n",
      "INFO:ABC:t:3 eps:1593.6078855247197\n",
      "INFO:ABC:t:4 eps:843.485581054849\n",
      "INFO:History:Done <ABCSMC(id=385, start_time=2018-05-23 14:01:03.126498, end_time=2018-05-23 14:01:04.732539)>\n",
      " 54%|█████▍    | 54/100 [01:42<01:28,  1.93s/it]"
     ]
    },
    {
     "name": "stdout",
     "output_type": "stream",
     "text": [
      "m         0         1\n",
      "t                    \n",
      "0  0.450000  0.550000\n",
      "1  0.261505  0.738495\n",
      "2  0.034050  0.965950\n",
      "3  0.000000  1.000000\n",
      "4  0.000000  1.000000\n"
     ]
    },
    {
     "name": "stderr",
     "output_type": "stream",
     "text": [
      "INFO:Epsilon:initial epsilon is 33.8604\n",
      "INFO:History:Start <ABCSMC(id=386, start_time=2018-05-23 14:01:04.870816, end_time=None)>\n",
      "INFO:ABC:t:0 eps:33.8604\n",
      "INFO:ABC:t:1 eps:11.569850000000006\n",
      "INFO:ABC:t:2 eps:6.266592357774291\n",
      "INFO:ABC:t:3 eps:3.5775816540857557\n",
      "INFO:ABC:t:4 eps:2.3788135507302455\n",
      "INFO:History:Done <ABCSMC(id=386, start_time=2018-05-23 14:01:04.870816, end_time=2018-05-23 14:01:07.060916)>\n",
      " 55%|█████▌    | 55/100 [01:44<01:32,  2.05s/it]"
     ]
    },
    {
     "name": "stdout",
     "output_type": "stream",
     "text": [
      "m         0         1\n",
      "t                    \n",
      "0  0.900000  0.100000\n",
      "1  0.731202  0.268798\n",
      "2  0.731293  0.268707\n",
      "3  0.890514  0.109486\n",
      "4  0.879295  0.120705\n"
     ]
    },
    {
     "name": "stderr",
     "output_type": "stream",
     "text": [
      "INFO:Epsilon:initial epsilon is 179.99759999999995\n",
      "INFO:History:Start <ABCSMC(id=387, start_time=2018-05-23 14:01:07.205074, end_time=None)>\n",
      "INFO:ABC:t:0 eps:179.99759999999995\n",
      "INFO:ABC:t:1 eps:49.98665000000001\n",
      "INFO:ABC:t:2 eps:26.838541776314283\n",
      "INFO:ABC:t:3 eps:19.653917306193136\n",
      "INFO:ABC:t:4 eps:17.358211845059742\n",
      "INFO:History:Done <ABCSMC(id=387, start_time=2018-05-23 14:01:07.205074, end_time=2018-05-23 14:01:09.374245)>\n",
      " 56%|█████▌    | 56/100 [01:46<01:33,  2.13s/it]"
     ]
    },
    {
     "name": "stdout",
     "output_type": "stream",
     "text": [
      "m         0         1\n",
      "t                    \n",
      "0  0.500000  0.500000\n",
      "1  0.460861  0.539139\n",
      "2  0.317660  0.682340\n",
      "3  0.078263  0.921737\n",
      "4  0.082524  0.917476\n"
     ]
    },
    {
     "name": "stderr",
     "output_type": "stream",
     "text": [
      "INFO:Epsilon:initial epsilon is 39778.404525\n",
      "INFO:History:Start <ABCSMC(id=388, start_time=2018-05-23 14:01:09.513605, end_time=None)>\n",
      "INFO:ABC:t:0 eps:39778.404525\n",
      "INFO:ABC:t:1 eps:34577.499650000005\n",
      "INFO:ABC:t:2 eps:28665.816041712715\n",
      "INFO:ABC:t:3 eps:17610.918939195257\n",
      "INFO:ABC:t:4 eps:3418.8781335193535\n",
      "INFO:History:Done <ABCSMC(id=388, start_time=2018-05-23 14:01:09.513605, end_time=2018-05-23 14:01:11.231636)>\n",
      " 57%|█████▋    | 57/100 [01:48<01:28,  2.05s/it]"
     ]
    },
    {
     "name": "stdout",
     "output_type": "stream",
     "text": [
      "m     0     1\n",
      "t            \n",
      "0  0.25  0.75\n",
      "1  0.00  1.00\n",
      "2  0.00  1.00\n",
      "3  0.00  1.00\n",
      "4  0.00  1.00\n"
     ]
    },
    {
     "name": "stderr",
     "output_type": "stream",
     "text": [
      "INFO:Epsilon:initial epsilon is 14.522800000000004\n",
      "INFO:History:Start <ABCSMC(id=389, start_time=2018-05-23 14:01:11.365779, end_time=None)>\n",
      "INFO:ABC:t:0 eps:14.522800000000004\n",
      "INFO:ABC:t:1 eps:4.623125000000001\n",
      "INFO:ABC:t:2 eps:2.0755889536213927\n",
      "INFO:ABC:t:3 eps:1.4564520851429585\n",
      "INFO:ABC:t:4 eps:0.3960955262647196\n",
      "INFO:History:Done <ABCSMC(id=389, start_time=2018-05-23 14:01:11.365779, end_time=2018-05-23 14:01:13.488562)>\n",
      " 58%|█████▊    | 58/100 [01:51<01:28,  2.11s/it]"
     ]
    },
    {
     "name": "stdout",
     "output_type": "stream",
     "text": [
      "m         0         1\n",
      "t                    \n",
      "0  0.300000  0.700000\n",
      "1  0.352797  0.647203\n",
      "2  0.379206  0.620794\n",
      "3  0.092623  0.907377\n",
      "4  0.038140  0.961860\n"
     ]
    },
    {
     "name": "stderr",
     "output_type": "stream",
     "text": [
      "INFO:Epsilon:initial epsilon is 969.6874500000001\n",
      "INFO:History:Start <ABCSMC(id=390, start_time=2018-05-23 14:01:13.625951, end_time=None)>\n",
      "INFO:ABC:t:0 eps:969.6874500000001\n",
      "INFO:ABC:t:1 eps:746.5348\n",
      "INFO:ABC:t:2 eps:366.24959653294565\n",
      "INFO:ABC:t:3 eps:75.59308797188137\n",
      "INFO:ABC:t:4 eps:31.164454058747445\n",
      "INFO:History:Done <ABCSMC(id=390, start_time=2018-05-23 14:01:13.625951, end_time=2018-05-23 14:01:15.491504)>\n",
      " 59%|█████▉    | 59/100 [01:52<01:25,  2.08s/it]"
     ]
    },
    {
     "name": "stdout",
     "output_type": "stream",
     "text": [
      "m         0         1\n",
      "t                    \n",
      "0  0.600000  0.400000\n",
      "1  0.166466  0.833534\n",
      "2  0.018629  0.981371\n",
      "3  0.000000  1.000000\n",
      "4  0.000000  1.000000\n"
     ]
    },
    {
     "name": "stderr",
     "output_type": "stream",
     "text": [
      "INFO:Epsilon:initial epsilon is 160.79172500000007\n",
      "INFO:History:Start <ABCSMC(id=391, start_time=2018-05-23 14:01:15.629467, end_time=None)>\n",
      "INFO:ABC:t:0 eps:160.79172500000007\n",
      "INFO:ABC:t:1 eps:92.75112500000007\n",
      "INFO:ABC:t:2 eps:27.06073759663007\n",
      "INFO:ABC:t:3 eps:13.780302040716402\n",
      "INFO:ABC:t:4 eps:4.74941344452691\n",
      "INFO:History:Done <ABCSMC(id=391, start_time=2018-05-23 14:01:15.629467, end_time=2018-05-23 14:01:17.643091)>\n",
      " 60%|██████    | 60/100 [01:55<01:23,  2.10s/it]"
     ]
    },
    {
     "name": "stdout",
     "output_type": "stream",
     "text": [
      "m         0         1\n",
      "t                    \n",
      "0  0.600000  0.400000\n",
      "1  0.310549  0.689451\n",
      "2  0.000000  1.000000\n",
      "3  0.000000  1.000000\n",
      "4  0.000000  1.000000\n"
     ]
    },
    {
     "name": "stderr",
     "output_type": "stream",
     "text": [
      "INFO:Epsilon:initial epsilon is 50.13560000000001\n",
      "INFO:History:Start <ABCSMC(id=392, start_time=2018-05-23 14:01:17.778252, end_time=None)>\n",
      "INFO:ABC:t:0 eps:50.13560000000001\n",
      "INFO:ABC:t:1 eps:33.6328\n",
      "INFO:ABC:t:2 eps:15.751976647049645\n",
      "INFO:ABC:t:3 eps:9.655070499456288\n",
      "INFO:ABC:t:4 eps:3.0217544765002584\n",
      "INFO:History:Done <ABCSMC(id=392, start_time=2018-05-23 14:01:17.778252, end_time=2018-05-23 14:01:19.731265)>\n",
      " 61%|██████    | 61/100 [01:57<01:21,  2.10s/it]"
     ]
    },
    {
     "name": "stdout",
     "output_type": "stream",
     "text": [
      "m         0         1\n",
      "t                    \n",
      "0  0.500000  0.500000\n",
      "1  0.253005  0.746995\n",
      "2  0.090436  0.909564\n",
      "3  0.000000  1.000000\n",
      "4  0.000000  1.000000\n"
     ]
    },
    {
     "name": "stderr",
     "output_type": "stream",
     "text": [
      "INFO:Epsilon:initial epsilon is 87.50845000000002\n",
      "INFO:History:Start <ABCSMC(id=393, start_time=2018-05-23 14:01:19.868168, end_time=None)>\n",
      "INFO:ABC:t:0 eps:87.50845000000002\n",
      "INFO:ABC:t:1 eps:37.063725000000005\n",
      "INFO:ABC:t:2 eps:17.024891391349605\n",
      "INFO:ABC:t:3 eps:10.923001542147299\n",
      "INFO:ABC:t:4 eps:5.69884619368788\n",
      "INFO:History:Done <ABCSMC(id=393, start_time=2018-05-23 14:01:19.868168, end_time=2018-05-23 14:01:21.605805)>\n",
      " 62%|██████▏   | 62/100 [01:59<01:17,  2.03s/it]"
     ]
    },
    {
     "name": "stdout",
     "output_type": "stream",
     "text": [
      "m         0         1\n",
      "t                    \n",
      "0  0.850000  0.150000\n",
      "1  0.611727  0.388273\n",
      "2  0.485259  0.514741\n",
      "3  0.475448  0.524552\n",
      "4  0.248975  0.751025\n"
     ]
    },
    {
     "name": "stderr",
     "output_type": "stream",
     "text": [
      "INFO:Epsilon:initial epsilon is 945.9036\n",
      "INFO:History:Start <ABCSMC(id=394, start_time=2018-05-23 14:01:21.740776, end_time=None)>\n",
      "INFO:ABC:t:0 eps:945.9036\n",
      "INFO:ABC:t:1 eps:667.9881250000001\n",
      "INFO:ABC:t:2 eps:398.5647846690788\n",
      "INFO:ABC:t:3 eps:101.47082613627873\n",
      "INFO:ABC:t:4 eps:34.07066512166348\n",
      "INFO:History:Done <ABCSMC(id=394, start_time=2018-05-23 14:01:21.740776, end_time=2018-05-23 14:01:23.409115)>\n",
      " 63%|██████▎   | 63/100 [02:00<01:12,  1.96s/it]"
     ]
    },
    {
     "name": "stdout",
     "output_type": "stream",
     "text": [
      "m         0         1\n",
      "t                    \n",
      "0  0.350000  0.650000\n",
      "1  0.118501  0.881499\n",
      "2  0.000000  1.000000\n",
      "3  0.000000  1.000000\n",
      "4  0.000000  1.000000\n"
     ]
    },
    {
     "name": "stderr",
     "output_type": "stream",
     "text": [
      "INFO:Epsilon:initial epsilon is 278.4263250000001\n",
      "INFO:History:Start <ABCSMC(id=395, start_time=2018-05-23 14:01:23.539651, end_time=None)>\n",
      "INFO:ABC:t:0 eps:278.4263250000001\n",
      "INFO:ABC:t:1 eps:199.759325\n",
      "INFO:ABC:t:2 eps:152.42778132823082\n",
      "INFO:ABC:t:3 eps:79.08266999100258\n",
      "INFO:ABC:t:4 eps:36.75203524332503\n",
      "INFO:History:Done <ABCSMC(id=395, start_time=2018-05-23 14:01:23.539651, end_time=2018-05-23 14:01:25.302676)>\n",
      " 64%|██████▍   | 64/100 [02:02<01:09,  1.94s/it]"
     ]
    },
    {
     "name": "stdout",
     "output_type": "stream",
     "text": [
      "m         0         1\n",
      "t                    \n",
      "0  0.650000  0.350000\n",
      "1  0.589151  0.410849\n",
      "2  0.444819  0.555181\n",
      "3  0.030431  0.969569\n",
      "4  0.000000  1.000000\n"
     ]
    },
    {
     "name": "stderr",
     "output_type": "stream",
     "text": [
      "INFO:Epsilon:initial epsilon is 470.04000000000013\n",
      "INFO:History:Start <ABCSMC(id=396, start_time=2018-05-23 14:01:25.435567, end_time=None)>\n",
      "INFO:ABC:t:0 eps:470.04000000000013\n",
      "INFO:ABC:t:1 eps:208.7945250000001\n",
      "INFO:ABC:t:2 eps:51.48366073108919\n",
      "INFO:ABC:t:3 eps:23.42515509481785\n",
      "INFO:ABC:t:4 eps:11.026010099163276\n",
      "INFO:History:Done <ABCSMC(id=396, start_time=2018-05-23 14:01:25.435567, end_time=2018-05-23 14:01:27.736766)>\n",
      " 65%|██████▌   | 65/100 [02:05<01:13,  2.09s/it]"
     ]
    },
    {
     "name": "stdout",
     "output_type": "stream",
     "text": [
      "m         0         1\n",
      "t                    \n",
      "0  0.450000  0.550000\n",
      "1  0.030087  0.969913\n",
      "2  0.000000  1.000000\n",
      "3  0.000000  1.000000\n",
      "4  0.000000  1.000000\n"
     ]
    },
    {
     "name": "stderr",
     "output_type": "stream",
     "text": [
      "INFO:Epsilon:initial epsilon is 164.2223250000001\n",
      "INFO:History:Start <ABCSMC(id=397, start_time=2018-05-23 14:01:27.880362, end_time=None)>\n",
      "INFO:ABC:t:0 eps:164.2223250000001\n",
      "INFO:ABC:t:1 eps:99.65232500000008\n",
      "INFO:ABC:t:2 eps:65.65358780206807\n",
      "INFO:ABC:t:3 eps:33.623200000000026\n",
      "INFO:ABC:t:4 eps:16.19337603442389\n",
      "INFO:History:Done <ABCSMC(id=397, start_time=2018-05-23 14:01:27.880362, end_time=2018-05-23 14:01:29.676421)>\n",
      " 66%|██████▌   | 66/100 [02:07<01:09,  2.04s/it]"
     ]
    },
    {
     "name": "stdout",
     "output_type": "stream",
     "text": [
      "m         0         1\n",
      "t                    \n",
      "0  0.550000  0.450000\n",
      "1  0.459386  0.540614\n",
      "2  0.384032  0.615968\n",
      "3  0.000000  1.000000\n",
      "4  0.000000  1.000000\n"
     ]
    },
    {
     "name": "stderr",
     "output_type": "stream",
     "text": [
      "INFO:Epsilon:initial epsilon is 1638.3944499999996\n",
      "INFO:History:Start <ABCSMC(id=398, start_time=2018-05-23 14:01:29.824597, end_time=None)>\n",
      "INFO:ABC:t:0 eps:1638.3944499999996\n",
      "INFO:ABC:t:1 eps:1256.0672499999998\n",
      "INFO:ABC:t:2 eps:853.0887697843493\n",
      "INFO:ABC:t:3 eps:250.94997044049126\n",
      "INFO:ABC:t:4 eps:137.76522673571202\n",
      "INFO:History:Done <ABCSMC(id=398, start_time=2018-05-23 14:01:29.824597, end_time=2018-05-23 14:01:31.906512)>\n",
      " 67%|██████▋   | 67/100 [02:09<01:09,  2.10s/it]"
     ]
    },
    {
     "name": "stdout",
     "output_type": "stream",
     "text": [
      "m         0         1\n",
      "t                    \n",
      "0  0.500000  0.500000\n",
      "1  0.026671  0.973329\n",
      "2  0.000000  1.000000\n",
      "3  0.000000  1.000000\n",
      "4  0.000000  1.000000\n"
     ]
    },
    {
     "name": "stderr",
     "output_type": "stream",
     "text": [
      "INFO:Epsilon:initial epsilon is 2870.751125\n",
      "INFO:History:Start <ABCSMC(id=399, start_time=2018-05-23 14:01:32.072329, end_time=None)>\n",
      "INFO:ABC:t:0 eps:2870.751125\n",
      "INFO:ABC:t:1 eps:2257.22185\n",
      "INFO:ABC:t:2 eps:589.7687449140677\n",
      "INFO:ABC:t:3 eps:187.6302464818774\n",
      "INFO:ABC:t:4 eps:34.27236815344171\n",
      "INFO:History:Done <ABCSMC(id=399, start_time=2018-05-23 14:01:32.072329, end_time=2018-05-23 14:01:34.124215)>\n",
      " 68%|██████▊   | 68/100 [02:11<01:08,  2.14s/it]"
     ]
    },
    {
     "name": "stdout",
     "output_type": "stream",
     "text": [
      "m         0         1\n",
      "t                    \n",
      "0  0.250000  0.750000\n",
      "1  0.028845  0.971155\n",
      "2  0.000000  1.000000\n",
      "3  0.000000  1.000000\n",
      "4  0.000000  1.000000\n"
     ]
    },
    {
     "name": "stderr",
     "output_type": "stream",
     "text": [
      "INFO:Epsilon:initial epsilon is 32.64572500000001\n",
      "INFO:History:Start <ABCSMC(id=400, start_time=2018-05-23 14:01:34.276228, end_time=None)>\n",
      "INFO:ABC:t:0 eps:32.64572500000001\n",
      "INFO:ABC:t:1 eps:7.096250000000003\n",
      "INFO:ABC:t:2 eps:5.010886542066398\n",
      "INFO:ABC:t:3 eps:3.016924807851997\n",
      "INFO:ABC:t:4 eps:1.706475891158774\n",
      "INFO:History:Done <ABCSMC(id=400, start_time=2018-05-23 14:01:34.276228, end_time=2018-05-23 14:01:36.279657)>\n",
      " 69%|██████▉   | 69/100 [02:13<01:06,  2.14s/it]"
     ]
    },
    {
     "name": "stdout",
     "output_type": "stream",
     "text": [
      "m         0         1\n",
      "t                    \n",
      "0  0.650000  0.350000\n",
      "1  0.527830  0.472170\n",
      "2  0.292888  0.707112\n",
      "3  0.036136  0.963864\n",
      "4  0.029450  0.970550\n"
     ]
    },
    {
     "name": "stderr",
     "output_type": "stream",
     "text": [
      "INFO:Epsilon:initial epsilon is 60.88452500000001\n",
      "INFO:History:Start <ABCSMC(id=401, start_time=2018-05-23 14:01:36.429212, end_time=None)>\n",
      "INFO:ABC:t:0 eps:60.88452500000001\n",
      "INFO:ABC:t:1 eps:27.420525000000005\n",
      "INFO:ABC:t:2 eps:14.250014388642585\n",
      "INFO:ABC:t:3 eps:6.796907070424712\n",
      "INFO:ABC:t:4 eps:2.040292062405883\n",
      "INFO:History:Done <ABCSMC(id=401, start_time=2018-05-23 14:01:36.429212, end_time=2018-05-23 14:01:39.006992)>\n",
      " 70%|███████   | 70/100 [02:16<01:09,  2.32s/it]"
     ]
    },
    {
     "name": "stdout",
     "output_type": "stream",
     "text": [
      "m         0         1\n",
      "t                    \n",
      "0  0.500000  0.500000\n",
      "1  0.283525  0.716475\n",
      "2  0.075481  0.924519\n",
      "3  0.000000  1.000000\n",
      "4  0.000000  1.000000\n"
     ]
    },
    {
     "name": "stderr",
     "output_type": "stream",
     "text": [
      "INFO:Epsilon:initial epsilon is 49.2084\n",
      "INFO:History:Start <ABCSMC(id=402, start_time=2018-05-23 14:01:39.159330, end_time=None)>\n",
      "INFO:ABC:t:0 eps:49.2084\n",
      "INFO:ABC:t:1 eps:33.72252500000002\n",
      "INFO:ABC:t:2 eps:20.3900364766722\n",
      "INFO:ABC:t:3 eps:6.612083062449679\n",
      "INFO:ABC:t:4 eps:3.520454589015836\n",
      "INFO:History:Done <ABCSMC(id=402, start_time=2018-05-23 14:01:39.159330, end_time=2018-05-23 14:01:41.177873)>\n",
      " 71%|███████   | 71/100 [02:18<01:05,  2.27s/it]"
     ]
    },
    {
     "name": "stdout",
     "output_type": "stream",
     "text": [
      "m         0         1\n",
      "t                    \n",
      "0  0.600000  0.400000\n",
      "1  0.579731  0.420269\n",
      "2  0.338904  0.661096\n",
      "3  0.000000  1.000000\n",
      "4  0.000000  1.000000\n"
     ]
    },
    {
     "name": "stderr",
     "output_type": "stream",
     "text": [
      "INFO:Epsilon:initial epsilon is 1847.4111250000005\n",
      "INFO:History:Start <ABCSMC(id=403, start_time=2018-05-23 14:01:41.322931, end_time=None)>\n",
      "INFO:ABC:t:0 eps:1847.4111250000005\n",
      "INFO:ABC:t:1 eps:1524.8104000000003\n",
      "INFO:ABC:t:2 eps:1215.354418768291\n",
      "INFO:ABC:t:3 eps:590.2152760206577\n",
      "INFO:ABC:t:4 eps:145.27591373574148\n",
      "INFO:History:Done <ABCSMC(id=403, start_time=2018-05-23 14:01:41.322931, end_time=2018-05-23 14:01:43.183612)>\n",
      " 72%|███████▏  | 72/100 [02:20<01:01,  2.19s/it]"
     ]
    },
    {
     "name": "stdout",
     "output_type": "stream",
     "text": [
      "m         0         1\n",
      "t                    \n",
      "0  0.550000  0.450000\n",
      "1  0.194185  0.805815\n",
      "2  0.025976  0.974024\n",
      "3  0.000000  1.000000\n",
      "4  0.000000  1.000000\n"
     ]
    },
    {
     "name": "stderr",
     "output_type": "stream",
     "text": [
      "INFO:Epsilon:initial epsilon is 68.38672500000001\n",
      "INFO:History:Start <ABCSMC(id=404, start_time=2018-05-23 14:01:43.320863, end_time=None)>\n",
      "INFO:ABC:t:0 eps:68.38672500000001\n",
      "INFO:ABC:t:1 eps:14.197600000000001\n",
      "INFO:ABC:t:2 eps:1.5842096738458782\n",
      "INFO:ABC:t:3 eps:0.2093680757225023\n",
      "INFO:ABC:t:4 eps:0.06131010200910656\n",
      "INFO:History:Done <ABCSMC(id=404, start_time=2018-05-23 14:01:43.320863, end_time=2018-05-23 14:01:45.112193)>\n",
      " 73%|███████▎  | 73/100 [02:22<00:57,  2.11s/it]"
     ]
    },
    {
     "name": "stdout",
     "output_type": "stream",
     "text": [
      "m         0         1\n",
      "t                    \n",
      "0  0.700000  0.300000\n",
      "1  0.446903  0.553097\n",
      "2  0.047679  0.952321\n",
      "3  0.010453  0.989547\n",
      "4  0.003859  0.996141\n"
     ]
    },
    {
     "name": "stderr",
     "output_type": "stream",
     "text": [
      "INFO:Epsilon:initial epsilon is 2259.6303250000005\n",
      "INFO:History:Start <ABCSMC(id=405, start_time=2018-05-23 14:01:45.267955, end_time=None)>\n",
      "INFO:ABC:t:0 eps:2259.6303250000005\n",
      "INFO:ABC:t:1 eps:1617.4061250000004\n",
      "INFO:ABC:t:2 eps:1030.4183917135108\n",
      "INFO:ABC:t:3 eps:465.9617576185959\n",
      "INFO:ABC:t:4 eps:230.64583050337805\n",
      "INFO:History:Done <ABCSMC(id=405, start_time=2018-05-23 14:01:45.267955, end_time=2018-05-23 14:01:46.986345)>\n",
      " 74%|███████▍  | 74/100 [02:24<00:53,  2.04s/it]"
     ]
    },
    {
     "name": "stdout",
     "output_type": "stream",
     "text": [
      "m         0         1\n",
      "t                    \n",
      "0  0.350000  0.650000\n",
      "1  0.010163  0.989837\n",
      "2  0.000000  1.000000\n",
      "3  0.000000  1.000000\n",
      "4  0.000000  1.000000\n"
     ]
    },
    {
     "name": "stderr",
     "output_type": "stream",
     "text": [
      "INFO:Epsilon:initial epsilon is 2231.3618500000007\n",
      "INFO:History:Start <ABCSMC(id=406, start_time=2018-05-23 14:01:47.145010, end_time=None)>\n",
      "INFO:ABC:t:0 eps:2231.3618500000007\n",
      "INFO:ABC:t:1 eps:1910.3400000000004\n",
      "INFO:ABC:t:2 eps:1506.7342245951581\n",
      "INFO:ABC:t:3 eps:374.15083451065686\n",
      "INFO:ABC:t:4 eps:151.59171749955402\n",
      "INFO:History:Done <ABCSMC(id=406, start_time=2018-05-23 14:01:47.145010, end_time=2018-05-23 14:01:48.868902)>\n",
      " 75%|███████▌  | 75/100 [02:26<00:50,  2.03s/it]"
     ]
    },
    {
     "name": "stdout",
     "output_type": "stream",
     "text": [
      "m         0         1\n",
      "t                    \n",
      "0  0.350000  0.650000\n",
      "1  0.534493  0.465507\n",
      "2  0.037265  0.962735\n",
      "3  0.000000  1.000000\n",
      "4  0.000000  1.000000\n"
     ]
    },
    {
     "name": "stderr",
     "output_type": "stream",
     "text": [
      "INFO:Epsilon:initial epsilon is 67.316325\n",
      "INFO:History:Start <ABCSMC(id=407, start_time=2018-05-23 14:01:49.140354, end_time=None)>\n",
      "INFO:ABC:t:0 eps:67.316325\n",
      "INFO:ABC:t:1 eps:12.427325000000012\n",
      "INFO:ABC:t:2 eps:3.97252307373963\n",
      "INFO:ABC:t:3 eps:2.0237069645907177\n",
      "INFO:ABC:t:4 eps:0.7429702605621228\n",
      "INFO:History:Done <ABCSMC(id=407, start_time=2018-05-23 14:01:49.140354, end_time=2018-05-23 14:01:50.933304)>\n",
      " 76%|███████▌  | 76/100 [02:28<00:48,  2.00s/it]"
     ]
    },
    {
     "name": "stdout",
     "output_type": "stream",
     "text": [
      "m         0         1\n",
      "t                    \n",
      "0  0.550000  0.450000\n",
      "1  0.468329  0.531671\n",
      "2  0.450707  0.549293\n",
      "3  0.086638  0.913362\n",
      "4  0.070271  0.929729\n"
     ]
    },
    {
     "name": "stderr",
     "output_type": "stream",
     "text": [
      "INFO:Epsilon:initial epsilon is 70.61364999999998\n",
      "INFO:History:Start <ABCSMC(id=408, start_time=2018-05-23 14:01:51.078272, end_time=None)>\n",
      "INFO:ABC:t:0 eps:70.61364999999998\n",
      "INFO:ABC:t:1 eps:38.460000000000036\n",
      "INFO:ABC:t:2 eps:20.26189082588762\n",
      "INFO:ABC:t:3 eps:9.207878226704286\n",
      "INFO:ABC:t:4 eps:4.362159046229514\n",
      "INFO:History:Done <ABCSMC(id=408, start_time=2018-05-23 14:01:51.078272, end_time=2018-05-23 14:01:53.332399)>\n",
      " 77%|███████▋  | 77/100 [02:30<00:48,  2.12s/it]"
     ]
    },
    {
     "name": "stdout",
     "output_type": "stream",
     "text": [
      "m         0         1\n",
      "t                    \n",
      "0  0.550000  0.450000\n",
      "1  0.574728  0.425272\n",
      "2  0.112946  0.887054\n",
      "3  0.031197  0.968803\n",
      "4  0.000000  1.000000\n"
     ]
    },
    {
     "name": "stderr",
     "output_type": "stream",
     "text": [
      "INFO:Epsilon:initial epsilon is 5287.047450000002\n",
      "INFO:History:Start <ABCSMC(id=409, start_time=2018-05-23 14:01:53.477747, end_time=None)>\n",
      "INFO:ABC:t:0 eps:5287.047450000002\n",
      "INFO:ABC:t:1 eps:4385.7039250000025\n",
      "INFO:ABC:t:2 eps:3030.6913200300787\n",
      "INFO:ABC:t:3 eps:405.53384610084163\n",
      "INFO:ABC:t:4 eps:40.94466319415787\n",
      "INFO:History:Done <ABCSMC(id=409, start_time=2018-05-23 14:01:53.477747, end_time=2018-05-23 14:01:55.539186)>\n",
      " 78%|███████▊  | 78/100 [02:33<00:47,  2.15s/it]"
     ]
    },
    {
     "name": "stdout",
     "output_type": "stream",
     "text": [
      "m         0         1\n",
      "t                    \n",
      "0  0.200000  0.800000\n",
      "1  0.125536  0.874464\n",
      "2  0.002269  0.997731\n",
      "3  0.000000  1.000000\n",
      "4  0.000000  1.000000\n"
     ]
    },
    {
     "name": "stderr",
     "output_type": "stream",
     "text": [
      "INFO:Epsilon:initial epsilon is 24.376125000000023\n",
      "INFO:History:Start <ABCSMC(id=410, start_time=2018-05-23 14:01:55.686999, end_time=None)>\n",
      "INFO:ABC:t:0 eps:24.376125000000023\n",
      "INFO:ABC:t:1 eps:4.1544000000000025\n",
      "INFO:ABC:t:2 eps:1.176730020044497\n",
      "INFO:ABC:t:3 eps:0.52\n",
      "INFO:ABC:t:4 eps:0.2262499999999999\n",
      "INFO:History:Done <ABCSMC(id=410, start_time=2018-05-23 14:01:55.686999, end_time=2018-05-23 14:01:57.667927)>\n",
      " 79%|███████▉  | 79/100 [02:35<00:44,  2.14s/it]"
     ]
    },
    {
     "name": "stdout",
     "output_type": "stream",
     "text": [
      "m         0         1\n",
      "t                    \n",
      "0  0.600000  0.400000\n",
      "1  0.834761  0.165239\n",
      "2  0.772629  0.227371\n",
      "3  0.806690  0.193310\n",
      "4  0.813947  0.186053\n"
     ]
    },
    {
     "name": "stderr",
     "output_type": "stream",
     "text": [
      "INFO:Epsilon:initial epsilon is 44.16720000000004\n",
      "INFO:History:Start <ABCSMC(id=411, start_time=2018-05-23 14:01:57.813417, end_time=None)>\n",
      "INFO:ABC:t:0 eps:44.16720000000004\n",
      "INFO:ABC:t:1 eps:20.05625000000001\n",
      "INFO:ABC:t:2 eps:10.705919943160772\n",
      "INFO:ABC:t:3 eps:4.698687911487537\n",
      "INFO:ABC:t:4 eps:2.0232912002113506\n",
      "INFO:History:Done <ABCSMC(id=411, start_time=2018-05-23 14:01:57.813417, end_time=2018-05-23 14:01:59.976558)>\n",
      " 80%|████████  | 80/100 [02:37<00:43,  2.19s/it]"
     ]
    },
    {
     "name": "stdout",
     "output_type": "stream",
     "text": [
      "m         0         1\n",
      "t                    \n",
      "0  0.550000  0.450000\n",
      "1  0.414389  0.585611\n",
      "2  0.217471  0.782529\n",
      "3  0.000000  1.000000\n",
      "4  0.000000  1.000000\n"
     ]
    },
    {
     "name": "stderr",
     "output_type": "stream",
     "text": [
      "INFO:Epsilon:initial epsilon is 14.443599999999996\n",
      "INFO:History:Start <ABCSMC(id=412, start_time=2018-05-23 14:02:00.124575, end_time=None)>\n",
      "INFO:ABC:t:0 eps:14.443599999999996\n",
      "INFO:ABC:t:1 eps:7.077325000000001\n",
      "INFO:ABC:t:2 eps:3.655076375551873\n",
      "INFO:ABC:t:3 eps:2.123804281458724\n",
      "INFO:ABC:t:4 eps:1.0508212543934756\n",
      "INFO:History:Done <ABCSMC(id=412, start_time=2018-05-23 14:02:00.124575, end_time=2018-05-23 14:02:02.233444)>\n",
      " 81%|████████  | 81/100 [02:39<00:42,  2.21s/it]"
     ]
    },
    {
     "name": "stdout",
     "output_type": "stream",
     "text": [
      "m         0         1\n",
      "t                    \n",
      "0  0.700000  0.300000\n",
      "1  0.489641  0.510359\n",
      "2  0.383245  0.616755\n",
      "3  0.340108  0.659892\n",
      "4  0.000000  1.000000\n"
     ]
    },
    {
     "name": "stderr",
     "output_type": "stream",
     "text": [
      "INFO:Epsilon:initial epsilon is 1356.4912499999998\n",
      "INFO:History:Start <ABCSMC(id=413, start_time=2018-05-23 14:02:02.378696, end_time=None)>\n",
      "INFO:ABC:t:0 eps:1356.4912499999998\n",
      "INFO:ABC:t:1 eps:1153.2476\n",
      "INFO:ABC:t:2 eps:897.0512678616833\n",
      "INFO:ABC:t:3 eps:339.0072757498695\n",
      "INFO:ABC:t:4 eps:112.03060641971244\n",
      "INFO:History:Done <ABCSMC(id=413, start_time=2018-05-23 14:02:02.378696, end_time=2018-05-23 14:02:04.243907)>\n",
      " 82%|████████▏ | 82/100 [02:41<00:38,  2.15s/it]"
     ]
    },
    {
     "name": "stdout",
     "output_type": "stream",
     "text": [
      "m         0         1\n",
      "t                    \n",
      "0  0.400000  0.600000\n",
      "1  0.174271  0.825729\n",
      "2  0.000000  1.000000\n",
      "3  0.000000  1.000000\n",
      "4  0.000000  1.000000\n"
     ]
    },
    {
     "name": "stderr",
     "output_type": "stream",
     "text": [
      "INFO:Epsilon:initial epsilon is 41.45745000000003\n",
      "INFO:History:Start <ABCSMC(id=414, start_time=2018-05-23 14:02:04.383797, end_time=None)>\n",
      "INFO:ABC:t:0 eps:41.45745000000003\n",
      "INFO:ABC:t:1 eps:25.29132500000002\n",
      "INFO:ABC:t:2 eps:16.177231487046658\n",
      "INFO:ABC:t:3 eps:12.377776855808582\n",
      "INFO:ABC:t:4 eps:5.184089029312492\n",
      "INFO:History:Done <ABCSMC(id=414, start_time=2018-05-23 14:02:04.383797, end_time=2018-05-23 14:02:06.737455)>\n",
      " 83%|████████▎ | 83/100 [02:44<00:38,  2.25s/it]"
     ]
    },
    {
     "name": "stdout",
     "output_type": "stream",
     "text": [
      "m         0         1\n",
      "t                    \n",
      "0  0.650000  0.350000\n",
      "1  0.164999  0.835001\n",
      "2  0.372907  0.627093\n",
      "3  0.040195  0.959805\n",
      "4  0.000000  1.000000\n"
     ]
    },
    {
     "name": "stderr",
     "output_type": "stream",
     "text": [
      "INFO:Epsilon:initial epsilon is 54.43405000000001\n",
      "INFO:History:Start <ABCSMC(id=415, start_time=2018-05-23 14:02:06.889312, end_time=None)>\n",
      "INFO:ABC:t:0 eps:54.43405000000001\n",
      "INFO:ABC:t:1 eps:36.1208\n",
      "INFO:ABC:t:2 eps:16.647338477683377\n",
      "INFO:ABC:t:3 eps:10.69275461837065\n",
      "INFO:ABC:t:4 eps:7.198143114427373\n",
      "INFO:History:Done <ABCSMC(id=415, start_time=2018-05-23 14:02:06.889312, end_time=2018-05-23 14:02:08.997494)>\n",
      " 84%|████████▍ | 84/100 [02:46<00:36,  2.26s/it]"
     ]
    },
    {
     "name": "stdout",
     "output_type": "stream",
     "text": [
      "m         0         1\n",
      "t                    \n",
      "0  0.500000  0.500000\n",
      "1  0.536954  0.463046\n",
      "2  0.501286  0.498714\n",
      "3  0.145680  0.854320\n",
      "4  0.000000  1.000000\n"
     ]
    },
    {
     "name": "stderr",
     "output_type": "stream",
     "text": [
      "INFO:Epsilon:initial epsilon is 31.721325000000004\n",
      "INFO:History:Start <ABCSMC(id=416, start_time=2018-05-23 14:02:09.143323, end_time=None)>\n",
      "INFO:ABC:t:0 eps:31.721325000000004\n",
      "INFO:ABC:t:1 eps:6.14065\n",
      "INFO:ABC:t:2 eps:4.104668702126154\n",
      "INFO:ABC:t:3 eps:3.1145629721424775\n",
      "INFO:ABC:t:4 eps:1.4130351665658256\n",
      "INFO:History:Done <ABCSMC(id=416, start_time=2018-05-23 14:02:09.143323, end_time=2018-05-23 14:02:11.083640)>\n",
      " 85%|████████▌ | 85/100 [02:48<00:33,  2.20s/it]"
     ]
    },
    {
     "name": "stdout",
     "output_type": "stream",
     "text": [
      "m         0         1\n",
      "t                    \n",
      "0  0.450000  0.550000\n",
      "1  0.382197  0.617803\n",
      "2  0.143305  0.856695\n",
      "3  0.000000  1.000000\n",
      "4  0.000000  1.000000\n"
     ]
    },
    {
     "name": "stderr",
     "output_type": "stream",
     "text": [
      "INFO:Epsilon:initial epsilon is 3015.399999999999\n",
      "INFO:History:Start <ABCSMC(id=417, start_time=2018-05-23 14:02:11.228506, end_time=None)>\n",
      "INFO:ABC:t:0 eps:3015.399999999999\n",
      "INFO:ABC:t:1 eps:2350.992399999999\n",
      "INFO:ABC:t:2 eps:1077.2266579195514\n",
      "INFO:ABC:t:3 eps:173.77016285304387\n",
      "INFO:ABC:t:4 eps:52.41376305851223\n",
      "INFO:History:Done <ABCSMC(id=417, start_time=2018-05-23 14:02:11.228506, end_time=2018-05-23 14:02:13.098820)>\n",
      " 86%|████████▌ | 86/100 [02:50<00:30,  2.15s/it]"
     ]
    },
    {
     "name": "stdout",
     "output_type": "stream",
     "text": [
      "m        0        1\n",
      "t                  \n",
      "0  0.40000  0.60000\n",
      "1  0.14181  0.85819\n",
      "2  0.00000  1.00000\n",
      "3  0.00000  1.00000\n",
      "4  0.00000  1.00000\n"
     ]
    },
    {
     "name": "stderr",
     "output_type": "stream",
     "text": [
      "INFO:Epsilon:initial epsilon is 27.706525000000006\n",
      "INFO:History:Start <ABCSMC(id=418, start_time=2018-05-23 14:02:13.235026, end_time=None)>\n",
      "INFO:ABC:t:0 eps:27.706525000000006\n",
      "INFO:ABC:t:1 eps:14.658925000000025\n",
      "INFO:ABC:t:2 eps:8.566450650753305\n",
      "INFO:ABC:t:3 eps:5.452994560595866\n",
      "INFO:ABC:t:4 eps:2.245876938899925\n",
      "INFO:History:Done <ABCSMC(id=418, start_time=2018-05-23 14:02:13.235026, end_time=2018-05-23 14:02:15.584267)>\n",
      " 87%|████████▋ | 87/100 [02:53<00:29,  2.25s/it]"
     ]
    },
    {
     "name": "stdout",
     "output_type": "stream",
     "text": [
      "m         0         1\n",
      "t                    \n",
      "0  0.650000  0.350000\n",
      "1  0.445044  0.554956\n",
      "2  0.312076  0.687924\n",
      "3  0.033712  0.966288\n",
      "4  0.000000  1.000000\n"
     ]
    },
    {
     "name": "stderr",
     "output_type": "stream",
     "text": [
      "INFO:Epsilon:initial epsilon is 646.9270499999999\n",
      "INFO:History:Start <ABCSMC(id=419, start_time=2018-05-23 14:02:15.725991, end_time=None)>\n",
      "INFO:ABC:t:0 eps:646.9270499999999\n",
      "INFO:ABC:t:1 eps:466.739925\n",
      "INFO:ABC:t:2 eps:428.3517086698152\n",
      "INFO:ABC:t:3 eps:307.0280632750876\n",
      "INFO:ABC:t:4 eps:119.16531086244589\n",
      "INFO:History:Done <ABCSMC(id=419, start_time=2018-05-23 14:02:15.725991, end_time=2018-05-23 14:02:17.655663)>\n",
      " 88%|████████▊ | 88/100 [02:55<00:26,  2.20s/it]"
     ]
    },
    {
     "name": "stdout",
     "output_type": "stream",
     "text": [
      "m         0         1\n",
      "t                    \n",
      "0  0.400000  0.600000\n",
      "1  0.776874  0.223126\n",
      "2  0.277782  0.722218\n",
      "3  0.140563  0.859437\n",
      "4  0.056250  0.943750\n"
     ]
    },
    {
     "name": "stderr",
     "output_type": "stream",
     "text": [
      "INFO:Epsilon:initial epsilon is 25.750000000000014\n",
      "INFO:History:Start <ABCSMC(id=420, start_time=2018-05-23 14:02:17.796187, end_time=None)>\n",
      "INFO:ABC:t:0 eps:25.750000000000014\n",
      "INFO:ABC:t:1 eps:12.185999999999998\n",
      "INFO:ABC:t:2 eps:4.93216081919609\n",
      "INFO:ABC:t:3 eps:3.4171008816251263\n",
      "INFO:ABC:t:4 eps:2.1428112011583837\n",
      "INFO:History:Done <ABCSMC(id=420, start_time=2018-05-23 14:02:17.796187, end_time=2018-05-23 14:02:19.739302)>\n",
      " 89%|████████▉ | 89/100 [02:57<00:23,  2.16s/it]"
     ]
    },
    {
     "name": "stdout",
     "output_type": "stream",
     "text": [
      "m         0         1\n",
      "t                    \n",
      "0  0.750000  0.250000\n",
      "1  0.704311  0.295689\n",
      "2  0.912496  0.087504\n",
      "3  0.949854  0.050146\n",
      "4  1.000000  0.000000\n"
     ]
    },
    {
     "name": "stderr",
     "output_type": "stream",
     "text": [
      "INFO:Epsilon:initial epsilon is 5.7268000000000026\n",
      "INFO:History:Start <ABCSMC(id=421, start_time=2018-05-23 14:02:19.882149, end_time=None)>\n",
      "INFO:ABC:t:0 eps:5.7268000000000026\n",
      "INFO:ABC:t:1 eps:3.60265\n",
      "INFO:ABC:t:2 eps:2.059877357517984\n",
      "INFO:ABC:t:3 eps:1.4862500000000005\n",
      "INFO:ABC:t:4 eps:0.8820276046085824\n",
      "INFO:History:Done <ABCSMC(id=421, start_time=2018-05-23 14:02:19.882149, end_time=2018-05-23 14:02:22.312489)>\n",
      " 90%|█████████ | 90/100 [02:59<00:22,  2.29s/it]"
     ]
    },
    {
     "name": "stdout",
     "output_type": "stream",
     "text": [
      "m         0         1\n",
      "t                    \n",
      "0  0.650000  0.350000\n",
      "1  0.654455  0.345545\n",
      "2  0.549674  0.450326\n",
      "3  0.775756  0.224244\n",
      "4  0.679138  0.320862\n"
     ]
    },
    {
     "name": "stderr",
     "output_type": "stream",
     "text": [
      "INFO:Epsilon:initial epsilon is 121.45792500000002\n",
      "INFO:History:Start <ABCSMC(id=422, start_time=2018-05-23 14:02:22.449380, end_time=None)>\n",
      "INFO:ABC:t:0 eps:121.45792500000002\n",
      "INFO:ABC:t:1 eps:82.90280000000001\n",
      "INFO:ABC:t:2 eps:51.52636783268551\n",
      "INFO:ABC:t:3 eps:36.2540030930455\n",
      "INFO:ABC:t:4 eps:13.697836237649357\n",
      "INFO:History:Done <ABCSMC(id=422, start_time=2018-05-23 14:02:22.449380, end_time=2018-05-23 14:02:24.540978)>\n",
      " 91%|█████████ | 91/100 [03:02<00:20,  2.27s/it]"
     ]
    },
    {
     "name": "stdout",
     "output_type": "stream",
     "text": [
      "m         0         1\n",
      "t                    \n",
      "0  0.450000  0.550000\n",
      "1  0.326439  0.673561\n",
      "2  0.349946  0.650054\n",
      "3  0.000000  1.000000\n",
      "4  0.000000  1.000000\n"
     ]
    },
    {
     "name": "stderr",
     "output_type": "stream",
     "text": [
      "INFO:Epsilon:initial epsilon is 17195.343725\n",
      "INFO:History:Start <ABCSMC(id=423, start_time=2018-05-23 14:02:24.680060, end_time=None)>\n",
      "INFO:ABC:t:0 eps:17195.343725\n",
      "INFO:ABC:t:1 eps:16230.148124999998\n",
      "INFO:ABC:t:2 eps:13564.928415727378\n",
      "INFO:ABC:t:3 eps:11647.841187970289\n",
      "INFO:ABC:t:4 eps:8315.292166040914\n",
      "INFO:History:Done <ABCSMC(id=423, start_time=2018-05-23 14:02:24.680060, end_time=2018-05-23 14:02:26.336614)>\n",
      " 92%|█████████▏| 92/100 [03:03<00:17,  2.13s/it]"
     ]
    },
    {
     "name": "stdout",
     "output_type": "stream",
     "text": [
      "m         0         1\n",
      "t                    \n",
      "0  0.350000  0.650000\n",
      "1  0.297576  0.702424\n",
      "2  0.000000  1.000000\n",
      "3  0.000000  1.000000\n",
      "4  0.000000  1.000000\n"
     ]
    },
    {
     "name": "stderr",
     "output_type": "stream",
     "text": [
      "INFO:Epsilon:initial epsilon is 70.10952499999999\n",
      "INFO:History:Start <ABCSMC(id=424, start_time=2018-05-23 14:02:26.490093, end_time=None)>\n",
      "INFO:ABC:t:0 eps:70.10952499999999\n",
      "INFO:ABC:t:1 eps:41.537524999999974\n",
      "INFO:ABC:t:2 eps:22.09847857208135\n",
      "INFO:ABC:t:3 eps:11.911056464048183\n",
      "INFO:ABC:t:4 eps:6.108193952177472\n",
      "INFO:History:Done <ABCSMC(id=424, start_time=2018-05-23 14:02:26.490093, end_time=2018-05-23 14:02:28.493488)>\n",
      " 93%|█████████▎| 93/100 [03:06<00:14,  2.14s/it]"
     ]
    },
    {
     "name": "stdout",
     "output_type": "stream",
     "text": [
      "m         0         1\n",
      "t                    \n",
      "0  0.750000  0.250000\n",
      "1  0.560707  0.439293\n",
      "2  0.529695  0.470305\n",
      "3  0.312721  0.687279\n",
      "4  0.000000  1.000000\n"
     ]
    },
    {
     "name": "stderr",
     "output_type": "stream",
     "text": [
      "INFO:Epsilon:initial epsilon is 55146.58272499999\n",
      "INFO:History:Start <ABCSMC(id=425, start_time=2018-05-23 14:02:28.629781, end_time=None)>\n",
      "INFO:ABC:t:0 eps:55146.58272499999\n",
      "INFO:ABC:t:1 eps:49984.368124999986\n",
      "INFO:ABC:t:2 eps:39417.479576885264\n",
      "INFO:ABC:t:3 eps:27863.62219444507\n",
      "INFO:ABC:t:4 eps:11779.69743207399\n",
      "INFO:History:Done <ABCSMC(id=425, start_time=2018-05-23 14:02:28.629781, end_time=2018-05-23 14:02:30.292216)>\n",
      " 94%|█████████▍| 94/100 [03:07<00:12,  2.03s/it]"
     ]
    },
    {
     "name": "stdout",
     "output_type": "stream",
     "text": [
      "m    0    1\n",
      "t          \n",
      "0  0.2  0.8\n",
      "1  0.0  1.0\n",
      "2  0.0  1.0\n",
      "3  0.0  1.0\n",
      "4  0.0  1.0\n"
     ]
    },
    {
     "name": "stderr",
     "output_type": "stream",
     "text": [
      "INFO:Epsilon:initial epsilon is 24.627600000000058\n",
      "INFO:History:Start <ABCSMC(id=426, start_time=2018-05-23 14:02:30.443869, end_time=None)>\n",
      "INFO:ABC:t:0 eps:24.627600000000058\n",
      "INFO:ABC:t:1 eps:5.5669249999999995\n",
      "INFO:ABC:t:2 eps:1.3557586103113919\n",
      "INFO:ABC:t:3 eps:0.4125152299349395\n",
      "INFO:ABC:t:4 eps:0.1561622250597953\n",
      "INFO:History:Done <ABCSMC(id=426, start_time=2018-05-23 14:02:30.443869, end_time=2018-05-23 14:02:32.956304)>\n",
      " 95%|█████████▌| 95/100 [03:10<00:11,  2.22s/it]"
     ]
    },
    {
     "name": "stdout",
     "output_type": "stream",
     "text": [
      "m         0         1\n",
      "t                    \n",
      "0  0.350000  0.650000\n",
      "1  0.241289  0.758711\n",
      "2  0.457489  0.542511\n",
      "3  0.071376  0.928624\n",
      "4  0.010135  0.989865\n"
     ]
    },
    {
     "name": "stderr",
     "output_type": "stream",
     "text": [
      "INFO:Epsilon:initial epsilon is 21.80805\n",
      "INFO:History:Start <ABCSMC(id=427, start_time=2018-05-23 14:02:33.102687, end_time=None)>\n",
      "INFO:ABC:t:0 eps:21.80805\n",
      "INFO:ABC:t:1 eps:11.388800000000002\n",
      "INFO:ABC:t:2 eps:6.726962593645514\n",
      "INFO:ABC:t:3 eps:2.831664480288099\n",
      "INFO:ABC:t:4 eps:1.8281275373412318\n",
      "INFO:History:Done <ABCSMC(id=427, start_time=2018-05-23 14:02:33.102687, end_time=2018-05-23 14:02:35.141605)>\n",
      " 96%|█████████▌| 96/100 [03:12<00:08,  2.21s/it]"
     ]
    },
    {
     "name": "stdout",
     "output_type": "stream",
     "text": [
      "m         0         1\n",
      "t                    \n",
      "0  0.550000  0.450000\n",
      "1  0.835521  0.164479\n",
      "2  0.406452  0.593548\n",
      "3  0.192538  0.807462\n",
      "4  0.000000  1.000000\n"
     ]
    },
    {
     "name": "stderr",
     "output_type": "stream",
     "text": [
      "INFO:Epsilon:initial epsilon is 57.14892500000003\n",
      "INFO:History:Start <ABCSMC(id=428, start_time=2018-05-23 14:02:35.287397, end_time=None)>\n",
      "INFO:ABC:t:0 eps:57.14892500000003\n",
      "INFO:ABC:t:1 eps:21.616400000000002\n",
      "INFO:ABC:t:2 eps:5.310693603887872\n",
      "INFO:ABC:t:3 eps:1.5333880579542996\n",
      "INFO:ABC:t:4 eps:0.12902344454691864\n",
      "INFO:History:Done <ABCSMC(id=428, start_time=2018-05-23 14:02:35.287397, end_time=2018-05-23 14:02:37.232844)>\n",
      " 97%|█████████▋| 97/100 [03:14<00:06,  2.18s/it]"
     ]
    },
    {
     "name": "stdout",
     "output_type": "stream",
     "text": [
      "m         0         1\n",
      "t                    \n",
      "0  0.450000  0.550000\n",
      "1  0.409767  0.590233\n",
      "2  0.162800  0.837200\n",
      "3  0.000000  1.000000\n",
      "4  0.000000  1.000000\n"
     ]
    },
    {
     "name": "stderr",
     "output_type": "stream",
     "text": [
      "INFO:Epsilon:initial epsilon is 1247.2467250000002\n",
      "INFO:History:Start <ABCSMC(id=429, start_time=2018-05-23 14:02:37.374408, end_time=None)>\n",
      "INFO:ABC:t:0 eps:1247.2467250000002\n",
      "INFO:ABC:t:1 eps:763.8276000000003\n",
      "INFO:ABC:t:2 eps:376.91807422688845\n",
      "INFO:ABC:t:3 eps:158.36806611043352\n",
      "INFO:ABC:t:4 eps:99.34779707881391\n",
      "INFO:History:Done <ABCSMC(id=429, start_time=2018-05-23 14:02:37.374408, end_time=2018-05-23 14:02:39.392188)>\n",
      " 98%|█████████▊| 98/100 [03:16<00:04,  2.17s/it]"
     ]
    },
    {
     "name": "stdout",
     "output_type": "stream",
     "text": [
      "m         0         1\n",
      "t                    \n",
      "0  0.350000  0.650000\n",
      "1  0.144290  0.855710\n",
      "2  0.003220  0.996780\n",
      "3  0.007576  0.992424\n",
      "4  0.000000  1.000000\n"
     ]
    },
    {
     "name": "stderr",
     "output_type": "stream",
     "text": [
      "INFO:Epsilon:initial epsilon is 715.9752\n",
      "INFO:History:Start <ABCSMC(id=430, start_time=2018-05-23 14:02:39.662108, end_time=None)>\n",
      "INFO:ABC:t:0 eps:715.9752\n",
      "INFO:ABC:t:1 eps:597.6117250000001\n",
      "INFO:ABC:t:2 eps:427.842966506753\n",
      "INFO:ABC:t:3 eps:211.27459162407578\n",
      "INFO:ABC:t:4 eps:82.6957361247689\n",
      "INFO:History:Done <ABCSMC(id=430, start_time=2018-05-23 14:02:39.662108, end_time=2018-05-23 14:02:41.648399)>\n",
      " 99%|█████████▉| 99/100 [03:19<00:02,  2.20s/it]"
     ]
    },
    {
     "name": "stdout",
     "output_type": "stream",
     "text": [
      "m         0         1\n",
      "t                    \n",
      "0  0.450000  0.550000\n",
      "1  0.563947  0.436053\n",
      "2  0.212790  0.787210\n",
      "3  0.011375  0.988625\n",
      "4  0.000000  1.000000\n"
     ]
    },
    {
     "name": "stderr",
     "output_type": "stream",
     "text": [
      "INFO:Epsilon:initial epsilon is 102.21872500000005\n",
      "INFO:History:Start <ABCSMC(id=431, start_time=2018-05-23 14:02:41.807099, end_time=None)>\n",
      "INFO:ABC:t:0 eps:102.21872500000005\n",
      "INFO:ABC:t:1 eps:19.444400000000037\n",
      "INFO:ABC:t:2 eps:6.406116753736441\n",
      "INFO:ABC:t:3 eps:0.77272258434454\n",
      "INFO:ABC:t:4 eps:0.43286416646497033\n",
      "INFO:History:Done <ABCSMC(id=431, start_time=2018-05-23 14:02:41.807099, end_time=2018-05-23 14:02:43.739708)>\n",
      "100%|██████████| 100/100 [03:21<00:00,  2.16s/it]"
     ]
    },
    {
     "name": "stdout",
     "output_type": "stream",
     "text": [
      "m         0         1\n",
      "t                    \n",
      "0  0.650000  0.350000\n",
      "1  0.762577  0.237423\n",
      "2  0.569817  0.430183\n",
      "3  0.075494  0.924506\n",
      "4  0.236080  0.763920\n",
      "52190\n"
     ]
    },
    {
     "name": "stderr",
     "output_type": "stream",
     "text": [
      "\n"
     ]
    }
   ],
   "source": [
    "test_set = np.vstack((stats_poi_test, stats_nb_test))\n",
    "phat_smc = np.zeros((ntest, 2))\n",
    "n_rounds = 5\n",
    "ns_smc = 0\n",
    "\n",
    "for ii in tqdm.tqdm(range(ntest)): \n",
    "    sxo = test_set[ii, ]\n",
    "\n",
    "    # We plug all the ABC options together\n",
    "    abc = ABCSMC(\n",
    "        models, parameter_priors,\n",
    "        MyDist(), population_size=20)\n",
    "\n",
    "    # and we define where to store the results\n",
    "    db_path = (\"sqlite:///\" +\n",
    "               os.path.join(tempfile.gettempdir(), \"test.db\"))\n",
    "    abc_id = abc.new(db_path, {\"y\": sxo})\n",
    "    history = abc.run(minimum_epsilon=0.01, max_nr_populations=n_rounds)\n",
    "    model_probabilities = history.get_model_probabilities()\n",
    "    ns_smc += history.total_nr_simulations\n",
    "    ppoi = model_probabilities[0][n_rounds - 1]\n",
    "    phat_smc[ii, 0] = ppoi\n",
    "    phat_smc[ii, 1] = 1 - ppoi\n",
    "    print(model_probabilities)\n",
    "    \n",
    "print(ns_smc)"
   ]
  },
  {
   "cell_type": "markdown",
   "metadata": {},
   "source": [
    "## Calculate true posterior probs"
   ]
  },
  {
   "cell_type": "code",
   "execution_count": 47,
   "metadata": {
    "collapsed": true
   },
   "outputs": [],
   "source": [
    "xtest = np.vstack((data_poi_test, data_nb_test))"
   ]
  },
  {
   "cell_type": "code",
   "execution_count": 48,
   "metadata": {},
   "outputs": [
    {
     "name": "stderr",
     "output_type": "stream",
     "text": [
      "100%|██████████| 100/100 [00:48<00:00,  1.43it/s]\n"
     ]
    }
   ],
   "source": [
    "ppoi_exact = []\n",
    "for xi in tqdm.tqdm(xtest): \n",
    "    nb_logevi = calculate_nb_evidence(xi, k2, theta2, k3, theta3, log=True)\n",
    "    poi_logevi = poisson_evidence(xi, k=k1, theta=theta1, log=True)\n",
    "    ppoi_exact.append(calculate_pprob_from_evidences(np.exp(poi_logevi), np.exp(nb_logevi)))"
   ]
  },
  {
   "cell_type": "markdown",
   "metadata": {},
   "source": [
    "## Generate data sets with similar number of samples as used by SMC"
   ]
  },
  {
   "cell_type": "code",
   "execution_count": 201,
   "metadata": {
    "collapsed": true
   },
   "outputs": [],
   "source": [
    "n = 50000\n",
    "params_poi = prior_lam.rvs(size=int(n / 2))\n",
    "params_nb = np.vstack((prior_k.rvs(size=int(n / 2)), \n",
    "                       prior_theta.rvs(size=int(n / 2)))).T"
   ]
  },
  {
   "cell_type": "code",
   "execution_count": 202,
   "metadata": {
    "collapsed": true
   },
   "outputs": [],
   "source": [
    "data_poi = model_poisson.gen(params_poi)\n",
    "data_nb = model_nb.gen(params_nb)"
   ]
  },
  {
   "cell_type": "markdown",
   "metadata": {},
   "source": [
    "## Calculate stats "
   ]
  },
  {
   "cell_type": "code",
   "execution_count": 203,
   "metadata": {
    "collapsed": true
   },
   "outputs": [],
   "source": [
    "stats_poi = np.array([data_poi.mean(axis=1), data_poi.var(axis=1)]).T\n",
    "stats_nb = np.array([data_nb.mean(axis=1), data_nb.var(axis=1)]).T"
   ]
  },
  {
   "cell_type": "markdown",
   "metadata": {},
   "source": [
    "## Do density estimation with same training set "
   ]
  },
  {
   "cell_type": "code",
   "execution_count": 204,
   "metadata": {},
   "outputs": [],
   "source": [
    "# shuffle and set up model index target vector \n",
    "x_all = np.vstack((data_poi, data_nb))\n",
    "ntrain = n\n",
    "\n",
    "# define model indices\n",
    "m_all = np.hstack((np.zeros(data_poi.shape[0]), np.ones(data_nb.shape[0]))).squeeze().astype(int).tolist()\n",
    "\n",
    "# get shuffled indices \n",
    "# shuffle_indices = np.arange(n)\n",
    "# np.random.shuffle(shuffle_indices)\n",
    "\n",
    "x, x_test = x_all[:ntrain, :], x_all[ntrain:, :]\n",
    "m, m_test = m_all[:ntrain], m_all[ntrain:]\n",
    "\n",
    "# calculate summary stats\n",
    "sx = calculate_stats_toy_examples(x)\n",
    "# sx_test = calculate_stats_toy_examples(xtest)\n",
    "# use training norm to normalize test data \n",
    "sx_zt, training_norm = normalize(sx)\n",
    "# sx_test_zt, training_norm = normalize(sx_test, training_norm)"
   ]
  },
  {
   "cell_type": "code",
   "execution_count": 214,
   "metadata": {},
   "outputs": [
    {
     "name": "stderr",
     "output_type": "stream",
     "text": [
      "training: 100%|██████████| 100/100 [00:15<00:00,  6.63it/s]\n"
     ]
    },
    {
     "data": {
      "image/png": "[encoded data removed]",
      "text/plain": [
       "<matplotlib.figure.Figure at 0x115c3ccf8>"
      ]
     },
     "metadata": {},
     "output_type": "display_data"
    }
   ],
   "source": [
    "model = ClassificationMDN(n_input=2, n_hidden_units=10, n_hidden_layers=1)\n",
    "optimizer = torch.optim.Adam(model.parameters(), lr=0.01)\n",
    "trainer = Trainer(model, optimizer, verbose=True, classification=True)\n",
    "\n",
    "n_epochs = 100\n",
    "n_minibatch = int(ntrain / 10)\n",
    "\n",
    "# train with training data\n",
    "loss_trace = trainer.train(sx_zt, m, n_epochs=n_epochs, n_minibatch=n_minibatch)\n",
    "plt.plot(loss_trace)\n",
    "plt.ylabel('loss')\n",
    "plt.xlabel('iterations');"
   ]
  },
  {
   "cell_type": "markdown",
   "metadata": {},
   "source": [
    "## Prior checks"
   ]
  },
  {
   "cell_type": "code",
   "execution_count": 62,
   "metadata": {},
   "outputs": [
    {
     "name": "stderr",
     "output_type": "stream",
     "text": [
      "  0%|          | 0/50 [00:00<?, ?it/s]INFO:Epsilon:initial epsilon is 60.704800000000006\n",
      "INFO:History:Start <ABCSMC(id=432, start_time=2018-05-23 14:05:48.519746, end_time=None)>\n",
      "INFO:ABC:t:0 eps:60.704800000000006\n",
      "INFO:ABC:t:1 eps:40.77972499999996\n",
      "INFO:ABC:t:2 eps:28.176140453784363\n",
      "INFO:History:Done <ABCSMC(id=432, start_time=2018-05-23 14:05:48.519746, end_time=2018-05-23 14:05:50.276840)>\n",
      "  2%|▏         | 1/50 [00:01<01:32,  1.90s/it]INFO:Epsilon:initial epsilon is 56.090925000000006\n",
      "INFO:History:Start <ABCSMC(id=433, start_time=2018-05-23 14:05:50.422967, end_time=None)>\n",
      "INFO:ABC:t:0 eps:56.090925000000006\n",
      "INFO:ABC:t:1 eps:28.08364999999999\n",
      "Process Process-8296:\n",
      "  File \"/Users/Jan/anaconda3/envs/pytorch/lib/python3.6/site-packages/pyabc/smc.py\", line 447, in _generate_valid_proposal\n",
      "    theta_ss = self.transitions[m_ss].rvs()\n",
      "Process Process-8294:\n",
      "Process Process-8290:\n",
      "Process Process-8292:\n",
      "Process Process-8291:\n",
      "Process Process-8293:\n",
      "Process Process-8289:\n",
      "Process Process-8295:\n",
      "Traceback (most recent call last):\n",
      "  File \"/Users/Jan/anaconda3/envs/pytorch/lib/python3.6/multiprocessing/process.py\", line 249, in _bootstrap\n",
      "    self.run()\n",
      "Traceback (most recent call last):\n",
      "Traceback (most recent call last):\n",
      "Traceback (most recent call last):\n",
      "  File \"/Users/Jan/anaconda3/envs/pytorch/lib/python3.6/multiprocessing/process.py\", line 93, in run\n",
      "    self._target(*self._args, **self._kwargs)\n",
      "  File \"/Users/Jan/anaconda3/envs/pytorch/lib/python3.6/multiprocessing/process.py\", line 249, in _bootstrap\n",
      "    self.run()\n",
      "  File \"/Users/Jan/anaconda3/envs/pytorch/lib/python3.6/multiprocessing/process.py\", line 249, in _bootstrap\n",
      "    self.run()\n",
      "  File \"/Users/Jan/anaconda3/envs/pytorch/lib/python3.6/multiprocessing/process.py\", line 249, in _bootstrap\n",
      "    self.run()\n",
      "  File \"/Users/Jan/anaconda3/envs/pytorch/lib/python3.6/multiprocessing/process.py\", line 93, in run\n",
      "    self._target(*self._args, **self._kwargs)\n",
      "Traceback (most recent call last):\n",
      "  File \"/Users/Jan/anaconda3/envs/pytorch/lib/python3.6/site-packages/pyabc/sampler/multicore_evaluation_parallel.py\", line 19, in work\n",
      "    while n_particles.value > 0:\n",
      "Traceback (most recent call last):\n",
      "  File \"/Users/Jan/anaconda3/envs/pytorch/lib/python3.6/multiprocessing/process.py\", line 93, in run\n",
      "    self._target(*self._args, **self._kwargs)\n",
      "Traceback (most recent call last):\n",
      "  File \"/Users/Jan/anaconda3/envs/pytorch/lib/python3.6/multiprocessing/process.py\", line 93, in run\n",
      "    self._target(*self._args, **self._kwargs)\n",
      "Traceback (most recent call last):\n",
      "  File \"/Users/Jan/anaconda3/envs/pytorch/lib/python3.6/site-packages/pyabc/sampler/multicore_evaluation_parallel.py\", line 24, in work\n",
      "    new_sim = simulate_one()\n",
      "  File \"/Users/Jan/anaconda3/envs/pytorch/lib/python3.6/multiprocessing/process.py\", line 249, in _bootstrap\n",
      "    self.run()\n",
      "KeyboardInterrupt\n",
      "  File \"/Users/Jan/anaconda3/envs/pytorch/lib/python3.6/multiprocessing/process.py\", line 249, in _bootstrap\n",
      "    self.run()\n",
      "  File \"/Users/Jan/anaconda3/envs/pytorch/lib/python3.6/site-packages/pyabc/sampler/multicore_evaluation_parallel.py\", line 24, in work\n",
      "    new_sim = simulate_one()\n",
      "  File \"/Users/Jan/anaconda3/envs/pytorch/lib/python3.6/site-packages/pyabc/sampler/multicore_evaluation_parallel.py\", line 24, in work\n",
      "    new_sim = simulate_one()\n",
      "  File \"/Users/Jan/anaconda3/envs/pytorch/lib/python3.6/multiprocessing/process.py\", line 249, in _bootstrap\n",
      "    self.run()\n",
      "  File \"/Users/Jan/anaconda3/envs/pytorch/lib/python3.6/site-packages/pyabc/smc.py\", line 606, in simulate_one\n",
      "    model_probabilities)\n",
      "  File \"/Users/Jan/anaconda3/envs/pytorch/lib/python3.6/multiprocessing/process.py\", line 93, in run\n",
      "    self._target(*self._args, **self._kwargs)\n",
      "  File \"/Users/Jan/anaconda3/envs/pytorch/lib/python3.6/multiprocessing/process.py\", line 249, in _bootstrap\n",
      "    self.run()\n",
      "  File \"/Users/Jan/anaconda3/envs/pytorch/lib/python3.6/multiprocessing/process.py\", line 93, in run\n",
      "    self._target(*self._args, **self._kwargs)\n",
      "  File \"/Users/Jan/anaconda3/envs/pytorch/lib/python3.6/site-packages/pyabc/smc.py\", line 606, in simulate_one\n",
      "    model_probabilities)\n",
      "  File \"/Users/Jan/anaconda3/envs/pytorch/lib/python3.6/site-packages/pyabc/smc.py\", line 606, in simulate_one\n",
      "    model_probabilities)\n",
      "  File \"/Users/Jan/anaconda3/envs/pytorch/lib/python3.6/site-packages/pyabc/sampler/multicore_evaluation_parallel.py\", line 24, in work\n",
      "    new_sim = simulate_one()\n",
      "  File \"/Users/Jan/anaconda3/envs/pytorch/lib/python3.6/site-packages/pyabc/smc.py\", line 482, in _evaluate_proposal\n",
      "    distance_list, m_ss, theta_ss, t, model_probabilities)\n",
      "  File \"/Users/Jan/anaconda3/envs/pytorch/lib/python3.6/multiprocessing/process.py\", line 93, in run\n",
      "    self._target(*self._args, **self._kwargs)\n",
      "  File \"/Users/Jan/anaconda3/envs/pytorch/lib/python3.6/site-packages/pyabc/sampler/multicore_evaluation_parallel.py\", line 24, in work\n",
      "    new_sim = simulate_one()\n",
      "  File \"/Users/Jan/anaconda3/envs/pytorch/lib/python3.6/multiprocessing/process.py\", line 93, in run\n",
      "    self._target(*self._args, **self._kwargs)\n",
      "  File \"/Users/Jan/anaconda3/envs/pytorch/lib/python3.6/site-packages/pyabc/smc.py\", line 482, in _evaluate_proposal\n",
      "    distance_list, m_ss, theta_ss, t, model_probabilities)\n",
      "  File \"/Users/Jan/anaconda3/envs/pytorch/lib/python3.6/site-packages/pyabc/smc.py\", line 482, in _evaluate_proposal\n",
      "    distance_list, m_ss, theta_ss, t, model_probabilities)\n"
     ]
    },
    {
     "ename": "KeyboardInterrupt",
     "evalue": "",
     "output_type": "error",
     "traceback": [
      "\u001b[0;31m---------------------------------------------------------------------------\u001b[0m",
      "\u001b[0;31mKeyboardInterrupt\u001b[0m                         Traceback (most recent call last)",
      "\u001b[0;32m<ipython-input-62-3d6339efc9b1>\u001b[0m in \u001b[0;36m<module>\u001b[0;34m()\u001b[0m\n\u001b[1;32m     29\u001b[0m                    os.path.join(tempfile.gettempdir(), \"test.db\"))\n\u001b[1;32m     30\u001b[0m         \u001b[0mabc_id\u001b[0m \u001b[0;34m=\u001b[0m \u001b[0mabc\u001b[0m\u001b[0;34m.\u001b[0m\u001b[0mnew\u001b[0m\u001b[0;34m(\u001b[0m\u001b[0mdb_path\u001b[0m\u001b[0;34m,\u001b[0m \u001b[0;34m{\u001b[0m\u001b[0;34m\"y\"\u001b[0m\u001b[0;34m:\u001b[0m \u001b[0msxo\u001b[0m\u001b[0;34m}\u001b[0m\u001b[0;34m)\u001b[0m\u001b[0;34m\u001b[0m\u001b[0m\n\u001b[0;32m---> 31\u001b[0;31m         \u001b[0mhistory\u001b[0m \u001b[0;34m=\u001b[0m \u001b[0mabc\u001b[0m\u001b[0;34m.\u001b[0m\u001b[0mrun\u001b[0m\u001b[0;34m(\u001b[0m\u001b[0mminimum_epsilon\u001b[0m\u001b[0;34m=\u001b[0m\u001b[0;36m0.05\u001b[0m\u001b[0;34m,\u001b[0m \u001b[0mmax_nr_populations\u001b[0m\u001b[0;34m=\u001b[0m\u001b[0mn_rounds\u001b[0m\u001b[0;34m)\u001b[0m\u001b[0;34m\u001b[0m\u001b[0m\n\u001b[0m\u001b[1;32m     32\u001b[0m         \u001b[0mmodel_probabilities\u001b[0m \u001b[0;34m=\u001b[0m \u001b[0mhistory\u001b[0m\u001b[0;34m.\u001b[0m\u001b[0mget_model_probabilities\u001b[0m\u001b[0;34m(\u001b[0m\u001b[0;34m)\u001b[0m\u001b[0;34m.\u001b[0m\u001b[0mas_matrix\u001b[0m\u001b[0;34m(\u001b[0m\u001b[0;34m)\u001b[0m\u001b[0;34m\u001b[0m\u001b[0m\n\u001b[1;32m     33\u001b[0m         \u001b[0mn_simulations\u001b[0m \u001b[0;34m+=\u001b[0m \u001b[0mhistory\u001b[0m\u001b[0;34m.\u001b[0m\u001b[0mtotal_nr_simulations\u001b[0m\u001b[0;34m\u001b[0m\u001b[0m\n",
      "\u001b[0;32m~/anaconda3/envs/pytorch/lib/python3.6/site-packages/pyabc/smc.py\u001b[0m in \u001b[0;36mrun\u001b[0;34m(self, minimum_epsilon, max_nr_populations, min_acceptance_rate, **kwargs)\u001b[0m\n\u001b[1;32m    608\u001b[0m             \u001b[0;31m# sample\u001b[0m\u001b[0;34m\u001b[0m\u001b[0;34m\u001b[0m\u001b[0m\n\u001b[1;32m    609\u001b[0m             sample = self.sampler.sample_until_n_accepted(\n\u001b[0;32m--> 610\u001b[0;31m                 self.population_strategy.nr_particles, simulate_one)\n\u001b[0m\u001b[1;32m    611\u001b[0m \u001b[0;34m\u001b[0m\u001b[0m\n\u001b[1;32m    612\u001b[0m             \u001b[0;31m# retrieve accepted population\u001b[0m\u001b[0;34m\u001b[0m\u001b[0;34m\u001b[0m\u001b[0m\n",
      "\u001b[0;32m~/anaconda3/envs/pytorch/lib/python3.6/site-packages/pyabc/sampler/multicore_evaluation_parallel.py\u001b[0m in \u001b[0;36msample_until_n_accepted\u001b[0;34m(self, n, simulate_one)\u001b[0m\n\u001b[1;32m    109\u001b[0m         \u001b[0mn_done\u001b[0m \u001b[0;34m=\u001b[0m \u001b[0;36m0\u001b[0m\u001b[0;34m\u001b[0m\u001b[0m\n\u001b[1;32m    110\u001b[0m         \u001b[0;32mwhile\u001b[0m \u001b[0mn_done\u001b[0m \u001b[0;34m<\u001b[0m \u001b[0mlen\u001b[0m\u001b[0;34m(\u001b[0m\u001b[0mprocesses\u001b[0m\u001b[0;34m)\u001b[0m\u001b[0;34m:\u001b[0m\u001b[0;34m\u001b[0m\u001b[0m\n\u001b[0;32m--> 111\u001b[0;31m             \u001b[0mval\u001b[0m \u001b[0;34m=\u001b[0m \u001b[0mget_if_worker_healthy\u001b[0m\u001b[0;34m(\u001b[0m\u001b[0mprocesses\u001b[0m\u001b[0;34m,\u001b[0m \u001b[0mqueue\u001b[0m\u001b[0;34m)\u001b[0m\u001b[0;34m\u001b[0m\u001b[0m\n\u001b[0m\u001b[1;32m    112\u001b[0m             \u001b[0;32mif\u001b[0m \u001b[0mval\u001b[0m \u001b[0;34m==\u001b[0m \u001b[0mDONE\u001b[0m\u001b[0;34m:\u001b[0m\u001b[0;34m\u001b[0m\u001b[0m\n\u001b[1;32m    113\u001b[0m                 \u001b[0mn_done\u001b[0m \u001b[0;34m+=\u001b[0m \u001b[0;36m1\u001b[0m\u001b[0;34m\u001b[0m\u001b[0m\n",
      "\u001b[0;32m~/anaconda3/envs/pytorch/lib/python3.6/site-packages/pyabc/sampler/multicorebase.py\u001b[0m in \u001b[0;36mget_if_worker_healthy\u001b[0;34m(workers, queue)\u001b[0m\n\u001b[1;32m     51\u001b[0m     \u001b[0;32mwhile\u001b[0m \u001b[0;32mTrue\u001b[0m\u001b[0;34m:\u001b[0m\u001b[0;34m\u001b[0m\u001b[0m\n\u001b[1;32m     52\u001b[0m         \u001b[0;32mtry\u001b[0m\u001b[0;34m:\u001b[0m\u001b[0;34m\u001b[0m\u001b[0m\n\u001b[0;32m---> 53\u001b[0;31m             \u001b[0mitem\u001b[0m \u001b[0;34m=\u001b[0m \u001b[0mqueue\u001b[0m\u001b[0;34m.\u001b[0m\u001b[0mget\u001b[0m\u001b[0;34m(\u001b[0m\u001b[0;32mTrue\u001b[0m\u001b[0;34m,\u001b[0m \u001b[0;36m5\u001b[0m\u001b[0;34m)\u001b[0m\u001b[0;34m\u001b[0m\u001b[0m\n\u001b[0m\u001b[1;32m     54\u001b[0m             \u001b[0;32mreturn\u001b[0m \u001b[0mitem\u001b[0m\u001b[0;34m\u001b[0m\u001b[0m\n\u001b[1;32m     55\u001b[0m         \u001b[0;32mexcept\u001b[0m \u001b[0mEmpty\u001b[0m\u001b[0;34m:\u001b[0m\u001b[0;34m\u001b[0m\u001b[0m\n",
      "\u001b[0;32m~/anaconda3/envs/pytorch/lib/python3.6/multiprocessing/queues.py\u001b[0m in \u001b[0;36mget\u001b[0;34m(self, block, timeout)\u001b[0m\n\u001b[1;32m    102\u001b[0m                 \u001b[0;32mif\u001b[0m \u001b[0mblock\u001b[0m\u001b[0;34m:\u001b[0m\u001b[0;34m\u001b[0m\u001b[0m\n\u001b[1;32m    103\u001b[0m                     \u001b[0mtimeout\u001b[0m \u001b[0;34m=\u001b[0m \u001b[0mdeadline\u001b[0m \u001b[0;34m-\u001b[0m \u001b[0mtime\u001b[0m\u001b[0;34m.\u001b[0m\u001b[0mtime\u001b[0m\u001b[0;34m(\u001b[0m\u001b[0;34m)\u001b[0m\u001b[0;34m\u001b[0m\u001b[0m\n\u001b[0;32m--> 104\u001b[0;31m                     \u001b[0;32mif\u001b[0m \u001b[0mtimeout\u001b[0m \u001b[0;34m<\u001b[0m \u001b[0;36m0\u001b[0m \u001b[0;32mor\u001b[0m \u001b[0;32mnot\u001b[0m \u001b[0mself\u001b[0m\u001b[0;34m.\u001b[0m\u001b[0m_poll\u001b[0m\u001b[0;34m(\u001b[0m\u001b[0mtimeout\u001b[0m\u001b[0;34m)\u001b[0m\u001b[0;34m:\u001b[0m\u001b[0;34m\u001b[0m\u001b[0m\n\u001b[0m\u001b[1;32m    105\u001b[0m                         \u001b[0;32mraise\u001b[0m \u001b[0mEmpty\u001b[0m\u001b[0;34m\u001b[0m\u001b[0m\n\u001b[1;32m    106\u001b[0m                 \u001b[0;32melif\u001b[0m \u001b[0;32mnot\u001b[0m \u001b[0mself\u001b[0m\u001b[0;34m.\u001b[0m\u001b[0m_poll\u001b[0m\u001b[0;34m(\u001b[0m\u001b[0;34m)\u001b[0m\u001b[0;34m:\u001b[0m\u001b[0;34m\u001b[0m\u001b[0m\n",
      "\u001b[0;32m~/anaconda3/envs/pytorch/lib/python3.6/multiprocessing/connection.py\u001b[0m in \u001b[0;36mpoll\u001b[0;34m(self, timeout)\u001b[0m\n\u001b[1;32m    255\u001b[0m         \u001b[0mself\u001b[0m\u001b[0;34m.\u001b[0m\u001b[0m_check_closed\u001b[0m\u001b[0;34m(\u001b[0m\u001b[0;34m)\u001b[0m\u001b[0;34m\u001b[0m\u001b[0m\n\u001b[1;32m    256\u001b[0m         \u001b[0mself\u001b[0m\u001b[0;34m.\u001b[0m\u001b[0m_check_readable\u001b[0m\u001b[0;34m(\u001b[0m\u001b[0;34m)\u001b[0m\u001b[0;34m\u001b[0m\u001b[0m\n\u001b[0;32m--> 257\u001b[0;31m         \u001b[0;32mreturn\u001b[0m \u001b[0mself\u001b[0m\u001b[0;34m.\u001b[0m\u001b[0m_poll\u001b[0m\u001b[0;34m(\u001b[0m\u001b[0mtimeout\u001b[0m\u001b[0;34m)\u001b[0m\u001b[0;34m\u001b[0m\u001b[0m\n\u001b[0m\u001b[1;32m    258\u001b[0m \u001b[0;34m\u001b[0m\u001b[0m\n\u001b[1;32m    259\u001b[0m     \u001b[0;32mdef\u001b[0m \u001b[0m__enter__\u001b[0m\u001b[0;34m(\u001b[0m\u001b[0mself\u001b[0m\u001b[0;34m)\u001b[0m\u001b[0;34m:\u001b[0m\u001b[0;34m\u001b[0m\u001b[0m\n",
      "\u001b[0;32m~/anaconda3/envs/pytorch/lib/python3.6/multiprocessing/connection.py\u001b[0m in \u001b[0;36m_poll\u001b[0;34m(self, timeout)\u001b[0m\n\u001b[1;32m    412\u001b[0m \u001b[0;34m\u001b[0m\u001b[0m\n\u001b[1;32m    413\u001b[0m     \u001b[0;32mdef\u001b[0m \u001b[0m_poll\u001b[0m\u001b[0;34m(\u001b[0m\u001b[0mself\u001b[0m\u001b[0;34m,\u001b[0m \u001b[0mtimeout\u001b[0m\u001b[0;34m)\u001b[0m\u001b[0;34m:\u001b[0m\u001b[0;34m\u001b[0m\u001b[0m\n\u001b[0;32m--> 414\u001b[0;31m         \u001b[0mr\u001b[0m \u001b[0;34m=\u001b[0m \u001b[0mwait\u001b[0m\u001b[0;34m(\u001b[0m\u001b[0;34m[\u001b[0m\u001b[0mself\u001b[0m\u001b[0;34m]\u001b[0m\u001b[0;34m,\u001b[0m \u001b[0mtimeout\u001b[0m\u001b[0;34m)\u001b[0m\u001b[0;34m\u001b[0m\u001b[0m\n\u001b[0m\u001b[1;32m    415\u001b[0m         \u001b[0;32mreturn\u001b[0m \u001b[0mbool\u001b[0m\u001b[0;34m(\u001b[0m\u001b[0mr\u001b[0m\u001b[0;34m)\u001b[0m\u001b[0;34m\u001b[0m\u001b[0m\n\u001b[1;32m    416\u001b[0m \u001b[0;34m\u001b[0m\u001b[0m\n",
      "\u001b[0;32m~/anaconda3/envs/pytorch/lib/python3.6/multiprocessing/connection.py\u001b[0m in \u001b[0;36mwait\u001b[0;34m(object_list, timeout)\u001b[0m\n\u001b[1;32m    909\u001b[0m \u001b[0;34m\u001b[0m\u001b[0m\n\u001b[1;32m    910\u001b[0m             \u001b[0;32mwhile\u001b[0m \u001b[0;32mTrue\u001b[0m\u001b[0;34m:\u001b[0m\u001b[0;34m\u001b[0m\u001b[0m\n\u001b[0;32m--> 911\u001b[0;31m                 \u001b[0mready\u001b[0m \u001b[0;34m=\u001b[0m \u001b[0mselector\u001b[0m\u001b[0;34m.\u001b[0m\u001b[0mselect\u001b[0m\u001b[0;34m(\u001b[0m\u001b[0mtimeout\u001b[0m\u001b[0;34m)\u001b[0m\u001b[0;34m\u001b[0m\u001b[0m\n\u001b[0m\u001b[1;32m    912\u001b[0m                 \u001b[0;32mif\u001b[0m \u001b[0mready\u001b[0m\u001b[0;34m:\u001b[0m\u001b[0;34m\u001b[0m\u001b[0m\n\u001b[1;32m    913\u001b[0m                     \u001b[0;32mreturn\u001b[0m \u001b[0;34m[\u001b[0m\u001b[0mkey\u001b[0m\u001b[0;34m.\u001b[0m\u001b[0mfileobj\u001b[0m \u001b[0;32mfor\u001b[0m \u001b[0;34m(\u001b[0m\u001b[0mkey\u001b[0m\u001b[0;34m,\u001b[0m \u001b[0mevents\u001b[0m\u001b[0;34m)\u001b[0m \u001b[0;32min\u001b[0m \u001b[0mready\u001b[0m\u001b[0;34m]\u001b[0m\u001b[0;34m\u001b[0m\u001b[0m\n",
      "\u001b[0;32m~/anaconda3/envs/pytorch/lib/python3.6/selectors.py\u001b[0m in \u001b[0;36mselect\u001b[0;34m(self, timeout)\u001b[0m\n\u001b[1;32m    374\u001b[0m             \u001b[0mready\u001b[0m \u001b[0;34m=\u001b[0m \u001b[0;34m[\u001b[0m\u001b[0;34m]\u001b[0m\u001b[0;34m\u001b[0m\u001b[0m\n\u001b[1;32m    375\u001b[0m             \u001b[0;32mtry\u001b[0m\u001b[0;34m:\u001b[0m\u001b[0;34m\u001b[0m\u001b[0m\n\u001b[0;32m--> 376\u001b[0;31m                 \u001b[0mfd_event_list\u001b[0m \u001b[0;34m=\u001b[0m \u001b[0mself\u001b[0m\u001b[0;34m.\u001b[0m\u001b[0m_poll\u001b[0m\u001b[0;34m.\u001b[0m\u001b[0mpoll\u001b[0m\u001b[0;34m(\u001b[0m\u001b[0mtimeout\u001b[0m\u001b[0;34m)\u001b[0m\u001b[0;34m\u001b[0m\u001b[0m\n\u001b[0m\u001b[1;32m    377\u001b[0m             \u001b[0;32mexcept\u001b[0m \u001b[0mInterruptedError\u001b[0m\u001b[0;34m:\u001b[0m\u001b[0;34m\u001b[0m\u001b[0m\n\u001b[1;32m    378\u001b[0m                 \u001b[0;32mreturn\u001b[0m \u001b[0mready\u001b[0m\u001b[0;34m\u001b[0m\u001b[0m\n",
      "\u001b[0;31mKeyboardInterrupt\u001b[0m: "
     ]
    },
    {
     "name": "stderr",
     "output_type": "stream",
     "text": [
      "  File \"/Users/Jan/anaconda3/envs/pytorch/lib/python3.6/site-packages/pyabc/smc.py\", line 604, in simulate_one\n",
      "    par = self._generate_valid_proposal(t, m, p)\n",
      "\n",
      "  File \"/Users/Jan/anaconda3/envs/pytorch/lib/python3.6/site-packages/pyabc/smc.py\", line 507, in _calc_proposal_weight\n",
      "    pd.Series(dict(theta_ss)))\n",
      "  File \"/Users/Jan/anaconda3/envs/pytorch/lib/python3.6/site-packages/pyabc/smc.py\", line 606, in simulate_one\n",
      "    model_probabilities)\n",
      "  File \"/Users/Jan/anaconda3/envs/pytorch/lib/python3.6/site-packages/pyabc/sampler/multicore_evaluation_parallel.py\", line 24, in work\n",
      "    new_sim = simulate_one()\n",
      "  File \"/Users/Jan/anaconda3/envs/pytorch/lib/python3.6/site-packages/pyabc/smc.py\", line 518, in _calc_proposal_weight\n",
      "    / normalization)\n",
      "  File \"/Users/Jan/anaconda3/envs/pytorch/lib/python3.6/site-packages/pyabc/sampler/multicore_evaluation_parallel.py\", line 24, in work\n",
      "    new_sim = simulate_one()\n",
      "  File \"/Users/Jan/anaconda3/envs/pytorch/lib/python3.6/site-packages/pyabc/smc.py\", line 505, in _calc_proposal_weight\n",
      "    for m, row in model_probabilities.iterrows())\n",
      "  File \"/Users/Jan/anaconda3/envs/pytorch/lib/python3.6/site-packages/pyabc/transition/transitionmeta.py\", line 28, in pdf\n",
      "    return f(self, x)\n",
      "  File \"/Users/Jan/anaconda3/envs/pytorch/lib/python3.6/site-packages/pyabc/smc.py\", line 482, in _evaluate_proposal\n",
      "    distance_list, m_ss, theta_ss, t, model_probabilities)\n",
      "  File \"/Users/Jan/anaconda3/envs/pytorch/lib/python3.6/site-packages/pyabc/smc.py\", line 604, in simulate_one\n",
      "    par = self._generate_valid_proposal(t, m, p)\n",
      "  File \"/Users/Jan/anaconda3/envs/pytorch/lib/python3.6/site-packages/pyabc/transition/base.py\", line 90, in rvs\n",
      "    return self.rvs_single()\n",
      "  File \"/Users/Jan/anaconda3/envs/pytorch/lib/python3.6/site-packages/pyabc/random_variables.py\", line 439, in pdf\n",
      "    res.append(self[key].pdf(val))\n",
      "  File \"/Users/Jan/anaconda3/envs/pytorch/lib/python3.6/site-packages/pyabc/smc.py\", line 606, in simulate_one\n",
      "    model_probabilities)\n",
      "  File \"/Users/Jan/anaconda3/envs/pytorch/lib/python3.6/site-packages/pyabc/smc.py\", line 505, in <genexpr>\n",
      "    for m, row in model_probabilities.iterrows())\n",
      "  File \"/Users/Jan/anaconda3/envs/pytorch/lib/python3.6/site-packages/pyabc/transition/multivariatenormal.py\", line 85, in pdf\n",
      "    for xs in x])\n",
      "  File \"/Users/Jan/anaconda3/envs/pytorch/lib/python3.6/site-packages/pyabc/smc.py\", line 447, in _generate_valid_proposal\n",
      "    theta_ss = self.transitions[m_ss].rvs()\n",
      "  File \"/Users/Jan/anaconda3/envs/pytorch/lib/python3.6/site-packages/pyabc/transition/transitionmeta.py\", line 37, in rvs_single\n",
      "    return f(self)\n",
      "  File \"/Users/Jan/anaconda3/envs/pytorch/lib/python3.6/site-packages/pyabc/smc.py\", line 505, in _calc_proposal_weight\n",
      "    for m, row in model_probabilities.iterrows())\n",
      "  File \"/Users/Jan/anaconda3/envs/pytorch/lib/python3.6/site-packages/pyabc/random_variables.py\", line 182, in pdf\n",
      "    return self.distribution.pdf(x, *args, **kwargs)\n",
      "  File \"/Users/Jan/anaconda3/envs/pytorch/lib/python3.6/site-packages/pyabc/smc.py\", line 482, in _evaluate_proposal\n",
      "    distance_list, m_ss, theta_ss, t, model_probabilities)\n",
      "  File \"/Users/Jan/anaconda3/envs/pytorch/lib/python3.6/site-packages/pyabc/random_variables.py\", line 531, in pmf\n",
      "    return self._get_discrete_rv(m).pmf(n)\n",
      "  File \"/Users/Jan/anaconda3/envs/pytorch/lib/python3.6/site-packages/pyabc/transition/multivariatenormal.py\", line 85, in <listcomp>\n",
      "    for xs in x])\n",
      "  File \"/Users/Jan/anaconda3/envs/pytorch/lib/python3.6/site-packages/pyabc/smc.py\", line 505, in <genexpr>\n",
      "    for m, row in model_probabilities.iterrows())\n",
      "  File \"/Users/Jan/anaconda3/envs/pytorch/lib/python3.6/site-packages/pyabc/transition/base.py\", line 90, in rvs\n",
      "    return self.rvs_single()\n",
      "  File \"/Users/Jan/anaconda3/envs/pytorch/lib/python3.6/site-packages/pyabc/transition/multivariatenormal.py\", line 73, in rvs_single\n",
      "    sample = self.X.sample(weights=self.w).iloc[0]\n",
      "  File \"/Users/Jan/anaconda3/envs/pytorch/lib/python3.6/site-packages/scipy/stats/_distn_infrastructure.py\", line 450, in pdf\n",
      "    return self.dist.pdf(x, *self.args, **self.kwds)\n",
      "  File \"/Users/Jan/anaconda3/envs/pytorch/lib/python3.6/site-packages/pyabc/smc.py\", line 505, in _calc_proposal_weight\n",
      "    for m, row in model_probabilities.iterrows())\n",
      "  File \"/Users/Jan/anaconda3/envs/pytorch/lib/python3.6/site-packages/numpy/core/_methods.py\", line 32, in _sum\n",
      "    return umr_sum(a, axis, dtype, out, keepdims)\n",
      "  File \"/Users/Jan/anaconda3/envs/pytorch/lib/python3.6/site-packages/pyabc/random_variables.py\", line 531, in pmf\n",
      "    return self._get_discrete_rv(m).pmf(n)\n",
      "  File \"/Users/Jan/anaconda3/envs/pytorch/lib/python3.6/site-packages/pyabc/random_variables.py\", line 481, in _get_discrete_rv\n",
      "    values=(range(len(probabilities)), probabilities))\n",
      "  File \"/Users/Jan/anaconda3/envs/pytorch/lib/python3.6/site-packages/scipy/stats/_distn_infrastructure.py\", line 1653, in pdf\n",
      "    output = zeros(shape(cond), dtyp)\n",
      "  File \"/Users/Jan/anaconda3/envs/pytorch/lib/python3.6/site-packages/pyabc/transition/transitionmeta.py\", line 37, in rvs_single\n",
      "    return f(self)\n",
      "  File \"/Users/Jan/anaconda3/envs/pytorch/lib/python3.6/site-packages/pandas/core/generic.py\", line 3417, in sample\n",
      "    if weights.sum() != 1:\n",
      "  File \"/Users/Jan/anaconda3/envs/pytorch/lib/python3.6/site-packages/pyabc/smc.py\", line 505, in <genexpr>\n",
      "    for m, row in model_probabilities.iterrows())\n",
      "KeyboardInterrupt\n",
      "  File \"/Users/Jan/anaconda3/envs/pytorch/lib/python3.6/site-packages/pyabc/random_variables.py\", line 156, in __init__\n",
      "    self.__setstate__(self.__getstate__())\n",
      "  File \"/Users/Jan/anaconda3/envs/pytorch/lib/python3.6/site-packages/pyabc/random_variables.py\", line 179, in pmf\n",
      "    return self.distribution.pmf(x, *args, **kwargs)\n",
      "KeyboardInterrupt\n",
      "  File \"/Users/Jan/anaconda3/envs/pytorch/lib/python3.6/site-packages/pyabc/transition/multivariatenormal.py\", line 73, in rvs_single\n",
      "    sample = self.X.sample(weights=self.w).iloc[0]\n",
      "  File \"/Users/Jan/anaconda3/envs/pytorch/lib/python3.6/site-packages/pandas/core/generic.py\", line 7295, in stat_func\n",
      "    numeric_only=numeric_only, min_count=min_count)\n",
      "  File \"/Users/Jan/anaconda3/envs/pytorch/lib/python3.6/site-packages/pandas/core/generic.py\", line 3613, in __getattr__\n",
      "    return self[name]\n",
      "  File \"/Users/Jan/anaconda3/envs/pytorch/lib/python3.6/site-packages/pyabc/random_variables.py\", line 170, in __setstate__\n",
      "    self.distribution = distribution(*self.args, **self.kwargs)\n",
      "  File \"/Users/Jan/anaconda3/envs/pytorch/lib/python3.6/site-packages/scipy/stats/_distn_infrastructure.py\", line 2843, in pmf\n",
      "    place(output, cond, np.clip(self._pmf(*goodargs), 0, 1))\n",
      "  File \"/Users/Jan/anaconda3/envs/pytorch/lib/python3.6/site-packages/pandas/core/series.py\", line 2577, in _reduce\n",
      "    return op(delegate, skipna=skipna, **kwds)\n",
      "  File \"/Users/Jan/anaconda3/envs/pytorch/lib/python3.6/site-packages/scipy/stats/_distn_infrastructure.py\", line 3342, in __init__\n",
      "    locscale_out='loc, 1')\n",
      "  File \"/Users/Jan/anaconda3/envs/pytorch/lib/python3.6/site-packages/pandas/core/generic.py\", line 3414, in sample\n",
      "    weights = weights.fillna(0)\n",
      "  File \"/Users/Jan/anaconda3/envs/pytorch/lib/python3.6/site-packages/pandas/core/series.py\", line 623, in __getitem__\n",
      "    result = self.index.get_value(self, key)\n",
      "  File \"/Users/Jan/anaconda3/envs/pytorch/lib/python3.6/site-packages/scipy/stats/_distn_infrastructure.py\", line 3354, in _pmf\n",
      "    [np.broadcast_arrays(p, x)[0] for p in self.pk], 0)\n",
      "  File \"/Users/Jan/anaconda3/envs/pytorch/lib/python3.6/site-packages/pandas/core/series.py\", line 2689, in fillna\n",
      "    **kwargs)\n",
      "  File \"/Users/Jan/anaconda3/envs/pytorch/lib/python3.6/site-packages/pandas/core/nanops.py\", line 77, in _f\n",
      "    return f(*args, **kwargs)\n",
      "  File \"/Users/Jan/anaconda3/envs/pytorch/lib/python3.6/site-packages/pandas/core/indexes/base.py\", line 2560, in get_value\n",
      "    tz=getattr(series.dtype, 'tz', None))\n",
      "  File \"/Users/Jan/anaconda3/envs/pytorch/lib/python3.6/site-packages/scipy/stats/_distn_infrastructure.py\", line 694, in _construct_argparser\n",
      "    exec_(parse_arg_template % dct, ns)\n",
      "  File \"/Users/Jan/anaconda3/envs/pytorch/lib/python3.6/site-packages/numpy/lib/function_base.py\", line 1411, in select\n",
      "    choicelist = np.broadcast_arrays(*choicelist)\n"
     ]
    },
    {
     "name": "stderr",
     "output_type": "stream",
     "text": [
      "  File \"/Users/Jan/anaconda3/envs/pytorch/lib/python3.6/site-packages/pandas/core/generic.py\", line 4321, in fillna\n",
      "    elif not is_list_like(value):\n",
      "KeyboardInterrupt\n",
      "  File \"/Users/Jan/anaconda3/envs/pytorch/lib/python3.6/site-packages/pandas/core/nanops.py\", line 128, in f\n",
      "    result = alt(values, axis=axis, skipna=skipna, **kwds)\n",
      "  File \"<string>\", line 2, in <module>\n",
      "  File \"/Users/Jan/anaconda3/envs/pytorch/lib/python3.6/site-packages/numpy/lib/stride_tricks.py\", line 249, in broadcast_arrays\n",
      "    shape = _broadcast_shape(*args)\n",
      "  File \"/Users/Jan/anaconda3/envs/pytorch/lib/python3.6/site-packages/pandas/core/nanops.py\", line 331, in nansum\n",
      "    values, mask, dtype, dtype_max = _get_values(values, skipna, 0)\n",
      "  File \"/Users/Jan/anaconda3/envs/pytorch/lib/python3.6/site-packages/pandas/core/dtypes/inference.py\", line 266, in is_list_like\n",
      "    return (isinstance(obj, Iterable) and\n",
      "KeyboardInterrupt\n",
      "  File \"/Users/Jan/anaconda3/envs/pytorch/lib/python3.6/site-packages/pandas/core/nanops.py\", line 220, in _get_values\n",
      "    fill_value_typ=fill_value_typ)\n",
      "  File \"/Users/Jan/anaconda3/envs/pytorch/lib/python3.6/abc.py\", line 188, in __instancecheck__\n",
      "    subclass in cls._abc_negative_cache):\n",
      "  File \"/Users/Jan/anaconda3/envs/pytorch/lib/python3.6/site-packages/numpy/lib/stride_tricks.py\", line 184, in _broadcast_shape\n",
      "    b = np.broadcast(*args[:32])\n",
      "KeyboardInterrupt\n",
      "KeyboardInterrupt\n",
      "  File \"/Users/Jan/anaconda3/envs/pytorch/lib/python3.6/site-packages/pandas/core/nanops.py\", line 179, in _get_fill_value\n",
      "    def _get_fill_value(dtype, fill_value=None, fill_value_typ=None):\n",
      "KeyboardInterrupt\n"
     ]
    }
   ],
   "source": [
    "prior_probs = np.arange(0.1, 1., 0.2)\n",
    "post_probs_mean = np.zeros_like(prior_probs)\n",
    "sx_test_m1 = stats_poi_test[:100]\n",
    "sx_test_m2 = stats_nb_test[:100]\n",
    "n_rounds = 3\n",
    "\n",
    "for ii, pp in enumerate(prior_probs): \n",
    "    idx = int(pp * 100)\n",
    "    # up to idx for m1\n",
    "    d1 = sx_test_m1[:idx, ]\n",
    "    # from idx to end for m2\n",
    "    d2 = sx_test_m2[idx:, ]\n",
    "    test_set = np.vstack((d1, d2))\n",
    "    model_prior = MyModelPrior.from_dictionary({'type': 'multinomial', 'kwargs': {'n': 1, 'p': [pp, 1 - pp]}})\n",
    "    \n",
    "    # rejection sampling \n",
    "    ppoi = np.zeros(test_set.shape[0])\n",
    "    n_simulations = 0\n",
    "    for jj in tqdm.tqdm(range(test_set.shape[0])): \n",
    "        sxo = test_set[jj, ]\n",
    "\n",
    "        # We plug all the ABC options together\n",
    "        abc = ABCSMC(\n",
    "            models, parameter_priors, \n",
    "            MyDist(), model_prior=model_prior)\n",
    "\n",
    "        # and we define where to store the results\n",
    "        db_path = (\"sqlite:///\" +\n",
    "                   os.path.join(tempfile.gettempdir(), \"test.db\"))\n",
    "        abc_id = abc.new(db_path, {\"y\": sxo})\n",
    "        history = abc.run(minimum_epsilon=0.05, max_nr_populations=n_rounds)\n",
    "        model_probabilities = history.get_model_probabilities().as_matrix()\n",
    "        n_simulations += history.total_nr_simulations\n",
    "        try: \n",
    "            ppoi[jj] = model_probabilities[0, model_probabilities.shape[0] - 1]\n",
    "        except:\n",
    "            ppoi[jj] = model_probabilities[model_probabilities.shape[0] - 1, 0]\n",
    "\n",
    "    print(n_simulations)\n",
    "       \n",
    "    post_probs_mean[ii] = ppoi.mean()"
   ]
  },
  {
   "cell_type": "code",
   "execution_count": null,
   "metadata": {
    "collapsed": true
   },
   "outputs": [],
   "source": [
    "stats_poi.shape, data_poi.shape"
   ]
  },
  {
   "cell_type": "code",
   "execution_count": null,
   "metadata": {
    "collapsed": true
   },
   "outputs": [],
   "source": [
    "sx_test_m1 = stats_poi_test[:100]\n",
    "sx_test_m2 = stats_nb_test[:100]\n",
    "prior_probs = np.arange(0.1, 1., 0.1)\n",
    "post_probs_mean_de = np.zeros_like(prior_probs)\n",
    "\n",
    "for ii, pp in enumerate(prior_probs): \n",
    "    idx = int(pp * 100)\n",
    "    # up to idx for m1\n",
    "    d1 = sx_test_m1[:idx, ]\n",
    "    # from idx to end for m2\n",
    "    d2 = sx_test_m2[idx:, ]\n",
    "    test_set = np.vstack((d1, d2))\n",
    "    \n",
    "    # learn new abc model with given prior on training set \n",
    "    loop_model = ClassificationMDN(n_input=2, n_hidden_units=10, n_hidden_layers=1)\n",
    "    optimizer = torch.optim.Adam(loop_model.parameters(), lr=0.01)\n",
    "    trainer = Trainer(loop_model, optimizer, verbose=True, classification=True)\n",
    "\n",
    "    # train with training data\n",
    "    ntrain = stats_poi.shape[0]  # training size \n",
    "    training_set_idx = int(pp * ntrain)  # set prior index \n",
    "    sx_loop = np.vstack((stats_poi[:training_set_idx, ], stats_nb[training_set_idx:, ]))\n",
    "    m_loop = np.hstack((np.zeros(training_set_idx), np.ones(ntrain - training_set_idx))).astype(int).tolist()\n",
    "    \n",
    "    sx_loop_zt, loop_norm = normalize(sx_loop)\n",
    "\n",
    "    n_epochs = 10\n",
    "    n_minibatch = int(ntrain / 100)\n",
    "\n",
    "    loss_trace = trainer.train(sx_loop_zt, m_loop, n_epochs=n_epochs, n_minibatch=n_minibatch)\n",
    "    # predict with abc model \n",
    "    test_data_zt, _ = normalize(test_set, loop_norm)\n",
    "    p = loop_model.predict(test_data_zt)[:, 0]\n",
    "    post_probs_mean_de[ii] = p.mean()"
   ]
  },
  {
   "cell_type": "code",
   "execution_count": null,
   "metadata": {
    "collapsed": true
   },
   "outputs": [],
   "source": [
    "plt.plot(np.arange(.1, 1., .2), post_probs_mean, 'o-')\n",
    "plt.plot(prior_probs, post_probs_mean_de, 'o-')\n",
    "plt.plot(prior_probs, prior_probs)"
   ]
  },
  {
   "cell_type": "markdown",
   "metadata": {},
   "source": [
    "## Posterior checks"
   ]
  },
  {
   "cell_type": "code",
   "execution_count": 195,
   "metadata": {
    "collapsed": true
   },
   "outputs": [],
   "source": [
    "sx_test = np.vstack((stats_poi_test, stats_nb_test))\n",
    "sx_test_zt, training_norm = normalize(sx_test, training_norm)"
   ]
  },
  {
   "cell_type": "code",
   "execution_count": 196,
   "metadata": {
    "collapsed": true
   },
   "outputs": [],
   "source": [
    "ppoi_hat = model.predict(sx_test_zt)[:, 0]"
   ]
  },
  {
   "cell_type": "code",
   "execution_count": 197,
   "metadata": {},
   "outputs": [
    {
     "data": {
      "image/png": "[encoded data removed]",
      "text/plain": [
       "<matplotlib.figure.Figure at 0x115726d68>"
      ]
     },
     "metadata": {},
     "output_type": "display_data"
    }
   ],
   "source": [
    "plt.figure(figsize=(20, 5))\n",
    "plt.plot(ppoi_exact, '-o', label='exact')\n",
    "plt.plot(phat_rej[:, 0], '-o', label='rejection abc')\n",
    "plt.plot(phat_smc[:, 0], '-o', label='SMC abc')\n",
    "plt.plot(ppoi_hat, '-o', label='Density abc')\n",
    "plt.legend(fontsize=16)\n",
    "plt.tight_layout()"
   ]
  },
  {
   "cell_type": "code",
   "execution_count": 215,
   "metadata": {},
   "outputs": [
    {
     "data": {
      "text/plain": [
       "0.35693459511704534"
      ]
     },
     "execution_count": 215,
     "metadata": {},
     "output_type": "execute_result"
    }
   ],
   "source": [
    "np.mean(np.abs(ppoi_exact - phat_rej[:, 0]))"
   ]
  },
  {
   "cell_type": "code",
   "execution_count": 216,
   "metadata": {},
   "outputs": [
    {
     "data": {
      "text/plain": [
       "0.031569154850361887"
      ]
     },
     "execution_count": 216,
     "metadata": {},
     "output_type": "execute_result"
    }
   ],
   "source": [
    "np.mean(np.abs(ppoi_exact - phat_smc[:, 0]))"
   ]
  },
  {
   "cell_type": "code",
   "execution_count": 217,
   "metadata": {},
   "outputs": [
    {
     "data": {
      "text/plain": [
       "0.035333902401126618"
      ]
     },
     "execution_count": 217,
     "metadata": {},
     "output_type": "execute_result"
    }
   ],
   "source": [
    "np.mean(np.abs(ppoi_exact - ppoi_hat))"
   ]
  },
  {
   "cell_type": "code",
   "execution_count": 212,
   "metadata": {},
   "outputs": [],
   "source": [
    "test_set = np.vstack((stats_poi_test, stats_nb_test))\n",
    "d = dict(x_test=xtest, sx_test=test_set, x=x, sx=sx, \n",
    "         ppoi_exact=ppoi_exact, \n",
    "         ppoi_hat=ppoi_hat, ns_hat=n, \n",
    "         ppoi_smc=phat_smc[:, 0], ns_smc=ns_smc,\n",
    "         ppoi_rej=phat_rej[:, 0], ns_rej=ns_rej)\n",
    "#          prior_probs=prior_probs, \n",
    "#          post_probs_mean_hat=post_probs_mean_de, \n",
    "#          post_probs_mean_smc=post_probs_mean)"
   ]
  },
  {
   "cell_type": "code",
   "execution_count": 213,
   "metadata": {
    "collapsed": true
   },
   "outputs": [],
   "source": [
    "fn = time_stamp + '_modelposterior_comparison_exact_DE_SMC_ns{}_ntest{}.p'.format(sample_size, ntest)\n",
    "with open(os.path.join('../data', fn), 'wb') as outfile: \n",
    "    pickle.dump(d, outfile, protocol=pickle.HIGHEST_PROTOCOL)"
   ]
  },
  {
   "cell_type": "code",
   "execution_count": null,
   "metadata": {
    "collapsed": true
   },
   "outputs": [],
   "source": []
  }
 ],
 "metadata": {
  "kernelspec": {
   "display_name": "Python [conda env:pytorch]",
   "language": "python",
   "name": "conda-env-pytorch-py"
  },
  "language_info": {
   "codemirror_mode": {
    "name": "ipython",
    "version": 3
   },
   "file_extension": ".py",
   "mimetype": "text/x-python",
   "name": "python",
   "nbconvert_exporter": "python",
   "pygments_lexer": "ipython3",
   "version": "3.6.2"
  }
 },
 "nbformat": 4,
 "nbformat_minor": 2
}
