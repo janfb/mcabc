{
 "cells": [
  {
   "cell_type": "code",
   "execution_count": 1,
   "metadata": {
    "collapsed": true
   },
   "outputs": [],
   "source": [
    "import matplotlib.pyplot as plt\n",
    "import numpy as np\n",
    "import torch\n",
    "import torch.nn as nn\n",
    "\n",
    "from torch.autograd import Variable\n",
    "from random import shuffle\n",
    "from scipy.stats import gamma\n",
    "import scipy.special\n",
    "\n",
    "%matplotlib inline"
   ]
  },
  {
   "cell_type": "markdown",
   "metadata": {},
   "source": [
    "## Derive analytical posterior with a Gamma prior, then train a MDN to approximate it\n",
    "\n",
    "Assuming $x \\sim Poisson(\\lambda)$ and $\\lambda \\sim Gamma(\\alpha, \\beta)$ we have for a single sample $x_i$ \n",
    "\n",
    "$$\n",
    "p(x_i | \\lambda) = \\frac{y^{x_i} e^{-\\lambda}}{x_i !}\n",
    "$$\n",
    "\n",
    "and for a vector $x$ of $N$ samples \n",
    "\n",
    "$$\n",
    "p(x | \\lambda) = \\frac{\\lambda^{\\sum_{i=1}^N x_i} e^{-\\lambda N}}{\\prod_{i=1}^{N} x_i !}\n",
    "$$\n",
    "\n",
    "The prior is given by \n",
    "\n",
    "$$\n",
    "p(\\lambda | \\alpha, \\beta) = \\frac{\\beta^{\\alpha}}{\\Gamma(\\alpha)} \\lambda^{\\alpha - 1}e^{-\\beta \\lambda}.\n",
    "$$\n",
    "\n",
    "Then the posterior over $\\lambda$ given the observed data $x$ is given by \n",
    "\n",
    "$$\n",
    "p(\\lambda | x) \\sim p(x | \\lambda) p(\\lambda) = \\frac{\\lambda^{\\sum_{i=1}^N x_i} e^{-\\lambda N}}{\\prod_{i=1}^{N} x_i !} \n",
    " \\frac{\\beta^{\\alpha}}{\\Gamma(\\alpha)} \\lambda^{\\alpha - 1}e^{-\\beta \\lambda} \n",
    "\\\\ = \\frac{\\beta^{\\alpha}}{\\Gamma(\\alpha)} \\frac{1}{\\prod_{i=1}^{N} x_i !} \\lambda^{\\sum_{i=1}^N x_i + \\alpha - 1} e^{-\\lambda(N + \\beta)}\n",
    "$$\n",
    "\n",
    "The posterior can be normalized by dividing it by the evidence. "
   ]
  },
  {
   "cell_type": "markdown",
   "metadata": {},
   "source": [
    "## Generate Poisson data"
   ]
  },
  {
   "cell_type": "code",
   "execution_count": 2,
   "metadata": {},
   "outputs": [
    {
     "data": {
      "image/png": "[encoded data removed]",
      "text/plain": [
       "<matplotlib.figure.Figure at 0x10f6d23c8>"
      ]
     },
     "metadata": {},
     "output_type": "display_data"
    }
   ],
   "source": [
    "N = 500 # size of toy data\n",
    "shape = 9. \n",
    "scale = .5\n",
    "true_lam = 4.\n",
    "\n",
    "X_o = np.random.poisson(lam=true_lam, size=N)\n",
    "\n",
    "X_var = Variable(torch.Tensor(X_o.astype(float)))\n",
    "\n",
    "plt.hist(X_o, bins='auto');\n",
    "plt.xlabel('X');"
   ]
  },
  {
   "cell_type": "markdown",
   "metadata": {},
   "source": [
    "## Use a MDN to learn the posterior over the mean of the Poisson model"
   ]
  },
  {
   "cell_type": "code",
   "execution_count": 3,
   "metadata": {
    "collapsed": true
   },
   "outputs": [],
   "source": [
    "class MDN_phi(nn.Module):\n",
    "    def __init__(self, ndim_input=1, ndim_output=1, n_hidden=5, n_components=1):\n",
    "        super(MDN_phi, self).__init__()\n",
    "        self.fc_in = nn.Linear(ndim_input, n_hidden)\n",
    "        self.tanh = nn.Tanh()\n",
    "        self.scale_out = torch.nn.Sequential(\n",
    "              nn.Linear(n_hidden, n_components),\n",
    "              nn.Softplus())\n",
    "        self.shape_out = torch.nn.Sequential(\n",
    "              nn.Linear(n_hidden, n_components),\n",
    "              nn.Softplus())\n",
    "\n",
    "    def forward(self, x):\n",
    "        out = self.fc_in(x)\n",
    "        act = self.tanh(out)\n",
    "        out_shape = self.scale_out(act)\n",
    "        out_scale = self.shape_out(act)\n",
    "        return (out_shape, out_scale)\n",
    "\n",
    "# the loss evaluates model (MoG) with the given data (y) and takes the log loss\n",
    "def mdn_loss_function(out_shape, out_scale, y):\n",
    "    result = gamma_pdf(y, out_shape, out_scale, log=True)\n",
    "    result = torch.mean(result)  # mean over batch\n",
    "    return -result\n",
    "\n",
    "def batch_generator(dataset, batch_size=5):\n",
    "    shuffle(dataset)\n",
    "    N_full_batches = len(dataset) // batch_size\n",
    "    for i in range(N_full_batches):\n",
    "        idx_from = batch_size * i\n",
    "        idx_to = batch_size * (i + 1)\n",
    "        xs, ys = zip(*[(x, y) for x, y in dataset[idx_from:idx_to]])\n",
    "        yield xs, ys\n",
    "        \n",
    "def train(X, Y, n_epochs=500, n_minibatch=50):\n",
    "    dataset_train = [(x, y) for x, y in zip(X, Y)]\n",
    "\n",
    "    for epoch in range(n_epochs): \n",
    "        bgen = batch_generator(dataset_train, n_minibatch)\n",
    "\n",
    "        for j, (x_batch, y_batch) in enumerate(bgen):\n",
    "            x_var = Variable(torch.Tensor(x_batch))\n",
    "            y_var = Variable(torch.Tensor(y_batch))\n",
    "                                                            \n",
    "            (out_shape, out_scale) = model(x_var)\n",
    "            loss = mdn_loss_function(out_shape, out_scale, y_var)\n",
    "            \n",
    "            optim.zero_grad()\n",
    "            loss.backward()\n",
    "            optim.step()\n",
    "\n",
    "        if (epoch + 1) % 50 == 0:\n",
    "            print(\"[epoch %04d] loss: %.4f\" % (epoch + 1, loss.data[0]))"
   ]
  },
  {
   "cell_type": "code",
   "execution_count": 4,
   "metadata": {
    "collapsed": true
   },
   "outputs": [],
   "source": [
    "# magical gammaln fun from pyro \n",
    "def log_gamma(xx):\n",
    "    gamma_coeff = [\n",
    "        76.18009172947146,\n",
    "        -86.50532032941677,\n",
    "        24.01409824083091,\n",
    "        -1.231739572450155,\n",
    "        0.1208650973866179e-2,\n",
    "        -0.5395239384953e-5,\n",
    "    ]\n",
    "    magic1 = 1.000000000190015\n",
    "    magic2 = 2.5066282746310005\n",
    "    x = xx - 1.0\n",
    "    t = x + 5.5\n",
    "    t = t - (x + 0.5) * torch.log(t)\n",
    "    ser = Variable(torch.ones(x.size()) * magic1)\n",
    "    for c in gamma_coeff:\n",
    "        x = x + 1.0\n",
    "        ser = ser + torch.pow(x / c, -1)\n",
    "    return torch.log(ser * magic2) - t\n",
    "\n",
    "def gamma_pdf(x, shape, scale, log=False): \n",
    "    alpha = shape\n",
    "    beta = 1 / scale\n",
    "    \n",
    "    ll_1 = -beta * x\n",
    "    ll_2 = (alpha - 1.0) * torch.log(x)\n",
    "    ll_3 = alpha * torch.log(beta)\n",
    "    ll_4 = -log_gamma(alpha)\n",
    "    result = torch.sum(ll_1 + ll_2 + ll_3 + ll_4, -1)\n",
    "    if log:\n",
    "        return result\n",
    "    else: \n",
    "        return torch.exp(result)\n",
    "    \n",
    "def posterior_analytical(lam, x, alpha, beta, log=True):\n",
    "    result = alpha * np.log(beta) - scipy.special.gammaln(alpha) - np.sum(scipy.special.gammaln(x + 1)) + (np.sum(x) + alpha -1)*np.log(lam) - lam * (x.size + beta)\n",
    "    return result if log else np.exp(result)\n",
    "\n",
    "def poisson_evidence(x, a, b): \n",
    "    x_sum = np.sum(x)\n",
    "    log_xfac = np.sum(scipy.special.gammaln(x + 1))\n",
    "    \n",
    "    return a * np.log(b) - scipy.special.gammaln(a) - log_xfac + scipy.special.gammaln(a + x_sum) - (a + x_sum)*np.log(b + x.size)    "
   ]
  },
  {
   "cell_type": "code",
   "execution_count": 5,
   "metadata": {
    "collapsed": true
   },
   "outputs": [],
   "source": [
    "# we need to define a generative model to generate samples (theta, x)\n",
    "def generate_dataset(N, m):\n",
    "    # N data sets \n",
    "    # each with m samples \n",
    "    \n",
    "    X = []\n",
    "    thetas = []\n",
    "    \n",
    "    for i in range(N): \n",
    "        # sample from the prior \n",
    "        lam = np.random.gamma(shape, scale)\n",
    "\n",
    "        # generate samples\n",
    "        x = np.random.poisson(lam=lam, size=m)\n",
    "        \n",
    "        # as data we append the summary stats\n",
    "        X.append(calculate_stats(x).astype(float)) \n",
    "        thetas.append([lam])\n",
    "    \n",
    "    return X, np.array(thetas)\n",
    "\n",
    "# calculate summary stats, for poisson this is just x, so for a vector it is sum x\n",
    "def calculate_stats(x): \n",
    "    sx = np.array([np.mean(x)])\n",
    "    #sx = x\n",
    "    return sx"
   ]
  },
  {
   "cell_type": "code",
   "execution_count": 6,
   "metadata": {
    "collapsed": true
   },
   "outputs": [],
   "source": [
    "model = MDN_phi(ndim_input=1, n_components=1)\n",
    "optim = torch.optim.Adam(model.parameters(), lr=0.01)"
   ]
  },
  {
   "cell_type": "code",
   "execution_count": 7,
   "metadata": {
    "collapsed": true
   },
   "outputs": [],
   "source": [
    "X, Y = generate_dataset(1000, N)"
   ]
  },
  {
   "cell_type": "code",
   "execution_count": 8,
   "metadata": {},
   "outputs": [
    {
     "name": "stdout",
     "output_type": "stream",
     "text": [
      "[epoch 0050] loss: 0.8989\n",
      "[epoch 0100] loss: 0.5934\n",
      "[epoch 0150] loss: 0.4217\n",
      "[epoch 0200] loss: 0.2483\n",
      "[epoch 0250] loss: 0.0671\n",
      "[epoch 0300] loss: 0.1053\n",
      "[epoch 0350] loss: -0.0147\n",
      "[epoch 0400] loss: 0.0035\n",
      "[epoch 0450] loss: -0.1033\n",
      "[epoch 0500] loss: -0.1859\n",
      "[epoch 0550] loss: -0.1909\n",
      "[epoch 0600] loss: -0.2609\n",
      "[epoch 0650] loss: -0.2862\n",
      "[epoch 0700] loss: -0.2547\n",
      "[epoch 0750] loss: -0.2777\n",
      "[epoch 0800] loss: -0.2654\n",
      "[epoch 0850] loss: -0.3351\n",
      "[epoch 0900] loss: -0.3494\n",
      "[epoch 0950] loss: -0.3735\n",
      "[epoch 1000] loss: -0.3352\n",
      "[epoch 1050] loss: -0.3420\n",
      "[epoch 1100] loss: -0.3628\n",
      "[epoch 1150] loss: -0.3967\n",
      "[epoch 1200] loss: -0.4015\n",
      "[epoch 1250] loss: -0.4625\n",
      "[epoch 1300] loss: -0.3486\n",
      "[epoch 1350] loss: -0.3120\n",
      "[epoch 1400] loss: -0.4053\n",
      "[epoch 1450] loss: -0.4132\n",
      "[epoch 1500] loss: -0.3664\n",
      "[epoch 1550] loss: -0.5062\n",
      "[epoch 1600] loss: -0.5656\n",
      "[epoch 1650] loss: -0.4493\n",
      "[epoch 1700] loss: -0.4659\n",
      "[epoch 1750] loss: -0.4561\n",
      "[epoch 1800] loss: -0.5000\n",
      "[epoch 1850] loss: -0.5367\n",
      "[epoch 1900] loss: -0.5347\n",
      "[epoch 1950] loss: -0.6175\n",
      "[epoch 2000] loss: -0.5520\n"
     ]
    }
   ],
   "source": [
    "train(X, Y, n_epochs=2000)"
   ]
  },
  {
   "cell_type": "code",
   "execution_count": 9,
   "metadata": {
    "collapsed": true
   },
   "outputs": [],
   "source": [
    "# now evaluate the model at the observed data \n",
    "stats_o = np.array(calculate_stats(X_o).astype(float)).reshape(1, 1)\n",
    "\n",
    "X_var = Variable(torch.Tensor(stats_o))\n",
    "\n",
    "(out_shape, out_scale) = model(X_var)"
   ]
  },
  {
   "cell_type": "code",
   "execution_count": 10,
   "metadata": {
    "collapsed": true
   },
   "outputs": [],
   "source": [
    "n_thetas = 100\n",
    "thetas = np.linspace(2, 6, n_thetas)\n",
    "\n",
    "# make sure all variabel have dimensions (N, 1)\n",
    "out_shapes = Variable(torch.Tensor(out_shape.data * torch.ones(thetas.size))).view(n_thetas, 1)\n",
    "out_scales = Variable(torch.Tensor(out_scale.data * torch.ones(thetas.size))).view(n_thetas, 1)\n",
    "\n",
    "prior_shapes = Variable(torch.Tensor(shape * torch.ones(thetas.size))).view(n_thetas, 1)\n",
    "prior_scales = Variable(torch.Tensor(scale * torch.ones(thetas.size))).view(n_thetas, 1)\n",
    "\n",
    "post = gamma_pdf(Variable(torch.Tensor(thetas.reshape(n_thetas, 1))), out_shapes, out_scales, log=False).data.numpy()\n",
    "\n",
    "prior = gamma_pdf(Variable(torch.Tensor(thetas.reshape(n_thetas, 1))), prior_shapes, prior_scales, log=False).data.numpy()"
   ]
  },
  {
   "cell_type": "code",
   "execution_count": 11,
   "metadata": {
    "collapsed": true
   },
   "outputs": [],
   "source": [
    "# get true posterior \n",
    "\n",
    "# first calculate the normalization factor, use log for stability\n",
    "alpha = shape \n",
    "beta = 1 / scale\n",
    "evidence = poisson_evidence(X_o, alpha, beta)\n",
    "\n",
    "# the the normalized posterior \n",
    "true_post = posterior_analytical(thetas, X_o, alpha, beta, log=True) - evidence"
   ]
  },
  {
   "cell_type": "code",
   "execution_count": 12,
   "metadata": {},
   "outputs": [
    {
     "data": {
      "image/png": "[encoded data removed]",
      "text/plain": [
       "<matplotlib.figure.Figure at 0x11cb75b38>"
      ]
     },
     "metadata": {},
     "output_type": "display_data"
    }
   ],
   "source": [
    "plt.figure(figsize=(15, 5))\n",
    "plt.plot(thetas, post, label='estimatex posterior')\n",
    "plt.plot(thetas, prior, '--', label='gamma prior')\n",
    "plt.plot(thetas, np.exp(true_post), label='true posterior given data')\n",
    "plt.axvline(x=true_lam, label='true theta', linestyle='--', color='r')\n",
    "plt.xlabel('theta')\n",
    "plt.legend();"
   ]
  },
  {
   "cell_type": "code",
   "execution_count": null,
   "metadata": {
    "collapsed": true
   },
   "outputs": [],
   "source": []
  }
 ],
 "metadata": {
  "kernelspec": {
   "display_name": "Python 3",
   "language": "python",
   "name": "python3"
  },
  "language_info": {
   "codemirror_mode": {
    "name": "ipython",
    "version": 3
   },
   "file_extension": ".py",
   "mimetype": "text/x-python",
   "name": "python",
   "nbconvert_exporter": "python",
   "pygments_lexer": "ipython3",
   "version": "3.6.2"
  }
 },
 "nbformat": 4,
 "nbformat_minor": 2
}
