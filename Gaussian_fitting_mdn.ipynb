{
 "cells": [
  {
   "cell_type": "code",
   "execution_count": 1,
   "metadata": {
    "collapsed": true
   },
   "outputs": [],
   "source": [
    "import matplotlib.pyplot as plt\n",
    "import numpy as np\n",
    "import torch\n",
    "import torch.nn as nn\n",
    "\n",
    "from torch.autograd import Variable\n",
    "from random import shuffle\n",
    "from scipy.stats import gamma, norm\n",
    "\n",
    "%matplotlib inline"
   ]
  },
  {
   "cell_type": "markdown",
   "metadata": {},
   "source": [
    "## Generate Gaussian data"
   ]
  },
  {
   "cell_type": "code",
   "execution_count": 2,
   "metadata": {},
   "outputs": [
    {
     "data": {
      "image/png": "[encoded data removed]",
      "text/plain": [
       "<matplotlib.figure.Figure at 0x117680c88>"
      ]
     },
     "metadata": {},
     "output_type": "display_data"
    }
   ],
   "source": [
    "# set parameters for prior \n",
    "prior_mu = 2. \n",
    "prior_sigma = 4. \n",
    "\n",
    "# set true mean\n",
    "true_mu = 2.\n",
    "\n",
    "N = 50\n",
    "X_o = np.random.normal(loc=true_mu, size=N)\n",
    "\n",
    "X_var = Variable(torch.Tensor(X_o.astype(float)))\n",
    "\n",
    "plt.hist(X_o, bins=12);\n",
    "plt.xlabel('X');"
   ]
  },
  {
   "cell_type": "code",
   "execution_count": 3,
   "metadata": {
    "collapsed": true
   },
   "outputs": [],
   "source": [
    "class MDN_phi(nn.Module):\n",
    "    def __init__(self, ndim_input=1, ndim_output=1, n_hidden=5, n_components=1):\n",
    "        super(MDN_phi, self).__init__()\n",
    "        self.fc_in = nn.Linear(ndim_input, n_hidden)\n",
    "        self.tanh = nn.Tanh()\n",
    "        self.alpha_out = torch.nn.Sequential(\n",
    "              nn.Linear(n_hidden, n_components),\n",
    "              nn.Softmax())\n",
    "        self.logsigma_out = nn.Linear(n_hidden, n_components)\n",
    "        self.mu_out = nn.Linear(n_hidden, n_components)  \n",
    "\n",
    "    def forward(self, x):\n",
    "        out = self.fc_in(x)\n",
    "        act = self.tanh(out)\n",
    "        out_alpha = self.alpha_out(act)\n",
    "        out_sigma = torch.exp(self.logsigma_out(act))\n",
    "        out_mu = self.mu_out(act)\n",
    "        return (out_alpha, out_sigma, out_mu)"
   ]
  },
  {
   "cell_type": "code",
   "execution_count": 4,
   "metadata": {
    "collapsed": true
   },
   "outputs": [],
   "source": [
    "# this one is used to approximate the posterior with a mixture of Gaussians \n",
    "def gauss_pdf(y, mu, sigma, log=False):\n",
    "    result = -0.5*torch.log(2*np.pi*sigma**2) - 1/(2*sigma**2) * (y.expand_as(mu) - mu)**2\n",
    "    if log:\n",
    "        return result\n",
    "    else: \n",
    "        return torch.exp(result)\n",
    "\n",
    "# the loss evaluates model (MoG) with the given data (y) and takes the log loss\n",
    "def mdn_loss_function(out_alpha, out_sigma, out_mu, y):\n",
    "    result = (gauss_pdf(y, out_mu, out_sigma, log=True) * out_alpha).squeeze()\n",
    "    result = torch.mean(result)  # mean over batch\n",
    "    return -result"
   ]
  },
  {
   "cell_type": "code",
   "execution_count": 5,
   "metadata": {
    "collapsed": true
   },
   "outputs": [],
   "source": [
    "# we need to define a generative model to generate samples (theta, x)\n",
    "def generate_dataset(N, m):\n",
    "    # N data sets \n",
    "    # each with m samples \n",
    "    \n",
    "    X = []\n",
    "    thetas = []\n",
    "    \n",
    "    for i in range(N): \n",
    "        # sample from the prior \n",
    "        theta = np.random.normal(prior_mu, prior_sigma)\n",
    "\n",
    "        # generate samples\n",
    "        x = np.random.normal(theta, size=m)\n",
    "        \n",
    "        # as data we append the summary stats\n",
    "        X.append(calculate_stats(x).astype(float)) \n",
    "        thetas.append([theta])\n",
    "    \n",
    "    return np.array(X), np.array(thetas)\n",
    "\n",
    "# calculate summary stats, for poisson this is just x, so for a vector it is sum x\n",
    "def calculate_stats(x): \n",
    "    sx = np.array([np.mean(x).astype(float)])\n",
    "#    sx = x\n",
    "    return sx\n",
    "\n",
    "def batch_generator(dataset, batch_size=5):\n",
    "    shuffle(dataset)\n",
    "    N_full_batches = len(dataset) // batch_size\n",
    "    for i in range(N_full_batches):\n",
    "        idx_from = batch_size * i\n",
    "        idx_to = batch_size * (i + 1)\n",
    "        xs, ys = zip(*[(x, y) for x, y in dataset[idx_from:idx_to]])\n",
    "        yield xs, ys"
   ]
  },
  {
   "cell_type": "code",
   "execution_count": 6,
   "metadata": {
    "collapsed": true
   },
   "outputs": [],
   "source": [
    "model = MDN_phi(ndim_input=1, n_components=1)\n",
    "optim = torch.optim.Adam(model.parameters(), lr=0.01)\n",
    "\n",
    "def train(X, Y, n_epochs=500, n_minibatch=50):\n",
    "    dataset_train = [(x, y) for x, y in zip(X, Y)]\n",
    "\n",
    "    for epoch in range(n_epochs): \n",
    "        bgen = batch_generator(dataset_train, n_minibatch)\n",
    "\n",
    "        for j, (x_batch, y_batch) in enumerate(bgen):\n",
    "            x_var = Variable(torch.Tensor(x_batch))\n",
    "            y_var = Variable(torch.Tensor(y_batch))\n",
    "            \n",
    "            (out_alpha, out_sigma, out_mu) = model(x_var)\n",
    "            loss = mdn_loss_function(out_alpha, out_sigma, out_mu, y_var)\n",
    "            \n",
    "            optim.zero_grad()\n",
    "            loss.backward()\n",
    "            optim.step()\n",
    "\n",
    "        if (epoch + 1) % 50 == 0:\n",
    "            print(\"[epoch %04d] loss: %.4f\" % (epoch + 1, loss.data[0]))\n"
   ]
  },
  {
   "cell_type": "code",
   "execution_count": 7,
   "metadata": {},
   "outputs": [],
   "source": [
    "X, Y = generate_dataset(300, N)"
   ]
  },
  {
   "cell_type": "code",
   "execution_count": 8,
   "metadata": {},
   "outputs": [
    {
     "name": "stdout",
     "output_type": "stream",
     "text": [
      "[epoch 0050] loss: -0.1033\n",
      "[epoch 0100] loss: -0.5560\n",
      "[epoch 0150] loss: -0.5152\n",
      "[epoch 0200] loss: -0.5372\n",
      "[epoch 0250] loss: -0.5416\n",
      "[epoch 0300] loss: -0.3930\n",
      "[epoch 0350] loss: -0.4812\n",
      "[epoch 0400] loss: -0.5094\n",
      "[epoch 0450] loss: -0.4139\n",
      "[epoch 0500] loss: -0.4920\n"
     ]
    }
   ],
   "source": [
    "train(X, Y, n_epochs=500)"
   ]
  },
  {
   "cell_type": "code",
   "execution_count": 9,
   "metadata": {},
   "outputs": [],
   "source": [
    "# now evaluate the model at the observed data \n",
    "stats_o = calculate_stats(X_o).reshape(1, 1)\n",
    "\n",
    "X_var = Variable(torch.Tensor(stats_o))\n",
    "\n",
    "(out_alpha, out_sigma, out_mu) = model(X_var)"
   ]
  },
  {
   "cell_type": "code",
   "execution_count": 10,
   "metadata": {
    "collapsed": true
   },
   "outputs": [],
   "source": [
    "thetas = np.linspace(0, 10, 100)\n",
    "\n",
    "post = []\n",
    "\n",
    "for y in thetas: \n",
    "    y = Variable(torch.Tensor(np.array(y).reshape(1, 1)))\n",
    "    th = (gauss_pdf(y, out_mu, out_sigma, log=False) * out_alpha).sum()\n",
    "    post.append(th.data.numpy())\n",
    "post = np.array(post).squeeze()\n",
    "prior = norm.pdf(thetas, loc=prior_mu, scale=prior_sigma)"
   ]
  },
  {
   "cell_type": "code",
   "execution_count": 11,
   "metadata": {},
   "outputs": [
    {
     "data": {
      "image/png": "[encoded data removed]",
      "text/plain": [
       "<matplotlib.figure.Figure at 0x11abbefd0>"
      ]
     },
     "metadata": {},
     "output_type": "display_data"
    }
   ],
   "source": [
    "plt.figure(figsize=(15, 5))\n",
    "plt.plot(thetas, post.squeeze(), label='posterior given x_o')\n",
    "plt.plot(thetas, prior, '--', label='prior')\n",
    "plt.axvline(x=true_mu, label='true theta', linestyle='--', color='r')\n",
    "plt.xlabel('theta')\n",
    "plt.legend();"
   ]
  },
  {
   "cell_type": "code",
   "execution_count": null,
   "metadata": {
    "collapsed": true
   },
   "outputs": [],
   "source": []
  },
  {
   "cell_type": "code",
   "execution_count": null,
   "metadata": {
    "collapsed": true
   },
   "outputs": [],
   "source": []
  }
 ],
 "metadata": {
  "kernelspec": {
   "display_name": "Python 3",
   "language": "python",
   "name": "python3"
  },
  "language_info": {
   "codemirror_mode": {
    "name": "ipython",
    "version": 3
   },
   "file_extension": ".py",
   "mimetype": "text/x-python",
   "name": "python",
   "nbconvert_exporter": "python",
   "pygments_lexer": "ipython3",
   "version": "3.6.2"
  }
 },
 "nbformat": 4,
 "nbformat_minor": 2
}
